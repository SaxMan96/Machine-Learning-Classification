{
 "cells": [
  {
   "cell_type": "markdown",
   "metadata": {},
   "source": [
    "# Imports and Constraints"
   ]
  },
  {
   "cell_type": "code",
   "execution_count": 2,
   "metadata": {},
   "outputs": [],
   "source": [
    "import numpy as np\n",
    "import pandas as pd\n",
    "from tqdm import tqdm_notebook as tqdm\n",
    "from collections import Counter\n",
    "import category_encoders as ce\n",
    "import matplotlib.pylab as plt\n",
    "from matplotlib.ticker import MaxNLocator"
   ]
  },
  {
   "cell_type": "markdown",
   "metadata": {},
   "source": [
    "# Defines"
   ]
  },
  {
   "cell_type": "code",
   "execution_count": 9,
   "metadata": {},
   "outputs": [],
   "source": [
    "def load_data() -> pd.Series:\n",
    "    csv_train = pd.read_csv('train.txt', sep=\" \").assign(train = 1) \n",
    "    csv_test = pd.read_csv('testx.txt', sep=\" \").assign(train = 0)\n",
    "    csv = pd.concat([csv_train,csv_test])\n",
    "    return csv\n",
    "\n",
    "def del_nans(nans_perc):\n",
    "    global csv, nans\n",
    "    na = csv.isna().sum()\n",
    "    del_na = na[na >= nans_perc*len(csv)]\n",
    "    csv = csv.drop(del_na.index.values, axis=1)\n",
    "    nans = nans_ctr()\n",
    "    \n",
    "def nans_ctr() -> pd.Series:\n",
    "    return csv.isna().sum()\n",
    "\n",
    "def unique_ctr() -> pd.Series():\n",
    "    unique = pd.Series()\n",
    "    for col in list(csv_org):\n",
    "        if(csv.columns.contains(col) and (col != 'train')):\n",
    "            unique.at[col] = len(csv[col].unique())\n",
    "    return unique\n",
    "\n",
    "def val_types() -> pd.Series():\n",
    "    val_type = pd.Series()\n",
    "    for col in list(csv_org):\n",
    "        if not csv.columns.contains(col) or col == 'train':\n",
    "            continue\n",
    "        if csv[col].dtype == np.float64:\n",
    "            val_type.at[col] = np.float64\n",
    "        elif csv[col].dtype == np.int64:\n",
    "            val_type.at[col] = np.int64\n",
    "        elif csv[col].dtype == np.int32:\n",
    "            val_type.at[col] = np.int32\n",
    "        elif csv[col].dtype == object:\n",
    "            val_type.at[col] = object\n",
    "        else:\n",
    "            print(f\"No common value type found in val_types() - {csv[col].dtype}\")\n",
    "    return val_type\n",
    "\n",
    "def stat(f):\n",
    "    nans = nans_ctr()\n",
    "    unique = unique_ctr()\n",
    "    val_type = val_types()\n",
    "    print(f\"min: {csv[f].min()}\")\n",
    "    print(f\"max: {csv[f].max()}\")\n",
    "    print(f\"nans: {nans[f]}\")\n",
    "    print(f\"unique: {unique[f]}\")\n",
    "    print(f\"val_type: {val_type[f]}\")\n",
    "    print(f\"vals per class: {round((len(csv)-nans[f])/unique[f],2)}\")\n",
    "    \n",
    "def plot(data, sort=False, log=True, small=False, fontsize=7):\n",
    "    if small:\n",
    "        figsize = (8,4)\n",
    "    else:\n",
    "        figsize = (20,10)\n",
    "    letter_counts = Counter(data)\n",
    "    df = pd.DataFrame.from_dict(letter_counts, orient='index')\n",
    "    if sort:\n",
    "        ax = df.sort_values(by=0, ascending=False).plot(kind='bar', logy = log, figsize=figsize, legend=False)\n",
    "    else:\n",
    "        ax = df.plot(kind='bar', logy = log, figsize=figsize, legend=False)\n",
    "    plt.xticks(fontsize=fontsize, rotation=90)\n",
    "    plt.show()\n",
    "    \n",
    "def threshold_factorization(data, *t_list) -> pd.Series():\n",
    "    letter_counts = Counter(data)\n",
    "    df = pd.DataFrame.from_dict(letter_counts, orient='index')\n",
    "    df = df.sort_values(by=0, ascending=False)\n",
    "    t_list = (df.values[0].item()+1,) + t_list + (0,)\n",
    "    out = data.copy()\n",
    "    for i in tqdm(range(1,len(t_list)),desc=\"Progress\",leave=False):\n",
    "        idx = df[(df>t_list[i]).values & (df<=t_list[i-1]).values].index\n",
    "        for j in tqdm(idx,leave=False):\n",
    "            out.loc[out == j] = i\n",
    "    return out\n",
    "\n",
    "def factorize(data) -> pd.Series():\n",
    "    series = data.copy()\n",
    "    labels, _ = pd.factorize(series)\n",
    "    series = labels[:len(series)]\n",
    "    return series\n",
    "\n",
    "def cast(data, lower_t, upper_t) -> pd.Series():\n",
    "    data = data.sort_values()\n",
    "    data[data<lower_t] = lower_t\n",
    "    data[data>upper_t] = upper_t\n",
    "    return data\n",
    "\n",
    "def standarize(df) ->pd.Series():\n",
    "    return round((df-df.min())/(df.max()-df.min()),4)\n",
    "\n",
    "def one_hot_encoding(f):\n",
    "    global csv\n",
    "    ohe = ce.OneHotEncoder(cols = [f], handle_unknown='ignore', use_cat_names=True)\n",
    "    csv[f] = csv[f].fillna(-1)\n",
    "    new_features = ohe.fit_transform(csv[f].to_frame())\n",
    "    csv = csv.drop([f],axis=1)\n",
    "    csv = pd.concat([csv,new_features],axis=1)\n",
    "    \n",
    "def binary_encoding(f):\n",
    "    global csv\n",
    "    ohe = ce.BinaryEncoder(cols = [f], handle_unknown='ignore',drop_invariant=True)\n",
    "    csv[f] = csv[f].fillna(-1)\n",
    "    new_features = ohe.fit_transform(csv[f].to_frame())\n",
    "    csv = csv.drop([f],axis=1)\n",
    "    csv = pd.concat([csv,new_features],axis=1)  \n",
    "def delete(f):\n",
    "    global csv\n",
    "    csv[f] = csv_org[f]\n",
    "    csv = csv.drop(f, axis=1)"
   ]
  },
  {
   "cell_type": "markdown",
   "metadata": {},
   "source": [
    "# Data Loading"
   ]
  },
  {
   "cell_type": "code",
   "execution_count": 4,
   "metadata": {},
   "outputs": [
    {
     "name": "stderr",
     "output_type": "stream",
     "text": [
      "C:\\Users\\Mateusz\\Miniconda3\\lib\\site-packages\\ipykernel_launcher.py:4: FutureWarning: Sorting because non-concatenation axis is not aligned. A future version\n",
      "of pandas will change to not sort by default.\n",
      "\n",
      "To accept the future behavior, pass 'sort=False'.\n",
      "\n",
      "To retain the current behavior and silence the warning, pass 'sort=True'.\n",
      "\n",
      "  after removing the cwd from sys.path.\n"
     ]
    },
    {
     "name": "stdout",
     "output_type": "stream",
     "text": [
      "Max NaNs in column left:  49442\n",
      "Columns left after Nans removed:  208\n"
     ]
    }
   ],
   "source": [
    "csv = load_data()\n",
    "csv_org = csv.copy()\n",
    "nans = nans_ctr()\n",
    "unique = unique_ctr()\n",
    "val_type = val_types()\n",
    "del_nans(0.99)\n",
    "print(\"Max NaNs in column left: \", max(nans))\n",
    "print(\"Columns left after Nans removed: \", len(csv.columns))"
   ]
  },
  {
   "cell_type": "markdown",
   "metadata": {},
   "source": [
    "# Data Preprocessing"
   ]
  },
  {
   "cell_type": "code",
   "execution_count": 549,
   "metadata": {},
   "outputs": [],
   "source": [
    "f = 'Var230'\n",
    "delete(f)"
   ]
  },
  {
   "cell_type": "code",
   "execution_count": 550,
   "metadata": {},
   "outputs": [
    {
     "name": "stderr",
     "output_type": "stream",
     "text": [
      "C:\\Users\\Mateusz\\Miniconda3\\lib\\site-packages\\ipykernel_launcher.py:5: SettingWithCopyWarning: \n",
      "A value is trying to be set on a copy of a slice from a DataFrame\n",
      "\n",
      "See the caveats in the documentation: http://pandas.pydata.org/pandas-docs/stable/indexing.html#indexing-view-versus-copy\n",
      "  \"\"\"\n"
     ]
    }
   ],
   "source": [
    "f = 'Var229'\n",
    "csv[f] = csv_org[f].copy()\n",
    "csv[f] = csv[f].fillna(-1)\n",
    "csv[f] = factorize(csv[f])\n",
    "(csv[f][csv[f]!=0]) = 1\n",
    "csv[f] = standarize(csv[f])\n",
    "# plot(csv[f],sort=True,log=False,fontsize=14)"
   ]
  },
  {
   "cell_type": "code",
   "execution_count": 551,
   "metadata": {},
   "outputs": [
    {
     "name": "stderr",
     "output_type": "stream",
     "text": [
      "C:\\Users\\Mateusz\\Miniconda3\\lib\\site-packages\\ipykernel_launcher.py:5: SettingWithCopyWarning: \n",
      "A value is trying to be set on a copy of a slice from a DataFrame\n",
      "\n",
      "See the caveats in the documentation: http://pandas.pydata.org/pandas-docs/stable/indexing.html#indexing-view-versus-copy\n",
      "  \"\"\"\n"
     ]
    }
   ],
   "source": [
    "f = 'Var228'\n",
    "csv[f] = csv_org[f].copy()\n",
    "csv[f] = csv[f].fillna(-1)\n",
    "csv[f] = factorize(csv[f])\n",
    "(csv[f][csv[f]!=1]) = 2\n",
    "csv[f] = standarize(csv[f])\n",
    "# plot(csv[f],sort=True,log=False,fontsize=14)"
   ]
  },
  {
   "cell_type": "code",
   "execution_count": 552,
   "metadata": {},
   "outputs": [
    {
     "name": "stderr",
     "output_type": "stream",
     "text": [
      "C:\\Users\\Mateusz\\Miniconda3\\lib\\site-packages\\ipykernel_launcher.py:5: SettingWithCopyWarning: \n",
      "A value is trying to be set on a copy of a slice from a DataFrame\n",
      "\n",
      "See the caveats in the documentation: http://pandas.pydata.org/pandas-docs/stable/indexing.html#indexing-view-versus-copy\n",
      "  \"\"\"\n"
     ]
    }
   ],
   "source": [
    "f = 'Var227'\n",
    "csv[f] = csv_org[f].copy()\n",
    "csv[f] = csv[f].fillna(-1)\n",
    "csv[f] = factorize(csv[f])\n",
    "(csv[f][csv[f]!=1]) = 2\n",
    "csv[f] = standarize(csv[f])\n",
    "# plot(csv[f],sort=True,log=False,fontsize=14)"
   ]
  },
  {
   "cell_type": "code",
   "execution_count": 553,
   "metadata": {},
   "outputs": [
    {
     "name": "stderr",
     "output_type": "stream",
     "text": [
      "C:\\Users\\Mateusz\\Miniconda3\\lib\\site-packages\\ipykernel_launcher.py:6: SettingWithCopyWarning: \n",
      "A value is trying to be set on a copy of a slice from a DataFrame\n",
      "\n",
      "See the caveats in the documentation: http://pandas.pydata.org/pandas-docs/stable/indexing.html#indexing-view-versus-copy\n",
      "  \n"
     ]
    }
   ],
   "source": [
    "f = 'Var226'\n",
    "csv[f] = csv_org[f].copy()\n",
    "csv[f] = csv[f].fillna(method='ffill')\n",
    "csv[f] = csv[f].fillna(method='bfill')\n",
    "csv[f] = factorize(csv[f])\n",
    "(csv[f][csv[f]!=5]) = 1\n",
    "csv[f] = standarize(csv[f])\n",
    "# plot(csv[f],sort=True,log=False,fontsize=14)"
   ]
  },
  {
   "cell_type": "code",
   "execution_count": 554,
   "metadata": {},
   "outputs": [
    {
     "name": "stderr",
     "output_type": "stream",
     "text": [
      "C:\\Users\\Mateusz\\Miniconda3\\lib\\site-packages\\ipykernel_launcher.py:6: SettingWithCopyWarning: \n",
      "A value is trying to be set on a copy of a slice from a DataFrame\n",
      "\n",
      "See the caveats in the documentation: http://pandas.pydata.org/pandas-docs/stable/indexing.html#indexing-view-versus-copy\n",
      "  \n"
     ]
    }
   ],
   "source": [
    "f = 'Var225'\n",
    "csv[f] = csv_org[f].copy()\n",
    "csv[f] = csv[f].fillna(method='ffill')\n",
    "csv[f] = csv[f].fillna(method='bfill')\n",
    "csv[f] = factorize(csv[f])\n",
    "(csv[f][csv[f]==2]) = 1\n",
    "csv[f] = standarize(csv[f])\n",
    "# plot(csv[f],sort=True,log=False,fontsize=14)"
   ]
  },
  {
   "cell_type": "code",
   "execution_count": 555,
   "metadata": {},
   "outputs": [],
   "source": [
    "f = 'Var224'\n",
    "delete(f)"
   ]
  },
  {
   "cell_type": "code",
   "execution_count": 556,
   "metadata": {},
   "outputs": [
    {
     "name": "stderr",
     "output_type": "stream",
     "text": [
      "C:\\Users\\Mateusz\\Miniconda3\\lib\\site-packages\\ipykernel_launcher.py:5: SettingWithCopyWarning: \n",
      "A value is trying to be set on a copy of a slice from a DataFrame\n",
      "\n",
      "See the caveats in the documentation: http://pandas.pydata.org/pandas-docs/stable/indexing.html#indexing-view-versus-copy\n",
      "  \"\"\"\n"
     ]
    }
   ],
   "source": [
    "f = 'Var223'\n",
    "csv[f] = csv_org[f].copy()\n",
    "csv[f] = csv[f].fillna(-1)\n",
    "csv[f] = factorize(csv[f])\n",
    "(csv[f][csv[f]!=0]) = 1\n",
    "csv[f] = standarize(csv[f])\n",
    "# plot(csv[f],sort=True,log=False,fontsize=14)"
   ]
  },
  {
   "cell_type": "code",
   "execution_count": 557,
   "metadata": {},
   "outputs": [],
   "source": [
    "f = 'Var223'\n",
    "csv[f] = csv_org[f].copy()\n",
    "csv[f] = csv[f].fillna(method='ffill')\n",
    "csv[f] = csv[f].fillna(method='bfill')\n",
    "csv[f] = factorize(csv[f])\n",
    "# (csv[f][csv[f]!=2]) = 1\n",
    "csv[f] = standarize(csv[f])\n",
    "# plot(csv[f],sort=True,log=False,fontsize=14)"
   ]
  },
  {
   "cell_type": "code",
   "execution_count": 558,
   "metadata": {},
   "outputs": [],
   "source": [
    "f = 'Var222'\n",
    "delete(f)"
   ]
  },
  {
   "cell_type": "code",
   "execution_count": 559,
   "metadata": {},
   "outputs": [
    {
     "name": "stderr",
     "output_type": "stream",
     "text": [
      "C:\\Users\\Mateusz\\Miniconda3\\lib\\site-packages\\ipykernel_launcher.py:5: SettingWithCopyWarning: \n",
      "A value is trying to be set on a copy of a slice from a DataFrame\n",
      "\n",
      "See the caveats in the documentation: http://pandas.pydata.org/pandas-docs/stable/indexing.html#indexing-view-versus-copy\n",
      "  \"\"\"\n"
     ]
    }
   ],
   "source": [
    "f = 'Var221'\n",
    "csv[f] = csv_org[f].copy()\n",
    "csv[f] = csv[f].fillna(-1)\n",
    "csv[f] = factorize(csv[f])\n",
    "(csv[f][csv[f]!=1]) = 0\n",
    "csv[f] = standarize(csv[f])\n",
    "# plot(csv[f],sort=True,log=False,fontsize=14)"
   ]
  },
  {
   "cell_type": "code",
   "execution_count": 560,
   "metadata": {},
   "outputs": [],
   "source": [
    "f = 'Var220'\n",
    "delete(f)"
   ]
  },
  {
   "cell_type": "code",
   "execution_count": 561,
   "metadata": {},
   "outputs": [
    {
     "name": "stderr",
     "output_type": "stream",
     "text": [
      "C:\\Users\\Mateusz\\Miniconda3\\lib\\site-packages\\ipykernel_launcher.py:5: SettingWithCopyWarning: \n",
      "A value is trying to be set on a copy of a slice from a DataFrame\n",
      "\n",
      "See the caveats in the documentation: http://pandas.pydata.org/pandas-docs/stable/indexing.html#indexing-view-versus-copy\n",
      "  \"\"\"\n"
     ]
    }
   ],
   "source": [
    "f = 'Var219'\n",
    "csv[f] = csv_org[f].copy()\n",
    "csv[f] = csv[f].fillna(-1)\n",
    "csv[f] = factorize(csv[f])\n",
    "(csv[f][csv[f]!=0]) = 1\n",
    "csv[f] = standarize(csv[f])\n",
    "# plot(csv[f],sort=True,log=False,fontsize=14)"
   ]
  },
  {
   "cell_type": "code",
   "execution_count": 562,
   "metadata": {},
   "outputs": [
    {
     "name": "stderr",
     "output_type": "stream",
     "text": [
      "C:\\Users\\Mateusz\\Miniconda3\\lib\\site-packages\\ipykernel_launcher.py:5: SettingWithCopyWarning: \n",
      "A value is trying to be set on a copy of a slice from a DataFrame\n",
      "\n",
      "See the caveats in the documentation: http://pandas.pydata.org/pandas-docs/stable/indexing.html#indexing-view-versus-copy\n",
      "  \"\"\"\n"
     ]
    }
   ],
   "source": [
    "f = 'Var219'\n",
    "csv[f] = csv_org[f].copy()\n",
    "csv[f] = csv[f].fillna(-1)\n",
    "csv[f] = factorize(csv[f])\n",
    "(csv[f][csv[f]!=0]) = 1\n",
    "csv[f] = standarize(csv[f])\n",
    "# plot(csv[f],sort=True,log=False,fontsize=14)"
   ]
  },
  {
   "cell_type": "code",
   "execution_count": 563,
   "metadata": {},
   "outputs": [],
   "source": [
    "f = 'Var218'\n",
    "csv[f] = csv_org[f].copy()\n",
    "csv[f] = csv[f].fillna(method='ffill')\n",
    "csv[f] = csv[f].fillna(method='bfill')\n",
    "csv[f] = factorize(csv[f])\n",
    "csv[f] = standarize(csv[f])\n",
    "# plot(csv[f],sort=True,log=False,fontsize=14)"
   ]
  },
  {
   "cell_type": "code",
   "execution_count": 564,
   "metadata": {},
   "outputs": [
    {
     "data": {
      "application/vnd.jupyter.widget-view+json": {
       "model_id": "",
       "version_major": 2,
       "version_minor": 0
      },
      "text/plain": [
       "HBox(children=(IntProgress(value=0, description='Progress', max=2, style=ProgressStyle(description_width='init…"
      ]
     },
     "metadata": {},
     "output_type": "display_data"
    },
    {
     "data": {
      "application/vnd.jupyter.widget-view+json": {
       "model_id": "",
       "version_major": 2,
       "version_minor": 0
      },
      "text/plain": [
       "HBox(children=(IntProgress(value=0, max=2920), HTML(value='')))"
      ]
     },
     "metadata": {},
     "output_type": "display_data"
    },
    {
     "data": {
      "application/vnd.jupyter.widget-view+json": {
       "model_id": "",
       "version_major": 2,
       "version_minor": 0
      },
      "text/plain": [
       "HBox(children=(IntProgress(value=0, max=11071), HTML(value='')))"
      ]
     },
     "metadata": {},
     "output_type": "display_data"
    },
    {
     "name": "stdout",
     "output_type": "stream",
     "text": [
      "\r"
     ]
    }
   ],
   "source": [
    "f = 'Var217'\n",
    "csv[f] = csv_org[f].copy()\n",
    "csv[f] = csv[f].fillna(-1)\n",
    "csv[f] = factorize(csv[f])\n",
    "csv[f] = threshold_factorization(csv[f],3)\n",
    "csv[f] = standarize(csv[f])\n",
    "# plot(csv[f],sort=True,log=False,fontsize=14)"
   ]
  },
  {
   "cell_type": "code",
   "execution_count": 12,
   "metadata": {},
   "outputs": [
    {
     "data": {
      "image/png": "[encoded data removed]",
      "text/plain": [
       "<Figure size 576x288 with 1 Axes>"
      ]
     },
     "metadata": {
      "needs_background": "light"
     },
     "output_type": "display_data"
    },
    {
     "data": {
      "application/vnd.jupyter.widget-view+json": {
       "model_id": "",
       "version_major": 2,
       "version_minor": 0
      },
      "text/plain": [
       "HBox(children=(IntProgress(value=0, description='Progress', max=5, style=ProgressStyle(description_width='init…"
      ]
     },
     "metadata": {},
     "output_type": "display_data"
    },
    {
     "data": {
      "application/vnd.jupyter.widget-view+json": {
       "model_id": "",
       "version_major": 2,
       "version_minor": 0
      },
      "text/plain": [
       "HBox(children=(IntProgress(value=0, max=9), HTML(value='')))"
      ]
     },
     "metadata": {},
     "output_type": "display_data"
    },
    {
     "data": {
      "application/vnd.jupyter.widget-view+json": {
       "model_id": "",
       "version_major": 2,
       "version_minor": 0
      },
      "text/plain": [
       "HBox(children=(IntProgress(value=0, max=45), HTML(value='')))"
      ]
     },
     "metadata": {},
     "output_type": "display_data"
    },
    {
     "data": {
      "application/vnd.jupyter.widget-view+json": {
       "model_id": "",
       "version_major": 2,
       "version_minor": 0
      },
      "text/plain": [
       "HBox(children=(IntProgress(value=0, max=276), HTML(value='')))"
      ]
     },
     "metadata": {},
     "output_type": "display_data"
    },
    {
     "data": {
      "application/vnd.jupyter.widget-view+json": {
       "model_id": "",
       "version_major": 2,
       "version_minor": 0
      },
      "text/plain": [
       "HBox(children=(IntProgress(value=0, max=818), HTML(value='')))"
      ]
     },
     "metadata": {},
     "output_type": "display_data"
    },
    {
     "data": {
      "application/vnd.jupyter.widget-view+json": {
       "model_id": "",
       "version_major": 2,
       "version_minor": 0
      },
      "text/plain": [
       "HBox(children=(IntProgress(value=0, max=868), HTML(value='')))"
      ]
     },
     "metadata": {},
     "output_type": "display_data"
    },
    {
     "name": "stdout",
     "output_type": "stream",
     "text": [
      "\r"
     ]
    },
    {
     "data": {
      "image/png": "[encoded data removed]",
      "text/plain": [
       "<Figure size 576x288 with 1 Axes>"
      ]
     },
     "metadata": {
      "needs_background": "light"
     },
     "output_type": "display_data"
    }
   ],
   "source": [
    "f = 'Var216'\n",
    "csv[f] = csv_org[f].copy()\n",
    "csv[f] = csv[f].fillna(-1)\n",
    "csv[f] = factorize(csv[f])\n",
    "csv[f] = threshold_factorization(csv[f],1)\n",
    "csv[f] = standarize(csv[f])\n",
    "# plot(csv[f],sort=True,log=True,fontsize=14,small=True)"
   ]
  },
  {
   "cell_type": "code",
   "execution_count": 566,
   "metadata": {},
   "outputs": [],
   "source": [
    "f = 'Var215'\n",
    "delete(f)"
   ]
  },
  {
   "cell_type": "code",
   "execution_count": 567,
   "metadata": {},
   "outputs": [],
   "source": [
    "f = 'Var214'\n",
    "delete(f)"
   ]
  },
  {
   "cell_type": "code",
   "execution_count": 568,
   "metadata": {},
   "outputs": [],
   "source": [
    "f = 'Var213'\n",
    "delete(f)"
   ]
  },
  {
   "cell_type": "code",
   "execution_count": 569,
   "metadata": {},
   "outputs": [
    {
     "name": "stderr",
     "output_type": "stream",
     "text": [
      "C:\\Users\\Mateusz\\Miniconda3\\lib\\site-packages\\ipykernel_launcher.py:6: SettingWithCopyWarning: \n",
      "A value is trying to be set on a copy of a slice from a DataFrame\n",
      "\n",
      "See the caveats in the documentation: http://pandas.pydata.org/pandas-docs/stable/indexing.html#indexing-view-versus-copy\n",
      "  \n"
     ]
    }
   ],
   "source": [
    "f = 'Var212'\n",
    "csv[f] = csv_org[f].copy()\n",
    "csv[f] = csv[f].fillna(method='ffill')\n",
    "csv[f] = csv[f].fillna(method='bfill')\n",
    "csv[f] = factorize(csv[f])\n",
    "(csv[f][csv[f]!=1]) = 2\n",
    "csv[f] = standarize(csv[f])\n",
    "# plot(csv[f],sort=True,log=False,fontsize=14)"
   ]
  },
  {
   "cell_type": "code",
   "execution_count": 570,
   "metadata": {},
   "outputs": [],
   "source": [
    "f = 'Var211'\n",
    "csv[f] = csv_org[f].copy()\n",
    "csv[f] = csv[f].fillna(method='ffill')\n",
    "csv[f] = csv[f].fillna(method='bfill')\n",
    "csv[f] = factorize(csv[f])\n",
    "csv[f] = standarize(csv[f])\n",
    "# plot(csv[f],sort=True,log=False,fontsize=14)"
   ]
  },
  {
   "cell_type": "code",
   "execution_count": 571,
   "metadata": {},
   "outputs": [],
   "source": [
    "f = 'Var210'\n",
    "delete(f)"
   ]
  },
  {
   "cell_type": "code",
   "execution_count": 572,
   "metadata": {},
   "outputs": [],
   "source": [
    "f = 'Var209'\n",
    "delete(f)"
   ]
  },
  {
   "cell_type": "code",
   "execution_count": 573,
   "metadata": {},
   "outputs": [],
   "source": [
    "f = 'Var208'\n",
    "csv[f] = csv_org[f].copy()\n",
    "csv[f] = csv[f].fillna(method='ffill')\n",
    "csv[f] = csv[f].fillna(method='bfill')\n",
    "csv[f] = factorize(csv[f])\n",
    "# plot(csv[f],sort=True,log=False)\n",
    "csv[f] = standarize(csv[f])"
   ]
  },
  {
   "cell_type": "code",
   "execution_count": 574,
   "metadata": {},
   "outputs": [],
   "source": [
    "f = 'Var207'\n",
    "delete(f)"
   ]
  },
  {
   "cell_type": "code",
   "execution_count": 575,
   "metadata": {},
   "outputs": [
    {
     "name": "stderr",
     "output_type": "stream",
     "text": [
      "C:\\Users\\Mateusz\\Miniconda3\\lib\\site-packages\\ipykernel_launcher.py:6: SettingWithCopyWarning: \n",
      "A value is trying to be set on a copy of a slice from a DataFrame\n",
      "\n",
      "See the caveats in the documentation: http://pandas.pydata.org/pandas-docs/stable/indexing.html#indexing-view-versus-copy\n",
      "  \n"
     ]
    }
   ],
   "source": [
    "f = 'Var206'\n",
    "csv[f] = csv_org[f].copy()\n",
    "csv[f] = csv[f].fillna(method='ffill')\n",
    "csv[f] = csv[f].fillna(method='bfill')\n",
    "csv[f] = factorize(csv[f])\n",
    "(csv[f][csv[f]!=2]) = 1\n",
    "csv[f] = standarize(csv[f])\n",
    "# # plot(csv[f],sort=True,log=False,fontsize=14)"
   ]
  },
  {
   "cell_type": "code",
   "execution_count": 576,
   "metadata": {},
   "outputs": [],
   "source": [
    "f = 'Var205'\n",
    "delete(f)"
   ]
  },
  {
   "cell_type": "code",
   "execution_count": 577,
   "metadata": {},
   "outputs": [
    {
     "name": "stderr",
     "output_type": "stream",
     "text": [
      "C:\\Users\\Mateusz\\Miniconda3\\lib\\site-packages\\ipykernel_launcher.py:6: SettingWithCopyWarning: \n",
      "A value is trying to be set on a copy of a slice from a DataFrame\n",
      "\n",
      "See the caveats in the documentation: http://pandas.pydata.org/pandas-docs/stable/indexing.html#indexing-view-versus-copy\n",
      "  \n",
      "C:\\Users\\Mateusz\\Miniconda3\\lib\\site-packages\\ipykernel_launcher.py:7: SettingWithCopyWarning: \n",
      "A value is trying to be set on a copy of a slice from a DataFrame\n",
      "\n",
      "See the caveats in the documentation: http://pandas.pydata.org/pandas-docs/stable/indexing.html#indexing-view-versus-copy\n",
      "  import sys\n",
      "C:\\Users\\Mateusz\\Miniconda3\\lib\\site-packages\\ipykernel_launcher.py:8: SettingWithCopyWarning: \n",
      "A value is trying to be set on a copy of a slice from a DataFrame\n",
      "\n",
      "See the caveats in the documentation: http://pandas.pydata.org/pandas-docs/stable/indexing.html#indexing-view-versus-copy\n",
      "  \n"
     ]
    }
   ],
   "source": [
    "f = 'Var204'\n",
    "csv[f] = csv_org[f].copy()\n",
    "csv[f] = csv[f].fillna(method='ffill')\n",
    "csv[f] = csv[f].fillna(method='bfill')\n",
    "csv[f] = factorize(csv[f])\n",
    "(csv[f][csv[f] == 1])=3\n",
    "(csv[f][csv[f] == 11])=3\n",
    "(csv[f][csv[f] !=3])=2\n",
    "csv[f] = standarize(csv[f])\n",
    "# # plot(csv[f],sort=True,log=False,fontsize=14)"
   ]
  },
  {
   "cell_type": "code",
   "execution_count": 578,
   "metadata": {},
   "outputs": [],
   "source": [
    "f = 'Var203'\n",
    "delete(f)"
   ]
  },
  {
   "cell_type": "code",
   "execution_count": 579,
   "metadata": {},
   "outputs": [
    {
     "data": {
      "application/vnd.jupyter.widget-view+json": {
       "model_id": "",
       "version_major": 2,
       "version_minor": 0
      },
      "text/plain": [
       "HBox(children=(IntProgress(value=0, description='Progress', max=2, style=ProgressStyle(description_width='init…"
      ]
     },
     "metadata": {},
     "output_type": "display_data"
    },
    {
     "data": {
      "application/vnd.jupyter.widget-view+json": {
       "model_id": "",
       "version_major": 2,
       "version_minor": 0
      },
      "text/plain": [
       "HBox(children=(IntProgress(value=0, max=1415), HTML(value='')))"
      ]
     },
     "metadata": {},
     "output_type": "display_data"
    },
    {
     "data": {
      "application/vnd.jupyter.widget-view+json": {
       "model_id": "",
       "version_major": 2,
       "version_minor": 0
      },
      "text/plain": [
       "HBox(children=(IntProgress(value=0, max=4298), HTML(value='')))"
      ]
     },
     "metadata": {},
     "output_type": "display_data"
    },
    {
     "name": "stdout",
     "output_type": "stream",
     "text": [
      "\r"
     ]
    }
   ],
   "source": [
    "f = 'Var202'\n",
    "csv[f] = csv_org[f].copy()\n",
    "csv[f] = csv[f].fillna(method='ffill')\n",
    "csv[f] = csv[f].fillna(method='bfill')\n",
    "csv[f] = factorize(csv[f])\n",
    "csv[f] = threshold_factorization(csv[f],10)\n",
    "# plot(csv[f],sort=True,log=True)\n",
    "csv[f] = standarize(csv[f])"
   ]
  },
  {
   "cell_type": "code",
   "execution_count": 580,
   "metadata": {},
   "outputs": [],
   "source": [
    "f = 'Var201'\n",
    "delete(f)"
   ]
  },
  {
   "cell_type": "code",
   "execution_count": 581,
   "metadata": {},
   "outputs": [],
   "source": [
    "f = 'Var200'\n",
    "delete(f)"
   ]
  },
  {
   "cell_type": "code",
   "execution_count": 582,
   "metadata": {},
   "outputs": [
    {
     "name": "stdout",
     "output_type": "stream",
     "text": [
      "370\n"
     ]
    },
    {
     "data": {
      "application/vnd.jupyter.widget-view+json": {
       "model_id": "",
       "version_major": 2,
       "version_minor": 0
      },
      "text/plain": [
       "HBox(children=(IntProgress(value=0, description='Progress', max=4, style=ProgressStyle(description_width='init…"
      ]
     },
     "metadata": {},
     "output_type": "display_data"
    },
    {
     "data": {
      "application/vnd.jupyter.widget-view+json": {
       "model_id": "",
       "version_major": 2,
       "version_minor": 0
      },
      "text/plain": [
       "HBox(children=(IntProgress(value=0, max=48), HTML(value='')))"
      ]
     },
     "metadata": {},
     "output_type": "display_data"
    },
    {
     "data": {
      "application/vnd.jupyter.widget-view+json": {
       "model_id": "",
       "version_major": 2,
       "version_minor": 0
      },
      "text/plain": [
       "HBox(children=(IntProgress(value=0, max=74), HTML(value='')))"
      ]
     },
     "metadata": {},
     "output_type": "display_data"
    },
    {
     "data": {
      "application/vnd.jupyter.widget-view+json": {
       "model_id": "",
       "version_major": 2,
       "version_minor": 0
      },
      "text/plain": [
       "HBox(children=(IntProgress(value=0, max=1592), HTML(value='')))"
      ]
     },
     "metadata": {},
     "output_type": "display_data"
    },
    {
     "data": {
      "application/vnd.jupyter.widget-view+json": {
       "model_id": "",
       "version_major": 2,
       "version_minor": 0
      },
      "text/plain": [
       "HBox(children=(IntProgress(value=0, max=3359), HTML(value='')))"
      ]
     },
     "metadata": {},
     "output_type": "display_data"
    },
    {
     "name": "stdout",
     "output_type": "stream",
     "text": [
      "\r"
     ]
    }
   ],
   "source": [
    "f = 'Var199'\n",
    "csv[f] = csv_org[f].copy()\n",
    "csv[f] = csv[f].fillna(method='ffill')\n",
    "csv[f] = csv[f].fillna(method='bfill')\n",
    "csv[f] = factorize(csv[f])\n",
    "print(len(csv[f][(csv[f]==0)]))\n",
    "csv[f] = threshold_factorization(csv[f],200,100,1)\n",
    "csv[f] = standarize(csv[f])\n",
    "# # plot(csv[f],sort=True,log=True)"
   ]
  },
  {
   "cell_type": "code",
   "execution_count": 583,
   "metadata": {},
   "outputs": [
    {
     "name": "stdout",
     "output_type": "stream",
     "text": [
      "4441\n"
     ]
    },
    {
     "data": {
      "application/vnd.jupyter.widget-view+json": {
       "model_id": "",
       "version_major": 2,
       "version_minor": 0
      },
      "text/plain": [
       "HBox(children=(IntProgress(value=0, description='Progress', max=4, style=ProgressStyle(description_width='init…"
      ]
     },
     "metadata": {},
     "output_type": "display_data"
    },
    {
     "data": {
      "application/vnd.jupyter.widget-view+json": {
       "model_id": "",
       "version_major": 2,
       "version_minor": 0
      },
      "text/plain": [
       "HBox(children=(IntProgress(value=0, max=1), HTML(value='')))"
      ]
     },
     "metadata": {},
     "output_type": "display_data"
    },
    {
     "data": {
      "application/vnd.jupyter.widget-view+json": {
       "model_id": "",
       "version_major": 2,
       "version_minor": 0
      },
      "text/plain": [
       "HBox(children=(IntProgress(value=0, max=1), HTML(value='')))"
      ]
     },
     "metadata": {},
     "output_type": "display_data"
    },
    {
     "data": {
      "application/vnd.jupyter.widget-view+json": {
       "model_id": "",
       "version_major": 2,
       "version_minor": 0
      },
      "text/plain": [
       "HBox(children=(IntProgress(value=0, max=467), HTML(value='')))"
      ]
     },
     "metadata": {},
     "output_type": "display_data"
    },
    {
     "data": {
      "application/vnd.jupyter.widget-view+json": {
       "model_id": "",
       "version_major": 2,
       "version_minor": 0
      },
      "text/plain": [
       "HBox(children=(IntProgress(value=0, max=3822), HTML(value='')))"
      ]
     },
     "metadata": {},
     "output_type": "display_data"
    },
    {
     "name": "stdout",
     "output_type": "stream",
     "text": [
      "\r"
     ]
    }
   ],
   "source": [
    "f = 'Var198'\n",
    "csv[f] = csv_org[f].copy()\n",
    "csv[f] = csv[f].fillna(method='ffill')\n",
    "csv[f] = csv[f].fillna(method='bfill')\n",
    "csv[f] = factorize(csv[f])\n",
    "print(len(csv[f][(csv[f]==0)]))\n",
    "csv[f] = threshold_factorization(csv[f],2800,1000,30)\n",
    "csv[f] = standarize(csv[f])\n",
    "# csv[f].plot.kde()"
   ]
  },
  {
   "cell_type": "code",
   "execution_count": 584,
   "metadata": {},
   "outputs": [
    {
     "data": {
      "application/vnd.jupyter.widget-view+json": {
       "model_id": "",
       "version_major": 2,
       "version_minor": 0
      },
      "text/plain": [
       "HBox(children=(IntProgress(value=0, description='Progress', max=4, style=ProgressStyle(description_width='init…"
      ]
     },
     "metadata": {},
     "output_type": "display_data"
    },
    {
     "data": {
      "application/vnd.jupyter.widget-view+json": {
       "model_id": "",
       "version_major": 2,
       "version_minor": 0
      },
      "text/plain": [
       "HBox(children=(IntProgress(value=1, bar_style='info', max=1), HTML(value='')))"
      ]
     },
     "metadata": {},
     "output_type": "display_data"
    },
    {
     "data": {
      "application/vnd.jupyter.widget-view+json": {
       "model_id": "",
       "version_major": 2,
       "version_minor": 0
      },
      "text/plain": [
       "HBox(children=(IntProgress(value=0, max=6), HTML(value='')))"
      ]
     },
     "metadata": {},
     "output_type": "display_data"
    },
    {
     "data": {
      "application/vnd.jupyter.widget-view+json": {
       "model_id": "",
       "version_major": 2,
       "version_minor": 0
      },
      "text/plain": [
       "HBox(children=(IntProgress(value=0), HTML(value='')))"
      ]
     },
     "metadata": {},
     "output_type": "display_data"
    },
    {
     "data": {
      "application/vnd.jupyter.widget-view+json": {
       "model_id": "",
       "version_major": 2,
       "version_minor": 0
      },
      "text/plain": [
       "HBox(children=(IntProgress(value=0, max=119), HTML(value='')))"
      ]
     },
     "metadata": {},
     "output_type": "display_data"
    },
    {
     "name": "stdout",
     "output_type": "stream",
     "text": [
      "\r"
     ]
    }
   ],
   "source": [
    "f = 'Var197'\n",
    "csv[f] = csv_org[f].copy()\n",
    "csv[f] = csv[f].fillna(method='ffill')\n",
    "csv[f] = csv[f].fillna(method='bfill')\n",
    "csv[f] = factorize(csv[f])\n",
    "csv[f] = threshold_factorization(csv[f],10000,1000,100)\n",
    "# plot(csv[f],sort=True,log=True)\n",
    "csv[f] = standarize(csv[f])"
   ]
  },
  {
   "cell_type": "code",
   "execution_count": 585,
   "metadata": {},
   "outputs": [],
   "source": [
    "f = 'Var196'\n",
    "csv[f] = csv_org[f].copy()\n",
    "csv[f] = csv[f].fillna(method='ffill')\n",
    "csv[f] = csv[f].fillna(method='bfill')\n",
    "csv[f] = factorize(csv[f])\n",
    "# plot(csv[f],sort=True,log=True)\n",
    "csv[f] = standarize(csv[f])"
   ]
  },
  {
   "cell_type": "code",
   "execution_count": 586,
   "metadata": {},
   "outputs": [],
   "source": [
    "f = 'Var195'\n",
    "delete(f)"
   ]
  },
  {
   "cell_type": "code",
   "execution_count": 587,
   "metadata": {},
   "outputs": [],
   "source": [
    "f = 'Var194'\n",
    "delete(f)"
   ]
  },
  {
   "cell_type": "code",
   "execution_count": 588,
   "metadata": {},
   "outputs": [
    {
     "data": {
      "application/vnd.jupyter.widget-view+json": {
       "model_id": "",
       "version_major": 2,
       "version_minor": 0
      },
      "text/plain": [
       "HBox(children=(IntProgress(value=0, description='Progress', max=2, style=ProgressStyle(description_width='init…"
      ]
     },
     "metadata": {},
     "output_type": "display_data"
    },
    {
     "data": {
      "application/vnd.jupyter.widget-view+json": {
       "model_id": "",
       "version_major": 2,
       "version_minor": 0
      },
      "text/plain": [
       "HBox(children=(IntProgress(value=0, max=1), HTML(value='')))"
      ]
     },
     "metadata": {},
     "output_type": "display_data"
    },
    {
     "data": {
      "application/vnd.jupyter.widget-view+json": {
       "model_id": "",
       "version_major": 2,
       "version_minor": 0
      },
      "text/plain": [
       "HBox(children=(IntProgress(value=0, max=50), HTML(value='')))"
      ]
     },
     "metadata": {},
     "output_type": "display_data"
    },
    {
     "name": "stdout",
     "output_type": "stream",
     "text": [
      "\r"
     ]
    }
   ],
   "source": [
    "f = 'Var193'\n",
    "csv[f] = csv_org[f].copy()\n",
    "csv[f] = csv[f].fillna(method='ffill')\n",
    "csv[f] = csv[f].fillna(method='bfill')\n",
    "csv[f] = factorize(csv[f])\n",
    "csv[f] = threshold_factorization(csv[f],10000)\n",
    "# # plot(csv[f],sort=True,log=False)\n",
    "csv[f] = standarize(csv[f])"
   ]
  },
  {
   "cell_type": "code",
   "execution_count": 589,
   "metadata": {},
   "outputs": [
    {
     "data": {
      "application/vnd.jupyter.widget-view+json": {
       "model_id": "",
       "version_major": 2,
       "version_minor": 0
      },
      "text/plain": [
       "HBox(children=(IntProgress(value=0, description='Progress', max=4, style=ProgressStyle(description_width='init…"
      ]
     },
     "metadata": {},
     "output_type": "display_data"
    },
    {
     "data": {
      "application/vnd.jupyter.widget-view+json": {
       "model_id": "",
       "version_major": 2,
       "version_minor": 0
      },
      "text/plain": [
       "HBox(children=(IntProgress(value=0, max=91), HTML(value='')))"
      ]
     },
     "metadata": {},
     "output_type": "display_data"
    },
    {
     "data": {
      "application/vnd.jupyter.widget-view+json": {
       "model_id": "",
       "version_major": 2,
       "version_minor": 0
      },
      "text/plain": [
       "HBox(children=(IntProgress(value=0, max=96), HTML(value='')))"
      ]
     },
     "metadata": {},
     "output_type": "display_data"
    },
    {
     "data": {
      "application/vnd.jupyter.widget-view+json": {
       "model_id": "",
       "version_major": 2,
       "version_minor": 0
      },
      "text/plain": [
       "HBox(children=(IntProgress(value=0, max=24), HTML(value='')))"
      ]
     },
     "metadata": {},
     "output_type": "display_data"
    },
    {
     "data": {
      "application/vnd.jupyter.widget-view+json": {
       "model_id": "",
       "version_major": 2,
       "version_minor": 0
      },
      "text/plain": [
       "HBox(children=(IntProgress(value=0, max=150), HTML(value='')))"
      ]
     },
     "metadata": {},
     "output_type": "display_data"
    },
    {
     "name": "stdout",
     "output_type": "stream",
     "text": [
      "\r"
     ]
    }
   ],
   "source": [
    "f = 'Var192'\n",
    "csv[f] = csv_org[f].copy()\n",
    "csv[f] = csv[f].fillna(method='ffill')\n",
    "csv[f] = csv[f].fillna(method='bfill')\n",
    "csv[f] = factorize(csv[f])\n",
    "csv[f] = threshold_factorization(csv[f],220,150,30)\n",
    "# # plot(csv[f],sort=True,log=False)\n",
    "csv[f] = standarize(csv[f])"
   ]
  },
  {
   "cell_type": "code",
   "execution_count": 590,
   "metadata": {},
   "outputs": [],
   "source": [
    "f = 'Var191'\n",
    "delete(f)"
   ]
  },
  {
   "cell_type": "code",
   "execution_count": 591,
   "metadata": {},
   "outputs": [],
   "source": [
    "f = 'Var190'\n",
    "delete(f)"
   ]
  },
  {
   "cell_type": "code",
   "execution_count": 592,
   "metadata": {},
   "outputs": [],
   "source": [
    "f = 'Var189'\n",
    "# print(stat(f))\n",
    "csv[f] = csv_org[f].copy()\n",
    "csv[f] = csv[f].fillna(method='ffill')\n",
    "csv[f] = csv[f].fillna(method='bfill')\n",
    "csv[f] = cast(csv[f],-100,csv[f].quantile(0.98))\n",
    "csv[f] = standarize(csv[f])\n",
    "# ax = csv[f].plot.kde()"
   ]
  },
  {
   "cell_type": "code",
   "execution_count": 13,
   "metadata": {},
   "outputs": [
    {
     "data": {
      "text/plain": [
       "<matplotlib.axes._subplots.AxesSubplot at 0x1cb735505c0>"
      ]
     },
     "execution_count": 13,
     "metadata": {},
     "output_type": "execute_result"
    },
    {
     "data": {
      "image/png": "[encoded data removed]",
      "text/plain": [
       "<Figure size 432x288 with 1 Axes>"
      ]
     },
     "metadata": {
      "needs_background": "light"
     },
     "output_type": "display_data"
    }
   ],
   "source": [
    "f = 'Var188'\n",
    "# print(stat(f))\n",
    "csv[f] = csv_org[f].copy()\n",
    "csv[f] = csv[f].fillna(method='ffill')\n",
    "csv[f] = csv[f].fillna(method='bfill')\n",
    "# csv[f] = cast(csv[f],-100,csv[f].quantile(0.98))\n",
    "csv[f] = standarize(csv[f])\n",
    "csv[f].plot.kde()\n",
    "csv[f] = cast(csv[f],-100,csv[f].quantile(0.98))\n",
    "csv[f].plot.kde()"
   ]
  },
  {
   "cell_type": "code",
   "execution_count": 594,
   "metadata": {},
   "outputs": [],
   "source": [
    "f = 'Var187'\n",
    "# print(stat(f))\n",
    "csv[f] = csv_org[f].copy()\n",
    "csv[f] = csv[f].fillna(method='ffill')\n",
    "csv[f] = csv[f].fillna(method='bfill')\n",
    "csv[f] = cast(csv[f],-100,csv[f].quantile(0.98))\n",
    "# csv[f] = threshold_factorization(csv[f],10000)\n",
    "csv[f] = standarize(csv[f])\n",
    "# ax = csv[f].plot.kde()\n",
    "csv[f] = csv[f].apply(lambda x: np.power(x,1/3))\n",
    "csv[f] = standarize(csv[f])\n",
    "# csv[f].plot.kde()"
   ]
  },
  {
   "cell_type": "code",
   "execution_count": 595,
   "metadata": {},
   "outputs": [
    {
     "data": {
      "application/vnd.jupyter.widget-view+json": {
       "model_id": "",
       "version_major": 2,
       "version_minor": 0
      },
      "text/plain": [
       "HBox(children=(IntProgress(value=0, description='Progress', max=2, style=ProgressStyle(description_width='init…"
      ]
     },
     "metadata": {},
     "output_type": "display_data"
    },
    {
     "data": {
      "application/vnd.jupyter.widget-view+json": {
       "model_id": "",
       "version_major": 2,
       "version_minor": 0
      },
      "text/plain": [
       "HBox(children=(IntProgress(value=0, max=1), HTML(value='')))"
      ]
     },
     "metadata": {},
     "output_type": "display_data"
    },
    {
     "data": {
      "application/vnd.jupyter.widget-view+json": {
       "model_id": "",
       "version_major": 2,
       "version_minor": 0
      },
      "text/plain": [
       "HBox(children=(IntProgress(value=0, max=12), HTML(value='')))"
      ]
     },
     "metadata": {},
     "output_type": "display_data"
    },
    {
     "name": "stdout",
     "output_type": "stream",
     "text": [
      "\r"
     ]
    }
   ],
   "source": [
    "f = 'Var186'\n",
    "# print(stat(f))\n",
    "csv[f] = csv_org[f].copy()\n",
    "csv[f] = csv[f].fillna(method='ffill')\n",
    "csv[f] = csv[f].fillna(method='bfill')\n",
    "# csv[f] = cast(csv[f],-100,csv[f].quantile(0.98))\n",
    "csv[f] = threshold_factorization(csv[f],10000)\n",
    "csv[f] = standarize(csv[f])\n",
    "# ax = csv[f].plot.kde()"
   ]
  },
  {
   "cell_type": "code",
   "execution_count": 596,
   "metadata": {},
   "outputs": [],
   "source": [
    "f = 'Var185'\n",
    "delete(f)"
   ]
  },
  {
   "cell_type": "code",
   "execution_count": 597,
   "metadata": {},
   "outputs": [],
   "source": [
    "f = 'Var184'\n",
    "# print(stat(f))\n",
    "csv[f] = csv_org[f].copy()\n",
    "csv[f] = csv[f].fillna(method='ffill')\n",
    "csv[f] = csv[f].fillna(method='bfill')\n",
    "csv[f] = cast(csv[f],-100,csv[f].quantile(0.98))\n",
    "# csv[f] = threshold_factorization(csv[f],10000)\n",
    "csv[f] = standarize(csv[f])\n",
    "# ax = csv[f].plot.kde()\n",
    "csv[f] = csv[f].apply(lambda x: np.power(x,1/3))\n",
    "csv[f] = standarize(csv[f])\n",
    "# csv[f].plot.kde()"
   ]
  },
  {
   "cell_type": "code",
   "execution_count": 598,
   "metadata": {},
   "outputs": [],
   "source": [
    "f = 'Var183'\n",
    "# print(stat(f))\n",
    "csv[f] = csv_org[f].copy()\n",
    "csv[f] = csv[f].fillna(method='ffill')\n",
    "csv[f] = csv[f].fillna(method='bfill')\n",
    "csv[f] = cast(csv[f],-100,csv[f].quantile(0.98))\n",
    "# csv[f] = threshold_factorization(csv[f],10000)\n",
    "csv[f] = standarize(csv[f])\n",
    "# ax = csv[f].plot.kde()\n",
    "csv[f] = csv[f].apply(lambda x: np.power(x,1/3))\n",
    "csv[f] = standarize(csv[f])\n",
    "# csv[f].plot.kde()"
   ]
  },
  {
   "cell_type": "code",
   "execution_count": 599,
   "metadata": {},
   "outputs": [],
   "source": [
    "f = 'Var182'\n",
    "# print(stat(f))\n",
    "csv[f] = csv_org[f].copy()\n",
    "csv[f] = csv[f].fillna(method='ffill')\n",
    "csv[f] = csv[f].fillna(method='bfill')\n",
    "csv[f] = cast(csv[f],-100,csv[f].quantile(0.98))\n",
    "# csv[f] = threshold_factorization(csv[f],10000)\n",
    "csv[f] = standarize(csv[f])\n",
    "# ax = csv[f].plot.kde()\n",
    "csv[f] = csv[f].apply(lambda x: np.power(x,1/3))\n",
    "csv[f] = standarize(csv[f])\n",
    "# csv[f].plot.kde()"
   ]
  },
  {
   "cell_type": "code",
   "execution_count": 600,
   "metadata": {},
   "outputs": [],
   "source": [
    "f = 'Var181'\n",
    "delete(f)"
   ]
  },
  {
   "cell_type": "code",
   "execution_count": 601,
   "metadata": {},
   "outputs": [],
   "source": [
    "f = 'Var180'\n",
    "# print(stat(f))\n",
    "csv[f] = csv_org[f].copy()\n",
    "csv[f] = csv[f].fillna(method='ffill')\n",
    "csv[f] = csv[f].fillna(method='bfill')\n",
    "csv[f] = cast(csv[f],-100,csv[f].quantile(0.98))\n",
    "# csv[f] = threshold_factorization(csv[f],10000)\n",
    "csv[f] = standarize(csv[f])\n",
    "# ax = csv[f].plot.kde()\n",
    "csv[f] = csv[f].apply(lambda x: np.power(x,1/2))\n",
    "csv[f] = standarize(csv[f])\n",
    "# csv[f].plot.kde()"
   ]
  },
  {
   "cell_type": "code",
   "execution_count": 602,
   "metadata": {},
   "outputs": [
    {
     "data": {
      "application/vnd.jupyter.widget-view+json": {
       "model_id": "",
       "version_major": 2,
       "version_minor": 0
      },
      "text/plain": [
       "HBox(children=(IntProgress(value=0, description='Progress', max=2, style=ProgressStyle(description_width='init…"
      ]
     },
     "metadata": {},
     "output_type": "display_data"
    },
    {
     "data": {
      "application/vnd.jupyter.widget-view+json": {
       "model_id": "",
       "version_major": 2,
       "version_minor": 0
      },
      "text/plain": [
       "HBox(children=(IntProgress(value=0, max=1), HTML(value='')))"
      ]
     },
     "metadata": {},
     "output_type": "display_data"
    },
    {
     "data": {
      "application/vnd.jupyter.widget-view+json": {
       "model_id": "",
       "version_major": 2,
       "version_minor": 0
      },
      "text/plain": [
       "HBox(children=(IntProgress(value=0, max=14), HTML(value='')))"
      ]
     },
     "metadata": {},
     "output_type": "display_data"
    },
    {
     "name": "stdout",
     "output_type": "stream",
     "text": [
      "\r"
     ]
    }
   ],
   "source": [
    "f = 'Var179'\n",
    "# print(stat(f))\n",
    "csv[f] = csv_org[f].copy()\n",
    "csv[f] = csv[f].fillna(method='ffill')\n",
    "csv[f] = csv[f].fillna(method='bfill')\n",
    "# csv[f] = cast(csv[f],-100,csv[f].quantile(0.98))\n",
    "csv[f] = threshold_factorization(csv[f],10000)\n",
    "csv[f] = standarize(csv[f])\n",
    "# ax = csv[f].plot.kde()\n"
   ]
  },
  {
   "cell_type": "code",
   "execution_count": 603,
   "metadata": {},
   "outputs": [],
   "source": [
    "f = 'Var178'\n",
    "# print(stat(f))\n",
    "csv[f] = csv_org[f].copy()\n",
    "csv[f] = csv[f].fillna(method='ffill')\n",
    "csv[f] = csv[f].fillna(method='bfill')\n",
    "csv[f] = cast(csv[f],-100,csv[f].quantile(0.98))\n",
    "# csv[f] = threshold_factorization(csv[f],10000)\n",
    "csv[f] = standarize(csv[f])\n",
    "# ax = csv[f].plot.kde()\n",
    "csv[f] = csv[f].apply(lambda x: np.power(x,1/5))\n",
    "csv[f] = standarize(csv[f])\n",
    "# csv[f].plot.kde()"
   ]
  },
  {
   "cell_type": "code",
   "execution_count": 604,
   "metadata": {},
   "outputs": [
    {
     "data": {
      "application/vnd.jupyter.widget-view+json": {
       "model_id": "",
       "version_major": 2,
       "version_minor": 0
      },
      "text/plain": [
       "HBox(children=(IntProgress(value=0, description='Progress', max=2, style=ProgressStyle(description_width='init…"
      ]
     },
     "metadata": {},
     "output_type": "display_data"
    },
    {
     "data": {
      "application/vnd.jupyter.widget-view+json": {
       "model_id": "",
       "version_major": 2,
       "version_minor": 0
      },
      "text/plain": [
       "HBox(children=(IntProgress(value=0, max=1), HTML(value='')))"
      ]
     },
     "metadata": {},
     "output_type": "display_data"
    },
    {
     "data": {
      "application/vnd.jupyter.widget-view+json": {
       "model_id": "",
       "version_major": 2,
       "version_minor": 0
      },
      "text/plain": [
       "HBox(children=(IntProgress(value=0, max=442), HTML(value='')))"
      ]
     },
     "metadata": {},
     "output_type": "display_data"
    },
    {
     "name": "stdout",
     "output_type": "stream",
     "text": [
      "\r"
     ]
    }
   ],
   "source": [
    "f = 'Var177'\n",
    "# print(stat(f))\n",
    "csv[f] = csv_org[f].copy()\n",
    "csv[f] = csv[f].fillna(method='ffill')\n",
    "csv[f] = csv[f].fillna(method='bfill')\n",
    "# csv[f] = cast(csv[f],-100,csv[f].quantile(0.98))\n",
    "csv[f] = threshold_factorization(csv[f],10000)\n",
    "csv[f] = standarize(csv[f])\n",
    "# ax = csv[f].plot.kde()\n"
   ]
  },
  {
   "cell_type": "code",
   "execution_count": 605,
   "metadata": {},
   "outputs": [],
   "source": [
    "f = 'Var176'\n",
    "delete(f)"
   ]
  },
  {
   "cell_type": "code",
   "execution_count": 606,
   "metadata": {},
   "outputs": [],
   "source": [
    "f = 'Var175'\n",
    "delete(f)"
   ]
  },
  {
   "cell_type": "code",
   "execution_count": 607,
   "metadata": {},
   "outputs": [],
   "source": [
    "f = 'Var174'\n",
    "# print(stat(f))\n",
    "csv[f] = csv_org[f].copy()\n",
    "csv[f] = csv[f].fillna(method='ffill')\n",
    "csv[f] = csv[f].fillna(method='bfill')\n",
    "csv[f] = cast(csv[f],-100,csv[f].quantile(0.98))\n",
    "# csv[f] = threshold_factorization(csv[f],10000)\n",
    "csv[f] = standarize(csv[f])\n",
    "# ax = csv[f].plot.kde()\n"
   ]
  },
  {
   "cell_type": "code",
   "execution_count": 608,
   "metadata": {},
   "outputs": [],
   "source": [
    "f = 'Var173'\n",
    "delete(f)"
   ]
  },
  {
   "cell_type": "code",
   "execution_count": 609,
   "metadata": {},
   "outputs": [],
   "source": [
    "f = 'Var172'\n",
    "# print(stat(f))\n",
    "csv[f] = csv_org[f].copy()\n",
    "csv[f] = csv[f].fillna(method='ffill')\n",
    "csv[f] = csv[f].fillna(method='bfill')\n",
    "csv[f] = cast(csv[f],-100,csv[f].quantile(0.98))\n",
    "# csv[f] = threshold_factorization(csv[f],10000)\n",
    "csv[f] = standarize(csv[f])\n",
    "# ax = csv[f].plot.kde()\n",
    "csv[f] = csv[f].apply(lambda x: np.power(x,1/3))\n",
    "csv[f] = standarize(csv[f])\n",
    "# csv[f].plot.kde()"
   ]
  },
  {
   "cell_type": "code",
   "execution_count": 610,
   "metadata": {},
   "outputs": [],
   "source": [
    "f = 'Var171'\n",
    "# print(stat(f))\n",
    "csv[f] = csv_org[f].copy()\n",
    "csv[f] = csv[f].fillna(method='ffill')\n",
    "csv[f] = csv[f].fillna(method='bfill')\n",
    "csv[f] = cast(csv[f],-100,csv[f].quantile(0.98))\n",
    "# csv[f] = threshold_factorization(csv[f],10000)\n",
    "csv[f] = standarize(csv[f])\n",
    "# ax = csv[f].plot.kde()\n",
    "csv[f] = csv[f].apply(lambda x: np.power(x,1/3))\n",
    "csv[f] = standarize(csv[f])\n",
    "# csv[f].plot.kde()"
   ]
  },
  {
   "cell_type": "code",
   "execution_count": 611,
   "metadata": {},
   "outputs": [
    {
     "data": {
      "application/vnd.jupyter.widget-view+json": {
       "model_id": "",
       "version_major": 2,
       "version_minor": 0
      },
      "text/plain": [
       "HBox(children=(IntProgress(value=0, description='Progress', max=2, style=ProgressStyle(description_width='init…"
      ]
     },
     "metadata": {},
     "output_type": "display_data"
    },
    {
     "data": {
      "application/vnd.jupyter.widget-view+json": {
       "model_id": "",
       "version_major": 2,
       "version_minor": 0
      },
      "text/plain": [
       "HBox(children=(IntProgress(value=0, max=1), HTML(value='')))"
      ]
     },
     "metadata": {},
     "output_type": "display_data"
    },
    {
     "data": {
      "application/vnd.jupyter.widget-view+json": {
       "model_id": "",
       "version_major": 2,
       "version_minor": 0
      },
      "text/plain": [
       "HBox(children=(IntProgress(value=0, max=17), HTML(value='')))"
      ]
     },
     "metadata": {},
     "output_type": "display_data"
    },
    {
     "name": "stdout",
     "output_type": "stream",
     "text": [
      "\r"
     ]
    }
   ],
   "source": [
    "f = 'Var170'\n",
    "# print(stat(f))\n",
    "csv[f] = csv_org[f].copy()\n",
    "csv[f] = csv[f].fillna(method='ffill')\n",
    "csv[f] = csv[f].fillna(method='bfill')\n",
    "# csv[f] = cast(csv[f],-100,csv[f].quantile(0.98))\n",
    "csv[f] = threshold_factorization(csv[f],10000)\n",
    "csv[f] = standarize(csv[f])\n",
    "# ax = csv[f].plot.kde()\n"
   ]
  },
  {
   "cell_type": "code",
   "execution_count": 612,
   "metadata": {},
   "outputs": [],
   "source": [
    "f = 'Var169'\n",
    "delete(f)\n"
   ]
  },
  {
   "cell_type": "code",
   "execution_count": 613,
   "metadata": {},
   "outputs": [],
   "source": [
    "f = 'Var168'\n",
    "# print(stat(f))\n",
    "csv[f] = csv_org[f].copy()\n",
    "csv[f] = csv[f].fillna(method='ffill')\n",
    "csv[f] = csv[f].fillna(method='bfill')\n",
    "csv[f] = cast(csv[f],-100,csv[f].quantile(0.98))\n",
    "# csv[f] = threshold_factorization(csv[f],10000)\n",
    "csv[f] = standarize(csv[f])\n",
    "# ax = csv[f].plot.kde()\n"
   ]
  },
  {
   "cell_type": "code",
   "execution_count": 614,
   "metadata": {},
   "outputs": [],
   "source": [
    "f = 'Var167'\n",
    "delete(f)"
   ]
  },
  {
   "cell_type": "code",
   "execution_count": 615,
   "metadata": {},
   "outputs": [
    {
     "data": {
      "application/vnd.jupyter.widget-view+json": {
       "model_id": "",
       "version_major": 2,
       "version_minor": 0
      },
      "text/plain": [
       "HBox(children=(IntProgress(value=0, description='Progress', max=2, style=ProgressStyle(description_width='init…"
      ]
     },
     "metadata": {},
     "output_type": "display_data"
    },
    {
     "data": {
      "application/vnd.jupyter.widget-view+json": {
       "model_id": "",
       "version_major": 2,
       "version_minor": 0
      },
      "text/plain": [
       "HBox(children=(IntProgress(value=0, max=1), HTML(value='')))"
      ]
     },
     "metadata": {},
     "output_type": "display_data"
    },
    {
     "data": {
      "application/vnd.jupyter.widget-view+json": {
       "model_id": "",
       "version_major": 2,
       "version_minor": 0
      },
      "text/plain": [
       "HBox(children=(IntProgress(value=0, max=47), HTML(value='')))"
      ]
     },
     "metadata": {},
     "output_type": "display_data"
    },
    {
     "name": "stdout",
     "output_type": "stream",
     "text": [
      "\r"
     ]
    }
   ],
   "source": [
    "f = 'Var166'\n",
    "# print(stat(f))\n",
    "csv[f] = csv_org[f].copy()\n",
    "csv[f] = csv[f].fillna(method='ffill')\n",
    "csv[f] = csv[f].fillna(method='bfill')\n",
    "# csv[f] = cast(csv[f],-100,csv[f].quantile(0.98))\n",
    "csv[f] = threshold_factorization(csv[f],10000)\n",
    "csv[f] = standarize(csv[f])\n",
    "# ax = csv[f].plot.kde()\n"
   ]
  },
  {
   "cell_type": "code",
   "execution_count": 616,
   "metadata": {},
   "outputs": [
    {
     "data": {
      "application/vnd.jupyter.widget-view+json": {
       "model_id": "",
       "version_major": 2,
       "version_minor": 0
      },
      "text/plain": [
       "HBox(children=(IntProgress(value=0, description='Progress', max=2, style=ProgressStyle(description_width='init…"
      ]
     },
     "metadata": {},
     "output_type": "display_data"
    },
    {
     "data": {
      "application/vnd.jupyter.widget-view+json": {
       "model_id": "",
       "version_major": 2,
       "version_minor": 0
      },
      "text/plain": [
       "HBox(children=(IntProgress(value=0, max=1), HTML(value='')))"
      ]
     },
     "metadata": {},
     "output_type": "display_data"
    },
    {
     "data": {
      "application/vnd.jupyter.widget-view+json": {
       "model_id": "",
       "version_major": 2,
       "version_minor": 0
      },
      "text/plain": [
       "HBox(children=(IntProgress(value=0, max=203), HTML(value='')))"
      ]
     },
     "metadata": {},
     "output_type": "display_data"
    },
    {
     "name": "stdout",
     "output_type": "stream",
     "text": [
      "\r"
     ]
    }
   ],
   "source": [
    "f = 'Var165'\n",
    "# print(stat(f))\n",
    "csv[f] = csv_org[f].copy()\n",
    "csv[f] = csv[f].fillna(method='ffill')\n",
    "csv[f] = csv[f].fillna(method='bfill')\n",
    "# csv[f] = cast(csv[f],-100,csv[f].quantile(0.98))\n",
    "csv[f] = threshold_factorization(csv[f],10000)\n",
    "csv[f] = standarize(csv[f])\n",
    "# ax = csv[f].plot.kde()\n"
   ]
  },
  {
   "cell_type": "code",
   "execution_count": 617,
   "metadata": {},
   "outputs": [
    {
     "data": {
      "application/vnd.jupyter.widget-view+json": {
       "model_id": "",
       "version_major": 2,
       "version_minor": 0
      },
      "text/plain": [
       "HBox(children=(IntProgress(value=0, description='Progress', max=2, style=ProgressStyle(description_width='init…"
      ]
     },
     "metadata": {},
     "output_type": "display_data"
    },
    {
     "data": {
      "application/vnd.jupyter.widget-view+json": {
       "model_id": "",
       "version_major": 2,
       "version_minor": 0
      },
      "text/plain": [
       "HBox(children=(IntProgress(value=0, max=1), HTML(value='')))"
      ]
     },
     "metadata": {},
     "output_type": "display_data"
    },
    {
     "data": {
      "application/vnd.jupyter.widget-view+json": {
       "model_id": "",
       "version_major": 2,
       "version_minor": 0
      },
      "text/plain": [
       "HBox(children=(IntProgress(value=0, max=18), HTML(value='')))"
      ]
     },
     "metadata": {},
     "output_type": "display_data"
    },
    {
     "name": "stdout",
     "output_type": "stream",
     "text": [
      "\r"
     ]
    }
   ],
   "source": [
    "f = 'Var164'\n",
    "# print(stat(f))\n",
    "csv[f] = csv_org[f].copy()\n",
    "csv[f] = csv[f].fillna(method='ffill')\n",
    "csv[f] = csv[f].fillna(method='bfill')\n",
    "# csv[f] = cast(csv[f],-100,csv[f].quantile(0.98))\n",
    "csv[f] = threshold_factorization(csv[f],10000)\n",
    "csv[f] = standarize(csv[f])\n",
    "# ax = csv[f].plot.kde()\n"
   ]
  },
  {
   "cell_type": "code",
   "execution_count": 618,
   "metadata": {},
   "outputs": [],
   "source": [
    "f = 'Var163'\n",
    "# print(stat(f))\n",
    "csv[f] = csv_org[f].copy()\n",
    "csv[f] = csv[f].fillna(method='ffill')\n",
    "csv[f] = csv[f].fillna(method='bfill')\n",
    "csv[f] = cast(csv[f],-100,csv[f].quantile(0.98))\n",
    "# csv[f] = threshold_factorization(csv[f],10000)\n",
    "csv[f] = standarize(csv[f])\n",
    "# ax = csv[f].plot.kde()\n",
    "csv[f] = csv[f].apply(lambda x: np.power(x,1/3))\n",
    "csv[f] = standarize(csv[f])\n",
    "# csv[f].plot.kde()\n",
    "\n"
   ]
  },
  {
   "cell_type": "code",
   "execution_count": 619,
   "metadata": {},
   "outputs": [
    {
     "data": {
      "application/vnd.jupyter.widget-view+json": {
       "model_id": "",
       "version_major": 2,
       "version_minor": 0
      },
      "text/plain": [
       "HBox(children=(IntProgress(value=0, description='Progress', max=2, style=ProgressStyle(description_width='init…"
      ]
     },
     "metadata": {},
     "output_type": "display_data"
    },
    {
     "data": {
      "application/vnd.jupyter.widget-view+json": {
       "model_id": "",
       "version_major": 2,
       "version_minor": 0
      },
      "text/plain": [
       "HBox(children=(IntProgress(value=0, max=1), HTML(value='')))"
      ]
     },
     "metadata": {},
     "output_type": "display_data"
    },
    {
     "data": {
      "application/vnd.jupyter.widget-view+json": {
       "model_id": "",
       "version_major": 2,
       "version_minor": 0
      },
      "text/plain": [
       "HBox(children=(IntProgress(value=0, max=470), HTML(value='')))"
      ]
     },
     "metadata": {},
     "output_type": "display_data"
    },
    {
     "name": "stdout",
     "output_type": "stream",
     "text": [
      "\r"
     ]
    }
   ],
   "source": [
    "f = 'Var162'\n",
    "# print(stat(f))\n",
    "csv[f] = csv_org[f].copy()\n",
    "csv[f] = csv[f].fillna(method='ffill')\n",
    "csv[f] = csv[f].fillna(method='bfill')\n",
    "csv[f] = threshold_factorization(csv[f],10000)\n",
    "csv[f] = standarize(csv[f])\n",
    "# ax = csv[f].plot.kde()\n"
   ]
  },
  {
   "cell_type": "code",
   "execution_count": 620,
   "metadata": {},
   "outputs": [
    {
     "data": {
      "application/vnd.jupyter.widget-view+json": {
       "model_id": "",
       "version_major": 2,
       "version_minor": 0
      },
      "text/plain": [
       "HBox(children=(IntProgress(value=0, description='Progress', max=2, style=ProgressStyle(description_width='init…"
      ]
     },
     "metadata": {},
     "output_type": "display_data"
    },
    {
     "data": {
      "application/vnd.jupyter.widget-view+json": {
       "model_id": "",
       "version_major": 2,
       "version_minor": 0
      },
      "text/plain": [
       "HBox(children=(IntProgress(value=0, max=1), HTML(value='')))"
      ]
     },
     "metadata": {},
     "output_type": "display_data"
    },
    {
     "data": {
      "application/vnd.jupyter.widget-view+json": {
       "model_id": "",
       "version_major": 2,
       "version_minor": 0
      },
      "text/plain": [
       "HBox(children=(IntProgress(value=0, max=8), HTML(value='')))"
      ]
     },
     "metadata": {},
     "output_type": "display_data"
    },
    {
     "name": "stdout",
     "output_type": "stream",
     "text": [
      "\r"
     ]
    }
   ],
   "source": [
    "f = 'Var161'\n",
    "# print(stat(f))\n",
    "csv[f] = csv_org[f].copy()\n",
    "csv[f] = csv[f].fillna(method='ffill')\n",
    "csv[f] = csv[f].fillna(method='bfill')\n",
    "csv[f] = threshold_factorization(csv[f],10000)\n",
    "csv[f] = standarize(csv[f])\n",
    "# ax = csv[f].plot.kde()\n"
   ]
  },
  {
   "cell_type": "code",
   "execution_count": 621,
   "metadata": {},
   "outputs": [],
   "source": [
    "f = 'Var160'\n",
    "# print(stat(f))\n",
    "csv[f] = csv_org[f].copy()\n",
    "csv[f] = csv[f].fillna(method='ffill')\n",
    "csv[f] = csv[f].fillna(method='bfill')\n",
    "csv[f] = cast(csv[f],-100,csv[f].quantile(0.98))\n",
    "# csv[f] = threshold_factorization(csv[f],10000)\n",
    "csv[f] = standarize(csv[f])\n",
    "# ax = csv[f].plot.kde()\n",
    "csv[f] = csv[f].apply(lambda x: np.power(x,1/3))\n",
    "csv[f] = standarize(csv[f])\n",
    "# csv[f].plot.kde()\n"
   ]
  },
  {
   "cell_type": "code",
   "execution_count": 622,
   "metadata": {},
   "outputs": [
    {
     "data": {
      "application/vnd.jupyter.widget-view+json": {
       "model_id": "",
       "version_major": 2,
       "version_minor": 0
      },
      "text/plain": [
       "HBox(children=(IntProgress(value=0, description='Progress', max=2, style=ProgressStyle(description_width='init…"
      ]
     },
     "metadata": {},
     "output_type": "display_data"
    },
    {
     "data": {
      "application/vnd.jupyter.widget-view+json": {
       "model_id": "",
       "version_major": 2,
       "version_minor": 0
      },
      "text/plain": [
       "HBox(children=(IntProgress(value=0, max=1), HTML(value='')))"
      ]
     },
     "metadata": {},
     "output_type": "display_data"
    },
    {
     "data": {
      "application/vnd.jupyter.widget-view+json": {
       "model_id": "",
       "version_major": 2,
       "version_minor": 0
      },
      "text/plain": [
       "HBox(children=(IntProgress(value=0, max=5), HTML(value='')))"
      ]
     },
     "metadata": {},
     "output_type": "display_data"
    },
    {
     "name": "stdout",
     "output_type": "stream",
     "text": [
      "\r"
     ]
    }
   ],
   "source": [
    "f = 'Var159'\n",
    "# print(stat(f))\n",
    "csv[f] = csv_org[f].copy()\n",
    "csv[f] = csv[f].fillna(method='ffill')\n",
    "csv[f] = csv[f].fillna(method='bfill')\n",
    "csv[f] = cast(csv[f],-100,csv[f].quantile(0.98))\n",
    "csv[f] = threshold_factorization(csv[f],10000)\n",
    "csv[f] = standarize(csv[f])\n",
    "# ax = csv[f].plot.kde()\n"
   ]
  },
  {
   "cell_type": "code",
   "execution_count": 623,
   "metadata": {},
   "outputs": [],
   "source": [
    "f = 'Var158'\n",
    "delete(f)\n"
   ]
  },
  {
   "cell_type": "code",
   "execution_count": 624,
   "metadata": {},
   "outputs": [],
   "source": [
    "f = 'Var157'\n",
    "# print(stat(f))\n",
    "csv[f] = csv_org[f].copy()\n",
    "csv[f] = csv[f].fillna(method='ffill')\n",
    "csv[f] = csv[f].fillna(method='bfill')\n",
    "csv[f] = cast(csv[f],-100,csv[f].quantile(0.98))\n",
    "# csv[f] = threshold_factorization(csv[f],10000)\n",
    "csv[f] = standarize(csv[f])\n",
    "# ax = csv[f].plot.kde()\n",
    "csv[f] = csv[f].apply(lambda x: np.power(x,1/3))\n",
    "csv[f] = standarize(csv[f])\n",
    "# csv[f].plot.kde()\n"
   ]
  },
  {
   "cell_type": "code",
   "execution_count": 625,
   "metadata": {},
   "outputs": [],
   "source": [
    "f = 'Var156'\n",
    "# print(stat(f))\n",
    "csv[f] = csv_org[f].copy()\n",
    "csv[f] = csv[f].fillna(method='ffill')\n",
    "csv[f] = csv[f].fillna(method='bfill')\n",
    "csv[f] = cast(csv[f],-100,csv[f].quantile(0.98))\n",
    "# csv[f] = threshold_factorization(csv[f],10000)\n",
    "csv[f] = standarize(csv[f])\n",
    "# ax = csv[f].plot.kde()\n",
    "csv[f] = csv[f].apply(lambda x: np.power(x,1/3))\n",
    "csv[f] = standarize(csv[f])\n",
    "# csv[f].plot.kde()\n"
   ]
  },
  {
   "cell_type": "code",
   "execution_count": 626,
   "metadata": {},
   "outputs": [],
   "source": [
    "f = 'Var155'\n",
    "delete(f)"
   ]
  },
  {
   "cell_type": "code",
   "execution_count": 627,
   "metadata": {},
   "outputs": [],
   "source": [
    "f = 'Var154'\n",
    "# print(stat(f))\n",
    "csv[f] = csv_org[f].copy()\n",
    "csv[f] = csv[f].fillna(method='ffill')\n",
    "csv[f] = csv[f].fillna(method='bfill')\n",
    "csv[f] = cast(csv[f],-100,csv[f].quantile(0.98))\n",
    "# csv[f] = threshold_factorization(csv[f],10000)\n",
    "csv[f] = standarize(csv[f])\n",
    "# ax = csv[f].plot.kde()\n",
    "csv[f] = csv[f].apply(lambda x: np.power(x,1/3))\n",
    "csv[f] = standarize(csv[f])\n",
    "# csv[f].plot.kde()\n"
   ]
  },
  {
   "cell_type": "code",
   "execution_count": 628,
   "metadata": {},
   "outputs": [],
   "source": [
    "f = 'Var153'\n",
    "# print(stat(f))\n",
    "csv[f] = csv_org[f].copy()\n",
    "csv[f] = csv[f].fillna(method='ffill')\n",
    "csv[f] = csv[f].fillna(method='bfill')\n",
    "csv[f] = cast(csv[f],-100,csv[f].quantile(0.98))\n",
    "# csv[f] = threshold_factorization(csv[f],10000)\n",
    "csv[f] = standarize(csv[f])\n",
    "# ax = csv[f].plot.kde()"
   ]
  },
  {
   "cell_type": "code",
   "execution_count": 629,
   "metadata": {},
   "outputs": [],
   "source": [
    "f = 'Var152'\n",
    "# print(stat(f))\n",
    "csv[f] = csv_org[f].copy()\n",
    "csv[f] = csv[f].fillna(method='ffill')\n",
    "csv[f] = csv[f].fillna(method='bfill')\n",
    "csv[f] = cast(csv[f],-100,csv[f].quantile(0.98))\n",
    "# csv[f] = threshold_factorization(csv[f],10000)\n",
    "csv[f] = standarize(csv[f])\n",
    "# ax = csv[f].plot.kde()\n"
   ]
  },
  {
   "cell_type": "code",
   "execution_count": 630,
   "metadata": {},
   "outputs": [],
   "source": [
    "f = 'Var151'\n",
    "# print(stat(f))\n",
    "csv[f] = csv_org[f].copy()\n",
    "csv[f] = csv[f].fillna(method='ffill')\n",
    "csv[f] = csv[f].fillna(method='bfill')\n",
    "csv[f] = cast(csv[f],-100,csv[f].quantile(0.98))\n",
    "# csv[f] = threshold_factorization(csv[f],10000)\n",
    "csv[f] = standarize(csv[f])\n",
    "# ax = csv[f].plot.kde()\n",
    "csv[f] = csv[f].apply(lambda x: np.power(x,1/3))\n",
    "csv[f] = standarize(csv[f])\n",
    "# csv[f].plot.kde()\n"
   ]
  },
  {
   "cell_type": "code",
   "execution_count": 631,
   "metadata": {},
   "outputs": [],
   "source": [
    "f = 'Var150'\n",
    "# print(stat(f))\n",
    "csv[f] = csv_org[f].copy()\n",
    "csv[f] = csv[f].fillna(method='ffill')\n",
    "csv[f] = csv[f].fillna(method='bfill')\n",
    "csv[f] = cast(csv[f],-100,csv[f].quantile(0.98))\n",
    "# csv[f] = threshold_factorization(csv[f],10000)\n",
    "csv[f] = standarize(csv[f])\n",
    "# ax = csv[f].plot.kde()\n",
    "csv[f] = csv[f].apply(lambda x: np.power(x,1/3))\n",
    "csv[f] = standarize(csv[f])\n",
    "# csv[f].plot.kde()\n"
   ]
  },
  {
   "cell_type": "code",
   "execution_count": 632,
   "metadata": {},
   "outputs": [],
   "source": [
    "f = 'Var149'\n",
    "# print(stat(f))\n",
    "csv[f] = csv_org[f].copy()\n",
    "csv[f] = csv[f].fillna(method='ffill')\n",
    "csv[f] = csv[f].fillna(method='bfill')\n",
    "csv[f] = cast(csv[f],-100,csv[f].quantile(0.98))\n",
    "# csv[f] = threshold_factorization(csv[f],10000)\n",
    "csv[f] = standarize(csv[f])\n",
    "# ax = csv[f].plot.kde()\n",
    "csv[f] = csv[f].apply(lambda x: np.power(x,1/3))\n",
    "csv[f] = standarize(csv[f])\n",
    "# csv[f].plot.kde()\n"
   ]
  },
  {
   "cell_type": "code",
   "execution_count": 633,
   "metadata": {},
   "outputs": [],
   "source": [
    "f = 'Var148'\n",
    "# print(stat(f))\n",
    "csv[f] = csv_org[f].copy()\n",
    "csv[f] = csv[f].fillna(method='ffill')\n",
    "csv[f] = csv[f].fillna(method='bfill')\n",
    "csv[f] = cast(csv[f],-100,csv[f].quantile(0.98))\n",
    "# csv[f] = threshold_factorization(csv[f],10000)\n",
    "csv[f] = standarize(csv[f])\n",
    "# ax = csv[f].plot.kde()\n",
    "csv[f] = csv[f].apply(lambda x: np.power(x,1/3))\n",
    "csv[f] = standarize(csv[f])\n",
    "# csv[f].plot.kde()"
   ]
  },
  {
   "cell_type": "code",
   "execution_count": 634,
   "metadata": {},
   "outputs": [],
   "source": [
    "f = 'Var147'\n",
    "# print(stat(f))\n",
    "csv[f] = csv_org[f].copy()\n",
    "csv[f] = csv[f].fillna(method='ffill')\n",
    "csv[f] = csv[f].fillna(method='bfill')\n",
    "csv[f] = cast(csv[f],-100,csv[f].quantile(0.98))\n",
    "# csv[f] = threshold_factorization(csv[f],10000)\n",
    "csv[f] = standarize(csv[f])\n",
    "# ax = csv[f].plot.kde()"
   ]
  },
  {
   "cell_type": "code",
   "execution_count": 635,
   "metadata": {},
   "outputs": [],
   "source": [
    "f = 'Var146'\n",
    "delete(f)"
   ]
  },
  {
   "cell_type": "code",
   "execution_count": 636,
   "metadata": {},
   "outputs": [],
   "source": [
    "f = 'Var145'\n",
    "# print(stat(f))\n",
    "csv[f] = csv_org[f].copy()\n",
    "csv[f] = csv[f].fillna(method='ffill')\n",
    "csv[f] = csv[f].fillna(method='bfill')\n",
    "csv[f] = cast(csv[f],-100,csv[f].quantile(0.98))\n",
    "# csv[f] = threshold_factorization(csv[f],10000)\n",
    "csv[f] = standarize(csv[f])\n",
    "# ax = csv[f].plot.kde()\n",
    "csv[f] = csv[f].apply(lambda x: np.power(x,1/3))\n",
    "csv[f] = standarize(csv[f])\n",
    "# csv[f].plot.kde()"
   ]
  },
  {
   "cell_type": "code",
   "execution_count": 637,
   "metadata": {},
   "outputs": [],
   "source": [
    "f = 'Var144'\n",
    "# print(stat(f))\n",
    "csv[f] = csv_org[f].copy()\n",
    "csv[f] = csv[f].fillna(method='ffill')\n",
    "csv[f] = csv[f].fillna(method='bfill')\n",
    "csv[f] = cast(csv[f],-100,csv[f].quantile(0.98))\n",
    "# csv[f] = threshold_factorization(csv[f],10000)\n",
    "csv[f] = standarize(csv[f])\n",
    "# ax = csv[f].plot.kde()"
   ]
  },
  {
   "cell_type": "code",
   "execution_count": 638,
   "metadata": {},
   "outputs": [],
   "source": [
    "f = 'Var143'\n",
    "delete(f)"
   ]
  },
  {
   "cell_type": "code",
   "execution_count": 639,
   "metadata": {},
   "outputs": [],
   "source": [
    "f = 'Var142'\n",
    "delete(f)"
   ]
  },
  {
   "cell_type": "code",
   "execution_count": 640,
   "metadata": {},
   "outputs": [],
   "source": [
    "f = 'Var141'\n",
    "delete(f)"
   ]
  },
  {
   "cell_type": "code",
   "execution_count": 641,
   "metadata": {},
   "outputs": [],
   "source": [
    "f = 'Var140'\n",
    "delete(f)"
   ]
  },
  {
   "cell_type": "code",
   "execution_count": 642,
   "metadata": {},
   "outputs": [
    {
     "data": {
      "application/vnd.jupyter.widget-view+json": {
       "model_id": "",
       "version_major": 2,
       "version_minor": 0
      },
      "text/plain": [
       "HBox(children=(IntProgress(value=0, description='Progress', max=2, style=ProgressStyle(description_width='init…"
      ]
     },
     "metadata": {},
     "output_type": "display_data"
    },
    {
     "data": {
      "application/vnd.jupyter.widget-view+json": {
       "model_id": "",
       "version_major": 2,
       "version_minor": 0
      },
      "text/plain": [
       "HBox(children=(IntProgress(value=0, max=1), HTML(value='')))"
      ]
     },
     "metadata": {},
     "output_type": "display_data"
    },
    {
     "data": {
      "application/vnd.jupyter.widget-view+json": {
       "model_id": "",
       "version_major": 2,
       "version_minor": 0
      },
      "text/plain": [
       "HBox(children=(IntProgress(value=0, max=637), HTML(value='')))"
      ]
     },
     "metadata": {},
     "output_type": "display_data"
    },
    {
     "name": "stdout",
     "output_type": "stream",
     "text": [
      "\r"
     ]
    }
   ],
   "source": [
    "f = 'Var139'\n",
    "# print(stat(f))\n",
    "csv[f] = csv_org[f].copy()\n",
    "csv[f] = csv[f].fillna(method='ffill')\n",
    "csv[f] = csv[f].fillna(method='bfill')\n",
    "csv[f] = cast(csv[f],-100,csv[f].quantile(0.98))\n",
    "csv[f] = threshold_factorization(csv[f],10000)\n",
    "csv[f] = standarize(csv[f])\n",
    "# ax = csv[f].plot.kde()"
   ]
  },
  {
   "cell_type": "code",
   "execution_count": 643,
   "metadata": {},
   "outputs": [],
   "source": [
    "f = 'Var138'\n",
    "delete(f)"
   ]
  },
  {
   "cell_type": "code",
   "execution_count": 644,
   "metadata": {},
   "outputs": [
    {
     "data": {
      "application/vnd.jupyter.widget-view+json": {
       "model_id": "",
       "version_major": 2,
       "version_minor": 0
      },
      "text/plain": [
       "HBox(children=(IntProgress(value=0, description='Progress', max=2, style=ProgressStyle(description_width='init…"
      ]
     },
     "metadata": {},
     "output_type": "display_data"
    },
    {
     "data": {
      "application/vnd.jupyter.widget-view+json": {
       "model_id": "",
       "version_major": 2,
       "version_minor": 0
      },
      "text/plain": [
       "HBox(children=(IntProgress(value=0, max=1), HTML(value='')))"
      ]
     },
     "metadata": {},
     "output_type": "display_data"
    },
    {
     "data": {
      "application/vnd.jupyter.widget-view+json": {
       "model_id": "",
       "version_major": 2,
       "version_minor": 0
      },
      "text/plain": [
       "HBox(children=(IntProgress(value=0, max=18), HTML(value='')))"
      ]
     },
     "metadata": {},
     "output_type": "display_data"
    },
    {
     "name": "stdout",
     "output_type": "stream",
     "text": [
      "\r"
     ]
    }
   ],
   "source": [
    "f = 'Var137'\n",
    "# print(stat(f))\n",
    "csv[f] = csv_org[f].copy()\n",
    "csv[f] = csv[f].fillna(method='ffill')\n",
    "csv[f] = csv[f].fillna(method='bfill')\n",
    "# csv[f] = cast(csv[f],-100,csv[f].quantile(0.98))\n",
    "csv[f] = threshold_factorization(csv[f],10000)\n",
    "csv[f] = standarize(csv[f])\n",
    "# ax = csv[f].plot.kde()"
   ]
  },
  {
   "cell_type": "code",
   "execution_count": 645,
   "metadata": {},
   "outputs": [],
   "source": [
    "f = 'Var136'\n",
    "delete(f)"
   ]
  },
  {
   "cell_type": "code",
   "execution_count": 646,
   "metadata": {},
   "outputs": [],
   "source": [
    "f = 'Var135'\n",
    "# print(stat(f))\n",
    "csv[f] = csv_org[f].copy()\n",
    "csv[f] = csv[f].fillna(method='ffill')\n",
    "csv[f] = csv[f].fillna(method='bfill')\n",
    "csv[f] = cast(csv[f],-100,csv[f].quantile(0.99))\n",
    "# csv[f] = threshold_factorization(csv[f],10000)\n",
    "csv[f] = standarize(csv[f])\n",
    "# ax = csv[f].plot.kde()"
   ]
  },
  {
   "cell_type": "code",
   "execution_count": 647,
   "metadata": {},
   "outputs": [],
   "source": [
    "f = 'Var134'\n",
    "# print(stat(f))\n",
    "csv[f] = csv_org[f].copy()\n",
    "csv[f] = csv[f].fillna(method='ffill')\n",
    "csv[f] = csv[f].fillna(method='bfill')\n",
    "csv[f] = cast(csv[f],-100,csv[f].quantile(0.95))\n",
    "# csv[f] = threshold_factorization(csv[f],10000)\n",
    "csv[f] = standarize(csv[f])\n",
    "# ax = csv[f].plot.kde()\n",
    "csv[f] = csv[f].apply(lambda x: np.power(x,1/2))\n",
    "csv[f] = standarize(csv[f])\n",
    "# csv[f].plot.kde()"
   ]
  },
  {
   "cell_type": "code",
   "execution_count": 648,
   "metadata": {},
   "outputs": [],
   "source": [
    "f = 'Var133'\n",
    "# print(stat(f))\n",
    "csv[f] = csv_org[f].copy()\n",
    "csv[f] = csv[f].fillna(method='ffill')\n",
    "csv[f] = csv[f].fillna(method='bfill')\n",
    "csv[f] = cast(csv[f],-100,csv[f].quantile(0.95))\n",
    "# csv[f] = threshold_factorization(csv[f],10000)\n",
    "csv[f] = standarize(csv[f])\n",
    "# ax = csv[f].plot.kde()\n",
    "csv[f] = csv[f].apply(lambda x: np.power(x,1/2))\n",
    "csv[f] = standarize(csv[f])\n",
    "# csv[f].plot.kde()"
   ]
  },
  {
   "cell_type": "code",
   "execution_count": 649,
   "metadata": {},
   "outputs": [
    {
     "data": {
      "application/vnd.jupyter.widget-view+json": {
       "model_id": "",
       "version_major": 2,
       "version_minor": 0
      },
      "text/plain": [
       "HBox(children=(IntProgress(value=0, description='Progress', max=2, style=ProgressStyle(description_width='init…"
      ]
     },
     "metadata": {},
     "output_type": "display_data"
    },
    {
     "data": {
      "application/vnd.jupyter.widget-view+json": {
       "model_id": "",
       "version_major": 2,
       "version_minor": 0
      },
      "text/plain": [
       "HBox(children=(IntProgress(value=0, max=1), HTML(value='')))"
      ]
     },
     "metadata": {},
     "output_type": "display_data"
    },
    {
     "data": {
      "application/vnd.jupyter.widget-view+json": {
       "model_id": "",
       "version_major": 2,
       "version_minor": 0
      },
      "text/plain": [
       "HBox(children=(IntProgress(value=0, max=18), HTML(value='')))"
      ]
     },
     "metadata": {},
     "output_type": "display_data"
    },
    {
     "name": "stdout",
     "output_type": "stream",
     "text": [
      "\r"
     ]
    }
   ],
   "source": [
    "f = 'Var132'\n",
    "# print(stat(f))\n",
    "csv[f] = csv_org[f].copy()\n",
    "csv[f] = csv[f].fillna(method='ffill')\n",
    "csv[f] = csv[f].fillna(method='bfill')\n",
    "# csv[f] = cast(csv[f],-100,csv[f].quantile(0.95))\n",
    "csv[f] = threshold_factorization(csv[f],10000)\n",
    "csv[f] = standarize(csv[f])\n",
    "# ax = csv[f].plot.kde()"
   ]
  },
  {
   "cell_type": "code",
   "execution_count": 650,
   "metadata": {},
   "outputs": [
    {
     "data": {
      "application/vnd.jupyter.widget-view+json": {
       "model_id": "",
       "version_major": 2,
       "version_minor": 0
      },
      "text/plain": [
       "HBox(children=(IntProgress(value=0, description='Progress', max=2, style=ProgressStyle(description_width='init…"
      ]
     },
     "metadata": {},
     "output_type": "display_data"
    },
    {
     "data": {
      "application/vnd.jupyter.widget-view+json": {
       "model_id": "",
       "version_major": 2,
       "version_minor": 0
      },
      "text/plain": [
       "HBox(children=(IntProgress(value=0, max=1), HTML(value='')))"
      ]
     },
     "metadata": {},
     "output_type": "display_data"
    },
    {
     "data": {
      "application/vnd.jupyter.widget-view+json": {
       "model_id": "",
       "version_major": 2,
       "version_minor": 0
      },
      "text/plain": [
       "HBox(children=(IntProgress(value=0, max=151), HTML(value='')))"
      ]
     },
     "metadata": {},
     "output_type": "display_data"
    },
    {
     "name": "stdout",
     "output_type": "stream",
     "text": [
      "\r"
     ]
    }
   ],
   "source": [
    "f = 'Var131'\n",
    "# print(stat(f))\n",
    "csv[f] = csv_org[f].copy()\n",
    "csv[f] = csv[f].fillna(method='ffill')\n",
    "csv[f] = csv[f].fillna(method='bfill')\n",
    "# csv[f] = cast(csv[f],-100,csv[f].quantile(0.95))\n",
    "csv[f] = threshold_factorization(csv[f],10000)\n",
    "csv[f] = standarize(csv[f])\n",
    "# ax = csv[f].plot.kde()"
   ]
  },
  {
   "cell_type": "code",
   "execution_count": 651,
   "metadata": {},
   "outputs": [],
   "source": [
    "f = 'Var130'\n",
    "delete(f)"
   ]
  },
  {
   "cell_type": "code",
   "execution_count": 652,
   "metadata": {},
   "outputs": [],
   "source": [
    "f = 'Var129'\n",
    "# print(stat(f))\n",
    "csv[f] = csv_org[f].copy()\n",
    "csv[f] = csv[f].fillna(method='ffill')\n",
    "csv[f] = csv[f].fillna(method='bfill')\n",
    "csv[f] = cast(csv[f],-100,csv[f].quantile(0.9))\n",
    "# csv[f] = threshold_factorization(csv[f],10000)\n",
    "csv[f] = standarize(csv[f])\n",
    "# ax = csv[f].plot.kde()\n",
    "csv[f] = csv[f].apply(lambda x: np.power(x,1/3))\n",
    "csv[f] = standarize(csv[f])\n",
    "# csv[f].plot.kde()"
   ]
  },
  {
   "cell_type": "code",
   "execution_count": 653,
   "metadata": {},
   "outputs": [],
   "source": [
    "f = 'Var128'\n",
    "# print(stat(f))\n",
    "csv[f] = csv_org[f].copy()\n",
    "csv[f] = csv[f].fillna(method='ffill')\n",
    "csv[f] = csv[f].fillna(method='bfill')\n",
    "csv[f] = cast(csv[f],-100,csv[f].quantile(0.95))\n",
    "# csv[f] = threshold_factorization(csv[f],10000)\n",
    "csv[f] = standarize(csv[f])\n",
    "# ax = csv[f].plot.kde()\n",
    "csv[f] = csv[f].apply(lambda x: np.power(x,1/3))\n",
    "csv[f] = standarize(csv[f])\n",
    "# csv[f].plot.kde()"
   ]
  },
  {
   "cell_type": "code",
   "execution_count": 654,
   "metadata": {},
   "outputs": [
    {
     "data": {
      "application/vnd.jupyter.widget-view+json": {
       "model_id": "",
       "version_major": 2,
       "version_minor": 0
      },
      "text/plain": [
       "HBox(children=(IntProgress(value=0, description='Progress', max=2, style=ProgressStyle(description_width='init…"
      ]
     },
     "metadata": {},
     "output_type": "display_data"
    },
    {
     "data": {
      "application/vnd.jupyter.widget-view+json": {
       "model_id": "",
       "version_major": 2,
       "version_minor": 0
      },
      "text/plain": [
       "HBox(children=(IntProgress(value=0, max=1), HTML(value='')))"
      ]
     },
     "metadata": {},
     "output_type": "display_data"
    },
    {
     "data": {
      "application/vnd.jupyter.widget-view+json": {
       "model_id": "",
       "version_major": 2,
       "version_minor": 0
      },
      "text/plain": [
       "HBox(children=(IntProgress(value=0, max=38), HTML(value='')))"
      ]
     },
     "metadata": {},
     "output_type": "display_data"
    },
    {
     "name": "stdout",
     "output_type": "stream",
     "text": [
      "\r"
     ]
    }
   ],
   "source": [
    "f = 'Var127'\n",
    "# print(stat(f))\n",
    "csv[f] = csv_org[f].copy()\n",
    "csv[f] = csv[f].fillna(method='ffill')\n",
    "csv[f] = csv[f].fillna(method='bfill')\n",
    "# csv[f] = cast(csv[f],-100,csv[f].quantile(0.95))\n",
    "# csv[f] = standarize(csv[f])\n",
    "csv[f] = threshold_factorization(csv[f],10000)\n",
    "csv[f] = standarize(csv[f])\n",
    "# ax = csv[f].plot.kde()"
   ]
  },
  {
   "cell_type": "code",
   "execution_count": 655,
   "metadata": {},
   "outputs": [],
   "source": [
    "f = 'Var126'\n",
    "# print(stat(f))\n",
    "csv[f] = csv_org[f].copy()\n",
    "csv[f] = csv[f].fillna(method='ffill')\n",
    "csv[f] = csv[f].fillna(method='bfill')\n",
    "csv[f] = cast(csv[f],-100,csv[f].quantile(0.95))\n",
    "# csv[f] = standarize(csv[f])\n",
    "# csv[f] = threshold_factorization(csv[f],10000)\n",
    "csv[f] = standarize(csv[f])\n",
    "# ax = csv[f].plot.kde()"
   ]
  },
  {
   "cell_type": "code",
   "execution_count": 656,
   "metadata": {},
   "outputs": [],
   "source": [
    "f = 'Var125'\n",
    "# print(stat(f))\n",
    "csv[f] = csv_org[f].copy()\n",
    "csv[f] = csv[f].fillna(method='ffill')\n",
    "csv[f] = csv[f].fillna(method='bfill')\n",
    "csv[f] = cast(csv[f],-100,csv[f].quantile(0.95))\n",
    "# csv[f] = standarize(csv[f])\n",
    "# csv[f] = threshold_factorization(csv[f],10000)\n",
    "csv[f] = standarize(csv[f])\n",
    "# ax = csv[f].plot.kde()\n",
    "csv[f] = csv[f].apply(lambda x: np.power(x,1/4))\n",
    "csv[f] = standarize(csv[f])\n",
    "# csv[f].plot.kde()"
   ]
  },
  {
   "cell_type": "code",
   "execution_count": 657,
   "metadata": {},
   "outputs": [
    {
     "data": {
      "application/vnd.jupyter.widget-view+json": {
       "model_id": "",
       "version_major": 2,
       "version_minor": 0
      },
      "text/plain": [
       "HBox(children=(IntProgress(value=0, description='Progress', max=2, style=ProgressStyle(description_width='init…"
      ]
     },
     "metadata": {},
     "output_type": "display_data"
    },
    {
     "data": {
      "application/vnd.jupyter.widget-view+json": {
       "model_id": "",
       "version_major": 2,
       "version_minor": 0
      },
      "text/plain": [
       "HBox(children=(IntProgress(value=0, max=1), HTML(value='')))"
      ]
     },
     "metadata": {},
     "output_type": "display_data"
    },
    {
     "data": {
      "application/vnd.jupyter.widget-view+json": {
       "model_id": "",
       "version_major": 2,
       "version_minor": 0
      },
      "text/plain": [
       "HBox(children=(IntProgress(value=0, max=346), HTML(value='')))"
      ]
     },
     "metadata": {},
     "output_type": "display_data"
    },
    {
     "name": "stdout",
     "output_type": "stream",
     "text": [
      "\r"
     ]
    }
   ],
   "source": [
    "f = 'Var124'\n",
    "# print(stat(f))\n",
    "csv[f] = csv_org[f].copy()\n",
    "csv[f] = csv[f].fillna(method='ffill')\n",
    "csv[f] = csv[f].fillna(method='bfill')\n",
    "# csv[f] = cast(csv[f],-100,csv[f].quantile(0.95))\n",
    "# csv[f] = standarize(csv[f])\n",
    "csv[f] = threshold_factorization(csv[f],10000)\n",
    "csv[f] = standarize(csv[f])\n",
    "# ax = csv[f].plot.kde()"
   ]
  },
  {
   "cell_type": "code",
   "execution_count": 658,
   "metadata": {},
   "outputs": [],
   "source": [
    "f = 'Var123'\n",
    "# print(stat(f))\n",
    "csv[f] = csv_org[f].copy()\n",
    "csv[f] = csv[f].fillna(method='ffill')\n",
    "csv[f] = csv[f].fillna(method='bfill')\n",
    "csv[f] = cast(csv[f],-100,csv[f].quantile(0.95))\n",
    "# csv[f] = standarize(csv[f])\n",
    "# csv[f] = threshold_factorization(csv[f],10000)\n",
    "csv[f] = standarize(csv[f])\n",
    "# ax = csv[f].plot.kde()\n",
    "csv[f] = csv[f].apply(lambda x: np.power(x,1/2))\n",
    "csv[f] = standarize(csv[f])\n",
    "# csv[f].plot.kde()"
   ]
  },
  {
   "cell_type": "code",
   "execution_count": 659,
   "metadata": {},
   "outputs": [],
   "source": [
    "f = 'Var122'\n",
    "delete(f)"
   ]
  },
  {
   "cell_type": "code",
   "execution_count": 660,
   "metadata": {},
   "outputs": [
    {
     "data": {
      "application/vnd.jupyter.widget-view+json": {
       "model_id": "",
       "version_major": 2,
       "version_minor": 0
      },
      "text/plain": [
       "HBox(children=(IntProgress(value=0, description='Progress', max=2, style=ProgressStyle(description_width='init…"
      ]
     },
     "metadata": {},
     "output_type": "display_data"
    },
    {
     "data": {
      "application/vnd.jupyter.widget-view+json": {
       "model_id": "",
       "version_major": 2,
       "version_minor": 0
      },
      "text/plain": [
       "HBox(children=(IntProgress(value=0, max=1), HTML(value='')))"
      ]
     },
     "metadata": {},
     "output_type": "display_data"
    },
    {
     "data": {
      "application/vnd.jupyter.widget-view+json": {
       "model_id": "",
       "version_major": 2,
       "version_minor": 0
      },
      "text/plain": [
       "HBox(children=(IntProgress(value=0, max=32), HTML(value='')))"
      ]
     },
     "metadata": {},
     "output_type": "display_data"
    },
    {
     "name": "stdout",
     "output_type": "stream",
     "text": [
      "\r"
     ]
    }
   ],
   "source": [
    "f = 'Var121'\n",
    "# print(stat(f))\n",
    "csv[f] = csv_org[f].copy()\n",
    "csv[f] = csv[f].fillna(method='ffill')\n",
    "csv[f] = csv[f].fillna(method='bfill')\n",
    "# csv[f] = cast(csv[f],-100,csv[f].quantile(0.95))\n",
    "# csv[f] = standarize(csv[f])\n",
    "csv[f] = threshold_factorization(csv[f],10000)\n",
    "csv[f] = standarize(csv[f])\n",
    "# ax = csv[f].plot.kde()"
   ]
  },
  {
   "cell_type": "code",
   "execution_count": 661,
   "metadata": {},
   "outputs": [
    {
     "data": {
      "application/vnd.jupyter.widget-view+json": {
       "model_id": "",
       "version_major": 2,
       "version_minor": 0
      },
      "text/plain": [
       "HBox(children=(IntProgress(value=0, description='Progress', max=2, style=ProgressStyle(description_width='init…"
      ]
     },
     "metadata": {},
     "output_type": "display_data"
    },
    {
     "data": {
      "application/vnd.jupyter.widget-view+json": {
       "model_id": "",
       "version_major": 2,
       "version_minor": 0
      },
      "text/plain": [
       "HBox(children=(IntProgress(value=0, max=1), HTML(value='')))"
      ]
     },
     "metadata": {},
     "output_type": "display_data"
    },
    {
     "data": {
      "application/vnd.jupyter.widget-view+json": {
       "model_id": "",
       "version_major": 2,
       "version_minor": 0
      },
      "text/plain": [
       "HBox(children=(IntProgress(value=0, max=63), HTML(value='')))"
      ]
     },
     "metadata": {},
     "output_type": "display_data"
    },
    {
     "name": "stdout",
     "output_type": "stream",
     "text": [
      "\r"
     ]
    }
   ],
   "source": [
    "f = 'Var120'\n",
    "# print(stat(f))\n",
    "csv[f] = csv_org[f].copy()\n",
    "csv[f] = csv[f].fillna(method='ffill')\n",
    "csv[f] = csv[f].fillna(method='bfill')\n",
    "# csv[f] = cast(csv[f],-100,csv[f].quantile(0.95))\n",
    "# csv[f] = standarize(csv[f])\n",
    "csv[f] = threshold_factorization(csv[f],10000)\n",
    "csv[f] = standarize(csv[f])\n",
    "# ax = csv[f].plot.kde()"
   ]
  },
  {
   "cell_type": "code",
   "execution_count": 662,
   "metadata": {},
   "outputs": [],
   "source": [
    "f = 'Var119'\n",
    "# print(stat(f))\n",
    "csv[f] = csv_org[f].copy()\n",
    "csv[f] = csv[f].fillna(method='ffill')\n",
    "csv[f] = csv[f].fillna(method='bfill')\n",
    "csv[f] = cast(csv[f],-100,csv[f].quantile(0.95))\n",
    "# csv[f] = standarize(csv[f])\n",
    "# csv[f] = threshold_factorization(csv[f],10000)\n",
    "csv[f] = standarize(csv[f])\n",
    "# ax = csv[f].plot.kde()\n",
    "csv[f] = csv[f].apply(lambda x: np.power(x,1/2))\n",
    "csv[f] = standarize(csv[f])\n",
    "# csv[f].plot.kde()"
   ]
  },
  {
   "cell_type": "code",
   "execution_count": 663,
   "metadata": {},
   "outputs": [],
   "source": [
    "f = 'Var118'\n",
    "delete(f)"
   ]
  },
  {
   "cell_type": "code",
   "execution_count": 664,
   "metadata": {},
   "outputs": [
    {
     "data": {
      "application/vnd.jupyter.widget-view+json": {
       "model_id": "",
       "version_major": 2,
       "version_minor": 0
      },
      "text/plain": [
       "HBox(children=(IntProgress(value=0, description='Progress', max=2, style=ProgressStyle(description_width='init…"
      ]
     },
     "metadata": {},
     "output_type": "display_data"
    },
    {
     "data": {
      "application/vnd.jupyter.widget-view+json": {
       "model_id": "",
       "version_major": 2,
       "version_minor": 0
      },
      "text/plain": [
       "HBox(children=(IntProgress(value=0, max=1), HTML(value='')))"
      ]
     },
     "metadata": {},
     "output_type": "display_data"
    },
    {
     "data": {
      "application/vnd.jupyter.widget-view+json": {
       "model_id": "",
       "version_major": 2,
       "version_minor": 0
      },
      "text/plain": [
       "HBox(children=(IntProgress(value=0, max=655), HTML(value='')))"
      ]
     },
     "metadata": {},
     "output_type": "display_data"
    },
    {
     "name": "stdout",
     "output_type": "stream",
     "text": [
      "\r"
     ]
    }
   ],
   "source": [
    "f = 'Var117'\n",
    "# print(stat(f))\n",
    "csv[f] = csv_org[f].copy()\n",
    "csv[f] = csv[f].fillna(method='ffill')\n",
    "csv[f] = csv[f].fillna(method='bfill')\n",
    "# csv[f] = cast(csv[f],-100,csv[f].quantile(0.95))\n",
    "# csv[f] = standarize(csv[f])\n",
    "csv[f] = threshold_factorization(csv[f],10000)\n",
    "csv[f] = standarize(csv[f])\n",
    "# ax = csv[f].plot.kde()"
   ]
  },
  {
   "cell_type": "code",
   "execution_count": 665,
   "metadata": {},
   "outputs": [],
   "source": [
    "f = 'Var116'\n",
    "delete(f)"
   ]
  },
  {
   "cell_type": "code",
   "execution_count": 666,
   "metadata": {},
   "outputs": [],
   "source": [
    "f = 'Var115'\n",
    "# print(stat(f))\n",
    "csv[f] = csv_org[f].copy()\n",
    "csv[f] = csv[f].fillna(method='ffill')\n",
    "csv[f] = csv[f].fillna(method='bfill')\n",
    "csv[f] = cast(csv[f],-100,csv[f].quantile(0.95))\n",
    "# csv[f] = standarize(csv[f])\n",
    "# csv[f] = threshold_factorization(csv[f],10000)\n",
    "csv[f] = standarize(csv[f])\n",
    "# ax = csv[f].plot.kde()\n",
    "csv[f] = csv[f].apply(lambda x: np.power(x,1/2))\n",
    "csv[f] = standarize(csv[f])\n",
    "# csv[f].plot.kde()"
   ]
  },
  {
   "cell_type": "code",
   "execution_count": 667,
   "metadata": {},
   "outputs": [],
   "source": [
    "f = 'Var114'\n",
    "# print(stat(f))\n",
    "csv[f] = csv_org[f].copy()\n",
    "csv[f] = csv[f].fillna(method='ffill')\n",
    "csv[f] = csv[f].fillna(method='bfill')\n",
    "csv[f] = cast(csv[f],-100,csv[f].quantile(0.95))\n",
    "# csv[f] = standarize(csv[f])\n",
    "# csv[f] = threshold_factorization(csv[f],10000)\n",
    "csv[f] = standarize(csv[f])\n",
    "# ax = csv[f].plot.kde()\n",
    "csv[f] = csv[f].apply(lambda x: np.power(x,1/2))\n",
    "csv[f] = standarize(csv[f])\n",
    "# csv[f].plot.kde()"
   ]
  },
  {
   "cell_type": "code",
   "execution_count": 668,
   "metadata": {},
   "outputs": [],
   "source": [
    "f = 'Var113'\n",
    "delete(f)"
   ]
  },
  {
   "cell_type": "code",
   "execution_count": 669,
   "metadata": {},
   "outputs": [],
   "source": [
    "f = 'Var112'\n",
    "# print(stat(f))\n",
    "csv[f] = csv_org[f].copy()\n",
    "csv[f] = csv[f].fillna(method='ffill')\n",
    "csv[f] = csv[f].fillna(method='bfill')\n",
    "csv[f] = cast(csv[f],-100,csv[f].quantile(0.95))\n",
    "# csv[f] = standarize(csv[f])\n",
    "# csv[f] = threshold_factorization(csv[f],10000)\n",
    "csv[f] = standarize(csv[f])\n",
    "# ax = csv[f].plot.kde()\n",
    "csv[f] = csv[f].apply(lambda x: np.power(x,1/2))\n",
    "csv[f] = standarize(csv[f])\n",
    "# csv[f].plot.kde()"
   ]
  },
  {
   "cell_type": "code",
   "execution_count": 670,
   "metadata": {},
   "outputs": [],
   "source": [
    "f = 'Var111'\n",
    "# print(stat(f))\n",
    "csv[f] = csv_org[f].copy()\n",
    "csv[f] = csv[f].fillna(method='ffill')\n",
    "csv[f] = csv[f].fillna(method='bfill')\n",
    "csv[f] = cast(csv[f],-100,csv[f].quantile(0.95))\n",
    "# csv[f] = standarize(csv[f])\n",
    "# csv[f] = threshold_factorization(csv[f],10000)\n",
    "csv[f] = standarize(csv[f])\n",
    "# ax = csv[f].plot.kde()\n",
    "csv[f] = csv[f].apply(lambda x: np.power(x,1/3))\n",
    "csv[f] = standarize(csv[f])\n",
    "# csv[f].plot.kde()"
   ]
  },
  {
   "cell_type": "code",
   "execution_count": 671,
   "metadata": {},
   "outputs": [
    {
     "data": {
      "application/vnd.jupyter.widget-view+json": {
       "model_id": "",
       "version_major": 2,
       "version_minor": 0
      },
      "text/plain": [
       "HBox(children=(IntProgress(value=0, description='Progress', max=2, style=ProgressStyle(description_width='init…"
      ]
     },
     "metadata": {},
     "output_type": "display_data"
    },
    {
     "data": {
      "application/vnd.jupyter.widget-view+json": {
       "model_id": "",
       "version_major": 2,
       "version_minor": 0
      },
      "text/plain": [
       "HBox(children=(IntProgress(value=0, max=1), HTML(value='')))"
      ]
     },
     "metadata": {},
     "output_type": "display_data"
    },
    {
     "data": {
      "application/vnd.jupyter.widget-view+json": {
       "model_id": "",
       "version_major": 2,
       "version_minor": 0
      },
      "text/plain": [
       "HBox(children=(IntProgress(value=0, max=4), HTML(value='')))"
      ]
     },
     "metadata": {},
     "output_type": "display_data"
    },
    {
     "name": "stdout",
     "output_type": "stream",
     "text": [
      "\r"
     ]
    }
   ],
   "source": [
    "f = 'Var110'\n",
    "# print(stat(f))\n",
    "csv[f] = csv_org[f].copy()\n",
    "csv[f] = csv[f].fillna(method='ffill')\n",
    "csv[f] = csv[f].fillna(method='bfill')\n",
    "csv[f] = threshold_factorization(csv[f],10000)\n",
    "csv[f] = standarize(csv[f])\n",
    "# ax = csv[f].plot.kde()"
   ]
  },
  {
   "cell_type": "code",
   "execution_count": 672,
   "metadata": {},
   "outputs": [],
   "source": [
    "f = 'Var109'\n",
    "# print(stat(f))\n",
    "csv[f] = csv_org[f].copy()\n",
    "csv[f] = csv[f].fillna(method='ffill')\n",
    "csv[f] = csv[f].fillna(method='bfill')\n",
    "csv[f] = cast(csv[f],-100,csv[f].quantile(0.95))\n",
    "# csv[f] = standarize(csv[f])\n",
    "# csv[f] = threshold_factorization(csv[f],10000)\n",
    "csv[f] = standarize(csv[f])\n",
    "# ax = csv[f].plot.kde()\n",
    "csv[f] = csv[f].apply(lambda x: np.power(x,1/2))\n",
    "csv[f] = standarize(csv[f])\n",
    "# csv[f].plot.kde()"
   ]
  },
  {
   "cell_type": "code",
   "execution_count": 673,
   "metadata": {},
   "outputs": [],
   "source": [
    "f = 'Var108'\n",
    "delete(f)"
   ]
  },
  {
   "cell_type": "code",
   "execution_count": 674,
   "metadata": {},
   "outputs": [
    {
     "data": {
      "application/vnd.jupyter.widget-view+json": {
       "model_id": "",
       "version_major": 2,
       "version_minor": 0
      },
      "text/plain": [
       "HBox(children=(IntProgress(value=0, description='Progress', max=2, style=ProgressStyle(description_width='init…"
      ]
     },
     "metadata": {},
     "output_type": "display_data"
    },
    {
     "data": {
      "application/vnd.jupyter.widget-view+json": {
       "model_id": "",
       "version_major": 2,
       "version_minor": 0
      },
      "text/plain": [
       "HBox(children=(IntProgress(value=0, max=1), HTML(value='')))"
      ]
     },
     "metadata": {},
     "output_type": "display_data"
    },
    {
     "data": {
      "application/vnd.jupyter.widget-view+json": {
       "model_id": "",
       "version_major": 2,
       "version_minor": 0
      },
      "text/plain": [
       "HBox(children=(IntProgress(value=0, max=23), HTML(value='')))"
      ]
     },
     "metadata": {},
     "output_type": "display_data"
    },
    {
     "name": "stdout",
     "output_type": "stream",
     "text": [
      "\r"
     ]
    }
   ],
   "source": [
    "f = 'Var107'\n",
    "# print(stat(f))\n",
    "csv[f] = csv_org[f].copy()\n",
    "csv[f] = csv[f].fillna(method='ffill')\n",
    "csv[f] = csv[f].fillna(method='bfill')\n",
    "# csv[f] = cast(csv[f],-100,csv[f].quantile(0.95))\n",
    "# csv[f] = standarize(csv[f])\n",
    "csv[f] = threshold_factorization(csv[f],10000)\n",
    "csv[f] = standarize(csv[f])\n",
    "# plot(csv[f].sort_values(),log=False,small=True)\n",
    "# ax = csv[f].plot.kde()\n"
   ]
  },
  {
   "cell_type": "code",
   "execution_count": 675,
   "metadata": {},
   "outputs": [],
   "source": [
    "f = 'Var106'\n",
    "delete(f)"
   ]
  },
  {
   "cell_type": "code",
   "execution_count": 676,
   "metadata": {},
   "outputs": [],
   "source": [
    "f = 'Var105'\n",
    "delete(f)"
   ]
  },
  {
   "cell_type": "code",
   "execution_count": 677,
   "metadata": {},
   "outputs": [
    {
     "data": {
      "application/vnd.jupyter.widget-view+json": {
       "model_id": "",
       "version_major": 2,
       "version_minor": 0
      },
      "text/plain": [
       "HBox(children=(IntProgress(value=0, description='Progress', max=2, style=ProgressStyle(description_width='init…"
      ]
     },
     "metadata": {},
     "output_type": "display_data"
    },
    {
     "data": {
      "application/vnd.jupyter.widget-view+json": {
       "model_id": "",
       "version_major": 2,
       "version_minor": 0
      },
      "text/plain": [
       "HBox(children=(IntProgress(value=0, max=5), HTML(value='')))"
      ]
     },
     "metadata": {},
     "output_type": "display_data"
    },
    {
     "data": {
      "application/vnd.jupyter.widget-view+json": {
       "model_id": "",
       "version_major": 2,
       "version_minor": 0
      },
      "text/plain": [
       "HBox(children=(IntProgress(value=0, max=57), HTML(value='')))"
      ]
     },
     "metadata": {},
     "output_type": "display_data"
    },
    {
     "name": "stdout",
     "output_type": "stream",
     "text": [
      "\r"
     ]
    }
   ],
   "source": [
    "f = 'Var104'\n",
    "# print(stat(f))\n",
    "csv[f] = csv_org[f].copy()\n",
    "csv[f] = csv[f].fillna(method='ffill')\n",
    "csv[f] = csv[f].fillna(method='bfill')\n",
    "# csv[f] = cast(csv[f],-100,csv[f].quantile(0.95))\n",
    "# csv[f] = standarize(csv[f])\n",
    "csv[f] = threshold_factorization(csv[f],2100)\n",
    "csv[f] = standarize(csv[f])\n",
    "# plot(csv[f].sort_values(),log=False,small=True)\n",
    "# ax = csv[f].plot.kde()\n"
   ]
  },
  {
   "cell_type": "code",
   "execution_count": 678,
   "metadata": {},
   "outputs": [
    {
     "data": {
      "application/vnd.jupyter.widget-view+json": {
       "model_id": "",
       "version_major": 2,
       "version_minor": 0
      },
      "text/plain": [
       "HBox(children=(IntProgress(value=0, description='Progress', max=2, style=ProgressStyle(description_width='init…"
      ]
     },
     "metadata": {},
     "output_type": "display_data"
    },
    {
     "data": {
      "application/vnd.jupyter.widget-view+json": {
       "model_id": "",
       "version_major": 2,
       "version_minor": 0
      },
      "text/plain": [
       "HBox(children=(IntProgress(value=0, max=1), HTML(value='')))"
      ]
     },
     "metadata": {},
     "output_type": "display_data"
    },
    {
     "data": {
      "application/vnd.jupyter.widget-view+json": {
       "model_id": "",
       "version_major": 2,
       "version_minor": 0
      },
      "text/plain": [
       "HBox(children=(IntProgress(value=0, max=38), HTML(value='')))"
      ]
     },
     "metadata": {},
     "output_type": "display_data"
    },
    {
     "name": "stdout",
     "output_type": "stream",
     "text": [
      "\r"
     ]
    }
   ],
   "source": [
    "f = 'Var103'\n",
    "# print(stat(f))\n",
    "csv[f] = csv_org[f].copy()\n",
    "csv[f] = csv[f].fillna(method='ffill')\n",
    "csv[f] = csv[f].fillna(method='bfill')\n",
    "# csv[f] = cast(csv[f],-100,csv[f].quantile(0.95))\n",
    "# csv[f] = standarize(csv[f])\n",
    "csv[f] = threshold_factorization(csv[f],10000)\n",
    "csv[f] = standarize(csv[f])\n",
    "# plot(csv[f].sort_values(),log=False,small=True)\n",
    "# ax = csv[f].plot.kde()\n"
   ]
  },
  {
   "cell_type": "code",
   "execution_count": 679,
   "metadata": {},
   "outputs": [],
   "source": [
    "f = 'Var101'\n",
    "delete(f)"
   ]
  },
  {
   "cell_type": "code",
   "execution_count": 680,
   "metadata": {},
   "outputs": [],
   "source": [
    "f = 'Var100'\n",
    "# print(stat(f))\n",
    "csv[f] = csv_org[f].copy()\n",
    "csv[f] = csv[f].fillna(method='ffill')\n",
    "csv[f] = csv[f].fillna(method='bfill')\n",
    "csv[f] = cast(csv[f],-100,csv[f].quantile(0.95))\n",
    "csv[f] = standarize(csv[f])\n",
    "# csv[f] = threshold_factorization(csv[f],10)\n",
    "# plot(csv[f].sort_values(),log=False,small=True)\n",
    "# # ax = csv[f].plot.kde()"
   ]
  },
  {
   "cell_type": "code",
   "execution_count": 681,
   "metadata": {},
   "outputs": [],
   "source": [
    "f = 'Var99'\n",
    "# print(stat(f))\n",
    "csv[f] = csv_org[f].copy()\n",
    "csv[f] = csv[f].fillna(method='ffill')\n",
    "csv[f] = csv[f].fillna(method='bfill')\n",
    "csv[f] = cast(csv[f],-100,csv[f].quantile(0.99))\n",
    "csv[f] = standarize(csv[f])\n",
    "# csv[f] = threshold_factorization(csv[f],10)\n",
    "# ax = csv[f].plot.kde()\n",
    "csv[f] = csv[f].apply(lambda x: np.power(x,1/2))\n",
    "csv[f] = standarize(csv[f])\n",
    "# csv[f].plot.kde()\n",
    "# plot(csv[f].sort_values(),log=False,small=True)"
   ]
  },
  {
   "cell_type": "code",
   "execution_count": 682,
   "metadata": {},
   "outputs": [
    {
     "data": {
      "application/vnd.jupyter.widget-view+json": {
       "model_id": "",
       "version_major": 2,
       "version_minor": 0
      },
      "text/plain": [
       "HBox(children=(IntProgress(value=0, description='Progress', max=2, style=ProgressStyle(description_width='init…"
      ]
     },
     "metadata": {},
     "output_type": "display_data"
    },
    {
     "data": {
      "application/vnd.jupyter.widget-view+json": {
       "model_id": "",
       "version_major": 2,
       "version_minor": 0
      },
      "text/plain": [
       "HBox(children=(IntProgress(value=0, max=33), HTML(value='')))"
      ]
     },
     "metadata": {},
     "output_type": "display_data"
    },
    {
     "data": {
      "application/vnd.jupyter.widget-view+json": {
       "model_id": "",
       "version_major": 2,
       "version_minor": 0
      },
      "text/plain": [
       "HBox(children=(IntProgress(value=0, max=78), HTML(value='')))"
      ]
     },
     "metadata": {},
     "output_type": "display_data"
    },
    {
     "name": "stdout",
     "output_type": "stream",
     "text": [
      "\r"
     ]
    }
   ],
   "source": [
    "f = 'Var98'\n",
    "# print(stat(f))\n",
    "csv[f] = csv_org[f].copy()\n",
    "csv[f] = csv[f].fillna(method='ffill')\n",
    "csv[f] = csv[f].fillna(method='bfill')\n",
    "csv[f] = cast(csv[f],-100,csv[f].quantile(0.99))\n",
    "csv[f] = threshold_factorization(csv[f],100)\n",
    "csv[f] = standarize(csv[f])\n",
    "# plot(csv[f].sort_values(),log=False,small=True)\n",
    "# # ax = csv[f].plot.kde()"
   ]
  },
  {
   "cell_type": "code",
   "execution_count": 683,
   "metadata": {},
   "outputs": [
    {
     "data": {
      "application/vnd.jupyter.widget-view+json": {
       "model_id": "",
       "version_major": 2,
       "version_minor": 0
      },
      "text/plain": [
       "HBox(children=(IntProgress(value=0, description='Progress', max=2, style=ProgressStyle(description_width='init…"
      ]
     },
     "metadata": {},
     "output_type": "display_data"
    },
    {
     "data": {
      "application/vnd.jupyter.widget-view+json": {
       "model_id": "",
       "version_major": 2,
       "version_minor": 0
      },
      "text/plain": [
       "HBox(children=(IntProgress(value=0, max=1), HTML(value='')))"
      ]
     },
     "metadata": {},
     "output_type": "display_data"
    },
    {
     "data": {
      "application/vnd.jupyter.widget-view+json": {
       "model_id": "",
       "version_major": 2,
       "version_minor": 0
      },
      "text/plain": [
       "HBox(children=(IntProgress(value=0, max=6), HTML(value='')))"
      ]
     },
     "metadata": {},
     "output_type": "display_data"
    },
    {
     "name": "stdout",
     "output_type": "stream",
     "text": [
      "\r"
     ]
    }
   ],
   "source": [
    "f = 'Var97'\n",
    "# print(stat(f))\n",
    "csv[f] = csv_org[f].copy()\n",
    "csv[f] = csv[f].fillna(method='ffill')\n",
    "csv[f] = csv[f].fillna(method='bfill')\n",
    "csv[f] = threshold_factorization(csv[f],10000)\n",
    "csv[f] = standarize(csv[f])"
   ]
  },
  {
   "cell_type": "code",
   "execution_count": 684,
   "metadata": {},
   "outputs": [],
   "source": [
    "f = 'Var96'\n",
    "# print(stat(f))\n",
    "csv[f] = csv_org[f].copy()\n",
    "csv[f] = csv[f].fillna(method='ffill')\n",
    "csv[f] = csv[f].fillna(method='bfill')\n",
    "csv[f] = cast(csv[f],-100,csv[f].quantile(0.90))\n",
    "csv[f] = csv[f].apply(lambda x: np.power(x,1/2))\n",
    "csv[f] = standarize(csv[f])\n",
    "# csv[f].plot.kde()"
   ]
  },
  {
   "cell_type": "code",
   "execution_count": 685,
   "metadata": {},
   "outputs": [],
   "source": [
    "f = 'Var95'\n",
    "delete(f)"
   ]
  },
  {
   "cell_type": "code",
   "execution_count": 686,
   "metadata": {},
   "outputs": [],
   "source": [
    "f = 'Var94'\n",
    "# print(stat(f))\n",
    "csv[f] = csv_org[f].copy()\n",
    "csv[f] = csv[f].fillna(method='ffill')\n",
    "csv[f] = csv[f].fillna(method='bfill')\n",
    "csv[f] = cast(csv[f],-100,csv[f].quantile(0.99))\n",
    "csv[f] = standarize(csv[f])\n",
    "# csv[f] = threshold_factorization(csv[f],10000)\n",
    "# # plot(csv[f].sort_values(),log=False,small=True)\n",
    "# ax = csv[f].plot.kde()\n",
    "csv[f] = csv[f].apply(lambda x: np.power(x,1/3))\n",
    "csv[f] = standarize(csv[f])\n",
    "# csv[f].plot.kde()"
   ]
  },
  {
   "cell_type": "code",
   "execution_count": 687,
   "metadata": {},
   "outputs": [],
   "source": [
    "f = 'Var93'\n",
    "delete(f)"
   ]
  },
  {
   "cell_type": "code",
   "execution_count": 688,
   "metadata": {},
   "outputs": [],
   "source": [
    "f = 'Var91'\n",
    "# print(stat(f))\n",
    "csv[f] = csv_org[f].copy()\n",
    "csv[f] = csv[f].fillna(method='ffill')\n",
    "csv[f] = csv[f].fillna(method='bfill')\n",
    "csv[f] = cast(csv[f],-100,csv[f].quantile(0.99))\n",
    "csv[f] = standarize(csv[f])\n",
    "# csv[f] = threshold_factorization(csv[f],20000)\n",
    "# # plot(csv[f].sort_values(),log=False,small=True)\n",
    "# # ax = csv[f].plot.kde()\n",
    "csv[f] = csv[f].apply(lambda x: np.power(x,1/3))\n",
    "csv[f] = standarize(csv[f])\n",
    "# csv[f].plot.kde()"
   ]
  },
  {
   "cell_type": "code",
   "execution_count": 689,
   "metadata": {},
   "outputs": [],
   "source": [
    "f = 'Var90'\n",
    "delete(f)"
   ]
  },
  {
   "cell_type": "code",
   "execution_count": 690,
   "metadata": {},
   "outputs": [],
   "source": [
    "f = 'Var89'\n",
    "# print(stat(f))\n",
    "csv[f] = csv_org[f]\n",
    "csv[f] = csv[f].fillna(method='ffill')\n",
    "csv[f] = csv[f].fillna(method='bfill')\n",
    "csv[f] = cast(csv[f],-100,csv[f].quantile(0.9))\n",
    "csv[f] = standarize(csv[f])\n",
    "# csv[f] = threshold_factorization(csv[f],20000)\n",
    "# # plot(csv[f].sort_values(),log=False,small=True)\n",
    "# csv[f].plot.kde()"
   ]
  },
  {
   "cell_type": "code",
   "execution_count": 691,
   "metadata": {},
   "outputs": [],
   "source": [
    "f = 'Var88'\n",
    "# print(stat(f))\n",
    "csv[f] = csv_org[f]\n",
    "csv[f] = csv[f].fillna(method='ffill')\n",
    "csv[f] = csv[f].fillna(method='bfill')\n",
    "csv[f] = cast(csv[f],-100,csv[f].quantile(0.99))\n",
    "csv[f] = standarize(csv[f])\n",
    "# csv[f] = threshold_factorization(csv[f],20000)\n",
    "# # plot(csv[f].sort_values(),log=False,small=True)\n",
    "# ax = csv[f].plot.kde()\n",
    "csv[f] = csv[f].apply(lambda x: np.power(x,1/3))\n",
    "csv[f] = standarize(csv[f])\n",
    "# csv[f].plot.kde()"
   ]
  },
  {
   "cell_type": "code",
   "execution_count": 692,
   "metadata": {},
   "outputs": [],
   "source": [
    "f = 'Var87'\n",
    "# print(stat(f))\n",
    "csv[f] = csv_org[f]\n",
    "csv[f] = csv[f].fillna(method='ffill')\n",
    "csv[f] = csv[f].fillna(method='bfill')\n",
    "csv[f] = cast(csv[f],-100,csv[f].quantile(0.99))\n",
    "csv[f] = standarize(csv[f])\n",
    "# csv[f] = threshold_factorization(csv[f],20000)\n",
    "# plot(csv[f].sort_values(),log=False,small=True)\n",
    "# csv[f].plot.kde()"
   ]
  },
  {
   "cell_type": "code",
   "execution_count": 693,
   "metadata": {},
   "outputs": [],
   "source": [
    "f = 'Var86'\n",
    "# print(stat(f))\n",
    "csv[f] = csv_org[f]\n",
    "csv[f] = csv[f].fillna(method='ffill')\n",
    "csv[f] = csv[f].fillna(method='bfill')\n",
    "csv[f] = cast(csv[f],-100,csv[f].quantile(0.99))\n",
    "csv[f] = standarize(csv[f])\n",
    "# csv[f] = threshold_factorization(csv[f],20000)\n",
    "# # plot(csv[f].sort_values(),log=False,small=True)\n",
    "# ax = csv[f].plot.kde()\n",
    "csv[f] = csv[f].apply(lambda x: np.power(x,1/3))\n",
    "csv[f] = standarize(csv[f])\n",
    "# csv[f].plot.kde()"
   ]
  },
  {
   "cell_type": "code",
   "execution_count": 694,
   "metadata": {},
   "outputs": [],
   "source": [
    "f = 'Var85'\n",
    "# print(stat(f))\n",
    "csv[f] = csv_org[f]\n",
    "csv[f] = csv[f].fillna(method='ffill')\n",
    "csv[f] = csv[f].fillna(method='bfill')\n",
    "csv[f] = cast(csv[f],-100,csv[f].quantile(0.99))\n",
    "csv[f] = standarize(csv[f])\n",
    "# csv[f] = threshold_factorization(csv[f],20000)\n",
    "# ax = csv[f].plot.kde()\n",
    "csv[f] = csv[f].apply(lambda x: np.power(x,1/2))\n",
    "csv[f] = standarize(csv[f])\n",
    "# csv[f].plot.kde()"
   ]
  },
  {
   "cell_type": "code",
   "execution_count": 695,
   "metadata": {},
   "outputs": [
    {
     "data": {
      "application/vnd.jupyter.widget-view+json": {
       "model_id": "",
       "version_major": 2,
       "version_minor": 0
      },
      "text/plain": [
       "HBox(children=(IntProgress(value=0, description='Progress', max=2, style=ProgressStyle(description_width='init…"
      ]
     },
     "metadata": {},
     "output_type": "display_data"
    },
    {
     "data": {
      "application/vnd.jupyter.widget-view+json": {
       "model_id": "",
       "version_major": 2,
       "version_minor": 0
      },
      "text/plain": [
       "HBox(children=(IntProgress(value=0, max=1), HTML(value='')))"
      ]
     },
     "metadata": {},
     "output_type": "display_data"
    },
    {
     "data": {
      "application/vnd.jupyter.widget-view+json": {
       "model_id": "",
       "version_major": 2,
       "version_minor": 0
      },
      "text/plain": [
       "HBox(children=(IntProgress(value=0, max=14), HTML(value='')))"
      ]
     },
     "metadata": {},
     "output_type": "display_data"
    },
    {
     "name": "stdout",
     "output_type": "stream",
     "text": [
      "\r"
     ]
    }
   ],
   "source": [
    "f = 'Var84'\n",
    "# print(stat(f))\n",
    "csv[f] = csv_org[f]\n",
    "csv[f] = csv[f].fillna(method='ffill')\n",
    "csv[f] = csv[f].fillna(method='bfill')\n",
    "csv[f] = cast(csv[f],-100,csv[f].quantile(0.90))\n",
    "csv[f] = threshold_factorization(csv[f],20000)\n",
    "csv[f] = standarize(csv[f])\n",
    "# plot(csv[f].sort_values(),log=False,small=True)"
   ]
  },
  {
   "cell_type": "code",
   "execution_count": 696,
   "metadata": {},
   "outputs": [],
   "source": [
    "f = 'Var83'\n",
    "# print(stat(f))\n",
    "csv[f] = csv_org[f]\n",
    "csv[f] = csv[f].fillna(method='ffill')\n",
    "csv[f] = csv[f].fillna(method='bfill')\n",
    "csv[f] = cast(csv[f],-100,csv[f].quantile(0.93))\n",
    "csv[f] = standarize(csv[f])\n",
    "# csv[f] = threshold_factorization(csv[f],2)\n",
    "# plot(csv[f].sort_values(),log=False,small=True)\n",
    "# ax = csv[f].plot.kde()\n",
    "csv[f] = csv[f].apply(lambda x: np.power(x,1/2))\n",
    "csv[f] = standarize(csv[f])\n",
    "# csv[f].plot.kde()"
   ]
  },
  {
   "cell_type": "code",
   "execution_count": 697,
   "metadata": {},
   "outputs": [],
   "source": [
    "f = 'Var82'\n",
    "# print(stat(f))\n",
    "csv[f] = csv_org[f]\n",
    "csv[f] = csv[f].fillna(method='ffill')\n",
    "csv[f] = csv[f].fillna(method='bfill')\n",
    "csv[f] = cast(csv[f],-100,csv[f].quantile(0.90))\n",
    "csv[f] = standarize(csv[f])\n",
    "# csv[f] = threshold_factorization(csv[f],2)\n",
    "# plot(csv[f].sort_values(),log=False,small=True)\n",
    "# csv[f].plot.kde()"
   ]
  },
  {
   "cell_type": "code",
   "execution_count": 698,
   "metadata": {},
   "outputs": [
    {
     "data": {
      "application/vnd.jupyter.widget-view+json": {
       "model_id": "",
       "version_major": 2,
       "version_minor": 0
      },
      "text/plain": [
       "HBox(children=(IntProgress(value=0, description='Progress', max=2, style=ProgressStyle(description_width='init…"
      ]
     },
     "metadata": {},
     "output_type": "display_data"
    },
    {
     "data": {
      "application/vnd.jupyter.widget-view+json": {
       "model_id": "",
       "version_major": 2,
       "version_minor": 0
      },
      "text/plain": [
       "HBox(children=(IntProgress(value=0, max=6269), HTML(value='')))"
      ]
     },
     "metadata": {},
     "output_type": "display_data"
    },
    {
     "data": {
      "application/vnd.jupyter.widget-view+json": {
       "model_id": "",
       "version_major": 2,
       "version_minor": 0
      },
      "text/plain": [
       "HBox(children=(IntProgress(value=0, max=3123), HTML(value='')))"
      ]
     },
     "metadata": {},
     "output_type": "display_data"
    },
    {
     "name": "stdout",
     "output_type": "stream",
     "text": [
      "\r"
     ]
    }
   ],
   "source": [
    "f = 'Var81'\n",
    "# print(stat(f))\n",
    "csv[f] = csv_org[f]\n",
    "csv[f] = csv[f].fillna(method='ffill')\n",
    "csv[f] = csv[f].fillna(method='bfill')\n",
    "csv[f] = cast(csv[f],-100,csv[f].quantile(0.90))\n",
    "csv[f] = standarize(csv[f])\n",
    "csv[f] = threshold_factorization(csv[f],2)\n",
    "# plot(csv[f].sort_values(),log=False,small=True)\n",
    "one_hot_encoding(f)"
   ]
  },
  {
   "cell_type": "code",
   "execution_count": 699,
   "metadata": {},
   "outputs": [],
   "source": [
    "f = 'Var80'\n",
    "delete(f)"
   ]
  },
  {
   "cell_type": "code",
   "execution_count": 700,
   "metadata": {},
   "outputs": [],
   "source": [
    "f = 'Var78'\n",
    "delete(f)"
   ]
  },
  {
   "cell_type": "code",
   "execution_count": 701,
   "metadata": {},
   "outputs": [],
   "source": [
    "f = 'Var77'\n",
    "# print(stat(f))\n",
    "csv[f] = csv_org[f]\n",
    "csv[f] = csv[f].fillna(method='ffill')\n",
    "csv[f] = csv[f].fillna(method='bfill')\n",
    "csv[f] = cast(csv[f],-100,csv[f].quantile(0.90))\n",
    "csv[f] = standarize(csv[f])\n",
    "# # plot(csv[f].sort_values(),log=False,small=True)\n",
    "# csv[f].plot.kde()"
   ]
  },
  {
   "cell_type": "code",
   "execution_count": 702,
   "metadata": {},
   "outputs": [],
   "source": [
    "f = 'Var76'\n",
    "csv[f] = csv_org[f]\n",
    "csv[f] = csv[f].fillna(method='ffill')\n",
    "csv[f] = csv[f].fillna(method='bfill')\n",
    "csv[f] = cast(csv[f],-100,csv[f].quantile(0.97))\n",
    "csv[f] = standarize(csv[f])\n",
    "# # plot(csv[f].sort_values(),log=False,small=True)\n",
    "# ax = csv[f].plot.kde()\n",
    "csv[f] = csv[f].apply(lambda x: np.power(x,1/3))\n",
    "csv[f] = standarize(csv[f])\n",
    "# csv[f].plot.kde()"
   ]
  },
  {
   "cell_type": "code",
   "execution_count": 703,
   "metadata": {},
   "outputs": [],
   "source": [
    "f = 'Var75'\n",
    "csv[f] = csv_org[f]\n",
    "csv[f] = csv[f].fillna(method='ffill')\n",
    "csv[f] = csv[f].fillna(method='bfill')\n",
    "csv[f] = cast(csv[f],-100,csv[f].quantile(0.95))\n",
    "csv[f] = standarize(csv[f])\n",
    "# plot(csv[f].sort_values(),log=False,small=True)\n",
    "# ax = csv[f].plot.kde()\n",
    "csv[f] = csv[f].apply(lambda x: np.power(x,1/3))\n",
    "csv[f] = standarize(csv[f])\n",
    "# csv[f].plot.kde()"
   ]
  },
  {
   "cell_type": "code",
   "execution_count": 704,
   "metadata": {},
   "outputs": [
    {
     "data": {
      "application/vnd.jupyter.widget-view+json": {
       "model_id": "",
       "version_major": 2,
       "version_minor": 0
      },
      "text/plain": [
       "HBox(children=(IntProgress(value=0, description='Progress', max=3, style=ProgressStyle(description_width='init…"
      ]
     },
     "metadata": {},
     "output_type": "display_data"
    },
    {
     "data": {
      "application/vnd.jupyter.widget-view+json": {
       "model_id": "",
       "version_major": 2,
       "version_minor": 0
      },
      "text/plain": [
       "HBox(children=(IntProgress(value=0, max=1), HTML(value='')))"
      ]
     },
     "metadata": {},
     "output_type": "display_data"
    },
    {
     "data": {
      "application/vnd.jupyter.widget-view+json": {
       "model_id": "",
       "version_major": 2,
       "version_minor": 0
      },
      "text/plain": [
       "HBox(children=(IntProgress(value=0, max=1), HTML(value='')))"
      ]
     },
     "metadata": {},
     "output_type": "display_data"
    },
    {
     "data": {
      "application/vnd.jupyter.widget-view+json": {
       "model_id": "",
       "version_major": 2,
       "version_minor": 0
      },
      "text/plain": [
       "HBox(children=(IntProgress(value=0, max=7), HTML(value='')))"
      ]
     },
     "metadata": {},
     "output_type": "display_data"
    },
    {
     "name": "stdout",
     "output_type": "stream",
     "text": [
      "\r"
     ]
    }
   ],
   "source": [
    "f = 'Var74'\n",
    "csv[f] = csv_org[f]\n",
    "csv[f] = csv[f].fillna(method='ffill')\n",
    "csv[f] = csv[f].fillna(method='bfill')\n",
    "csv[f] = cast(csv[f],-100,csv[f].quantile(0.7))\n",
    "csv[f] = threshold_factorization(csv[f],20000,10000)\n",
    "csv[f] = standarize(csv[f])\n",
    "# plot(csv[f].sort_values(),log=False,small=True)\n"
   ]
  },
  {
   "cell_type": "code",
   "execution_count": 705,
   "metadata": {},
   "outputs": [],
   "source": [
    "f = 'Var73'\n",
    "csv[f] = csv_org[f]\n",
    "csv[f] = csv[f].fillna(method='ffill')\n",
    "csv[f] = csv[f].fillna(method='bfill')\n",
    "csv[f] = cast(csv[f],-100,csv[f].quantile(0.99))\n",
    "csv[f] = standarize(csv[f])\n",
    "# plot(csv[f].sort_values(),log=False,small=True)\n",
    "# ax = csv[f].plot.kde()\n",
    "csv[f] = csv[f].apply(lambda x: np.power(x,1/2))\n",
    "csv[f] = standarize(csv[f])\n",
    "# csv[f].plot.kde()"
   ]
  },
  {
   "cell_type": "code",
   "execution_count": 706,
   "metadata": {},
   "outputs": [],
   "source": [
    "f = 'Var72'\n",
    "csv[f] = csv_org[f]\n",
    "csv[f] = csv[f].fillna(method='ffill')\n",
    "csv[f] = csv[f].fillna(method='bfill')\n",
    "csv[f] = cast(csv[f],-100,csv[f].quantile(0.95))\n",
    "csv[f] = standarize(csv[f])\n",
    "# plot(csv[f].sort_values(),log=False,small=True)\n",
    "# csv[f].plot.kde()"
   ]
  },
  {
   "cell_type": "code",
   "execution_count": 707,
   "metadata": {},
   "outputs": [
    {
     "data": {
      "application/vnd.jupyter.widget-view+json": {
       "model_id": "",
       "version_major": 2,
       "version_minor": 0
      },
      "text/plain": [
       "HBox(children=(IntProgress(value=0, description='Progress', max=3, style=ProgressStyle(description_width='init…"
      ]
     },
     "metadata": {},
     "output_type": "display_data"
    },
    {
     "data": {
      "application/vnd.jupyter.widget-view+json": {
       "model_id": "",
       "version_major": 2,
       "version_minor": 0
      },
      "text/plain": [
       "HBox(children=(IntProgress(value=0, max=1), HTML(value='')))"
      ]
     },
     "metadata": {},
     "output_type": "display_data"
    },
    {
     "data": {
      "application/vnd.jupyter.widget-view+json": {
       "model_id": "",
       "version_major": 2,
       "version_minor": 0
      },
      "text/plain": [
       "HBox(children=(IntProgress(value=0, max=1), HTML(value='')))"
      ]
     },
     "metadata": {},
     "output_type": "display_data"
    },
    {
     "data": {
      "application/vnd.jupyter.widget-view+json": {
       "model_id": "",
       "version_major": 2,
       "version_minor": 0
      },
      "text/plain": [
       "HBox(children=(IntProgress(value=0, max=23), HTML(value='')))"
      ]
     },
     "metadata": {},
     "output_type": "display_data"
    },
    {
     "name": "stdout",
     "output_type": "stream",
     "text": [
      "\r"
     ]
    }
   ],
   "source": [
    "f = 'Var71'\n",
    "csv[f] = csv_org[f]\n",
    "csv[f] = csv[f].fillna(method='ffill')\n",
    "csv[f] = csv[f].fillna(method='bfill')\n",
    "csv[f] = cast(csv[f],-100,csv[f].quantile(0.80))\n",
    "csv[f] = threshold_factorization(csv[f],12000,8000)\n",
    "csv[f] = standarize(csv[f])\n",
    "# plot(csv[f].sort_values(),log=False,small=True)"
   ]
  },
  {
   "cell_type": "code",
   "execution_count": 708,
   "metadata": {},
   "outputs": [],
   "source": [
    "f = 'Var70'\n",
    "csv[f] = csv_org[f]\n",
    "csv[f] = csv[f].fillna(method='ffill')\n",
    "csv[f] = csv[f].fillna(method='bfill')\n",
    "csv[f] = cast(csv[f],-100,csv[f].quantile(0.90))\n",
    "csv[f] = standarize(csv[f])\n",
    "# # plot(csv[f].sort_values(),log=False,small=True)\n",
    "# csv[f].plot.kde()"
   ]
  },
  {
   "cell_type": "code",
   "execution_count": 709,
   "metadata": {},
   "outputs": [],
   "source": [
    "f = 'Var69'\n",
    "csv[f] = csv_org[f]\n",
    "csv[f] = csv[f].fillna(method='ffill')\n",
    "csv[f] = csv[f].fillna(method='bfill')\n",
    "csv[f] = cast(csv[f],-100,csv[f].quantile(0.90))\n",
    "csv[f] = standarize(csv[f])\n",
    "# # plot(csv[f].sort_values(),log=False,small=True)\n",
    "# ax = csv[f].plot.kde()\n",
    "csv[f] = csv[f].apply(lambda x: np.power(x,1/3))\n",
    "csv[f] = standarize(csv[f])\n",
    "# csv[f].plot.kde()"
   ]
  },
  {
   "cell_type": "code",
   "execution_count": 710,
   "metadata": {},
   "outputs": [
    {
     "data": {
      "application/vnd.jupyter.widget-view+json": {
       "model_id": "",
       "version_major": 2,
       "version_minor": 0
      },
      "text/plain": [
       "HBox(children=(IntProgress(value=0, description='Progress', max=2, style=ProgressStyle(description_width='init…"
      ]
     },
     "metadata": {},
     "output_type": "display_data"
    },
    {
     "data": {
      "application/vnd.jupyter.widget-view+json": {
       "model_id": "",
       "version_major": 2,
       "version_minor": 0
      },
      "text/plain": [
       "HBox(children=(IntProgress(value=0, max=1), HTML(value='')))"
      ]
     },
     "metadata": {},
     "output_type": "display_data"
    },
    {
     "data": {
      "application/vnd.jupyter.widget-view+json": {
       "model_id": "",
       "version_major": 2,
       "version_minor": 0
      },
      "text/plain": [
       "HBox(children=(IntProgress(value=0, max=83), HTML(value='')))"
      ]
     },
     "metadata": {},
     "output_type": "display_data"
    },
    {
     "name": "stdout",
     "output_type": "stream",
     "text": [
      "\r"
     ]
    }
   ],
   "source": [
    "f = 'Var68'\n",
    "csv[f] = csv_org[f]\n",
    "csv[f] = csv[f].fillna(method='ffill')\n",
    "csv[f] = csv[f].fillna(method='bfill')\n",
    "csv[f] = threshold_factorization(csv[f],10000)\n",
    "csv[f] = standarize(csv[f])\n",
    "# plot(csv[f].sort_values(),log=False,small=True)"
   ]
  },
  {
   "cell_type": "code",
   "execution_count": 711,
   "metadata": {},
   "outputs": [],
   "source": [
    "f = 'Var67'\n",
    "delete(f)"
   ]
  },
  {
   "cell_type": "code",
   "execution_count": 712,
   "metadata": {},
   "outputs": [],
   "source": [
    "f = 'Var66'\n",
    "csv[f] = csv_org[f]\n",
    "csv[f] = csv[f].fillna(method='ffill')\n",
    "csv[f] = csv[f].fillna(method='bfill')\n",
    "csv[f] = cast(csv[f],-100,csv[f].quantile(0.95))\n",
    "csv[f] = standarize(csv[f])\n",
    "# plot(csv[f].sort_values(),log=False,small=True)\n",
    "# csv[f].plot.kde()"
   ]
  },
  {
   "cell_type": "code",
   "execution_count": 713,
   "metadata": {},
   "outputs": [],
   "source": [
    "f = 'Var65'\n",
    "csv[f] = csv_org[f]\n",
    "csv[f] = csv[f].fillna(method='ffill')\n",
    "csv[f] = csv[f].fillna(method='bfill')\n",
    "csv[f] = cast(csv[f],-100,csv[f].quantile(0.99))\n",
    "csv[f] = standarize(csv[f])\n",
    "# plot(csv[f].sort_values(),log=False,small=True)"
   ]
  },
  {
   "cell_type": "code",
   "execution_count": 714,
   "metadata": {},
   "outputs": [],
   "source": [
    "f = 'Var63'\n",
    "csv[f] = csv_org[f]\n",
    "csv[f] = csv[f].fillna(method='ffill')\n",
    "csv[f] = csv[f].fillna(method='bfill')\n",
    "csv[f] = cast(csv[f],-100,csv[f].quantile(0.97))\n",
    "csv[f] = standarize(csv[f])\n",
    "# plot(csv[f].sort_values(),log=False,small=True)\n",
    "# ax = csv[f].plot.kde()\n",
    "csv[f] = csv[f].apply(lambda x: np.power(x,1/3))\n",
    "csv[f] = standarize(csv[f])\n",
    "# csv[f].plot.kde()"
   ]
  },
  {
   "cell_type": "code",
   "execution_count": 715,
   "metadata": {},
   "outputs": [
    {
     "data": {
      "application/vnd.jupyter.widget-view+json": {
       "model_id": "",
       "version_major": 2,
       "version_minor": 0
      },
      "text/plain": [
       "HBox(children=(IntProgress(value=0, description='Progress', max=2, style=ProgressStyle(description_width='init…"
      ]
     },
     "metadata": {},
     "output_type": "display_data"
    },
    {
     "data": {
      "application/vnd.jupyter.widget-view+json": {
       "model_id": "",
       "version_major": 2,
       "version_minor": 0
      },
      "text/plain": [
       "HBox(children=(IntProgress(value=0, max=1), HTML(value='')))"
      ]
     },
     "metadata": {},
     "output_type": "display_data"
    },
    {
     "data": {
      "application/vnd.jupyter.widget-view+json": {
       "model_id": "",
       "version_major": 2,
       "version_minor": 0
      },
      "text/plain": [
       "HBox(children=(IntProgress(value=0, max=2), HTML(value='')))"
      ]
     },
     "metadata": {},
     "output_type": "display_data"
    },
    {
     "name": "stdout",
     "output_type": "stream",
     "text": [
      "\r"
     ]
    }
   ],
   "source": [
    "f = 'Var62'\n",
    "csv[f] = csv_org[f]\n",
    "csv[f] = csv[f].fillna(method='ffill')\n",
    "csv[f] = csv[f].fillna(method='bfill')\n",
    "csv[f] = cast(csv[f],-100,csv[f].quantile(0.95))\n",
    "csv[f] = threshold_factorization(csv[f],20000)\n",
    "# plot(csv[f].sort_values(),log=False,small=True)"
   ]
  },
  {
   "cell_type": "code",
   "execution_count": 716,
   "metadata": {},
   "outputs": [
    {
     "data": {
      "application/vnd.jupyter.widget-view+json": {
       "model_id": "",
       "version_major": 2,
       "version_minor": 0
      },
      "text/plain": [
       "HBox(children=(IntProgress(value=0, description='Progress', max=3, style=ProgressStyle(description_width='init…"
      ]
     },
     "metadata": {},
     "output_type": "display_data"
    },
    {
     "data": {
      "application/vnd.jupyter.widget-view+json": {
       "model_id": "",
       "version_major": 2,
       "version_minor": 0
      },
      "text/plain": [
       "HBox(children=(IntProgress(value=0, max=2), HTML(value='')))"
      ]
     },
     "metadata": {},
     "output_type": "display_data"
    },
    {
     "data": {
      "application/vnd.jupyter.widget-view+json": {
       "model_id": "",
       "version_major": 2,
       "version_minor": 0
      },
      "text/plain": [
       "HBox(children=(IntProgress(value=0, max=3), HTML(value='')))"
      ]
     },
     "metadata": {},
     "output_type": "display_data"
    },
    {
     "data": {
      "application/vnd.jupyter.widget-view+json": {
       "model_id": "",
       "version_major": 2,
       "version_minor": 0
      },
      "text/plain": [
       "HBox(children=(IntProgress(value=0, max=34), HTML(value='')))"
      ]
     },
     "metadata": {},
     "output_type": "display_data"
    },
    {
     "name": "stdout",
     "output_type": "stream",
     "text": [
      "\r"
     ]
    }
   ],
   "source": [
    "f = 'Var61'\n",
    "csv[f] = csv_org[f]\n",
    "csv[f] = csv[f].fillna(method='ffill')\n",
    "csv[f] = csv[f].fillna(method='bfill')\n",
    "csv[f] = threshold_factorization(csv[f],8000,2000)\n",
    "csv[f] = standarize(csv[f])\n",
    "# plot(csv[f].sort_values(),log=False,small=True)"
   ]
  },
  {
   "cell_type": "code",
   "execution_count": 717,
   "metadata": {},
   "outputs": [],
   "source": [
    "f = 'Var60'\n",
    "csv[f] = csv_org[f]\n",
    "csv[f] = csv[f].fillna(method='ffill')\n",
    "csv[f] = csv[f].fillna(method='bfill')\n",
    "csv[f] = cast(csv[f],-100,csv[f].quantile(0.9))\n",
    "csv[f] = standarize(csv[f])\n",
    "# plot(csv[f].sort_values(),small=True)"
   ]
  },
  {
   "cell_type": "code",
   "execution_count": 718,
   "metadata": {},
   "outputs": [],
   "source": [
    "f = 'Var59'\n",
    "csv[f] = csv_org[f]\n",
    "csv[f] = csv[f].fillna(method='ffill')\n",
    "csv[f] = csv[f].fillna(method='bfill')\n",
    "csv[f] = cast(csv[f],-100,csv[f].quantile(0.90))\n",
    "csv[f] = standarize(csv[f])\n",
    "# csv[f].plot.kde()"
   ]
  },
  {
   "cell_type": "code",
   "execution_count": 719,
   "metadata": {},
   "outputs": [],
   "source": [
    "f = 'Var58'\n",
    "csv[f] = csv_org[f]\n",
    "csv[f] = csv[f].fillna(method='ffill')\n",
    "csv[f] = csv[f].fillna(method='bfill')\n",
    "csv[f] = cast(csv[f],-100,csv[f].quantile(0.9))\n",
    "csv[f] = standarize(csv[f])\n",
    "# # plot(csv[f].sort_values(),small=True)\n",
    "# csv[f].plot.kde()"
   ]
  },
  {
   "cell_type": "code",
   "execution_count": 720,
   "metadata": {},
   "outputs": [],
   "source": [
    "f = 'Var57'\n",
    "csv[f] = csv_org[f]\n",
    "csv[f] = csv[f].fillna(method='ffill')\n",
    "csv[f] = csv[f].fillna(method='bfill')\n",
    "csv[f] = cast(csv[f],-100,csv[f].quantile(0.99))\n",
    "csv[f] = standarize(csv[f])\n",
    "# # plot(csv[f],small=True)"
   ]
  },
  {
   "cell_type": "code",
   "execution_count": 721,
   "metadata": {},
   "outputs": [],
   "source": [
    "f = 'Var56'\n",
    "csv[f] = csv_org[f]\n",
    "csv[f] = csv[f].fillna(method='ffill')\n",
    "csv[f] = csv[f].fillna(method='bfill')\n",
    "csv[f] = cast(csv[f],-100,csv[f].quantile(0.93))\n",
    "csv[f] = standarize(csv[f])\n",
    "# plot(csv[f].sort_values(),small=True)\n",
    "# ax = csv[f].plot.kde()\n",
    "csv[f] = csv[f].apply(lambda x: np.power(x,1/3))\n",
    "csv[f] = standarize(csv[f])\n",
    "# csv[f].plot.kde()"
   ]
  },
  {
   "cell_type": "code",
   "execution_count": 722,
   "metadata": {},
   "outputs": [],
   "source": [
    "f = 'Var54'\n",
    "csv[f] = csv_org[f]\n",
    "csv[f] = csv[f].fillna(method='ffill')\n",
    "csv[f] = csv[f].fillna(method='bfill')\n",
    "csv[f] = standarize(csv[f])\n",
    "# plot(csv[f].sort_values(),small=True)"
   ]
  },
  {
   "cell_type": "code",
   "execution_count": 723,
   "metadata": {},
   "outputs": [],
   "source": [
    "f = 'Var53'\n",
    "csv[f] = csv_org[f]\n",
    "csv[f] = csv[f].fillna(method='ffill')\n",
    "csv[f] = csv[f].fillna(method='bfill')\n",
    "csv[f] = cast(csv[f],-100,csv[f].quantile(0.99))\n",
    "csv[f] = standarize(csv[f])\n",
    "# plot(csv[f].sort_values(),small=True)"
   ]
  },
  {
   "cell_type": "code",
   "execution_count": 724,
   "metadata": {},
   "outputs": [],
   "source": [
    "f = 'Var51'\n",
    "csv[f] = csv_org[f]\n",
    "csv[f] = csv[f].fillna(method='ffill')\n",
    "csv[f] = csv[f].fillna(method='bfill')\n",
    "csv[f] = cast(csv[f],-100,csv[f].quantile(0.99))\n",
    "csv[f] = standarize(csv[f])\n",
    "# plot(csv[f].sort_values(),small=True)"
   ]
  },
  {
   "cell_type": "code",
   "execution_count": 725,
   "metadata": {},
   "outputs": [],
   "source": [
    "f = 'Var50'\n",
    "csv[f] = csv_org[f]\n",
    "csv[f] = csv[f].fillna(method='ffill')\n",
    "csv[f] = csv[f].fillna(method='bfill')\n",
    "csv[f] = standarize(csv[f])\n",
    "# plot(csv[f].sort_values(),small=True)"
   ]
  },
  {
   "cell_type": "code",
   "execution_count": 726,
   "metadata": {},
   "outputs": [],
   "source": [
    "f = 'Var49'\n",
    "csv[f] = csv_org[f]\n",
    "csv[f] = csv[f].fillna(method='ffill')\n",
    "csv[f] = csv[f].fillna(method='bfill')\n",
    "csv[f] = standarize(csv[f])\n",
    "# plot(csv[f].sort_values(),small=True)"
   ]
  },
  {
   "cell_type": "code",
   "execution_count": 727,
   "metadata": {},
   "outputs": [
    {
     "data": {
      "application/vnd.jupyter.widget-view+json": {
       "model_id": "",
       "version_major": 2,
       "version_minor": 0
      },
      "text/plain": [
       "HBox(children=(IntProgress(value=0, description='Progress', max=2, style=ProgressStyle(description_width='init…"
      ]
     },
     "metadata": {},
     "output_type": "display_data"
    },
    {
     "data": {
      "application/vnd.jupyter.widget-view+json": {
       "model_id": "",
       "version_major": 2,
       "version_minor": 0
      },
      "text/plain": [
       "HBox(children=(IntProgress(value=0, max=8), HTML(value='')))"
      ]
     },
     "metadata": {},
     "output_type": "display_data"
    },
    {
     "data": {
      "application/vnd.jupyter.widget-view+json": {
       "model_id": "",
       "version_major": 2,
       "version_minor": 0
      },
      "text/plain": [
       "HBox(children=(IntProgress(value=0, max=3), HTML(value='')))"
      ]
     },
     "metadata": {},
     "output_type": "display_data"
    },
    {
     "name": "stdout",
     "output_type": "stream",
     "text": [
      "\r"
     ]
    }
   ],
   "source": [
    "f = 'Var47'\n",
    "csv[f] = csv_org[f]\n",
    "csv[f] = csv[f].fillna(method='ffill')\n",
    "csv[f] = csv[f].fillna(method='bfill')\n",
    "csv[f] = threshold_factorization(csv[f],100)\n",
    "csv[f] = standarize(csv[f])\n",
    "# plot(csv[f].sort_values(),small=True)"
   ]
  },
  {
   "cell_type": "code",
   "execution_count": 728,
   "metadata": {},
   "outputs": [],
   "source": [
    "f = 'Var46'\n",
    "csv[f] = csv_org[f]\n",
    "csv[f] = csv[f].fillna(method='ffill')\n",
    "csv[f] = csv[f].fillna(method='bfill')\n",
    "csv[f] = cast(csv[f],-100,csv[f].quantile(0.99))\n",
    "csv[f] = standarize(csv[f])\n",
    "# plot(csv[f].sort_values(),small=True)"
   ]
  },
  {
   "cell_type": "code",
   "execution_count": 729,
   "metadata": {},
   "outputs": [],
   "source": [
    "f = 'Var44'\n",
    "csv[f] = csv_org[f]\n",
    "csv = csv.drop(f, axis=1)"
   ]
  },
  {
   "cell_type": "code",
   "execution_count": 730,
   "metadata": {},
   "outputs": [],
   "source": [
    "f = 'Var43'\n",
    "csv[f] = csv_org[f]\n",
    "csv[f] = csv[f].fillna(method='ffill')\n",
    "csv[f] = csv[f].fillna(method='bfill')\n",
    "csv[f] = cast(csv[f],-100,csv[f].quantile(0.96))\n",
    "csv[f] = standarize(csv[f])\n",
    "# plot(csv[f].sort_values(),small=True)"
   ]
  },
  {
   "cell_type": "code",
   "execution_count": 731,
   "metadata": {},
   "outputs": [],
   "source": [
    "f = 'Var41'\n",
    "csv[f] = csv_org[f]\n",
    "csv[f] = csv[f].fillna(method='ffill')\n",
    "csv[f] = csv[f].fillna(method='bfill')\n",
    "csv[f] = cast(csv[f],-100,csv[f].quantile(0.99))\n",
    "csv[f] = standarize(csv[f])\n",
    "# plot(csv[f].sort_values(),small=True)"
   ]
  },
  {
   "cell_type": "code",
   "execution_count": 732,
   "metadata": {},
   "outputs": [],
   "source": [
    "f = 'Var40'\n",
    "csv[f] = csv_org[f]\n",
    "csv[f] = csv[f].fillna(method='ffill')\n",
    "csv[f] = csv[f].fillna(method='bfill')\n",
    "csv[f] = cast(csv[f],-100,csv[f].quantile(0.95))\n",
    "csv[f] = standarize(csv[f])\n",
    "# plot(csv[f].sort_values(),small=True)"
   ]
  },
  {
   "cell_type": "code",
   "execution_count": 733,
   "metadata": {},
   "outputs": [],
   "source": [
    "f = 'Var38'\n",
    "csv[f] = csv_org[f]\n",
    "csv = csv.drop(f, axis=1)"
   ]
  },
  {
   "cell_type": "code",
   "execution_count": 734,
   "metadata": {},
   "outputs": [
    {
     "name": "stdout",
     "output_type": "stream",
     "text": [
      "min: 0.0\n",
      "max: 11635020.0\n",
      "nans: 48421\n",
      "unique: 551\n",
      "val_type: <class 'numpy.float64'>\n",
      "vals per class: 2.87\n"
     ]
    },
    {
     "data": {
      "application/vnd.jupyter.widget-view+json": {
       "model_id": "",
       "version_major": 2,
       "version_minor": 0
      },
      "text/plain": [
       "HBox(children=(IntProgress(value=0, description='Progress', max=3, style=ProgressStyle(description_width='init…"
      ]
     },
     "metadata": {},
     "output_type": "display_data"
    },
    {
     "data": {
      "application/vnd.jupyter.widget-view+json": {
       "model_id": "",
       "version_major": 2,
       "version_minor": 0
      },
      "text/plain": [
       "HBox(children=(IntProgress(value=0, max=1), HTML(value='')))"
      ]
     },
     "metadata": {},
     "output_type": "display_data"
    },
    {
     "data": {
      "application/vnd.jupyter.widget-view+json": {
       "model_id": "",
       "version_major": 2,
       "version_minor": 0
      },
      "text/plain": [
       "HBox(children=(IntProgress(value=1, bar_style='info', max=1), HTML(value='')))"
      ]
     },
     "metadata": {},
     "output_type": "display_data"
    },
    {
     "data": {
      "application/vnd.jupyter.widget-view+json": {
       "model_id": "",
       "version_major": 2,
       "version_minor": 0
      },
      "text/plain": [
       "HBox(children=(IntProgress(value=0, max=549), HTML(value='')))"
      ]
     },
     "metadata": {},
     "output_type": "display_data"
    },
    {
     "name": "stdout",
     "output_type": "stream",
     "text": [
      "\r"
     ]
    }
   ],
   "source": [
    "f = 'Var37'\n",
    "csv[f] = csv_org[f]\n",
    "stat(f)\n",
    "csv[f] = csv[f].fillna(method='ffill')\n",
    "csv[f] = csv[f].fillna(method='bfill')\n",
    "csv[f] = threshold_factorization(csv[f],9000,6000)\n",
    "# plot(csv[f].sort_values(),log=False,small=True)\n",
    "one_hot_encoding(f)"
   ]
  },
  {
   "cell_type": "code",
   "execution_count": 735,
   "metadata": {},
   "outputs": [
    {
     "data": {
      "application/vnd.jupyter.widget-view+json": {
       "model_id": "",
       "version_major": 2,
       "version_minor": 0
      },
      "text/plain": [
       "HBox(children=(IntProgress(value=0, description='Progress', max=2, style=ProgressStyle(description_width='init…"
      ]
     },
     "metadata": {},
     "output_type": "display_data"
    },
    {
     "data": {
      "application/vnd.jupyter.widget-view+json": {
       "model_id": "",
       "version_major": 2,
       "version_minor": 0
      },
      "text/plain": [
       "HBox(children=(IntProgress(value=0, max=294), HTML(value='')))"
      ]
     },
     "metadata": {},
     "output_type": "display_data"
    },
    {
     "data": {
      "application/vnd.jupyter.widget-view+json": {
       "model_id": "",
       "version_major": 2,
       "version_minor": 0
      },
      "text/plain": [
       "HBox(children=(IntProgress(value=0, max=237), HTML(value='')))"
      ]
     },
     "metadata": {},
     "output_type": "display_data"
    },
    {
     "name": "stdout",
     "output_type": "stream",
     "text": [
      "\r"
     ]
    }
   ],
   "source": [
    "f = 'Var36'\n",
    "csv[f] = csv_org[f]\n",
    "csv[f] = csv[f].fillna(method='ffill')\n",
    "csv[f] = csv[f].fillna(method='bfill')\n",
    "csv[f] = threshold_factorization(csv[f],23)\n",
    "# plot(csv[f],sort=True,small=True)\n",
    "one_hot_encoding(f)"
   ]
  },
  {
   "cell_type": "code",
   "execution_count": 736,
   "metadata": {},
   "outputs": [],
   "source": [
    "f = 'Var35'\n",
    "csv[f] = csv_org[f]\n",
    "csv[f] = csv[f].fillna(method='ffill')\n",
    "csv[f] = csv[f].fillna(method='bfill')\n",
    "csv[f] = standarize(csv[f])\n",
    "# plot(csv[f].sort_values(),small=True)"
   ]
  },
  {
   "cell_type": "code",
   "execution_count": 737,
   "metadata": {},
   "outputs": [],
   "source": [
    "f = 'Var34'\n",
    "csv[f] = csv_org[f]\n",
    "csv[f] = csv[f].fillna(method='ffill')\n",
    "csv[f] = csv[f].fillna(method='bfill')\n",
    "csv[f] = standarize(csv[f])\n",
    "# plot(csv[f].sort_values(),small=True)"
   ]
  },
  {
   "cell_type": "code",
   "execution_count": 738,
   "metadata": {},
   "outputs": [],
   "source": [
    "f = 'Var33'\n",
    "delete(f)"
   ]
  },
  {
   "cell_type": "code",
   "execution_count": 739,
   "metadata": {},
   "outputs": [],
   "source": [
    "f = 'Var30'\n",
    "csv[f] = csv_org[f]\n",
    "csv[f] = csv[f].fillna(method='ffill')\n",
    "csv[f] = csv[f].fillna(method='bfill')\n",
    "csv[f] = standarize(csv[f])\n",
    "# plot(csv[f].sort_values(),small=True)"
   ]
  },
  {
   "cell_type": "code",
   "execution_count": 740,
   "metadata": {},
   "outputs": [],
   "source": [
    "f = 'Var29'\n",
    "csv[f] = csv_org[f]\n",
    "csv[f] = csv[f].fillna(method='ffill')\n",
    "csv[f] = csv[f].fillna(method='bfill')\n",
    "csv[f] = standarize(csv[f])"
   ]
  },
  {
   "cell_type": "code",
   "execution_count": 741,
   "metadata": {},
   "outputs": [
    {
     "data": {
      "application/vnd.jupyter.widget-view+json": {
       "model_id": "",
       "version_major": 2,
       "version_minor": 0
      },
      "text/plain": [
       "HBox(children=(IntProgress(value=0, description='Progress', max=2, style=ProgressStyle(description_width='init…"
      ]
     },
     "metadata": {},
     "output_type": "display_data"
    },
    {
     "data": {
      "application/vnd.jupyter.widget-view+json": {
       "model_id": "",
       "version_major": 2,
       "version_minor": 0
      },
      "text/plain": [
       "HBox(children=(IntProgress(value=0, max=32), HTML(value='')))"
      ]
     },
     "metadata": {},
     "output_type": "display_data"
    },
    {
     "data": {
      "application/vnd.jupyter.widget-view+json": {
       "model_id": "",
       "version_major": 2,
       "version_minor": 0
      },
      "text/plain": [
       "HBox(children=(IntProgress(value=0, max=4135), HTML(value='')))"
      ]
     },
     "metadata": {},
     "output_type": "display_data"
    },
    {
     "name": "stdout",
     "output_type": "stream",
     "text": [
      "\r"
     ]
    }
   ],
   "source": [
    "f = 'Var28'\n",
    "csv[f] = csv_org[f]\n",
    "csv[f] = csv[f].fillna(method='ffill')\n",
    "csv[f] = csv[f].fillna(method='bfill')\n",
    "csv[f] = threshold_factorization(csv[f],100)\n",
    "csv[f] = standarize(csv[f])"
   ]
  },
  {
   "cell_type": "code",
   "execution_count": 742,
   "metadata": {},
   "outputs": [],
   "source": [
    "f = 'Var27'\n",
    "csv[f] = csv_org[f]\n",
    "csv[f] = csv[f].fillna(method='ffill')\n",
    "csv[f] = csv[f].fillna(method='bfill')\n",
    "csv[f] = standarize(csv[f])\n",
    "# plot(csv[f].sort_values(),small=True)\n"
   ]
  },
  {
   "cell_type": "code",
   "execution_count": 743,
   "metadata": {},
   "outputs": [],
   "source": [
    "f = 'Var26'\n",
    "csv[f] = csv_org[f]\n",
    "csv[f] = csv[f].fillna(method='ffill')\n",
    "csv[f] = csv[f].fillna(method='bfill')\n",
    "csv[f] = standarize(csv[f])\n",
    "# plot(csv[f].sort_values(),small=True)\n"
   ]
  },
  {
   "cell_type": "code",
   "execution_count": 744,
   "metadata": {},
   "outputs": [],
   "source": [
    "f = 'Var25'\n",
    "csv[f] = csv_org[f]\n",
    "csv[f] = csv[f].fillna(method='ffill')\n",
    "csv[f] = csv[f].fillna(method='bfill')\n",
    "csv[f] = cast(csv[f],-100,csv[f].quantile(0.99))\n",
    "csv[f] = standarize(csv[f])\n",
    "# plot(csv[f].sort_values(),small=True)\n"
   ]
  },
  {
   "cell_type": "code",
   "execution_count": 745,
   "metadata": {},
   "outputs": [],
   "source": [
    "f = 'Var24'\n",
    "csv[f] = csv_org[f]\n",
    "csv[f] = csv[f].fillna(method='ffill')\n",
    "csv[f] = csv[f].fillna(method='bfill')\n",
    "csv[f] = cast(csv[f],-100,csv[f].quantile(0.98))\n",
    "csv[f] = standarize(csv[f])\n",
    "# plot(csv[f].sort_values(),small=True)"
   ]
  },
  {
   "cell_type": "code",
   "execution_count": 746,
   "metadata": {},
   "outputs": [],
   "source": [
    "f = 'Var23'\n",
    "csv[f] = csv_org[f]\n",
    "csv[f] = csv[f].fillna(method='ffill')\n",
    "csv[f] = csv[f].fillna(method='bfill')\n",
    "csv[f] = standarize(csv[f])\n",
    "# plot(csv[f].sort_values(),small=True)"
   ]
  },
  {
   "cell_type": "code",
   "execution_count": 747,
   "metadata": {},
   "outputs": [],
   "source": [
    "f = 'Var22'\n",
    "csv[f] = csv_org[f]\n",
    "csv = csv.drop(f, axis=1)"
   ]
  },
  {
   "cell_type": "code",
   "execution_count": 748,
   "metadata": {},
   "outputs": [],
   "source": [
    "f = 'Var21'\n",
    "csv[f] = csv_org[f]\n",
    "csv[f] = csv[f].fillna(method='ffill')\n",
    "csv[f] = csv[f].fillna(method='bfill')\n",
    "csv[f] = cast(csv[f],-100,csv[f].quantile(0.98))\n",
    "csv[f] = standarize(csv[f])\n",
    "# plot(csv[f].sort_values(),small=True)"
   ]
  },
  {
   "cell_type": "code",
   "execution_count": 749,
   "metadata": {},
   "outputs": [],
   "source": [
    "f = 'Var19'\n",
    "csv[f] = csv_org[f]\n",
    "csv[f] = csv[f].fillna(method='ffill')\n",
    "csv[f] = csv[f].fillna(method='bfill')\n",
    "csv[f] = standarize(csv[f])\n",
    "# plot(csv[f].sort_values(),small=True)"
   ]
  },
  {
   "cell_type": "code",
   "execution_count": 750,
   "metadata": {},
   "outputs": [],
   "source": [
    "f = 'Var18'\n",
    "csv[f] = csv_org[f]\n",
    "csv[f] = csv[f].fillna(method='ffill')\n",
    "csv[f] = csv[f].fillna(method='bfill')\n",
    "csv[f] = standarize(csv[f])\n",
    "csv[f] = cast(csv[f],-100,696)\n",
    "# plot(csv[f].sort_values(),small=True)"
   ]
  },
  {
   "cell_type": "code",
   "execution_count": 751,
   "metadata": {},
   "outputs": [],
   "source": [
    "f = 'Var17'\n",
    "csv[f] = csv_org[f]\n",
    "csv[f] = csv[f].fillna(method='ffill')\n",
    "csv[f] = csv[f].fillna(method='bfill')\n",
    "csv[f] = cast(csv[f],-100,185)\n",
    "csv[f] = standarize(csv[f])\n",
    "# plot(csv[f].sort_values(),small=True)"
   ]
  },
  {
   "cell_type": "code",
   "execution_count": 752,
   "metadata": {
    "scrolled": false
   },
   "outputs": [],
   "source": [
    "f = 'Var16'\n",
    "csv[f] = csv_org[f]\n",
    "csv[f] = csv[f].fillna(method='ffill')\n",
    "csv[f] = csv[f].fillna(method='bfill')\n",
    "csv[f] = standarize(csv[f])\n",
    "# plot(csv[f].sort_values(),small=True)"
   ]
  },
  {
   "cell_type": "code",
   "execution_count": 753,
   "metadata": {},
   "outputs": [
    {
     "data": {
      "application/vnd.jupyter.widget-view+json": {
       "model_id": "",
       "version_major": 2,
       "version_minor": 0
      },
      "text/plain": [
       "HBox(children=(IntProgress(value=0, description='Progress', max=2, style=ProgressStyle(description_width='init…"
      ]
     },
     "metadata": {},
     "output_type": "display_data"
    },
    {
     "data": {
      "application/vnd.jupyter.widget-view+json": {
       "model_id": "",
       "version_major": 2,
       "version_minor": 0
      },
      "text/plain": [
       "HBox(children=(IntProgress(value=0, max=1), HTML(value='')))"
      ]
     },
     "metadata": {},
     "output_type": "display_data"
    },
    {
     "data": {
      "application/vnd.jupyter.widget-view+json": {
       "model_id": "",
       "version_major": 2,
       "version_minor": 0
      },
      "text/plain": [
       "HBox(children=(IntProgress(value=0, max=18), HTML(value='')))"
      ]
     },
     "metadata": {},
     "output_type": "display_data"
    },
    {
     "name": "stdout",
     "output_type": "stream",
     "text": [
      "\r"
     ]
    }
   ],
   "source": [
    "f = 'Var14'\n",
    "csv[f] = csv_org[f]\n",
    "csv[f] = csv[f].fillna(method='ffill')\n",
    "csv[f] = csv[f].fillna(method='bfill')\n",
    "csv[f] = threshold_factorization(csv[f],2000)\n",
    "csv[f] = standarize(csv[f])\n",
    "# plot(csv[f].sort_values(),small=True)"
   ]
  },
  {
   "cell_type": "code",
   "execution_count": 754,
   "metadata": {},
   "outputs": [],
   "source": [
    "f = 'Var13'\n",
    "csv[f] = csv_org[f]\n",
    "csv[f] = csv[f].fillna(csv[f].mode(dropna = True)[0])\n",
    "csv[f] = cast(csv[f],-100,5000)\n",
    "csv[f] = standarize(csv[f])\n",
    "# plot(csv[f].sort_values(),small=True)"
   ]
  },
  {
   "cell_type": "code",
   "execution_count": 755,
   "metadata": {},
   "outputs": [],
   "source": [
    "f = 'Var12'\n",
    "csv[f] = csv_org[f]\n",
    "csv[f] = csv[f].fillna(method='ffill')\n",
    "csv[f] = csv[f].fillna(method='bfill')\n",
    "csv[f] = cast(csv[f],-100,64)\n",
    "csv[f] = standarize(csv[f])\n",
    "# plot(csv[f].sort_values(),small=True)"
   ]
  },
  {
   "cell_type": "code",
   "execution_count": 756,
   "metadata": {},
   "outputs": [
    {
     "name": "stdout",
     "output_type": "stream",
     "text": [
      "min: 8.0\n",
      "max: 40.0\n",
      "nans: 48760\n",
      "unique: 6\n",
      "val_type: <class 'numpy.float64'>\n",
      "vals per class: 206.67\n"
     ]
    }
   ],
   "source": [
    "f = 'Var11'\n",
    "stat(f)\n",
    "csv[f] = csv_org[f]\n",
    "csv[f] = csv[f].fillna(method='ffill')\n",
    "csv[f] = csv[f].fillna(method='bfill')\n",
    "csv[f] = standarize(csv[f])\n",
    "# plot(csv[f].sort_values(),small=True)"
   ]
  },
  {
   "cell_type": "code",
   "execution_count": 757,
   "metadata": {},
   "outputs": [
    {
     "data": {
      "application/vnd.jupyter.widget-view+json": {
       "model_id": "",
       "version_major": 2,
       "version_minor": 0
      },
      "text/plain": [
       "HBox(children=(IntProgress(value=0, description='Progress', max=2, style=ProgressStyle(description_width='init…"
      ]
     },
     "metadata": {},
     "output_type": "display_data"
    },
    {
     "data": {
      "application/vnd.jupyter.widget-view+json": {
       "model_id": "",
       "version_major": 2,
       "version_minor": 0
      },
      "text/plain": [
       "HBox(children=(IntProgress(value=0, max=11), HTML(value='')))"
      ]
     },
     "metadata": {},
     "output_type": "display_data"
    },
    {
     "data": {
      "application/vnd.jupyter.widget-view+json": {
       "model_id": "",
       "version_major": 2,
       "version_minor": 0
      },
      "text/plain": [
       "HBox(children=(IntProgress(value=0, max=523), HTML(value='')))"
      ]
     },
     "metadata": {},
     "output_type": "display_data"
    },
    {
     "name": "stdout",
     "output_type": "stream",
     "text": [
      "\r"
     ]
    }
   ],
   "source": [
    "f = 'Var10'\n",
    "csv[f] = csv_org[f]\n",
    "csv[f] = csv[f].fillna(csv[f].median())\n",
    "csv[f] = threshold_factorization(csv[f],1)\n",
    "csv[f] = standarize(csv[f])\n",
    "# plot(csv[f].sort_values(),small=True)"
   ]
  },
  {
   "cell_type": "code",
   "execution_count": 758,
   "metadata": {},
   "outputs": [],
   "source": [
    "f = 'Var9'\n",
    "csv[f] = csv_org[f]\n",
    "csv[f] = csv[f].fillna(method='ffill')\n",
    "csv[f] = csv[f].fillna(csv[f].median())\n",
    "csv[f] = standarize(csv[f])\n",
    "# plot(csv[f].sort_values(),small=True)"
   ]
  },
  {
   "cell_type": "code",
   "execution_count": 759,
   "metadata": {},
   "outputs": [],
   "source": [
    "f = 'Var7'\n",
    "csv[f] = csv_org[f]\n",
    "csv[f] = csv[f].fillna(method='ffill')\n",
    "csv[f] = csv[f].fillna(csv[f].mode(dropna = True)[0])\n",
    "csv[f] = cast(csv[f],-100,56)\n",
    "csv[f] = standarize(csv[f])\n",
    "# plot(csv[f].sort_values(),small=True)"
   ]
  },
  {
   "cell_type": "code",
   "execution_count": 760,
   "metadata": {},
   "outputs": [],
   "source": [
    "f = 'Var6'\n",
    "csv[f] = csv_org[f]\n",
    "csv[f] = csv[f].fillna(method='ffill')\n",
    "csv[f] = csv[f].fillna(csv[f].mode(dropna = True)[0])\n",
    "csv[f] = standarize(csv[f])\n",
    "# plot(csv[f].sort_values(),small=True)"
   ]
  },
  {
   "cell_type": "code",
   "execution_count": 761,
   "metadata": {},
   "outputs": [
    {
     "data": {
      "application/vnd.jupyter.widget-view+json": {
       "model_id": "",
       "version_major": 2,
       "version_minor": 0
      },
      "text/plain": [
       "HBox(children=(IntProgress(value=0, description='Progress', max=7, style=ProgressStyle(description_width='init…"
      ]
     },
     "metadata": {},
     "output_type": "display_data"
    },
    {
     "data": {
      "application/vnd.jupyter.widget-view+json": {
       "model_id": "",
       "version_major": 2,
       "version_minor": 0
      },
      "text/plain": [
       "HBox(children=(IntProgress(value=0, max=1), HTML(value='')))"
      ]
     },
     "metadata": {},
     "output_type": "display_data"
    },
    {
     "data": {
      "application/vnd.jupyter.widget-view+json": {
       "model_id": "",
       "version_major": 2,
       "version_minor": 0
      },
      "text/plain": [
       "HBox(children=(IntProgress(value=0, max=467), HTML(value='')))"
      ]
     },
     "metadata": {},
     "output_type": "display_data"
    },
    {
     "data": {
      "application/vnd.jupyter.widget-view+json": {
       "model_id": "",
       "version_major": 2,
       "version_minor": 0
      },
      "text/plain": [
       "HBox(children=(IntProgress(value=0, max=36), HTML(value='')))"
      ]
     },
     "metadata": {},
     "output_type": "display_data"
    },
    {
     "data": {
      "application/vnd.jupyter.widget-view+json": {
       "model_id": "",
       "version_major": 2,
       "version_minor": 0
      },
      "text/plain": [
       "HBox(children=(IntProgress(value=0, max=13), HTML(value='')))"
      ]
     },
     "metadata": {},
     "output_type": "display_data"
    },
    {
     "data": {
      "application/vnd.jupyter.widget-view+json": {
       "model_id": "",
       "version_major": 2,
       "version_minor": 0
      },
      "text/plain": [
       "HBox(children=(IntProgress(value=0, max=28), HTML(value='')))"
      ]
     },
     "metadata": {},
     "output_type": "display_data"
    },
    {
     "data": {
      "application/vnd.jupyter.widget-view+json": {
       "model_id": "",
       "version_major": 2,
       "version_minor": 0
      },
      "text/plain": [
       "HBox(children=(IntProgress(value=0, max=10), HTML(value='')))"
      ]
     },
     "metadata": {},
     "output_type": "display_data"
    },
    {
     "data": {
      "application/vnd.jupyter.widget-view+json": {
       "model_id": "",
       "version_major": 2,
       "version_minor": 0
      },
      "text/plain": [
       "HBox(children=(IntProgress(value=0, max=16), HTML(value='')))"
      ]
     },
     "metadata": {},
     "output_type": "display_data"
    },
    {
     "name": "stdout",
     "output_type": "stream",
     "text": [
      "\r"
     ]
    }
   ],
   "source": [
    "f = 'Var5'\n",
    "csv[f] = csv_org[f]\n",
    "csv[f] = csv[f].fillna(method='ffill')\n",
    "csv[f] = csv[f].fillna(csv[f].mode(dropna = True)[0])\n",
    "csv[f] = threshold_factorization(csv[f],1000,7,5,4,2,1)\n",
    "# plot(csv[f].sort_values(),small=True)\n",
    "binary_encoding(f)"
   ]
  },
  {
   "cell_type": "code",
   "execution_count": 762,
   "metadata": {},
   "outputs": [],
   "source": [
    "f = 'Var4'\n",
    "csv[f] = csv_org[f]\n",
    "csv[f] = csv[f].fillna(7)\n",
    "csv[f] = standarize(csv[f])\n",
    "# # plot(csv[f].sort_values(),small=True)"
   ]
  },
  {
   "cell_type": "code",
   "execution_count": 763,
   "metadata": {},
   "outputs": [
    {
     "data": {
      "application/vnd.jupyter.widget-view+json": {
       "model_id": "",
       "version_major": 2,
       "version_minor": 0
      },
      "text/plain": [
       "HBox(children=(IntProgress(value=0, description='Progress', max=4, style=ProgressStyle(description_width='init…"
      ]
     },
     "metadata": {},
     "output_type": "display_data"
    },
    {
     "data": {
      "application/vnd.jupyter.widget-view+json": {
       "model_id": "",
       "version_major": 2,
       "version_minor": 0
      },
      "text/plain": [
       "HBox(children=(IntProgress(value=0, max=1), HTML(value='')))"
      ]
     },
     "metadata": {},
     "output_type": "display_data"
    },
    {
     "data": {
      "application/vnd.jupyter.widget-view+json": {
       "model_id": "",
       "version_major": 2,
       "version_minor": 0
      },
      "text/plain": [
       "HBox(children=(IntProgress(value=1, bar_style='info', max=1), HTML(value='')))"
      ]
     },
     "metadata": {},
     "output_type": "display_data"
    },
    {
     "data": {
      "application/vnd.jupyter.widget-view+json": {
       "model_id": "",
       "version_major": 2,
       "version_minor": 0
      },
      "text/plain": [
       "HBox(children=(IntProgress(value=0, max=41), HTML(value='')))"
      ]
     },
     "metadata": {},
     "output_type": "display_data"
    },
    {
     "data": {
      "application/vnd.jupyter.widget-view+json": {
       "model_id": "",
       "version_major": 2,
       "version_minor": 0
      },
      "text/plain": [
       "HBox(children=(IntProgress(value=0, max=104), HTML(value='')))"
      ]
     },
     "metadata": {},
     "output_type": "display_data"
    },
    {
     "name": "stdout",
     "output_type": "stream",
     "text": [
      "\r"
     ]
    }
   ],
   "source": [
    "f = 'Var3'\n",
    "csv[f] = csv_org[f]\n",
    "csv[f] = csv[f].fillna(csv[f].mode(dropna = True)[0])\n",
    "csv[f] = threshold_factorization(csv[f],1000,100,1)\n",
    "# plot(csv[f].sort_values(),sort=True,small=True)\n",
    "one_hot_encoding(f)"
   ]
  },
  {
   "cell_type": "code",
   "execution_count": 764,
   "metadata": {},
   "outputs": [],
   "source": [
    "f = 'Var2'\n",
    "csv[f] = csv_org[f]\n",
    "csv[f] = csv[f].fillna(csv[f].mode(dropna = True)[0])\n",
    "# plot(csv[f].sort_values(),small=True)\n",
    "one_hot_encoding(f)"
   ]
  },
  {
   "cell_type": "code",
   "execution_count": 768,
   "metadata": {
    "scrolled": true
   },
   "outputs": [],
   "source": [
    "f = 'Var1'\n",
    "csv[f] = csv_org[f]\n",
    "csv[f] = csv[f].fillna(csv[f].mode(dropna = True)[0])\n",
    "csv[f] = cast(csv[f],-100,64)\n",
    "csv[f] = standarize(csv[f])\n",
    "# plot(csv[f].sort_values(),small=True)"
   ]
  },
  {
   "cell_type": "markdown",
   "metadata": {},
   "source": [
    "# Save Data"
   ]
  },
  {
   "cell_type": "code",
   "execution_count": null,
   "metadata": {},
   "outputs": [],
   "source": []
  },
  {
   "cell_type": "code",
   "execution_count": 871,
   "metadata": {},
   "outputs": [],
   "source": [
    "csv.to_csv(\"data.csv\", sep=',')"
   ]
  }
 ],
 "metadata": {
  "kernelspec": {
   "display_name": "Python 3",
   "language": "python",
   "name": "python3"
  },
  "language_info": {
   "codemirror_mode": {
    "name": "ipython",
    "version": 3
   },
   "file_extension": ".py",
   "mimetype": "text/x-python",
   "name": "python",
   "nbconvert_exporter": "python",
   "pygments_lexer": "ipython3",
   "version": "3.7.1"
  },
  "toc": {
   "base_numbering": 1,
   "nav_menu": {},
   "number_sections": true,
   "sideBar": true,
   "skip_h1_title": false,
   "title_cell": "Table of Contents",
   "title_sidebar": "Contents",
   "toc_cell": false,
   "toc_position": {
    "height": "calc(100% - 180px)",
    "left": "10px",
    "top": "150px",
    "width": "165px"
   },
   "toc_section_display": true,
   "toc_window_display": false
  }
 },
 "nbformat": 4,
 "nbformat_minor": 2
}
