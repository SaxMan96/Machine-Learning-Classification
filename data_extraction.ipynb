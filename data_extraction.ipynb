{
 "cells": [
  {
   "cell_type": "markdown",
   "metadata": {},
   "source": [
    "# Imports and Constraints"
   ]
  },
  {
   "cell_type": "code",
   "execution_count": null,
   "metadata": {},
   "outputs": [],
   "source": []
  },
  {
   "cell_type": "markdown",
   "metadata": {},
   "source": [
    "# Defines"
   ]
  },
  {
   "cell_type": "code",
   "execution_count": 308,
   "metadata": {},
   "outputs": [],
   "source": [
    "import numpy as np\n",
    "import pandas as pd\n",
    "from tqdm import tqdm_notebook as tqdm\n",
    "from collections import Counter\n",
    "import category_encoders as ce\n",
    "import matplotlib.pylab as plt\n",
    "from matplotlib.ticker import MaxNLocator\n",
    "\n",
    "\n",
    "def load_data() -> pd.Series:\n",
    "    csv_train = pd.read_csv('train.txt', sep=\" \").assign(train = 1) \n",
    "    csv_test = pd.read_csv('testx.txt', sep=\" \").assign(train = 0)\n",
    "    csv = pd.concat([csv_train,csv_test])\n",
    "    classes = csv['class']\n",
    "    csv = csv.drop(['class'], axis=1)\n",
    "#     print(f\"class0: {percentage0}%,\\tclass1: {percentage1}%\")\n",
    "    return csv, classes\n",
    "\n",
    "def del_nans(nans_perc):\n",
    "    # Find those where nans is over nans_perc\n",
    "    global csv, nans\n",
    "    na = csv.isna().sum()\n",
    "    del_na = na[na >= nans_perc*len(csv)]\n",
    "    csv = csv.drop(del_na.index.values, axis=1)\n",
    "    nans = nans_ctr()\n",
    "    \n",
    "def nans_ctr() -> pd.Series:\n",
    "    return csv.isna().sum()\n",
    "\n",
    "def unique_ctr() -> pd.Series():\n",
    "    unique = pd.Series()\n",
    "    for col in list(csv_org):\n",
    "    #     len(csv[col].unique().astype(int))\n",
    "    #     print(f\"col {col}\\t unique: {len(csv[col].unique())}\")\n",
    "        if(csv.columns.contains(col) and (col != 'train')):\n",
    "            unique.at[col] = len(csv[col].unique())\n",
    "#     print(unique.head(5))\n",
    "    return unique\n",
    "def val_types() -> pd.Series():\n",
    "    val_type = pd.Series()\n",
    "    for col in list(csv_org):\n",
    "        if not csv.columns.contains(col) or col == 'train':\n",
    "            continue\n",
    "        if csv[col].dtype == np.float64:\n",
    "            val_type.at[col] = np.float64\n",
    "        elif csv[col].dtype == np.int64:\n",
    "            val_type.at[col] = np.int64\n",
    "        elif csv[col].dtype == np.int32:\n",
    "            val_type.at[col] = np.int32\n",
    "        elif csv[col].dtype == object:\n",
    "            val_type.at[col] = object\n",
    "        else:\n",
    "            print(f\"No common value type found in val_types() - {csv[col].dtype}\")\n",
    "#     print(f\"float: {sum(val_type == np.float64)}\")\n",
    "#     print(f\"int: {sum(val_type == np.int64)}\")\n",
    "#     print(f\"string: {sum(val_type == object)}\")\n",
    "    return val_type\n",
    "def stat(f):\n",
    "    nans = nans_ctr()\n",
    "    unique = unique_ctr()\n",
    "    val_type = val_types()\n",
    "    print(f\"min: {csv[f].min()}\")\n",
    "    print(f\"max: {csv[f].max()}\")\n",
    "    print(f\"nans: {nans[f]}\")\n",
    "    print(f\"unique: {unique[f]}\")\n",
    "    print(f\"val_type: {val_type[f]}\")\n",
    "    print(f\"vals per class: {round((len(csv)-nans[f])/unique[f],2)}\")\n",
    "    \n",
    "def plot(data, sort=False, log=True, small=False, fontsize=7):\n",
    "    if small:\n",
    "        figsize = (8,4)\n",
    "    else:\n",
    "        figsize = (20,10)\n",
    "    letter_counts = Counter(data)\n",
    "    df = pd.DataFrame.from_dict(letter_counts, orient='index')\n",
    "    if sort:\n",
    "        ax = df.sort_values(by=0, ascending=False).plot(grid=True,kind='bar', logy = log, figsize=figsize, legend=False)\n",
    "    else:\n",
    "        ax = df.plot(grid=True,kind='bar', logy = log, figsize=figsize, legend=False)\n",
    "    plt.xticks(fontsize=fontsize, rotation=90)\n",
    "    plt.show()\n",
    "    \n",
    "def threshold_factorization(data, *t_list) -> pd.Series():\n",
    "    letter_counts = Counter(data)\n",
    "    df = pd.DataFrame.from_dict(letter_counts, orient='index')\n",
    "    df = df.sort_values(by=0, ascending=False)\n",
    "    t_list = (df.values[0].item()+1,) + t_list + (0,)\n",
    "    out = data.copy()\n",
    "#     print(f\"all labels: {len(letter_counts)}\")\n",
    "    for i in tqdm(range(1,len(t_list)),desc=\"Progress\",leave=False):\n",
    "        idx = df[(df>t_list[i]).values & (df<=t_list[i-1]).values].index\n",
    "#         print(f\"labels in range ({t_list[i]}, {t_list[i-1]}): {len(idx)}\")\n",
    "        for j in tqdm(idx,leave=False):\n",
    "            out.loc[out == j] = i\n",
    "    return out\n",
    "\n",
    "def factorize(data) -> pd.Series():\n",
    "#     series = data.fillna(-1)\n",
    "    series = data.copy()\n",
    "    labels, _ = pd.factorize(series)\n",
    "    series = labels[:len(series)]\n",
    "    return series\n",
    "\n",
    "def cast(data, lower_t, upper_t) -> pd.Series():\n",
    "#     print(f\"Casting with max , min = ({lower_t},{upper_t})\")\n",
    "    data = data.sort_values()\n",
    "    data[data<lower_t] = lower_t\n",
    "    data[data>upper_t] = upper_t\n",
    "    return data\n",
    "\n",
    "def standarize(df) ->pd.Series():\n",
    "    return round((df-df.min())/(df.max()-df.min()),4)\n",
    "\n",
    "def one_hot_encoding(f):\n",
    "    global csv\n",
    "    ohe = ce.OneHotEncoder(cols = [f], handle_unknown='ignore', use_cat_names=True)\n",
    "    csv[f] = csv[f].fillna(-1)\n",
    "    new_features = ohe.fit_transform(csv[f].to_frame())\n",
    "    csv = csv.drop([f],axis=1)\n",
    "    csv = pd.concat([csv,new_features],axis=1)\n",
    "    \n",
    "def binary_encoding(f):\n",
    "    global csv\n",
    "    ohe = ce.BinaryEncoder(cols = [f], handle_unknown='ignore',drop_invariant=True)\n",
    "    csv[f] = csv[f].fillna(-1)\n",
    "    new_features = ohe.fit_transform(csv[f].to_frame())\n",
    "    csv = csv.drop([f],axis=1)\n",
    "    csv = pd.concat([csv,new_features],axis=1)  \n",
    "def delete(f):\n",
    "    global csv\n",
    "    csv[f] = csv_org[f]\n",
    "    csv = csv.drop(f, axis=1)"
   ]
  },
  {
   "cell_type": "markdown",
   "metadata": {},
   "source": [
    "# Data Cleaning"
   ]
  },
  {
   "cell_type": "code",
   "execution_count": 309,
   "metadata": {},
   "outputs": [
    {
     "name": "stderr",
     "output_type": "stream",
     "text": [
      "C:\\Users\\Mateusz\\Miniconda3\\lib\\site-packages\\ipykernel_launcher.py:13: FutureWarning: Sorting because non-concatenation axis is not aligned. A future version\n",
      "of pandas will change to not sort by default.\n",
      "\n",
      "To accept the future behavior, pass 'sort=False'.\n",
      "\n",
      "To retain the current behavior and silence the warning, pass 'sort=True'.\n",
      "\n",
      "  del sys.path[0]\n"
     ]
    },
    {
     "name": "stdout",
     "output_type": "stream",
     "text": [
      "50000\n",
      "49442\n",
      "207\n"
     ]
    }
   ],
   "source": [
    "csv,classes = load_data()\n",
    "csv_org = csv.copy()\n",
    "nans = nans_ctr()\n",
    "unique = unique_ctr()\n",
    "val_type = val_types()\n",
    "print(max(nans))\n",
    "del_nans(0.99)\n",
    "print(max(nans))\n",
    "print(len(csv.columns))"
   ]
  },
  {
   "cell_type": "markdown",
   "metadata": {},
   "source": [
    "# Data Preprocessing"
   ]
  },
  {
   "cell_type": "code",
   "execution_count": 531,
   "metadata": {
    "scrolled": true
   },
   "outputs": [
    {
     "name": "stdout",
     "output_type": "stream",
     "text": [
      "Var1 min: 0.0\tmax: 1.0\n",
      "Var10 min: 0.0\tmax: 1.0\n",
      "Var100 min: 0.0\tmax: 1.0\n",
      "Var103 min: 0.0\tmax: 1.0\n",
      "Var104 min: 0.0\tmax: 1.0\n",
      "Var107 min: 0.0\tmax: 1.0\n",
      "Var109 min: 0.0\tmax: 1.0\n",
      "Var11 min: 0.0\tmax: 1.0\n",
      "Var110 min: 0.0\tmax: 1.0\n",
      "Var111 min: 0.0\tmax: 1.0\n",
      "Var112 min: 0.0\tmax: 1.0\n",
      "Var114 min: 0.0\tmax: 1.0\n",
      "Var115 min: 0.0\tmax: 1.0\n",
      "Var117 min: 0.0\tmax: 1.0\n",
      "Var119 min: 0.0\tmax: 1.0\n",
      "Var12 min: 0.0\tmax: 1.0\n",
      "Var120 min: 0.0\tmax: 1.0\n",
      "Var121 min: 0.0\tmax: 1.0\n",
      "Var123 min: 0.0\tmax: 1.0\n",
      "Var124 min: 0.0\tmax: 1.0\n",
      "Var125 min: 0.0\tmax: 1.0\n",
      "Var126 min: 0.0\tmax: 1.0\n",
      "Var127 min: 0.0\tmax: 1.0\n",
      "Var128 min: 0.0\tmax: 1.0\n",
      "Var129 min: 0.0\tmax: 1.0\n",
      "Var13 min: 0.0\tmax: 1.0\n",
      "Var131 min: 0.0\tmax: 1.0\n",
      "Var132 min: 0.0\tmax: 1.0\n",
      "Var133 min: 0.0\tmax: 1.0\n",
      "Var134 min: 0.0\tmax: 1.0\n",
      "Var135 min: 0.0\tmax: 1.0\n",
      "Var137 min: 0.0\tmax: 1.0\n",
      "Var139 min: 0.0\tmax: 1.0\n",
      "Var14 min: 0.0\tmax: 1.0\n",
      "Var144 min: 0.0\tmax: 1.0\n",
      "Var145 min: 0.0\tmax: 1.0\n",
      "Var147 min: 0.0\tmax: 1.0\n",
      "Var148 min: 0.0\tmax: 1.0\n",
      "Var149 min: 0.0\tmax: 1.0\n",
      "Var150 min: 0.0\tmax: 1.0\n",
      "Var151 min: 0.0\tmax: 1.0\n",
      "Var152 min: 0.0\tmax: 1.0\n",
      "Var153 min: 0.0\tmax: 1.0\n",
      "Var154 min: 0.0\tmax: 1.0\n",
      "Var156 min: 0.0\tmax: 1.0\n",
      "Var157 min: 0.0\tmax: 1.0\n",
      "Var159 min: 0.0\tmax: 1.0\n",
      "Var16 min: 0.0\tmax: 1.0\n",
      "Var160 min: 0.0\tmax: 1.0\n",
      "Var161 min: 0.0\tmax: 1.0\n",
      "Var162 min: 0.0\tmax: 1.0\n",
      "Var163 min: 0.0\tmax: 1.0\n",
      "Var164 min: 0.0\tmax: 1.0\n",
      "Var165 min: 0.0\tmax: 1.0\n",
      "Var166 min: 0.0\tmax: 1.0\n",
      "Var168 min: 0.0\tmax: 1.0\n",
      "Var17 min: 0.0\tmax: 1.0\n",
      "Var170 min: 0.0\tmax: 1.0\n",
      "Var171 min: 0.0\tmax: 1.0\n",
      "Var172 min: 0.0\tmax: 1.0\n",
      "Var174 min: 0.0\tmax: 1.0\n",
      "Var177 min: 0.0\tmax: 1.0\n",
      "Var178 min: 0.0\tmax: 1.0\n",
      "Var179 min: 0.0\tmax: 1.0\n",
      "Var18 min: 0.0\tmax: 1.0\n",
      "Var180 min: 0.0\tmax: 1.0\n",
      "Var182 min: 0.0\tmax: 1.0\n",
      "Var183 min: 0.0\tmax: 1.0\n",
      "Var184 min: 0.0\tmax: 1.0\n",
      "Var186 min: 0.0\tmax: 1.0\n",
      "Var187 min: 0.0\tmax: 1.0\n",
      "Var188 min: 0.0\tmax: 1.0\n",
      "Var189 min: 0.0\tmax: 1.0\n",
      "Var19 min: 0.0\tmax: 1.0\n",
      "Var192 min: 0.0\tmax: 1.0\n",
      "Var193 min: 0.0\tmax: 1.0\n",
      "Var196 min: 0.0\tmax: 1.0\n",
      "Var197 min: 0.0\tmax: 1.0\n",
      "Var198 min: 0.0\tmax: 1.0\n",
      "Var199 min: 0.0\tmax: 1.0\n",
      "Var202 min: 0.0\tmax: 1.0\n",
      "Var204 min: 0.0\tmax: 1.0\n",
      "Var206 min: 0.0\tmax: 1.0\n",
      "Var208 min: 0.0\tmax: 1.0\n",
      "Var21 min: 0.0\tmax: 1.0\n",
      "Var211 min: 0.0\tmax: 1.0\n",
      "Var212 min: 0.0\tmax: 1.0\n",
      "Var216 min: 0.0\tmax: 1.0\n",
      "Var217 min: 0.0\tmax: 1.0\n",
      "Var218 min: 0.0\tmax: 1.0\n",
      "Var219 min: 0.0\tmax: 1.0\n",
      "Var221 min: 0.0\tmax: 1.0\n",
      "Var223 min: 0.0\tmax: 1.0\n",
      "Var225 min: 0.0\tmax: 1.0\n",
      "Var226 min: 0.0\tmax: 1.0\n",
      "Var227 min: 0.0\tmax: 1.0\n",
      "Var228 min: 0.0\tmax: 1.0\n",
      "Var229 min: 0.0\tmax: 1.0\n",
      "Var23 min: 0.0\tmax: 1.0\n",
      "Var24 min: 0.0\tmax: 1.0\n",
      "Var25 min: 0.0\tmax: 1.0\n",
      "Var26 min: 0.0\tmax: 1.0\n",
      "Var27 min: 0.0\tmax: 1.0\n",
      "Var28 min: 0.0\tmax: 1.0\n",
      "Var29 min: 0.0\tmax: 1.0\n",
      "Var30 min: 0.0\tmax: 1.0\n",
      "Var34 min: 0.0\tmax: 1.0\n",
      "Var35 min: 0.0\tmax: 1.0\n",
      "Var4 min: 0.0\tmax: 1.0\n",
      "Var40 min: 0.0\tmax: 1.0\n",
      "Var41 min: 0.0\tmax: 1.0\n",
      "Var43 min: 0.0\tmax: 1.0\n",
      "Var46 min: 0.0\tmax: 1.0\n",
      "Var47 min: 0.0\tmax: 1.0\n",
      "Var49 min: 0.0\tmax: 1.0\n",
      "Var50 min: 0.0\tmax: 1.0\n",
      "Var51 min: 0.0\tmax: 1.0\n",
      "Var53 min: 0.0\tmax: 1.0\n",
      "Var54 min: 0.0\tmax: 1.0\n",
      "Var56 min: 0.0\tmax: 1.0\n",
      "Var57 min: 0.0\tmax: 1.0\n",
      "Var58 min: 0.0\tmax: 1.0\n",
      "Var59 min: 0.0\tmax: 1.0\n",
      "Var6 min: 0.0\tmax: 1.0\n",
      "Var60 min: 0.0\tmax: 1.0\n",
      "Var61 min: 0.0\tmax: 1.0\n",
      "Var62 min: 1.0\tmax: 2.0\n",
      "Var63 min: 0.0\tmax: 1.0\n",
      "Var65 min: 0.0\tmax: 1.0\n",
      "Var66 min: 0.0\tmax: 1.0\n",
      "Var68 min: 0.0\tmax: 1.0\n",
      "Var69 min: 0.0\tmax: 1.0\n",
      "Var7 min: 0.0\tmax: 1.0\n",
      "Var70 min: 0.0\tmax: 1.0\n",
      "Var71 min: 0.0\tmax: 1.0\n",
      "Var72 min: 0.0\tmax: 1.0\n",
      "Var73 min: 0.0\tmax: 1.0\n",
      "Var74 min: 0.0\tmax: 1.0\n",
      "Var75 min: 0.0\tmax: 1.0\n",
      "Var76 min: 0.0\tmax: 1.0\n",
      "Var77 min: 0.0\tmax: 1.0\n",
      "Var82 min: 0.0\tmax: 1.0\n",
      "Var83 min: 0.0\tmax: 1.0\n",
      "Var84 min: 0.0\tmax: 1.0\n",
      "Var85 min: 0.0\tmax: 1.0\n",
      "Var86 min: 0.0\tmax: 1.0\n",
      "Var87 min: 0.0\tmax: 1.0\n",
      "Var88 min: 0.0\tmax: 1.0\n",
      "Var89 min: 0.0\tmax: 1.0\n",
      "Var9 min: 0.0\tmax: 1.0\n",
      "Var91 min: 0.0\tmax: 1.0\n",
      "Var94 min: 0.0\tmax: 1.0\n",
      "Var96 min: 0.0\tmax: 1.0\n",
      "Var97 min: 0.0\tmax: 1.0\n",
      "Var98 min: 0.0\tmax: 1.0\n",
      "Var99 min: 0.0\tmax: 1.0\n",
      "train min: 0\tmax: 1\n",
      "Var81_1.0 min: 0\tmax: 1\n",
      "Var81_2.0 min: 0\tmax: 1\n",
      "Var37_3.0 min: 0\tmax: 1\n",
      "Var37_1.0 min: 0\tmax: 1\n",
      "Var36_1.0 min: 0\tmax: 1\n",
      "Var36_2.0 min: 0\tmax: 1\n",
      "Var5_1 min: 0\tmax: 1\n",
      "Var5_2 min: 0\tmax: 1\n",
      "Var5_3 min: 0\tmax: 1\n",
      "Var3_1.0 min: 0\tmax: 1\n",
      "Var3_4.0 min: 0\tmax: 1\n",
      "Var3_3.0 min: 0\tmax: 1\n",
      "Var2_0.0 min: 0\tmax: 1\n",
      "Var2_5.0 min: 0\tmax: 1\n"
     ]
    }
   ],
   "source": [
    "for col in csv.columns:\n",
    "    print(col,end=\"\")\n",
    "    print(f\" min: {csv[col].min()}\\tmax: {csv[col].max()}\")"
   ]
  },
  {
   "cell_type": "code",
   "execution_count": 532,
   "metadata": {},
   "outputs": [],
   "source": [
    "csv.to_csv(\"data.csv\", sep=',')"
   ]
  },
  {
   "cell_type": "code",
   "execution_count": 312,
   "metadata": {},
   "outputs": [],
   "source": [
    "f = 'Var230'\n",
    "delete(f)"
   ]
  },
  {
   "cell_type": "code",
   "execution_count": 313,
   "metadata": {},
   "outputs": [
    {
     "name": "stderr",
     "output_type": "stream",
     "text": [
      "C:\\Users\\Mateusz\\Miniconda3\\lib\\site-packages\\ipykernel_launcher.py:5: SettingWithCopyWarning: \n",
      "A value is trying to be set on a copy of a slice from a DataFrame\n",
      "\n",
      "See the caveats in the documentation: http://pandas.pydata.org/pandas-docs/stable/indexing.html#indexing-view-versus-copy\n",
      "  \"\"\"\n"
     ]
    }
   ],
   "source": [
    "f = 'Var229'\n",
    "csv[f] = csv_org[f].copy()\n",
    "csv[f] = csv[f].fillna(-1)\n",
    "csv[f] = factorize(csv[f])\n",
    "(csv[f][csv[f]!=0]) = 1\n",
    "csv[f] = standarize(csv[f])\n",
    "# plot(csv[f],sort=True,log=False,fontsize=14)"
   ]
  },
  {
   "cell_type": "code",
   "execution_count": 314,
   "metadata": {},
   "outputs": [
    {
     "name": "stderr",
     "output_type": "stream",
     "text": [
      "C:\\Users\\Mateusz\\Miniconda3\\lib\\site-packages\\ipykernel_launcher.py:5: SettingWithCopyWarning: \n",
      "A value is trying to be set on a copy of a slice from a DataFrame\n",
      "\n",
      "See the caveats in the documentation: http://pandas.pydata.org/pandas-docs/stable/indexing.html#indexing-view-versus-copy\n",
      "  \"\"\"\n"
     ]
    }
   ],
   "source": [
    "f = 'Var228'\n",
    "csv[f] = csv_org[f].copy()\n",
    "csv[f] = csv[f].fillna(-1)\n",
    "csv[f] = factorize(csv[f])\n",
    "(csv[f][csv[f]!=1]) = 2\n",
    "csv[f] = standarize(csv[f])\n",
    "# plot(csv[f],sort=True,log=False,fontsize=14)"
   ]
  },
  {
   "cell_type": "code",
   "execution_count": 315,
   "metadata": {},
   "outputs": [
    {
     "name": "stderr",
     "output_type": "stream",
     "text": [
      "C:\\Users\\Mateusz\\Miniconda3\\lib\\site-packages\\ipykernel_launcher.py:5: SettingWithCopyWarning: \n",
      "A value is trying to be set on a copy of a slice from a DataFrame\n",
      "\n",
      "See the caveats in the documentation: http://pandas.pydata.org/pandas-docs/stable/indexing.html#indexing-view-versus-copy\n",
      "  \"\"\"\n"
     ]
    }
   ],
   "source": [
    "f = 'Var227'\n",
    "csv[f] = csv_org[f].copy()\n",
    "csv[f] = csv[f].fillna(-1)\n",
    "csv[f] = factorize(csv[f])\n",
    "(csv[f][csv[f]!=1]) = 2\n",
    "csv[f] = standarize(csv[f])\n",
    "# plot(csv[f],sort=True,log=False,fontsize=14)"
   ]
  },
  {
   "cell_type": "code",
   "execution_count": 316,
   "metadata": {},
   "outputs": [
    {
     "name": "stderr",
     "output_type": "stream",
     "text": [
      "C:\\Users\\Mateusz\\Miniconda3\\lib\\site-packages\\ipykernel_launcher.py:6: SettingWithCopyWarning: \n",
      "A value is trying to be set on a copy of a slice from a DataFrame\n",
      "\n",
      "See the caveats in the documentation: http://pandas.pydata.org/pandas-docs/stable/indexing.html#indexing-view-versus-copy\n",
      "  \n"
     ]
    }
   ],
   "source": [
    "f = 'Var226'\n",
    "csv[f] = csv_org[f].copy()\n",
    "csv[f] = csv[f].fillna(method='ffill')\n",
    "csv[f] = csv[f].fillna(method='bfill')\n",
    "csv[f] = factorize(csv[f])\n",
    "(csv[f][csv[f]!=5]) = 1\n",
    "csv[f] = standarize(csv[f])\n",
    "# plot(csv[f],sort=True,log=False,fontsize=14)"
   ]
  },
  {
   "cell_type": "code",
   "execution_count": 317,
   "metadata": {},
   "outputs": [
    {
     "name": "stderr",
     "output_type": "stream",
     "text": [
      "C:\\Users\\Mateusz\\Miniconda3\\lib\\site-packages\\ipykernel_launcher.py:6: SettingWithCopyWarning: \n",
      "A value is trying to be set on a copy of a slice from a DataFrame\n",
      "\n",
      "See the caveats in the documentation: http://pandas.pydata.org/pandas-docs/stable/indexing.html#indexing-view-versus-copy\n",
      "  \n"
     ]
    }
   ],
   "source": [
    "f = 'Var225'\n",
    "csv[f] = csv_org[f].copy()\n",
    "csv[f] = csv[f].fillna(method='ffill')\n",
    "csv[f] = csv[f].fillna(method='bfill')\n",
    "csv[f] = factorize(csv[f])\n",
    "(csv[f][csv[f]==2]) = 1\n",
    "csv[f] = standarize(csv[f])\n",
    "# plot(csv[f],sort=True,log=False,fontsize=14)"
   ]
  },
  {
   "cell_type": "code",
   "execution_count": 318,
   "metadata": {},
   "outputs": [],
   "source": [
    "f = 'Var224'\n",
    "delete(f)"
   ]
  },
  {
   "cell_type": "code",
   "execution_count": 319,
   "metadata": {},
   "outputs": [
    {
     "name": "stderr",
     "output_type": "stream",
     "text": [
      "C:\\Users\\Mateusz\\Miniconda3\\lib\\site-packages\\ipykernel_launcher.py:5: SettingWithCopyWarning: \n",
      "A value is trying to be set on a copy of a slice from a DataFrame\n",
      "\n",
      "See the caveats in the documentation: http://pandas.pydata.org/pandas-docs/stable/indexing.html#indexing-view-versus-copy\n",
      "  \"\"\"\n"
     ]
    }
   ],
   "source": [
    "f = 'Var223'\n",
    "csv[f] = csv_org[f].copy()\n",
    "csv[f] = csv[f].fillna(-1)\n",
    "csv[f] = factorize(csv[f])\n",
    "(csv[f][csv[f]!=0]) = 1\n",
    "csv[f] = standarize(csv[f])\n",
    "# plot(csv[f],sort=True,log=False,fontsize=14)"
   ]
  },
  {
   "cell_type": "code",
   "execution_count": 320,
   "metadata": {},
   "outputs": [],
   "source": [
    "f = 'Var223'\n",
    "csv[f] = csv_org[f].copy()\n",
    "csv[f] = csv[f].fillna(method='ffill')\n",
    "csv[f] = csv[f].fillna(method='bfill')\n",
    "csv[f] = factorize(csv[f])\n",
    "# (csv[f][csv[f]!=2]) = 1\n",
    "csv[f] = standarize(csv[f])\n",
    "# plot(csv[f],sort=True,log=False,fontsize=14)"
   ]
  },
  {
   "cell_type": "code",
   "execution_count": 321,
   "metadata": {},
   "outputs": [],
   "source": [
    "f = 'Var222'\n",
    "delete(f)"
   ]
  },
  {
   "cell_type": "code",
   "execution_count": 322,
   "metadata": {},
   "outputs": [
    {
     "name": "stderr",
     "output_type": "stream",
     "text": [
      "C:\\Users\\Mateusz\\Miniconda3\\lib\\site-packages\\ipykernel_launcher.py:5: SettingWithCopyWarning: \n",
      "A value is trying to be set on a copy of a slice from a DataFrame\n",
      "\n",
      "See the caveats in the documentation: http://pandas.pydata.org/pandas-docs/stable/indexing.html#indexing-view-versus-copy\n",
      "  \"\"\"\n"
     ]
    }
   ],
   "source": [
    "f = 'Var221'\n",
    "csv[f] = csv_org[f].copy()\n",
    "csv[f] = csv[f].fillna(-1)\n",
    "csv[f] = factorize(csv[f])\n",
    "(csv[f][csv[f]!=1]) = 0\n",
    "csv[f] = standarize(csv[f])\n",
    "# plot(csv[f],sort=True,log=False,fontsize=14)"
   ]
  },
  {
   "cell_type": "code",
   "execution_count": 323,
   "metadata": {},
   "outputs": [],
   "source": [
    "f = 'Var220'\n",
    "delete(f)"
   ]
  },
  {
   "cell_type": "code",
   "execution_count": 324,
   "metadata": {},
   "outputs": [
    {
     "name": "stderr",
     "output_type": "stream",
     "text": [
      "C:\\Users\\Mateusz\\Miniconda3\\lib\\site-packages\\ipykernel_launcher.py:5: SettingWithCopyWarning: \n",
      "A value is trying to be set on a copy of a slice from a DataFrame\n",
      "\n",
      "See the caveats in the documentation: http://pandas.pydata.org/pandas-docs/stable/indexing.html#indexing-view-versus-copy\n",
      "  \"\"\"\n"
     ]
    }
   ],
   "source": [
    "f = 'Var219'\n",
    "csv[f] = csv_org[f].copy()\n",
    "csv[f] = csv[f].fillna(-1)\n",
    "csv[f] = factorize(csv[f])\n",
    "(csv[f][csv[f]!=0]) = 1\n",
    "csv[f] = standarize(csv[f])\n",
    "# plot(csv[f],sort=True,log=False,fontsize=14)"
   ]
  },
  {
   "cell_type": "code",
   "execution_count": 325,
   "metadata": {},
   "outputs": [
    {
     "name": "stderr",
     "output_type": "stream",
     "text": [
      "C:\\Users\\Mateusz\\Miniconda3\\lib\\site-packages\\ipykernel_launcher.py:5: SettingWithCopyWarning: \n",
      "A value is trying to be set on a copy of a slice from a DataFrame\n",
      "\n",
      "See the caveats in the documentation: http://pandas.pydata.org/pandas-docs/stable/indexing.html#indexing-view-versus-copy\n",
      "  \"\"\"\n"
     ]
    }
   ],
   "source": [
    "f = 'Var219'\n",
    "csv[f] = csv_org[f].copy()\n",
    "csv[f] = csv[f].fillna(-1)\n",
    "csv[f] = factorize(csv[f])\n",
    "(csv[f][csv[f]!=0]) = 1\n",
    "csv[f] = standarize(csv[f])\n",
    "# plot(csv[f],sort=True,log=False,fontsize=14)"
   ]
  },
  {
   "cell_type": "code",
   "execution_count": 326,
   "metadata": {},
   "outputs": [],
   "source": [
    "f = 'Var218'\n",
    "csv[f] = csv_org[f].copy()\n",
    "csv[f] = csv[f].fillna(method='ffill')\n",
    "csv[f] = csv[f].fillna(method='bfill')\n",
    "csv[f] = factorize(csv[f])\n",
    "csv[f] = standarize(csv[f])\n",
    "# plot(csv[f],sort=True,log=False,fontsize=14)"
   ]
  },
  {
   "cell_type": "code",
   "execution_count": 327,
   "metadata": {},
   "outputs": [
    {
     "data": {
      "application/vnd.jupyter.widget-view+json": {
       "model_id": "",
       "version_major": 2,
       "version_minor": 0
      },
      "text/plain": [
       "HBox(children=(IntProgress(value=0, description='Progress', max=2, style=ProgressStyle(description_width='init…"
      ]
     },
     "metadata": {},
     "output_type": "display_data"
    },
    {
     "data": {
      "application/vnd.jupyter.widget-view+json": {
       "model_id": "",
       "version_major": 2,
       "version_minor": 0
      },
      "text/plain": [
       "HBox(children=(IntProgress(value=0, max=2920), HTML(value='')))"
      ]
     },
     "metadata": {},
     "output_type": "display_data"
    },
    {
     "data": {
      "application/vnd.jupyter.widget-view+json": {
       "model_id": "",
       "version_major": 2,
       "version_minor": 0
      },
      "text/plain": [
       "HBox(children=(IntProgress(value=0, max=11071), HTML(value='')))"
      ]
     },
     "metadata": {},
     "output_type": "display_data"
    },
    {
     "name": "stdout",
     "output_type": "stream",
     "text": [
      "\r"
     ]
    }
   ],
   "source": [
    "f = 'Var217'\n",
    "csv[f] = csv_org[f].copy()\n",
    "csv[f] = csv[f].fillna(-1)\n",
    "csv[f] = factorize(csv[f])\n",
    "csv[f] = threshold_factorization(csv[f],3)\n",
    "csv[f] = standarize(csv[f])\n",
    "# plot(csv[f],sort=True,log=False,fontsize=14)"
   ]
  },
  {
   "cell_type": "code",
   "execution_count": 328,
   "metadata": {},
   "outputs": [
    {
     "data": {
      "application/vnd.jupyter.widget-view+json": {
       "model_id": "",
       "version_major": 2,
       "version_minor": 0
      },
      "text/plain": [
       "HBox(children=(IntProgress(value=0, description='Progress', max=2, style=ProgressStyle(description_width='init…"
      ]
     },
     "metadata": {},
     "output_type": "display_data"
    },
    {
     "data": {
      "application/vnd.jupyter.widget-view+json": {
       "model_id": "",
       "version_major": 2,
       "version_minor": 0
      },
      "text/plain": [
       "HBox(children=(IntProgress(value=0, max=1148), HTML(value='')))"
      ]
     },
     "metadata": {},
     "output_type": "display_data"
    },
    {
     "data": {
      "application/vnd.jupyter.widget-view+json": {
       "model_id": "",
       "version_major": 2,
       "version_minor": 0
      },
      "text/plain": [
       "HBox(children=(IntProgress(value=0, max=868), HTML(value='')))"
      ]
     },
     "metadata": {},
     "output_type": "display_data"
    },
    {
     "name": "stdout",
     "output_type": "stream",
     "text": [
      "\r"
     ]
    }
   ],
   "source": [
    "f = 'Var216'\n",
    "csv[f] = csv_org[f].copy()\n",
    "csv[f] = csv[f].fillna(-1)\n",
    "csv[f] = factorize(csv[f])\n",
    "csv[f] = threshold_factorization(csv[f],1)\n",
    "csv[f] = standarize(csv[f])\n",
    "# plot(csv[f],sort=True,log=False,fontsize=14)"
   ]
  },
  {
   "cell_type": "code",
   "execution_count": 329,
   "metadata": {},
   "outputs": [],
   "source": [
    "f = 'Var215'\n",
    "delete(f)"
   ]
  },
  {
   "cell_type": "code",
   "execution_count": 330,
   "metadata": {},
   "outputs": [],
   "source": [
    "f = 'Var214'\n",
    "delete(f)"
   ]
  },
  {
   "cell_type": "code",
   "execution_count": 331,
   "metadata": {},
   "outputs": [],
   "source": [
    "f = 'Var213'\n",
    "delete(f)"
   ]
  },
  {
   "cell_type": "code",
   "execution_count": 332,
   "metadata": {},
   "outputs": [
    {
     "name": "stderr",
     "output_type": "stream",
     "text": [
      "C:\\Users\\Mateusz\\Miniconda3\\lib\\site-packages\\ipykernel_launcher.py:6: SettingWithCopyWarning: \n",
      "A value is trying to be set on a copy of a slice from a DataFrame\n",
      "\n",
      "See the caveats in the documentation: http://pandas.pydata.org/pandas-docs/stable/indexing.html#indexing-view-versus-copy\n",
      "  \n"
     ]
    }
   ],
   "source": [
    "f = 'Var212'\n",
    "csv[f] = csv_org[f].copy()\n",
    "csv[f] = csv[f].fillna(method='ffill')\n",
    "csv[f] = csv[f].fillna(method='bfill')\n",
    "csv[f] = factorize(csv[f])\n",
    "(csv[f][csv[f]!=1]) = 2\n",
    "csv[f] = standarize(csv[f])\n",
    "# plot(csv[f],sort=True,log=False,fontsize=14)"
   ]
  },
  {
   "cell_type": "code",
   "execution_count": 333,
   "metadata": {},
   "outputs": [],
   "source": [
    "f = 'Var211'\n",
    "csv[f] = csv_org[f].copy()\n",
    "csv[f] = csv[f].fillna(method='ffill')\n",
    "csv[f] = csv[f].fillna(method='bfill')\n",
    "csv[f] = factorize(csv[f])\n",
    "csv[f] = standarize(csv[f])\n",
    "# plot(csv[f],sort=True,log=False,fontsize=14)"
   ]
  },
  {
   "cell_type": "code",
   "execution_count": 334,
   "metadata": {},
   "outputs": [],
   "source": [
    "f = 'Var210'\n",
    "delete(f)"
   ]
  },
  {
   "cell_type": "code",
   "execution_count": 335,
   "metadata": {},
   "outputs": [],
   "source": [
    "f = 'Var209'\n",
    "delete(f)"
   ]
  },
  {
   "cell_type": "code",
   "execution_count": 336,
   "metadata": {},
   "outputs": [],
   "source": [
    "f = 'Var208'\n",
    "csv[f] = csv_org[f].copy()\n",
    "csv[f] = csv[f].fillna(method='ffill')\n",
    "csv[f] = csv[f].fillna(method='bfill')\n",
    "csv[f] = factorize(csv[f])\n",
    "# plot(csv[f],sort=True,log=False)\n",
    "csv[f] = standarize(csv[f])"
   ]
  },
  {
   "cell_type": "code",
   "execution_count": 337,
   "metadata": {},
   "outputs": [],
   "source": [
    "f = 'Var207'\n",
    "delete(f)"
   ]
  },
  {
   "cell_type": "code",
   "execution_count": 338,
   "metadata": {},
   "outputs": [
    {
     "name": "stderr",
     "output_type": "stream",
     "text": [
      "C:\\Users\\Mateusz\\Miniconda3\\lib\\site-packages\\ipykernel_launcher.py:6: SettingWithCopyWarning: \n",
      "A value is trying to be set on a copy of a slice from a DataFrame\n",
      "\n",
      "See the caveats in the documentation: http://pandas.pydata.org/pandas-docs/stable/indexing.html#indexing-view-versus-copy\n",
      "  \n"
     ]
    }
   ],
   "source": [
    "f = 'Var206'\n",
    "csv[f] = csv_org[f].copy()\n",
    "csv[f] = csv[f].fillna(method='ffill')\n",
    "csv[f] = csv[f].fillna(method='bfill')\n",
    "csv[f] = factorize(csv[f])\n",
    "(csv[f][csv[f]!=2]) = 1\n",
    "csv[f] = standarize(csv[f])\n",
    "# # plot(csv[f],sort=True,log=False,fontsize=14)"
   ]
  },
  {
   "cell_type": "code",
   "execution_count": 339,
   "metadata": {},
   "outputs": [],
   "source": [
    "f = 'Var205'\n",
    "delete(f)"
   ]
  },
  {
   "cell_type": "code",
   "execution_count": 340,
   "metadata": {},
   "outputs": [
    {
     "name": "stderr",
     "output_type": "stream",
     "text": [
      "C:\\Users\\Mateusz\\Miniconda3\\lib\\site-packages\\ipykernel_launcher.py:6: SettingWithCopyWarning: \n",
      "A value is trying to be set on a copy of a slice from a DataFrame\n",
      "\n",
      "See the caveats in the documentation: http://pandas.pydata.org/pandas-docs/stable/indexing.html#indexing-view-versus-copy\n",
      "  \n",
      "C:\\Users\\Mateusz\\Miniconda3\\lib\\site-packages\\ipykernel_launcher.py:7: SettingWithCopyWarning: \n",
      "A value is trying to be set on a copy of a slice from a DataFrame\n",
      "\n",
      "See the caveats in the documentation: http://pandas.pydata.org/pandas-docs/stable/indexing.html#indexing-view-versus-copy\n",
      "  import sys\n",
      "C:\\Users\\Mateusz\\Miniconda3\\lib\\site-packages\\ipykernel_launcher.py:8: SettingWithCopyWarning: \n",
      "A value is trying to be set on a copy of a slice from a DataFrame\n",
      "\n",
      "See the caveats in the documentation: http://pandas.pydata.org/pandas-docs/stable/indexing.html#indexing-view-versus-copy\n",
      "  \n"
     ]
    }
   ],
   "source": [
    "f = 'Var204'\n",
    "csv[f] = csv_org[f].copy()\n",
    "csv[f] = csv[f].fillna(method='ffill')\n",
    "csv[f] = csv[f].fillna(method='bfill')\n",
    "csv[f] = factorize(csv[f])\n",
    "(csv[f][csv[f] == 1])=3\n",
    "(csv[f][csv[f] == 11])=3\n",
    "(csv[f][csv[f] !=3])=2\n",
    "csv[f] = standarize(csv[f])\n",
    "# # plot(csv[f],sort=True,log=False,fontsize=14)"
   ]
  },
  {
   "cell_type": "code",
   "execution_count": 341,
   "metadata": {},
   "outputs": [],
   "source": [
    "f = 'Var203'\n",
    "delete(f)"
   ]
  },
  {
   "cell_type": "code",
   "execution_count": 342,
   "metadata": {},
   "outputs": [
    {
     "data": {
      "application/vnd.jupyter.widget-view+json": {
       "model_id": "",
       "version_major": 2,
       "version_minor": 0
      },
      "text/plain": [
       "HBox(children=(IntProgress(value=0, description='Progress', max=2, style=ProgressStyle(description_width='init…"
      ]
     },
     "metadata": {},
     "output_type": "display_data"
    },
    {
     "data": {
      "application/vnd.jupyter.widget-view+json": {
       "model_id": "",
       "version_major": 2,
       "version_minor": 0
      },
      "text/plain": [
       "HBox(children=(IntProgress(value=0, max=1415), HTML(value='')))"
      ]
     },
     "metadata": {},
     "output_type": "display_data"
    },
    {
     "data": {
      "application/vnd.jupyter.widget-view+json": {
       "model_id": "",
       "version_major": 2,
       "version_minor": 0
      },
      "text/plain": [
       "HBox(children=(IntProgress(value=0, max=4298), HTML(value='')))"
      ]
     },
     "metadata": {},
     "output_type": "display_data"
    },
    {
     "name": "stdout",
     "output_type": "stream",
     "text": [
      "\r"
     ]
    }
   ],
   "source": [
    "f = 'Var202'\n",
    "csv[f] = csv_org[f].copy()\n",
    "csv[f] = csv[f].fillna(method='ffill')\n",
    "csv[f] = csv[f].fillna(method='bfill')\n",
    "csv[f] = factorize(csv[f])\n",
    "csv[f] = threshold_factorization(csv[f],10)\n",
    "# plot(csv[f],sort=True,log=True)\n",
    "csv[f] = standarize(csv[f])"
   ]
  },
  {
   "cell_type": "code",
   "execution_count": 343,
   "metadata": {},
   "outputs": [],
   "source": [
    "f = 'Var201'\n",
    "delete(f)"
   ]
  },
  {
   "cell_type": "code",
   "execution_count": 344,
   "metadata": {},
   "outputs": [],
   "source": [
    "f = 'Var200'\n",
    "delete(f)"
   ]
  },
  {
   "cell_type": "code",
   "execution_count": 345,
   "metadata": {},
   "outputs": [
    {
     "name": "stdout",
     "output_type": "stream",
     "text": [
      "370\n"
     ]
    },
    {
     "data": {
      "application/vnd.jupyter.widget-view+json": {
       "model_id": "",
       "version_major": 2,
       "version_minor": 0
      },
      "text/plain": [
       "HBox(children=(IntProgress(value=0, description='Progress', max=4, style=ProgressStyle(description_width='init…"
      ]
     },
     "metadata": {},
     "output_type": "display_data"
    },
    {
     "data": {
      "application/vnd.jupyter.widget-view+json": {
       "model_id": "",
       "version_major": 2,
       "version_minor": 0
      },
      "text/plain": [
       "HBox(children=(IntProgress(value=0, max=48), HTML(value='')))"
      ]
     },
     "metadata": {},
     "output_type": "display_data"
    },
    {
     "data": {
      "application/vnd.jupyter.widget-view+json": {
       "model_id": "",
       "version_major": 2,
       "version_minor": 0
      },
      "text/plain": [
       "HBox(children=(IntProgress(value=0, max=74), HTML(value='')))"
      ]
     },
     "metadata": {},
     "output_type": "display_data"
    },
    {
     "data": {
      "application/vnd.jupyter.widget-view+json": {
       "model_id": "",
       "version_major": 2,
       "version_minor": 0
      },
      "text/plain": [
       "HBox(children=(IntProgress(value=0, max=1592), HTML(value='')))"
      ]
     },
     "metadata": {},
     "output_type": "display_data"
    },
    {
     "data": {
      "application/vnd.jupyter.widget-view+json": {
       "model_id": "",
       "version_major": 2,
       "version_minor": 0
      },
      "text/plain": [
       "HBox(children=(IntProgress(value=0, max=3359), HTML(value='')))"
      ]
     },
     "metadata": {},
     "output_type": "display_data"
    },
    {
     "name": "stdout",
     "output_type": "stream",
     "text": [
      "\r"
     ]
    }
   ],
   "source": [
    "f = 'Var199'\n",
    "csv[f] = csv_org[f].copy()\n",
    "csv[f] = csv[f].fillna(method='ffill')\n",
    "csv[f] = csv[f].fillna(method='bfill')\n",
    "csv[f] = factorize(csv[f])\n",
    "print(len(csv[f][(csv[f]==0)]))\n",
    "csv[f] = threshold_factorization(csv[f],200,100,1)\n",
    "csv[f] = standarize(csv[f])\n",
    "# # plot(csv[f],sort=True,log=True)"
   ]
  },
  {
   "cell_type": "code",
   "execution_count": 346,
   "metadata": {},
   "outputs": [
    {
     "name": "stdout",
     "output_type": "stream",
     "text": [
      "4441\n"
     ]
    },
    {
     "data": {
      "application/vnd.jupyter.widget-view+json": {
       "model_id": "",
       "version_major": 2,
       "version_minor": 0
      },
      "text/plain": [
       "HBox(children=(IntProgress(value=0, description='Progress', max=4, style=ProgressStyle(description_width='init…"
      ]
     },
     "metadata": {},
     "output_type": "display_data"
    },
    {
     "data": {
      "application/vnd.jupyter.widget-view+json": {
       "model_id": "",
       "version_major": 2,
       "version_minor": 0
      },
      "text/plain": [
       "HBox(children=(IntProgress(value=0, max=1), HTML(value='')))"
      ]
     },
     "metadata": {},
     "output_type": "display_data"
    },
    {
     "data": {
      "application/vnd.jupyter.widget-view+json": {
       "model_id": "",
       "version_major": 2,
       "version_minor": 0
      },
      "text/plain": [
       "HBox(children=(IntProgress(value=0, max=1), HTML(value='')))"
      ]
     },
     "metadata": {},
     "output_type": "display_data"
    },
    {
     "data": {
      "application/vnd.jupyter.widget-view+json": {
       "model_id": "",
       "version_major": 2,
       "version_minor": 0
      },
      "text/plain": [
       "HBox(children=(IntProgress(value=0, max=467), HTML(value='')))"
      ]
     },
     "metadata": {},
     "output_type": "display_data"
    },
    {
     "data": {
      "application/vnd.jupyter.widget-view+json": {
       "model_id": "",
       "version_major": 2,
       "version_minor": 0
      },
      "text/plain": [
       "HBox(children=(IntProgress(value=0, max=3822), HTML(value='')))"
      ]
     },
     "metadata": {},
     "output_type": "display_data"
    },
    {
     "name": "stdout",
     "output_type": "stream",
     "text": [
      "\r"
     ]
    },
    {
     "data": {
      "text/plain": [
       "<matplotlib.axes._subplots.AxesSubplot at 0x2361567d470>"
      ]
     },
     "execution_count": 346,
     "metadata": {},
     "output_type": "execute_result"
    },
    {
     "data": {
      "image/png": "[encoded data removed]",
      "text/plain": [
       "<Figure size 432x288 with 1 Axes>"
      ]
     },
     "metadata": {
      "needs_background": "light"
     },
     "output_type": "display_data"
    }
   ],
   "source": [
    "f = 'Var198'\n",
    "csv[f] = csv_org[f].copy()\n",
    "csv[f] = csv[f].fillna(method='ffill')\n",
    "csv[f] = csv[f].fillna(method='bfill')\n",
    "csv[f] = factorize(csv[f])\n",
    "print(len(csv[f][(csv[f]==0)]))\n",
    "csv[f] = threshold_factorization(csv[f],2800,1000,30)\n",
    "csv[f] = standarize(csv[f])\n",
    "# csv[f].plot.kde()"
   ]
  },
  {
   "cell_type": "code",
   "execution_count": 347,
   "metadata": {},
   "outputs": [
    {
     "data": {
      "application/vnd.jupyter.widget-view+json": {
       "model_id": "",
       "version_major": 2,
       "version_minor": 0
      },
      "text/plain": [
       "HBox(children=(IntProgress(value=0, description='Progress', max=4, style=ProgressStyle(description_width='init…"
      ]
     },
     "metadata": {},
     "output_type": "display_data"
    },
    {
     "data": {
      "application/vnd.jupyter.widget-view+json": {
       "model_id": "",
       "version_major": 2,
       "version_minor": 0
      },
      "text/plain": [
       "HBox(children=(IntProgress(value=1, bar_style='info', max=1), HTML(value='')))"
      ]
     },
     "metadata": {},
     "output_type": "display_data"
    },
    {
     "data": {
      "application/vnd.jupyter.widget-view+json": {
       "model_id": "",
       "version_major": 2,
       "version_minor": 0
      },
      "text/plain": [
       "HBox(children=(IntProgress(value=0, max=6), HTML(value='')))"
      ]
     },
     "metadata": {},
     "output_type": "display_data"
    },
    {
     "data": {
      "application/vnd.jupyter.widget-view+json": {
       "model_id": "",
       "version_major": 2,
       "version_minor": 0
      },
      "text/plain": [
       "HBox(children=(IntProgress(value=0), HTML(value='')))"
      ]
     },
     "metadata": {},
     "output_type": "display_data"
    },
    {
     "data": {
      "application/vnd.jupyter.widget-view+json": {
       "model_id": "",
       "version_major": 2,
       "version_minor": 0
      },
      "text/plain": [
       "HBox(children=(IntProgress(value=0, max=119), HTML(value='')))"
      ]
     },
     "metadata": {},
     "output_type": "display_data"
    },
    {
     "name": "stdout",
     "output_type": "stream",
     "text": [
      "\r"
     ]
    }
   ],
   "source": [
    "f = 'Var197'\n",
    "csv[f] = csv_org[f].copy()\n",
    "csv[f] = csv[f].fillna(method='ffill')\n",
    "csv[f] = csv[f].fillna(method='bfill')\n",
    "csv[f] = factorize(csv[f])\n",
    "csv[f] = threshold_factorization(csv[f],10000,1000,100)\n",
    "# plot(csv[f],sort=True,log=True)\n",
    "csv[f] = standarize(csv[f])"
   ]
  },
  {
   "cell_type": "code",
   "execution_count": 348,
   "metadata": {},
   "outputs": [],
   "source": [
    "f = 'Var196'\n",
    "csv[f] = csv_org[f].copy()\n",
    "csv[f] = csv[f].fillna(method='ffill')\n",
    "csv[f] = csv[f].fillna(method='bfill')\n",
    "csv[f] = factorize(csv[f])\n",
    "# plot(csv[f],sort=True,log=True)\n",
    "csv[f] = standarize(csv[f])"
   ]
  },
  {
   "cell_type": "code",
   "execution_count": 349,
   "metadata": {},
   "outputs": [],
   "source": [
    "f = 'Var195'\n",
    "delete(f)"
   ]
  },
  {
   "cell_type": "code",
   "execution_count": 350,
   "metadata": {},
   "outputs": [],
   "source": [
    "f = 'Var194'\n",
    "delete(f)"
   ]
  },
  {
   "cell_type": "code",
   "execution_count": 351,
   "metadata": {},
   "outputs": [
    {
     "data": {
      "application/vnd.jupyter.widget-view+json": {
       "model_id": "",
       "version_major": 2,
       "version_minor": 0
      },
      "text/plain": [
       "HBox(children=(IntProgress(value=0, description='Progress', max=2, style=ProgressStyle(description_width='init…"
      ]
     },
     "metadata": {},
     "output_type": "display_data"
    },
    {
     "data": {
      "application/vnd.jupyter.widget-view+json": {
       "model_id": "",
       "version_major": 2,
       "version_minor": 0
      },
      "text/plain": [
       "HBox(children=(IntProgress(value=0, max=1), HTML(value='')))"
      ]
     },
     "metadata": {},
     "output_type": "display_data"
    },
    {
     "data": {
      "application/vnd.jupyter.widget-view+json": {
       "model_id": "",
       "version_major": 2,
       "version_minor": 0
      },
      "text/plain": [
       "HBox(children=(IntProgress(value=0, max=50), HTML(value='')))"
      ]
     },
     "metadata": {},
     "output_type": "display_data"
    },
    {
     "name": "stdout",
     "output_type": "stream",
     "text": [
      "\r"
     ]
    }
   ],
   "source": [
    "f = 'Var193'\n",
    "csv[f] = csv_org[f].copy()\n",
    "csv[f] = csv[f].fillna(method='ffill')\n",
    "csv[f] = csv[f].fillna(method='bfill')\n",
    "csv[f] = factorize(csv[f])\n",
    "csv[f] = threshold_factorization(csv[f],10000)\n",
    "# # plot(csv[f],sort=True,log=False)\n",
    "csv[f] = standarize(csv[f])"
   ]
  },
  {
   "cell_type": "code",
   "execution_count": 352,
   "metadata": {},
   "outputs": [
    {
     "data": {
      "application/vnd.jupyter.widget-view+json": {
       "model_id": "",
       "version_major": 2,
       "version_minor": 0
      },
      "text/plain": [
       "HBox(children=(IntProgress(value=0, description='Progress', max=4, style=ProgressStyle(description_width='init…"
      ]
     },
     "metadata": {},
     "output_type": "display_data"
    },
    {
     "data": {
      "application/vnd.jupyter.widget-view+json": {
       "model_id": "",
       "version_major": 2,
       "version_minor": 0
      },
      "text/plain": [
       "HBox(children=(IntProgress(value=0, max=91), HTML(value='')))"
      ]
     },
     "metadata": {},
     "output_type": "display_data"
    },
    {
     "data": {
      "application/vnd.jupyter.widget-view+json": {
       "model_id": "",
       "version_major": 2,
       "version_minor": 0
      },
      "text/plain": [
       "HBox(children=(IntProgress(value=0, max=96), HTML(value='')))"
      ]
     },
     "metadata": {},
     "output_type": "display_data"
    },
    {
     "data": {
      "application/vnd.jupyter.widget-view+json": {
       "model_id": "",
       "version_major": 2,
       "version_minor": 0
      },
      "text/plain": [
       "HBox(children=(IntProgress(value=0, max=24), HTML(value='')))"
      ]
     },
     "metadata": {},
     "output_type": "display_data"
    },
    {
     "data": {
      "application/vnd.jupyter.widget-view+json": {
       "model_id": "",
       "version_major": 2,
       "version_minor": 0
      },
      "text/plain": [
       "HBox(children=(IntProgress(value=0, max=150), HTML(value='')))"
      ]
     },
     "metadata": {},
     "output_type": "display_data"
    },
    {
     "name": "stdout",
     "output_type": "stream",
     "text": [
      "\r"
     ]
    }
   ],
   "source": [
    "f = 'Var192'\n",
    "csv[f] = csv_org[f].copy()\n",
    "csv[f] = csv[f].fillna(method='ffill')\n",
    "csv[f] = csv[f].fillna(method='bfill')\n",
    "csv[f] = factorize(csv[f])\n",
    "csv[f] = threshold_factorization(csv[f],220,150,30)\n",
    "# # plot(csv[f],sort=True,log=False)\n",
    "csv[f] = standarize(csv[f])"
   ]
  },
  {
   "cell_type": "code",
   "execution_count": 353,
   "metadata": {},
   "outputs": [],
   "source": [
    "f = 'Var191'\n",
    "delete(f)"
   ]
  },
  {
   "cell_type": "code",
   "execution_count": 354,
   "metadata": {},
   "outputs": [],
   "source": [
    "f = 'Var190'\n",
    "delete(f)"
   ]
  },
  {
   "cell_type": "code",
   "execution_count": 355,
   "metadata": {},
   "outputs": [
    {
     "name": "stdout",
     "output_type": "stream",
     "text": [
      "min: 6.0\n",
      "max: 642.0\n",
      "nans: 28978\n",
      "unique: 98\n",
      "val_type: <class 'numpy.float64'>\n",
      "vals per class: 214.51\n",
      "None\n"
     ]
    }
   ],
   "source": [
    "f = 'Var189'\n",
    "print(stat(f))\n",
    "csv[f] = csv_org[f].copy()\n",
    "csv[f] = csv[f].fillna(method='ffill')\n",
    "csv[f] = csv[f].fillna(method='bfill')\n",
    "csv[f] = cast(csv[f],-100,csv[f].quantile(0.98))\n",
    "csv[f] = standarize(csv[f])\n",
    "# ax = csv[f].plot.kde()"
   ]
  },
  {
   "cell_type": "code",
   "execution_count": 356,
   "metadata": {},
   "outputs": [
    {
     "name": "stdout",
     "output_type": "stream",
     "text": [
      "min: -6.42\n",
      "max: 628.62\n",
      "nans: 48759\n",
      "unique: 536\n",
      "val_type: <class 'numpy.float64'>\n",
      "vals per class: 2.32\n",
      "None\n"
     ]
    }
   ],
   "source": [
    "f = 'Var188'\n",
    "print(stat(f))\n",
    "csv[f] = csv_org[f].copy()\n",
    "csv[f] = csv[f].fillna(method='ffill')\n",
    "csv[f] = csv[f].fillna(method='bfill')\n",
    "csv[f] = cast(csv[f],-100,csv[f].quantile(0.98))\n",
    "csv[f] = standarize(csv[f])\n",
    "# ax = csv[f].plot.kde()"
   ]
  },
  {
   "cell_type": "code",
   "execution_count": 357,
   "metadata": {},
   "outputs": [
    {
     "name": "stdout",
     "output_type": "stream",
     "text": [
      "min: 0.0\n",
      "max: 910.0\n",
      "nans: 49298\n",
      "unique: 58\n",
      "val_type: <class 'numpy.float64'>\n",
      "vals per class: 12.1\n",
      "None\n"
     ]
    },
    {
     "data": {
      "text/plain": [
       "<matplotlib.axes._subplots.AxesSubplot at 0x23612b0f828>"
      ]
     },
     "execution_count": 357,
     "metadata": {},
     "output_type": "execute_result"
    },
    {
     "data": {
      "image/png": "[encoded data removed]",
      "text/plain": [
       "<Figure size 432x288 with 1 Axes>"
      ]
     },
     "metadata": {
      "needs_background": "light"
     },
     "output_type": "display_data"
    }
   ],
   "source": [
    "f = 'Var187'\n",
    "# print(stat(f))\n",
    "csv[f] = csv_org[f].copy()\n",
    "csv[f] = csv[f].fillna(method='ffill')\n",
    "csv[f] = csv[f].fillna(method='bfill')\n",
    "csv[f] = cast(csv[f],-100,csv[f].quantile(0.98))\n",
    "# csv[f] = threshold_factorization(csv[f],10000)\n",
    "csv[f] = standarize(csv[f])\n",
    "# ax = csv[f].plot.kde()\n",
    "csv[f] = csv[f].apply(lambda x: np.power(x,1/3))\n",
    "csv[f] = standarize(csv[f])\n",
    "# csv[f].plot.kde()"
   ]
  },
  {
   "cell_type": "code",
   "execution_count": 358,
   "metadata": {},
   "outputs": [
    {
     "name": "stdout",
     "output_type": "stream",
     "text": [
      "min: 0.0\n",
      "max: 102.0\n",
      "nans: 49298\n",
      "unique: 14\n",
      "val_type: <class 'numpy.float64'>\n",
      "vals per class: 50.14\n",
      "None\n"
     ]
    },
    {
     "data": {
      "application/vnd.jupyter.widget-view+json": {
       "model_id": "",
       "version_major": 2,
       "version_minor": 0
      },
      "text/plain": [
       "HBox(children=(IntProgress(value=0, description='Progress', max=2, style=ProgressStyle(description_width='init…"
      ]
     },
     "metadata": {},
     "output_type": "display_data"
    },
    {
     "data": {
      "application/vnd.jupyter.widget-view+json": {
       "model_id": "",
       "version_major": 2,
       "version_minor": 0
      },
      "text/plain": [
       "HBox(children=(IntProgress(value=0, max=1), HTML(value='')))"
      ]
     },
     "metadata": {},
     "output_type": "display_data"
    },
    {
     "data": {
      "application/vnd.jupyter.widget-view+json": {
       "model_id": "",
       "version_major": 2,
       "version_minor": 0
      },
      "text/plain": [
       "HBox(children=(IntProgress(value=0, max=12), HTML(value='')))"
      ]
     },
     "metadata": {},
     "output_type": "display_data"
    },
    {
     "name": "stdout",
     "output_type": "stream",
     "text": [
      "\r"
     ]
    }
   ],
   "source": [
    "f = 'Var186'\n",
    "# print(stat(f))\n",
    "csv[f] = csv_org[f].copy()\n",
    "csv[f] = csv[f].fillna(method='ffill')\n",
    "csv[f] = csv[f].fillna(method='bfill')\n",
    "# csv[f] = cast(csv[f],-100,csv[f].quantile(0.98))\n",
    "csv[f] = threshold_factorization(csv[f],10000)\n",
    "csv[f] = standarize(csv[f])\n",
    "# ax = csv[f].plot.kde()"
   ]
  },
  {
   "cell_type": "code",
   "execution_count": 359,
   "metadata": {},
   "outputs": [],
   "source": [
    "f = 'Var185'\n",
    "delete(f)"
   ]
  },
  {
   "cell_type": "code",
   "execution_count": 360,
   "metadata": {},
   "outputs": [
    {
     "name": "stdout",
     "output_type": "stream",
     "text": [
      "min: 0.0\n",
      "max: 1200.0\n",
      "nans: 48759\n",
      "unique: 32\n",
      "val_type: <class 'numpy.float64'>\n",
      "vals per class: 38.78\n",
      "None\n"
     ]
    },
    {
     "data": {
      "text/plain": [
       "<matplotlib.axes._subplots.AxesSubplot at 0x23615332438>"
      ]
     },
     "execution_count": 360,
     "metadata": {},
     "output_type": "execute_result"
    },
    {
     "data": {
      "image/png": "[encoded data removed]",
      "text/plain": [
       "<Figure size 432x288 with 1 Axes>"
      ]
     },
     "metadata": {
      "needs_background": "light"
     },
     "output_type": "display_data"
    }
   ],
   "source": [
    "f = 'Var184'\n",
    "# print(stat(f))\n",
    "csv[f] = csv_org[f].copy()\n",
    "csv[f] = csv[f].fillna(method='ffill')\n",
    "csv[f] = csv[f].fillna(method='bfill')\n",
    "csv[f] = cast(csv[f],-100,csv[f].quantile(0.98))\n",
    "# csv[f] = threshold_factorization(csv[f],10000)\n",
    "csv[f] = standarize(csv[f])\n",
    "# ax = csv[f].plot.kde()\n",
    "csv[f] = csv[f].apply(lambda x: np.power(x,1/3))\n",
    "csv[f] = standarize(csv[f])\n",
    "# csv[f].plot.kde()"
   ]
  },
  {
   "cell_type": "code",
   "execution_count": 361,
   "metadata": {},
   "outputs": [
    {
     "name": "stdout",
     "output_type": "stream",
     "text": [
      "min: 0.0\n",
      "max: 3048400.0\n",
      "nans: 48759\n",
      "unique: 375\n",
      "val_type: <class 'numpy.float64'>\n",
      "vals per class: 3.31\n",
      "None\n"
     ]
    },
    {
     "data": {
      "text/plain": [
       "<matplotlib.axes._subplots.AxesSubplot at 0x2361377e400>"
      ]
     },
     "execution_count": 361,
     "metadata": {},
     "output_type": "execute_result"
    },
    {
     "data": {
      "image/png": "[encoded data removed]",
      "text/plain": [
       "<Figure size 432x288 with 1 Axes>"
      ]
     },
     "metadata": {
      "needs_background": "light"
     },
     "output_type": "display_data"
    }
   ],
   "source": [
    "f = 'Var183'\n",
    "# print(stat(f))\n",
    "csv[f] = csv_org[f].copy()\n",
    "csv[f] = csv[f].fillna(method='ffill')\n",
    "csv[f] = csv[f].fillna(method='bfill')\n",
    "csv[f] = cast(csv[f],-100,csv[f].quantile(0.98))\n",
    "# csv[f] = threshold_factorization(csv[f],10000)\n",
    "csv[f] = standarize(csv[f])\n",
    "# ax = csv[f].plot.kde()\n",
    "csv[f] = csv[f].apply(lambda x: np.power(x,1/3))\n",
    "csv[f] = standarize(csv[f])\n",
    "# csv[f].plot.kde()"
   ]
  },
  {
   "cell_type": "code",
   "execution_count": 362,
   "metadata": {},
   "outputs": [
    {
     "name": "stdout",
     "output_type": "stream",
     "text": [
      "min: 0.0\n",
      "max: 11994780.0\n",
      "nans: 48421\n",
      "unique: 820\n",
      "val_type: <class 'numpy.float64'>\n",
      "vals per class: 1.93\n",
      "None\n"
     ]
    },
    {
     "data": {
      "text/plain": [
       "<matplotlib.axes._subplots.AxesSubplot at 0x23612e272e8>"
      ]
     },
     "execution_count": 362,
     "metadata": {},
     "output_type": "execute_result"
    },
    {
     "data": {
      "image/png": "[encoded data removed]",
      "text/plain": [
       "<Figure size 432x288 with 1 Axes>"
      ]
     },
     "metadata": {
      "needs_background": "light"
     },
     "output_type": "display_data"
    }
   ],
   "source": [
    "f = 'Var182'\n",
    "print(stat(f))\n",
    "csv[f] = csv_org[f].copy()\n",
    "csv[f] = csv[f].fillna(method='ffill')\n",
    "csv[f] = csv[f].fillna(method='bfill')\n",
    "csv[f] = cast(csv[f],-100,csv[f].quantile(0.98))\n",
    "# csv[f] = threshold_factorization(csv[f],10000)\n",
    "csv[f] = standarize(csv[f])\n",
    "# ax = csv[f].plot.kde()\n",
    "csv[f] = csv[f].apply(lambda x: np.power(x,1/3))\n",
    "csv[f] = standarize(csv[f])\n",
    "csv[f].plot.kde()"
   ]
  },
  {
   "cell_type": "code",
   "execution_count": 363,
   "metadata": {},
   "outputs": [],
   "source": [
    "f = 'Var181'\n",
    "delete(f)"
   ]
  },
  {
   "cell_type": "code",
   "execution_count": 364,
   "metadata": {},
   "outputs": [
    {
     "name": "stdout",
     "output_type": "stream",
     "text": [
      "min: 0.0\n",
      "max: 14284830.0\n",
      "nans: 49298\n",
      "unique: 548\n",
      "val_type: <class 'numpy.float64'>\n",
      "vals per class: 1.28\n",
      "None\n"
     ]
    },
    {
     "data": {
      "text/plain": [
       "<matplotlib.axes._subplots.AxesSubplot at 0x236121a74a8>"
      ]
     },
     "execution_count": 364,
     "metadata": {},
     "output_type": "execute_result"
    },
    {
     "data": {
      "image/png": "[encoded data removed]",
      "text/plain": [
       "<Figure size 432x288 with 1 Axes>"
      ]
     },
     "metadata": {
      "needs_background": "light"
     },
     "output_type": "display_data"
    }
   ],
   "source": [
    "f = 'Var180'\n",
    "print(stat(f))\n",
    "csv[f] = csv_org[f].copy()\n",
    "csv[f] = csv[f].fillna(method='ffill')\n",
    "csv[f] = csv[f].fillna(method='bfill')\n",
    "csv[f] = cast(csv[f],-100,csv[f].quantile(0.98))\n",
    "# csv[f] = threshold_factorization(csv[f],10000)\n",
    "csv[f] = standarize(csv[f])\n",
    "# ax = csv[f].plot.kde()\n",
    "csv[f] = csv[f].apply(lambda x: np.power(x,1/2))\n",
    "csv[f] = standarize(csv[f])\n",
    "csv[f].plot.kde()"
   ]
  },
  {
   "cell_type": "code",
   "execution_count": 365,
   "metadata": {},
   "outputs": [
    {
     "name": "stdout",
     "output_type": "stream",
     "text": [
      "min: 0.0\n",
      "max: 890.0\n",
      "nans: 48421\n",
      "unique: 16\n",
      "val_type: <class 'numpy.float64'>\n",
      "vals per class: 98.69\n",
      "None\n"
     ]
    },
    {
     "data": {
      "application/vnd.jupyter.widget-view+json": {
       "model_id": "",
       "version_major": 2,
       "version_minor": 0
      },
      "text/plain": [
       "HBox(children=(IntProgress(value=0, description='Progress', max=2, style=ProgressStyle(description_width='init…"
      ]
     },
     "metadata": {},
     "output_type": "display_data"
    },
    {
     "data": {
      "application/vnd.jupyter.widget-view+json": {
       "model_id": "",
       "version_major": 2,
       "version_minor": 0
      },
      "text/plain": [
       "HBox(children=(IntProgress(value=0, max=1), HTML(value='')))"
      ]
     },
     "metadata": {},
     "output_type": "display_data"
    },
    {
     "data": {
      "application/vnd.jupyter.widget-view+json": {
       "model_id": "",
       "version_major": 2,
       "version_minor": 0
      },
      "text/plain": [
       "HBox(children=(IntProgress(value=0, max=14), HTML(value='')))"
      ]
     },
     "metadata": {},
     "output_type": "display_data"
    },
    {
     "name": "stdout",
     "output_type": "stream",
     "text": [
      "\r"
     ]
    }
   ],
   "source": [
    "f = 'Var179'\n",
    "print(stat(f))\n",
    "csv[f] = csv_org[f].copy()\n",
    "csv[f] = csv[f].fillna(method='ffill')\n",
    "csv[f] = csv[f].fillna(method='bfill')\n",
    "# csv[f] = cast(csv[f],-100,csv[f].quantile(0.98))\n",
    "csv[f] = threshold_factorization(csv[f],10000)\n",
    "csv[f] = standarize(csv[f])\n",
    "# ax = csv[f].plot.kde()\n"
   ]
  },
  {
   "cell_type": "code",
   "execution_count": 366,
   "metadata": {},
   "outputs": [
    {
     "name": "stdout",
     "output_type": "stream",
     "text": [
      "min: 0.0\n",
      "max: 1345.0\n",
      "nans: 49354\n",
      "unique: 31\n",
      "val_type: <class 'numpy.float64'>\n",
      "vals per class: 20.84\n",
      "None\n"
     ]
    },
    {
     "data": {
      "text/plain": [
       "<matplotlib.axes._subplots.AxesSubplot at 0x2361230e470>"
      ]
     },
     "execution_count": 366,
     "metadata": {},
     "output_type": "execute_result"
    },
    {
     "data": {
      "image/png": "[encoded data removed]",
      "text/plain": [
       "<Figure size 432x288 with 1 Axes>"
      ]
     },
     "metadata": {
      "needs_background": "light"
     },
     "output_type": "display_data"
    }
   ],
   "source": [
    "f = 'Var178'\n",
    "print(stat(f))\n",
    "csv[f] = csv_org[f].copy()\n",
    "csv[f] = csv[f].fillna(method='ffill')\n",
    "csv[f] = csv[f].fillna(method='bfill')\n",
    "csv[f] = cast(csv[f],-100,csv[f].quantile(0.98))\n",
    "# csv[f] = threshold_factorization(csv[f],10000)\n",
    "csv[f] = standarize(csv[f])\n",
    "# ax = csv[f].plot.kde()\n",
    "csv[f] = csv[f].apply(lambda x: np.power(x,1/5))\n",
    "csv[f] = standarize(csv[f])\n",
    "csv[f].plot.kde()"
   ]
  },
  {
   "cell_type": "code",
   "execution_count": 367,
   "metadata": {},
   "outputs": [
    {
     "name": "stdout",
     "output_type": "stream",
     "text": [
      "min: 0.0\n",
      "max: 8554350.0\n",
      "nans: 48759\n",
      "unique: 444\n",
      "val_type: <class 'numpy.float64'>\n",
      "vals per class: 2.8\n",
      "None\n"
     ]
    },
    {
     "data": {
      "application/vnd.jupyter.widget-view+json": {
       "model_id": "",
       "version_major": 2,
       "version_minor": 0
      },
      "text/plain": [
       "HBox(children=(IntProgress(value=0, description='Progress', max=2, style=ProgressStyle(description_width='init…"
      ]
     },
     "metadata": {},
     "output_type": "display_data"
    },
    {
     "data": {
      "application/vnd.jupyter.widget-view+json": {
       "model_id": "",
       "version_major": 2,
       "version_minor": 0
      },
      "text/plain": [
       "HBox(children=(IntProgress(value=0, max=1), HTML(value='')))"
      ]
     },
     "metadata": {},
     "output_type": "display_data"
    },
    {
     "data": {
      "application/vnd.jupyter.widget-view+json": {
       "model_id": "",
       "version_major": 2,
       "version_minor": 0
      },
      "text/plain": [
       "HBox(children=(IntProgress(value=0, max=442), HTML(value='')))"
      ]
     },
     "metadata": {},
     "output_type": "display_data"
    },
    {
     "name": "stdout",
     "output_type": "stream",
     "text": [
      "\r"
     ]
    }
   ],
   "source": [
    "f = 'Var177'\n",
    "print(stat(f))\n",
    "csv[f] = csv_org[f].copy()\n",
    "csv[f] = csv[f].fillna(method='ffill')\n",
    "csv[f] = csv[f].fillna(method='bfill')\n",
    "# csv[f] = cast(csv[f],-100,csv[f].quantile(0.98))\n",
    "csv[f] = threshold_factorization(csv[f],10000)\n",
    "csv[f] = standarize(csv[f])\n",
    "# ax = csv[f].plot.kde()\n"
   ]
  },
  {
   "cell_type": "code",
   "execution_count": 368,
   "metadata": {},
   "outputs": [],
   "source": [
    "f = 'Var176'\n",
    "delete(f)"
   ]
  },
  {
   "cell_type": "code",
   "execution_count": 369,
   "metadata": {},
   "outputs": [],
   "source": [
    "f = 'Var175'\n",
    "delete(f)"
   ]
  },
  {
   "cell_type": "code",
   "execution_count": 370,
   "metadata": {},
   "outputs": [
    {
     "name": "stdout",
     "output_type": "stream",
     "text": [
      "min: 0.0\n",
      "max: 1156.0\n",
      "nans: 48421\n",
      "unique: 30\n",
      "val_type: <class 'numpy.float64'>\n",
      "vals per class: 52.63\n",
      "None\n"
     ]
    }
   ],
   "source": [
    "f = 'Var174'\n",
    "print(stat(f))\n",
    "csv[f] = csv_org[f].copy()\n",
    "csv[f] = csv[f].fillna(method='ffill')\n",
    "csv[f] = csv[f].fillna(method='bfill')\n",
    "csv[f] = cast(csv[f],-100,csv[f].quantile(0.98))\n",
    "# csv[f] = threshold_factorization(csv[f],10000)\n",
    "csv[f] = standarize(csv[f])\n",
    "# ax = csv[f].plot.kde()\n"
   ]
  },
  {
   "cell_type": "code",
   "execution_count": 371,
   "metadata": {},
   "outputs": [],
   "source": [
    "f = 'Var173'\n",
    "delete(f)"
   ]
  },
  {
   "cell_type": "code",
   "execution_count": 372,
   "metadata": {},
   "outputs": [
    {
     "name": "stdout",
     "output_type": "stream",
     "text": [
      "min: 0.0\n",
      "max: 119.0\n",
      "nans: 48513\n",
      "unique: 14\n",
      "val_type: <class 'numpy.float64'>\n",
      "vals per class: 106.21\n",
      "None\n"
     ]
    },
    {
     "data": {
      "text/plain": [
       "<matplotlib.axes._subplots.AxesSubplot at 0x236146258d0>"
      ]
     },
     "execution_count": 372,
     "metadata": {},
     "output_type": "execute_result"
    },
    {
     "data": {
      "image/png": "[encoded data removed]",
      "text/plain": [
       "<Figure size 432x288 with 1 Axes>"
      ]
     },
     "metadata": {
      "needs_background": "light"
     },
     "output_type": "display_data"
    }
   ],
   "source": [
    "f = 'Var172'\n",
    "print(stat(f))\n",
    "csv[f] = csv_org[f].copy()\n",
    "csv[f] = csv[f].fillna(method='ffill')\n",
    "csv[f] = csv[f].fillna(method='bfill')\n",
    "csv[f] = cast(csv[f],-100,csv[f].quantile(0.98))\n",
    "# csv[f] = threshold_factorization(csv[f],10000)\n",
    "csv[f] = standarize(csv[f])\n",
    "# ax = csv[f].plot.kde()\n",
    "csv[f] = csv[f].apply(lambda x: np.power(x,1/3))\n",
    "csv[f] = standarize(csv[f])\n",
    "csv[f].plot.kde()"
   ]
  },
  {
   "cell_type": "code",
   "execution_count": 373,
   "metadata": {},
   "outputs": [
    {
     "name": "stdout",
     "output_type": "stream",
     "text": [
      "min: 0.0\n",
      "max: 5443200.0\n",
      "nans: 48917\n",
      "unique: 747\n",
      "val_type: <class 'numpy.float64'>\n",
      "vals per class: 1.45\n",
      "None\n"
     ]
    },
    {
     "data": {
      "text/plain": [
       "<matplotlib.axes._subplots.AxesSubplot at 0x23612882ba8>"
      ]
     },
     "execution_count": 373,
     "metadata": {},
     "output_type": "execute_result"
    },
    {
     "data": {
      "image/png": "[encoded data removed]",
      "text/plain": [
       "<Figure size 432x288 with 1 Axes>"
      ]
     },
     "metadata": {
      "needs_background": "light"
     },
     "output_type": "display_data"
    }
   ],
   "source": [
    "f = 'Var171'\n",
    "print(stat(f))\n",
    "csv[f] = csv_org[f].copy()\n",
    "csv[f] = csv[f].fillna(method='ffill')\n",
    "csv[f] = csv[f].fillna(method='bfill')\n",
    "csv[f] = cast(csv[f],-100,csv[f].quantile(0.98))\n",
    "# csv[f] = threshold_factorization(csv[f],10000)\n",
    "csv[f] = standarize(csv[f])\n",
    "# ax = csv[f].plot.kde()\n",
    "csv[f] = csv[f].apply(lambda x: np.power(x,1/3))\n",
    "csv[f] = standarize(csv[f])\n",
    "csv[f].plot.kde()"
   ]
  },
  {
   "cell_type": "code",
   "execution_count": 374,
   "metadata": {},
   "outputs": [
    {
     "name": "stdout",
     "output_type": "stream",
     "text": [
      "min: 0.0\n",
      "max: 957.0\n",
      "nans: 48759\n",
      "unique: 19\n",
      "val_type: <class 'numpy.float64'>\n",
      "vals per class: 65.32\n",
      "None\n"
     ]
    },
    {
     "data": {
      "application/vnd.jupyter.widget-view+json": {
       "model_id": "",
       "version_major": 2,
       "version_minor": 0
      },
      "text/plain": [
       "HBox(children=(IntProgress(value=0, description='Progress', max=2, style=ProgressStyle(description_width='init…"
      ]
     },
     "metadata": {},
     "output_type": "display_data"
    },
    {
     "data": {
      "application/vnd.jupyter.widget-view+json": {
       "model_id": "",
       "version_major": 2,
       "version_minor": 0
      },
      "text/plain": [
       "HBox(children=(IntProgress(value=0, max=1), HTML(value='')))"
      ]
     },
     "metadata": {},
     "output_type": "display_data"
    },
    {
     "data": {
      "application/vnd.jupyter.widget-view+json": {
       "model_id": "",
       "version_major": 2,
       "version_minor": 0
      },
      "text/plain": [
       "HBox(children=(IntProgress(value=0, max=17), HTML(value='')))"
      ]
     },
     "metadata": {},
     "output_type": "display_data"
    },
    {
     "name": "stdout",
     "output_type": "stream",
     "text": [
      "\r"
     ]
    }
   ],
   "source": [
    "f = 'Var170'\n",
    "print(stat(f))\n",
    "csv[f] = csv_org[f].copy()\n",
    "csv[f] = csv[f].fillna(method='ffill')\n",
    "csv[f] = csv[f].fillna(method='bfill')\n",
    "# csv[f] = cast(csv[f],-100,csv[f].quantile(0.98))\n",
    "csv[f] = threshold_factorization(csv[f],10000)\n",
    "csv[f] = standarize(csv[f])\n",
    "# ax = csv[f].plot.kde()\n"
   ]
  },
  {
   "cell_type": "code",
   "execution_count": 375,
   "metadata": {},
   "outputs": [],
   "source": [
    "f = 'Var169'\n",
    "delete(f)\n"
   ]
  },
  {
   "cell_type": "code",
   "execution_count": 376,
   "metadata": {},
   "outputs": [
    {
     "name": "stdout",
     "output_type": "stream",
     "text": [
      "min: 0.0\n",
      "max: 1270.48\n",
      "nans: 49298\n",
      "unique: 454\n",
      "val_type: <class 'numpy.float64'>\n",
      "vals per class: 1.55\n",
      "None\n"
     ]
    }
   ],
   "source": [
    "f = 'Var168'\n",
    "print(stat(f))\n",
    "csv[f] = csv_org[f].copy()\n",
    "csv[f] = csv[f].fillna(method='ffill')\n",
    "csv[f] = csv[f].fillna(method='bfill')\n",
    "csv[f] = cast(csv[f],-100,csv[f].quantile(0.98))\n",
    "# csv[f] = threshold_factorization(csv[f],10000)\n",
    "csv[f] = standarize(csv[f])\n",
    "# ax = csv[f].plot.kde()\n"
   ]
  },
  {
   "cell_type": "code",
   "execution_count": 377,
   "metadata": {},
   "outputs": [],
   "source": [
    "f = 'Var167'\n",
    "delete(f)"
   ]
  },
  {
   "cell_type": "code",
   "execution_count": 378,
   "metadata": {},
   "outputs": [
    {
     "name": "stdout",
     "output_type": "stream",
     "text": [
      "min: 0.0\n",
      "max: 2261.0\n",
      "nans: 48513\n",
      "unique: 49\n",
      "val_type: <class 'numpy.float64'>\n",
      "vals per class: 30.35\n",
      "None\n"
     ]
    },
    {
     "data": {
      "application/vnd.jupyter.widget-view+json": {
       "model_id": "",
       "version_major": 2,
       "version_minor": 0
      },
      "text/plain": [
       "HBox(children=(IntProgress(value=0, description='Progress', max=2, style=ProgressStyle(description_width='init…"
      ]
     },
     "metadata": {},
     "output_type": "display_data"
    },
    {
     "data": {
      "application/vnd.jupyter.widget-view+json": {
       "model_id": "",
       "version_major": 2,
       "version_minor": 0
      },
      "text/plain": [
       "HBox(children=(IntProgress(value=0, max=1), HTML(value='')))"
      ]
     },
     "metadata": {},
     "output_type": "display_data"
    },
    {
     "data": {
      "application/vnd.jupyter.widget-view+json": {
       "model_id": "",
       "version_major": 2,
       "version_minor": 0
      },
      "text/plain": [
       "HBox(children=(IntProgress(value=0, max=47), HTML(value='')))"
      ]
     },
     "metadata": {},
     "output_type": "display_data"
    },
    {
     "name": "stdout",
     "output_type": "stream",
     "text": [
      "\r"
     ]
    }
   ],
   "source": [
    "f = 'Var166'\n",
    "print(stat(f))\n",
    "csv[f] = csv_org[f].copy()\n",
    "csv[f] = csv[f].fillna(method='ffill')\n",
    "csv[f] = csv[f].fillna(method='bfill')\n",
    "# csv[f] = cast(csv[f],-100,csv[f].quantile(0.98))\n",
    "csv[f] = threshold_factorization(csv[f],10000)\n",
    "csv[f] = standarize(csv[f])\n",
    "# ax = csv[f].plot.kde()\n"
   ]
  },
  {
   "cell_type": "code",
   "execution_count": 379,
   "metadata": {},
   "outputs": [
    {
     "name": "stdout",
     "output_type": "stream",
     "text": [
      "min: 0.0\n",
      "max: 1209600.0\n",
      "nans: 49127\n",
      "unique: 205\n",
      "val_type: <class 'numpy.float64'>\n",
      "vals per class: 4.26\n",
      "None\n"
     ]
    },
    {
     "data": {
      "application/vnd.jupyter.widget-view+json": {
       "model_id": "",
       "version_major": 2,
       "version_minor": 0
      },
      "text/plain": [
       "HBox(children=(IntProgress(value=0, description='Progress', max=2, style=ProgressStyle(description_width='init…"
      ]
     },
     "metadata": {},
     "output_type": "display_data"
    },
    {
     "data": {
      "application/vnd.jupyter.widget-view+json": {
       "model_id": "",
       "version_major": 2,
       "version_minor": 0
      },
      "text/plain": [
       "HBox(children=(IntProgress(value=0, max=1), HTML(value='')))"
      ]
     },
     "metadata": {},
     "output_type": "display_data"
    },
    {
     "data": {
      "application/vnd.jupyter.widget-view+json": {
       "model_id": "",
       "version_major": 2,
       "version_minor": 0
      },
      "text/plain": [
       "HBox(children=(IntProgress(value=0, max=203), HTML(value='')))"
      ]
     },
     "metadata": {},
     "output_type": "display_data"
    },
    {
     "name": "stdout",
     "output_type": "stream",
     "text": [
      "\r"
     ]
    }
   ],
   "source": [
    "f = 'Var165'\n",
    "print(stat(f))\n",
    "csv[f] = csv_org[f].copy()\n",
    "csv[f] = csv[f].fillna(method='ffill')\n",
    "csv[f] = csv[f].fillna(method='bfill')\n",
    "# csv[f] = cast(csv[f],-100,csv[f].quantile(0.98))\n",
    "csv[f] = threshold_factorization(csv[f],10000)\n",
    "csv[f] = standarize(csv[f])\n",
    "# ax = csv[f].plot.kde()\n"
   ]
  },
  {
   "cell_type": "code",
   "execution_count": 380,
   "metadata": {},
   "outputs": [
    {
     "name": "stdout",
     "output_type": "stream",
     "text": [
      "min: 0.0\n",
      "max: 138.0\n",
      "nans: 48421\n",
      "unique: 20\n",
      "val_type: <class 'numpy.float64'>\n",
      "vals per class: 78.95\n",
      "None\n"
     ]
    },
    {
     "data": {
      "application/vnd.jupyter.widget-view+json": {
       "model_id": "",
       "version_major": 2,
       "version_minor": 0
      },
      "text/plain": [
       "HBox(children=(IntProgress(value=0, description='Progress', max=2, style=ProgressStyle(description_width='init…"
      ]
     },
     "metadata": {},
     "output_type": "display_data"
    },
    {
     "data": {
      "application/vnd.jupyter.widget-view+json": {
       "model_id": "",
       "version_major": 2,
       "version_minor": 0
      },
      "text/plain": [
       "HBox(children=(IntProgress(value=0, max=1), HTML(value='')))"
      ]
     },
     "metadata": {},
     "output_type": "display_data"
    },
    {
     "data": {
      "application/vnd.jupyter.widget-view+json": {
       "model_id": "",
       "version_major": 2,
       "version_minor": 0
      },
      "text/plain": [
       "HBox(children=(IntProgress(value=0, max=18), HTML(value='')))"
      ]
     },
     "metadata": {},
     "output_type": "display_data"
    },
    {
     "name": "stdout",
     "output_type": "stream",
     "text": [
      "\r"
     ]
    }
   ],
   "source": [
    "f = 'Var164'\n",
    "print(stat(f))\n",
    "csv[f] = csv_org[f].copy()\n",
    "csv[f] = csv[f].fillna(method='ffill')\n",
    "csv[f] = csv[f].fillna(method='bfill')\n",
    "# csv[f] = cast(csv[f],-100,csv[f].quantile(0.98))\n",
    "csv[f] = threshold_factorization(csv[f],10000)\n",
    "csv[f] = standarize(csv[f])\n",
    "# ax = csv[f].plot.kde()\n"
   ]
  },
  {
   "cell_type": "code",
   "execution_count": 381,
   "metadata": {},
   "outputs": [
    {
     "name": "stdout",
     "output_type": "stream",
     "text": [
      "min: 0.0\n",
      "max: 14515200.0\n",
      "nans: 5009\n",
      "unique: 22958\n",
      "val_type: <class 'numpy.float64'>\n",
      "vals per class: 1.96\n",
      "None\n"
     ]
    },
    {
     "data": {
      "text/plain": [
       "<matplotlib.axes._subplots.AxesSubplot at 0x236149e8358>"
      ]
     },
     "execution_count": 381,
     "metadata": {},
     "output_type": "execute_result"
    },
    {
     "data": {
      "image/png": "[encoded data removed]",
      "text/plain": [
       "<Figure size 432x288 with 1 Axes>"
      ]
     },
     "metadata": {
      "needs_background": "light"
     },
     "output_type": "display_data"
    }
   ],
   "source": [
    "f = 'Var163'\n",
    "print(stat(f))\n",
    "csv[f] = csv_org[f].copy()\n",
    "csv[f] = csv[f].fillna(method='ffill')\n",
    "csv[f] = csv[f].fillna(method='bfill')\n",
    "csv[f] = cast(csv[f],-100,csv[f].quantile(0.98))\n",
    "# csv[f] = threshold_factorization(csv[f],10000)\n",
    "csv[f] = standarize(csv[f])\n",
    "# ax = csv[f].plot.kde()\n",
    "csv[f] = csv[f].apply(lambda x: np.power(x,1/3))\n",
    "csv[f] = standarize(csv[f])\n",
    "csv[f].plot.kde()\n",
    "\n"
   ]
  },
  {
   "cell_type": "code",
   "execution_count": 382,
   "metadata": {},
   "outputs": [
    {
     "name": "stdout",
     "output_type": "stream",
     "text": [
      "min: 0.0\n",
      "max: 10886400.0\n",
      "nans: 48759\n",
      "unique: 472\n",
      "val_type: <class 'numpy.float64'>\n",
      "vals per class: 2.63\n",
      "None\n"
     ]
    },
    {
     "data": {
      "application/vnd.jupyter.widget-view+json": {
       "model_id": "",
       "version_major": 2,
       "version_minor": 0
      },
      "text/plain": [
       "HBox(children=(IntProgress(value=0, description='Progress', max=2, style=ProgressStyle(description_width='init…"
      ]
     },
     "metadata": {},
     "output_type": "display_data"
    },
    {
     "data": {
      "application/vnd.jupyter.widget-view+json": {
       "model_id": "",
       "version_major": 2,
       "version_minor": 0
      },
      "text/plain": [
       "HBox(children=(IntProgress(value=0, max=1), HTML(value='')))"
      ]
     },
     "metadata": {},
     "output_type": "display_data"
    },
    {
     "data": {
      "application/vnd.jupyter.widget-view+json": {
       "model_id": "",
       "version_major": 2,
       "version_minor": 0
      },
      "text/plain": [
       "HBox(children=(IntProgress(value=0, max=470), HTML(value='')))"
      ]
     },
     "metadata": {},
     "output_type": "display_data"
    },
    {
     "name": "stdout",
     "output_type": "stream",
     "text": [
      "\r"
     ]
    }
   ],
   "source": [
    "f = 'Var162'\n",
    "print(stat(f))\n",
    "csv[f] = csv_org[f].copy()\n",
    "csv[f] = csv[f].fillna(method='ffill')\n",
    "csv[f] = csv[f].fillna(method='bfill')\n",
    "csv[f] = threshold_factorization(csv[f],10000)\n",
    "csv[f] = standarize(csv[f])\n",
    "# ax = csv[f].plot.kde()\n"
   ]
  },
  {
   "cell_type": "code",
   "execution_count": 383,
   "metadata": {},
   "outputs": [
    {
     "name": "stdout",
     "output_type": "stream",
     "text": [
      "min: 0.0\n",
      "max: 81.0\n",
      "nans: 48421\n",
      "unique: 10\n",
      "val_type: <class 'numpy.float64'>\n",
      "vals per class: 157.9\n",
      "None\n"
     ]
    },
    {
     "data": {
      "application/vnd.jupyter.widget-view+json": {
       "model_id": "",
       "version_major": 2,
       "version_minor": 0
      },
      "text/plain": [
       "HBox(children=(IntProgress(value=0, description='Progress', max=2, style=ProgressStyle(description_width='init…"
      ]
     },
     "metadata": {},
     "output_type": "display_data"
    },
    {
     "data": {
      "application/vnd.jupyter.widget-view+json": {
       "model_id": "",
       "version_major": 2,
       "version_minor": 0
      },
      "text/plain": [
       "HBox(children=(IntProgress(value=0, max=1), HTML(value='')))"
      ]
     },
     "metadata": {},
     "output_type": "display_data"
    },
    {
     "data": {
      "application/vnd.jupyter.widget-view+json": {
       "model_id": "",
       "version_major": 2,
       "version_minor": 0
      },
      "text/plain": [
       "HBox(children=(IntProgress(value=0, max=8), HTML(value='')))"
      ]
     },
     "metadata": {},
     "output_type": "display_data"
    },
    {
     "name": "stdout",
     "output_type": "stream",
     "text": [
      "\r"
     ]
    }
   ],
   "source": [
    "f = 'Var161'\n",
    "print(stat(f))\n",
    "csv[f] = csv_org[f].copy()\n",
    "csv[f] = csv[f].fillna(method='ffill')\n",
    "csv[f] = csv[f].fillna(method='bfill')\n",
    "csv[f] = threshold_factorization(csv[f],10000)\n",
    "csv[f] = standarize(csv[f])\n",
    "# ax = csv[f].plot.kde()\n"
   ]
  },
  {
   "cell_type": "code",
   "execution_count": 384,
   "metadata": {},
   "outputs": [
    {
     "name": "stdout",
     "output_type": "stream",
     "text": [
      "min: 0.0\n",
      "max: 4862.0\n",
      "nans: 5009\n",
      "unique: 403\n",
      "val_type: <class 'numpy.float64'>\n",
      "vals per class: 111.64\n",
      "None\n"
     ]
    },
    {
     "data": {
      "text/plain": [
       "<matplotlib.axes._subplots.AxesSubplot at 0x23614d41f28>"
      ]
     },
     "execution_count": 384,
     "metadata": {},
     "output_type": "execute_result"
    },
    {
     "data": {
      "image/png": "[encoded data removed]",
      "text/plain": [
       "<Figure size 432x288 with 1 Axes>"
      ]
     },
     "metadata": {
      "needs_background": "light"
     },
     "output_type": "display_data"
    }
   ],
   "source": [
    "f = 'Var160'\n",
    "print(stat(f))\n",
    "csv[f] = csv_org[f].copy()\n",
    "csv[f] = csv[f].fillna(method='ffill')\n",
    "csv[f] = csv[f].fillna(method='bfill')\n",
    "csv[f] = cast(csv[f],-100,csv[f].quantile(0.98))\n",
    "# csv[f] = threshold_factorization(csv[f],10000)\n",
    "csv[f] = standarize(csv[f])\n",
    "# ax = csv[f].plot.kde()\n",
    "csv[f] = csv[f].apply(lambda x: np.power(x,1/3))\n",
    "csv[f] = standarize(csv[f])\n",
    "csv[f].plot.kde()\n"
   ]
  },
  {
   "cell_type": "code",
   "execution_count": 385,
   "metadata": {},
   "outputs": [
    {
     "name": "stdout",
     "output_type": "stream",
     "text": [
      "min: 0.0\n",
      "max: 99.0\n",
      "nans: 48759\n",
      "unique: 11\n",
      "val_type: <class 'numpy.float64'>\n",
      "vals per class: 112.82\n",
      "None\n"
     ]
    },
    {
     "data": {
      "application/vnd.jupyter.widget-view+json": {
       "model_id": "",
       "version_major": 2,
       "version_minor": 0
      },
      "text/plain": [
       "HBox(children=(IntProgress(value=0, description='Progress', max=2, style=ProgressStyle(description_width='init…"
      ]
     },
     "metadata": {},
     "output_type": "display_data"
    },
    {
     "data": {
      "application/vnd.jupyter.widget-view+json": {
       "model_id": "",
       "version_major": 2,
       "version_minor": 0
      },
      "text/plain": [
       "HBox(children=(IntProgress(value=0, max=1), HTML(value='')))"
      ]
     },
     "metadata": {},
     "output_type": "display_data"
    },
    {
     "data": {
      "application/vnd.jupyter.widget-view+json": {
       "model_id": "",
       "version_major": 2,
       "version_minor": 0
      },
      "text/plain": [
       "HBox(children=(IntProgress(value=0, max=5), HTML(value='')))"
      ]
     },
     "metadata": {},
     "output_type": "display_data"
    },
    {
     "name": "stdout",
     "output_type": "stream",
     "text": [
      "\r"
     ]
    }
   ],
   "source": [
    "f = 'Var159'\n",
    "print(stat(f))\n",
    "csv[f] = csv_org[f].copy()\n",
    "csv[f] = csv[f].fillna(method='ffill')\n",
    "csv[f] = csv[f].fillna(method='bfill')\n",
    "csv[f] = cast(csv[f],-100,csv[f].quantile(0.98))\n",
    "csv[f] = threshold_factorization(csv[f],10000)\n",
    "csv[f] = standarize(csv[f])\n",
    "# ax = csv[f].plot.kde()\n"
   ]
  },
  {
   "cell_type": "code",
   "execution_count": 386,
   "metadata": {},
   "outputs": [],
   "source": [
    "f = 'Var158'\n",
    "delete(f)\n"
   ]
  },
  {
   "cell_type": "code",
   "execution_count": 387,
   "metadata": {},
   "outputs": [
    {
     "name": "stdout",
     "output_type": "stream",
     "text": [
      "min: 0.0\n",
      "max: 5440.0\n",
      "nans: 48871\n",
      "unique: 65\n",
      "val_type: <class 'numpy.float64'>\n",
      "vals per class: 17.37\n",
      "None\n"
     ]
    },
    {
     "data": {
      "text/plain": [
       "<matplotlib.axes._subplots.AxesSubplot at 0x23612928748>"
      ]
     },
     "execution_count": 387,
     "metadata": {},
     "output_type": "execute_result"
    },
    {
     "data": {
      "image/png": "[encoded data removed]",
      "text/plain": [
       "<Figure size 432x288 with 1 Axes>"
      ]
     },
     "metadata": {
      "needs_background": "light"
     },
     "output_type": "display_data"
    }
   ],
   "source": [
    "f = 'Var157'\n",
    "print(stat(f))\n",
    "csv[f] = csv_org[f].copy()\n",
    "csv[f] = csv[f].fillna(method='ffill')\n",
    "csv[f] = csv[f].fillna(method='bfill')\n",
    "csv[f] = cast(csv[f],-100,csv[f].quantile(0.98))\n",
    "# csv[f] = threshold_factorization(csv[f],10000)\n",
    "csv[f] = standarize(csv[f])\n",
    "# ax = csv[f].plot.kde()\n",
    "csv[f] = csv[f].apply(lambda x: np.power(x,1/3))\n",
    "csv[f] = standarize(csv[f])\n",
    "csv[f].plot.kde()\n"
   ]
  },
  {
   "cell_type": "code",
   "execution_count": 388,
   "metadata": {},
   "outputs": [
    {
     "name": "stdout",
     "output_type": "stream",
     "text": [
      "min: 0.0\n",
      "max: 8050.0\n",
      "nans: 49306\n",
      "unique: 101\n",
      "val_type: <class 'numpy.float64'>\n",
      "vals per class: 6.87\n",
      "None\n"
     ]
    },
    {
     "data": {
      "text/plain": [
       "<matplotlib.axes._subplots.AxesSubplot at 0x23612300cc0>"
      ]
     },
     "execution_count": 388,
     "metadata": {},
     "output_type": "execute_result"
    },
    {
     "data": {
      "image/png": "[encoded data removed]",
      "text/plain": [
       "<Figure size 432x288 with 1 Axes>"
      ]
     },
     "metadata": {
      "needs_background": "light"
     },
     "output_type": "display_data"
    }
   ],
   "source": [
    "f = 'Var156'\n",
    "print(stat(f))\n",
    "csv[f] = csv_org[f].copy()\n",
    "csv[f] = csv[f].fillna(method='ffill')\n",
    "csv[f] = csv[f].fillna(method='bfill')\n",
    "csv[f] = cast(csv[f],-100,csv[f].quantile(0.98))\n",
    "# csv[f] = threshold_factorization(csv[f],10000)\n",
    "csv[f] = standarize(csv[f])\n",
    "# ax = csv[f].plot.kde()\n",
    "csv[f] = csv[f].apply(lambda x: np.power(x,1/3))\n",
    "csv[f] = standarize(csv[f])\n",
    "csv[f].plot.kde()\n"
   ]
  },
  {
   "cell_type": "code",
   "execution_count": 389,
   "metadata": {},
   "outputs": [],
   "source": [
    "f = 'Var155'\n",
    "delete(f)"
   ]
  },
  {
   "cell_type": "code",
   "execution_count": 390,
   "metadata": {},
   "outputs": [
    {
     "name": "stdout",
     "output_type": "stream",
     "text": [
      "min: 0.0\n",
      "max: 15048560.0\n",
      "nans: 49298\n",
      "unique: 389\n",
      "val_type: <class 'numpy.float64'>\n",
      "vals per class: 1.8\n",
      "None\n"
     ]
    },
    {
     "data": {
      "text/plain": [
       "<matplotlib.axes._subplots.AxesSubplot at 0x236135d23c8>"
      ]
     },
     "execution_count": 390,
     "metadata": {},
     "output_type": "execute_result"
    },
    {
     "data": {
      "image/png": "[encoded data removed]",
      "text/plain": [
       "<Figure size 432x288 with 1 Axes>"
      ]
     },
     "metadata": {
      "needs_background": "light"
     },
     "output_type": "display_data"
    }
   ],
   "source": [
    "f = 'Var154'\n",
    "print(stat(f))\n",
    "csv[f] = csv_org[f].copy()\n",
    "csv[f] = csv[f].fillna(method='ffill')\n",
    "csv[f] = csv[f].fillna(method='bfill')\n",
    "csv[f] = cast(csv[f],-100,csv[f].quantile(0.98))\n",
    "# csv[f] = threshold_factorization(csv[f],10000)\n",
    "csv[f] = standarize(csv[f])\n",
    "# ax = csv[f].plot.kde()\n",
    "csv[f] = csv[f].apply(lambda x: np.power(x,1/3))\n",
    "csv[f] = standarize(csv[f])\n",
    "csv[f].plot.kde()\n"
   ]
  },
  {
   "cell_type": "code",
   "execution_count": 391,
   "metadata": {},
   "outputs": [
    {
     "name": "stdout",
     "output_type": "stream",
     "text": [
      "min: 0.0\n",
      "max: 13907800.0\n",
      "nans: 5009\n",
      "unique: 36398\n",
      "val_type: <class 'numpy.float64'>\n",
      "vals per class: 1.24\n",
      "None\n"
     ]
    }
   ],
   "source": [
    "f = 'Var153'\n",
    "print(stat(f))\n",
    "csv[f] = csv_org[f].copy()\n",
    "csv[f] = csv[f].fillna(method='ffill')\n",
    "csv[f] = csv[f].fillna(method='bfill')\n",
    "csv[f] = cast(csv[f],-100,csv[f].quantile(0.98))\n",
    "# csv[f] = threshold_factorization(csv[f],10000)\n",
    "csv[f] = standarize(csv[f])\n",
    "# ax = csv[f].plot.kde()"
   ]
  },
  {
   "cell_type": "code",
   "execution_count": 392,
   "metadata": {},
   "outputs": [
    {
     "name": "stdout",
     "output_type": "stream",
     "text": [
      "min: 0.0\n",
      "max: 66.0\n",
      "nans: 48421\n",
      "unique: 13\n",
      "val_type: <class 'numpy.float64'>\n",
      "vals per class: 121.46\n",
      "None\n"
     ]
    }
   ],
   "source": [
    "f = 'Var152'\n",
    "print(stat(f))\n",
    "csv[f] = csv_org[f].copy()\n",
    "csv[f] = csv[f].fillna(method='ffill')\n",
    "csv[f] = csv[f].fillna(method='bfill')\n",
    "csv[f] = cast(csv[f],-100,csv[f].quantile(0.98))\n",
    "# csv[f] = threshold_factorization(csv[f],10000)\n",
    "csv[f] = standarize(csv[f])\n",
    "# ax = csv[f].plot.kde()\n"
   ]
  },
  {
   "cell_type": "code",
   "execution_count": 393,
   "metadata": {},
   "outputs": [
    {
     "name": "stdout",
     "output_type": "stream",
     "text": [
      "min: 0.0\n",
      "max: 1200.0\n",
      "nans: 49153\n",
      "unique: 20\n",
      "val_type: <class 'numpy.float64'>\n",
      "vals per class: 42.35\n",
      "None\n"
     ]
    },
    {
     "data": {
      "text/plain": [
       "<matplotlib.axes._subplots.AxesSubplot at 0x236123d8f98>"
      ]
     },
     "execution_count": 393,
     "metadata": {},
     "output_type": "execute_result"
    },
    {
     "data": {
      "image/png": "[encoded data removed]",
      "text/plain": [
       "<Figure size 432x288 with 1 Axes>"
      ]
     },
     "metadata": {
      "needs_background": "light"
     },
     "output_type": "display_data"
    }
   ],
   "source": [
    "f = 'Var151'\n",
    "print(stat(f))\n",
    "csv[f] = csv_org[f].copy()\n",
    "csv[f] = csv[f].fillna(method='ffill')\n",
    "csv[f] = csv[f].fillna(method='bfill')\n",
    "csv[f] = cast(csv[f],-100,csv[f].quantile(0.98))\n",
    "# csv[f] = threshold_factorization(csv[f],10000)\n",
    "csv[f] = standarize(csv[f])\n",
    "# ax = csv[f].plot.kde()\n",
    "csv[f] = csv[f].apply(lambda x: np.power(x,1/3))\n",
    "csv[f] = standarize(csv[f])\n",
    "csv[f].plot.kde()\n"
   ]
  },
  {
   "cell_type": "code",
   "execution_count": 394,
   "metadata": {},
   "outputs": [
    {
     "name": "stdout",
     "output_type": "stream",
     "text": [
      "min: 0.0\n",
      "max: 6048000.0\n",
      "nans: 48421\n",
      "unique: 601\n",
      "val_type: <class 'numpy.float64'>\n",
      "vals per class: 2.63\n",
      "None\n"
     ]
    },
    {
     "data": {
      "text/plain": [
       "<matplotlib.axes._subplots.AxesSubplot at 0x23612b2b080>"
      ]
     },
     "execution_count": 394,
     "metadata": {},
     "output_type": "execute_result"
    },
    {
     "data": {
      "image/png": "[encoded data removed]",
      "text/plain": [
       "<Figure size 432x288 with 1 Axes>"
      ]
     },
     "metadata": {
      "needs_background": "light"
     },
     "output_type": "display_data"
    }
   ],
   "source": [
    "f = 'Var150'\n",
    "print(stat(f))\n",
    "csv[f] = csv_org[f].copy()\n",
    "csv[f] = csv[f].fillna(method='ffill')\n",
    "csv[f] = csv[f].fillna(method='bfill')\n",
    "csv[f] = cast(csv[f],-100,csv[f].quantile(0.98))\n",
    "# csv[f] = threshold_factorization(csv[f],10000)\n",
    "csv[f] = standarize(csv[f])\n",
    "# ax = csv[f].plot.kde()\n",
    "csv[f] = csv[f].apply(lambda x: np.power(x,1/3))\n",
    "csv[f] = standarize(csv[f])\n",
    "csv[f].plot.kde()\n"
   ]
  },
  {
   "cell_type": "code",
   "execution_count": 395,
   "metadata": {},
   "outputs": [
    {
     "name": "stdout",
     "output_type": "stream",
     "text": [
      "min: 0.0\n",
      "max: 16934400.0\n",
      "nans: 7230\n",
      "unique: 18653\n",
      "val_type: <class 'numpy.float64'>\n",
      "vals per class: 2.29\n",
      "None\n"
     ]
    },
    {
     "data": {
      "text/plain": [
       "<matplotlib.axes._subplots.AxesSubplot at 0x23613083f98>"
      ]
     },
     "execution_count": 395,
     "metadata": {},
     "output_type": "execute_result"
    },
    {
     "data": {
      "image/png": "[encoded data removed]",
      "text/plain": [
       "<Figure size 432x288 with 1 Axes>"
      ]
     },
     "metadata": {
      "needs_background": "light"
     },
     "output_type": "display_data"
    }
   ],
   "source": [
    "f = 'Var149'\n",
    "print(stat(f))\n",
    "csv[f] = csv_org[f].copy()\n",
    "csv[f] = csv[f].fillna(method='ffill')\n",
    "csv[f] = csv[f].fillna(method='bfill')\n",
    "csv[f] = cast(csv[f],-100,csv[f].quantile(0.98))\n",
    "# csv[f] = threshold_factorization(csv[f],10000)\n",
    "csv[f] = standarize(csv[f])\n",
    "# ax = csv[f].plot.kde()\n",
    "csv[f] = csv[f].apply(lambda x: np.power(x,1/3))\n",
    "csv[f] = standarize(csv[f])\n",
    "csv[f].plot.kde()\n"
   ]
  },
  {
   "cell_type": "code",
   "execution_count": 396,
   "metadata": {},
   "outputs": [
    {
     "name": "stdout",
     "output_type": "stream",
     "text": [
      "min: 0.0\n",
      "max: 18808.0\n",
      "nans: 48513\n",
      "unique: 120\n",
      "val_type: <class 'numpy.float64'>\n",
      "vals per class: 12.39\n",
      "None\n"
     ]
    },
    {
     "data": {
      "text/plain": [
       "<matplotlib.axes._subplots.AxesSubplot at 0x23612893550>"
      ]
     },
     "execution_count": 396,
     "metadata": {},
     "output_type": "execute_result"
    },
    {
     "data": {
      "image/png": "[encoded data removed]",
      "text/plain": [
       "<Figure size 432x288 with 1 Axes>"
      ]
     },
     "metadata": {
      "needs_background": "light"
     },
     "output_type": "display_data"
    }
   ],
   "source": [
    "f = 'Var148'\n",
    "print(stat(f))\n",
    "csv[f] = csv_org[f].copy()\n",
    "csv[f] = csv[f].fillna(method='ffill')\n",
    "csv[f] = csv[f].fillna(method='bfill')\n",
    "csv[f] = cast(csv[f],-100,csv[f].quantile(0.98))\n",
    "# csv[f] = threshold_factorization(csv[f],10000)\n",
    "csv[f] = standarize(csv[f])\n",
    "# ax = csv[f].plot.kde()\n",
    "csv[f] = csv[f].apply(lambda x: np.power(x,1/3))\n",
    "csv[f] = standarize(csv[f])\n",
    "csv[f].plot.kde()"
   ]
  },
  {
   "cell_type": "code",
   "execution_count": 397,
   "metadata": {},
   "outputs": [
    {
     "name": "stdout",
     "output_type": "stream",
     "text": [
      "min: 0.0\n",
      "max: 8.0\n",
      "nans: 48513\n",
      "unique: 6\n",
      "val_type: <class 'numpy.float64'>\n",
      "vals per class: 247.83\n",
      "None\n"
     ]
    }
   ],
   "source": [
    "f = 'Var147'\n",
    "print(stat(f))\n",
    "csv[f] = csv_org[f].copy()\n",
    "csv[f] = csv[f].fillna(method='ffill')\n",
    "csv[f] = csv[f].fillna(method='bfill')\n",
    "csv[f] = cast(csv[f],-100,csv[f].quantile(0.98))\n",
    "# csv[f] = threshold_factorization(csv[f],10000)\n",
    "csv[f] = standarize(csv[f])\n",
    "# ax = csv[f].plot.kde()"
   ]
  },
  {
   "cell_type": "code",
   "execution_count": 398,
   "metadata": {},
   "outputs": [],
   "source": [
    "f = 'Var146'\n",
    "delete(f)"
   ]
  },
  {
   "cell_type": "code",
   "execution_count": 399,
   "metadata": {},
   "outputs": [
    {
     "name": "stdout",
     "output_type": "stream",
     "text": [
      "min: 0.0\n",
      "max: 6126.0\n",
      "nans: 48421\n",
      "unique: 89\n",
      "val_type: <class 'numpy.float64'>\n",
      "vals per class: 17.74\n",
      "None\n"
     ]
    },
    {
     "data": {
      "text/plain": [
       "<matplotlib.axes._subplots.AxesSubplot at 0x23613ab8eb8>"
      ]
     },
     "execution_count": 399,
     "metadata": {},
     "output_type": "execute_result"
    },
    {
     "data": {
      "image/png": "[encoded data removed]",
      "text/plain": [
       "<Figure size 432x288 with 1 Axes>"
      ]
     },
     "metadata": {
      "needs_background": "light"
     },
     "output_type": "display_data"
    }
   ],
   "source": [
    "f = 'Var145'\n",
    "print(stat(f))\n",
    "csv[f] = csv_org[f].copy()\n",
    "csv[f] = csv[f].fillna(method='ffill')\n",
    "csv[f] = csv[f].fillna(method='bfill')\n",
    "csv[f] = cast(csv[f],-100,csv[f].quantile(0.98))\n",
    "# csv[f] = threshold_factorization(csv[f],10000)\n",
    "csv[f] = standarize(csv[f])\n",
    "# ax = csv[f].plot.kde()\n",
    "csv[f] = csv[f].apply(lambda x: np.power(x,1/3))\n",
    "csv[f] = standarize(csv[f])\n",
    "csv[f].plot.kde()"
   ]
  },
  {
   "cell_type": "code",
   "execution_count": 400,
   "metadata": {},
   "outputs": [
    {
     "name": "stdout",
     "output_type": "stream",
     "text": [
      "min: 0.0\n",
      "max: 81.0\n",
      "nans: 5529\n",
      "unique: 11\n",
      "val_type: <class 'numpy.float64'>\n",
      "vals per class: 4042.82\n",
      "None\n"
     ]
    }
   ],
   "source": [
    "f = 'Var144'\n",
    "print(stat(f))\n",
    "csv[f] = csv_org[f].copy()\n",
    "csv[f] = csv[f].fillna(method='ffill')\n",
    "csv[f] = csv[f].fillna(method='bfill')\n",
    "csv[f] = cast(csv[f],-100,csv[f].quantile(0.98))\n",
    "# csv[f] = threshold_factorization(csv[f],10000)\n",
    "csv[f] = standarize(csv[f])\n",
    "# ax = csv[f].plot.kde()"
   ]
  },
  {
   "cell_type": "code",
   "execution_count": 401,
   "metadata": {},
   "outputs": [],
   "source": [
    "f = 'Var143'\n",
    "delete(f)"
   ]
  },
  {
   "cell_type": "code",
   "execution_count": 402,
   "metadata": {},
   "outputs": [],
   "source": [
    "f = 'Var142'\n",
    "delete(f)"
   ]
  },
  {
   "cell_type": "code",
   "execution_count": 403,
   "metadata": {},
   "outputs": [],
   "source": [
    "f = 'Var141'\n",
    "delete(f)"
   ]
  },
  {
   "cell_type": "code",
   "execution_count": 404,
   "metadata": {},
   "outputs": [],
   "source": [
    "f = 'Var140'\n",
    "delete(f)"
   ]
  },
  {
   "cell_type": "code",
   "execution_count": 405,
   "metadata": {},
   "outputs": [
    {
     "name": "stdout",
     "output_type": "stream",
     "text": [
      "min: 0.0\n",
      "max: 2700560.0\n",
      "nans: 48513\n",
      "unique: 675\n",
      "val_type: <class 'numpy.float64'>\n",
      "vals per class: 2.2\n",
      "None\n"
     ]
    },
    {
     "data": {
      "application/vnd.jupyter.widget-view+json": {
       "model_id": "",
       "version_major": 2,
       "version_minor": 0
      },
      "text/plain": [
       "HBox(children=(IntProgress(value=0, description='Progress', max=2, style=ProgressStyle(description_width='init…"
      ]
     },
     "metadata": {},
     "output_type": "display_data"
    },
    {
     "data": {
      "application/vnd.jupyter.widget-view+json": {
       "model_id": "",
       "version_major": 2,
       "version_minor": 0
      },
      "text/plain": [
       "HBox(children=(IntProgress(value=0, max=1), HTML(value='')))"
      ]
     },
     "metadata": {},
     "output_type": "display_data"
    },
    {
     "data": {
      "application/vnd.jupyter.widget-view+json": {
       "model_id": "",
       "version_major": 2,
       "version_minor": 0
      },
      "text/plain": [
       "HBox(children=(IntProgress(value=0, max=637), HTML(value='')))"
      ]
     },
     "metadata": {},
     "output_type": "display_data"
    },
    {
     "name": "stdout",
     "output_type": "stream",
     "text": [
      "\r"
     ]
    }
   ],
   "source": [
    "f = 'Var139'\n",
    "print(stat(f))\n",
    "csv[f] = csv_org[f].copy()\n",
    "csv[f] = csv[f].fillna(method='ffill')\n",
    "csv[f] = csv[f].fillna(method='bfill')\n",
    "csv[f] = cast(csv[f],-100,csv[f].quantile(0.98))\n",
    "csv[f] = threshold_factorization(csv[f],10000)\n",
    "csv[f] = standarize(csv[f])\n",
    "# ax = csv[f].plot.kde()"
   ]
  },
  {
   "cell_type": "code",
   "execution_count": 406,
   "metadata": {},
   "outputs": [],
   "source": [
    "f = 'Var138'\n",
    "delete(f)"
   ]
  },
  {
   "cell_type": "code",
   "execution_count": 407,
   "metadata": {},
   "outputs": [
    {
     "name": "stdout",
     "output_type": "stream",
     "text": [
      "min: 0.0\n",
      "max: 204.0\n",
      "nans: 49298\n",
      "unique: 20\n",
      "val_type: <class 'numpy.float64'>\n",
      "vals per class: 35.1\n",
      "None\n"
     ]
    },
    {
     "data": {
      "application/vnd.jupyter.widget-view+json": {
       "model_id": "",
       "version_major": 2,
       "version_minor": 0
      },
      "text/plain": [
       "HBox(children=(IntProgress(value=0, description='Progress', max=2, style=ProgressStyle(description_width='init…"
      ]
     },
     "metadata": {},
     "output_type": "display_data"
    },
    {
     "data": {
      "application/vnd.jupyter.widget-view+json": {
       "model_id": "",
       "version_major": 2,
       "version_minor": 0
      },
      "text/plain": [
       "HBox(children=(IntProgress(value=0, max=1), HTML(value='')))"
      ]
     },
     "metadata": {},
     "output_type": "display_data"
    },
    {
     "data": {
      "application/vnd.jupyter.widget-view+json": {
       "model_id": "",
       "version_major": 2,
       "version_minor": 0
      },
      "text/plain": [
       "HBox(children=(IntProgress(value=0, max=18), HTML(value='')))"
      ]
     },
     "metadata": {},
     "output_type": "display_data"
    },
    {
     "name": "stdout",
     "output_type": "stream",
     "text": [
      "\r"
     ]
    }
   ],
   "source": [
    "f = 'Var137'\n",
    "print(stat(f))\n",
    "csv[f] = csv_org[f].copy()\n",
    "csv[f] = csv[f].fillna(method='ffill')\n",
    "csv[f] = csv[f].fillna(method='bfill')\n",
    "# csv[f] = cast(csv[f],-100,csv[f].quantile(0.98))\n",
    "csv[f] = threshold_factorization(csv[f],10000)\n",
    "csv[f] = standarize(csv[f])\n",
    "# ax = csv[f].plot.kde()"
   ]
  },
  {
   "cell_type": "code",
   "execution_count": 408,
   "metadata": {},
   "outputs": [],
   "source": [
    "f = 'Var136'\n",
    "delete(f)"
   ]
  },
  {
   "cell_type": "code",
   "execution_count": 409,
   "metadata": {},
   "outputs": [
    {
     "name": "stdout",
     "output_type": "stream",
     "text": [
      "min: 0.0\n",
      "max: 710.43\n",
      "nans: 48421\n",
      "unique: 680\n",
      "val_type: <class 'numpy.float64'>\n",
      "vals per class: 2.32\n",
      "None\n"
     ]
    }
   ],
   "source": [
    "f = 'Var135'\n",
    "print(stat(f))\n",
    "csv[f] = csv_org[f].copy()\n",
    "csv[f] = csv[f].fillna(method='ffill')\n",
    "csv[f] = csv[f].fillna(method='bfill')\n",
    "csv[f] = cast(csv[f],-100,csv[f].quantile(0.99))\n",
    "# csv[f] = threshold_factorization(csv[f],10000)\n",
    "csv[f] = standarize(csv[f])\n",
    "# ax = csv[f].plot.kde()"
   ]
  },
  {
   "cell_type": "code",
   "execution_count": 410,
   "metadata": {},
   "outputs": [
    {
     "name": "stdout",
     "output_type": "stream",
     "text": [
      "min: 0.0\n",
      "max: 5735340.0\n",
      "nans: 5009\n",
      "unique: 33182\n",
      "val_type: <class 'numpy.float64'>\n",
      "vals per class: 1.36\n",
      "None\n"
     ]
    },
    {
     "data": {
      "text/plain": [
       "<matplotlib.axes._subplots.AxesSubplot at 0x23613b614e0>"
      ]
     },
     "execution_count": 410,
     "metadata": {},
     "output_type": "execute_result"
    },
    {
     "data": {
      "image/png": "[encoded data removed]",
      "text/plain": [
       "<Figure size 432x288 with 1 Axes>"
      ]
     },
     "metadata": {
      "needs_background": "light"
     },
     "output_type": "display_data"
    }
   ],
   "source": [
    "f = 'Var134'\n",
    "print(stat(f))\n",
    "csv[f] = csv_org[f].copy()\n",
    "csv[f] = csv[f].fillna(method='ffill')\n",
    "csv[f] = csv[f].fillna(method='bfill')\n",
    "csv[f] = cast(csv[f],-100,csv[f].quantile(0.95))\n",
    "# csv[f] = threshold_factorization(csv[f],10000)\n",
    "csv[f] = standarize(csv[f])\n",
    "# ax = csv[f].plot.kde()\n",
    "csv[f] = csv[f].apply(lambda x: np.power(x,1/2))\n",
    "csv[f] = standarize(csv[f])\n",
    "csv[f].plot.kde()"
   ]
  },
  {
   "cell_type": "code",
   "execution_count": 411,
   "metadata": {},
   "outputs": [
    {
     "name": "stdout",
     "output_type": "stream",
     "text": [
      "min: 0.0\n",
      "max: 15009900.0\n",
      "nans: 5009\n",
      "unique: 37604\n",
      "val_type: <class 'numpy.float64'>\n",
      "vals per class: 1.2\n",
      "None\n"
     ]
    },
    {
     "data": {
      "text/plain": [
       "<matplotlib.axes._subplots.AxesSubplot at 0x23614b98780>"
      ]
     },
     "execution_count": 411,
     "metadata": {},
     "output_type": "execute_result"
    },
    {
     "data": {
      "image/png": "[encoded data removed]",
      "text/plain": [
       "<Figure size 432x288 with 1 Axes>"
      ]
     },
     "metadata": {
      "needs_background": "light"
     },
     "output_type": "display_data"
    }
   ],
   "source": [
    "f = 'Var133'\n",
    "print(stat(f))\n",
    "csv[f] = csv_org[f].copy()\n",
    "csv[f] = csv[f].fillna(method='ffill')\n",
    "csv[f] = csv[f].fillna(method='bfill')\n",
    "csv[f] = cast(csv[f],-100,csv[f].quantile(0.95))\n",
    "# csv[f] = threshold_factorization(csv[f],10000)\n",
    "csv[f] = standarize(csv[f])\n",
    "# ax = csv[f].plot.kde()\n",
    "csv[f] = csv[f].apply(lambda x: np.power(x,1/2))\n",
    "csv[f] = standarize(csv[f])\n",
    "csv[f].plot.kde()"
   ]
  },
  {
   "cell_type": "code",
   "execution_count": 412,
   "metadata": {},
   "outputs": [
    {
     "name": "stdout",
     "output_type": "stream",
     "text": [
      "min: 0.0\n",
      "max: 184.0\n",
      "nans: 5009\n",
      "unique: 20\n",
      "val_type: <class 'numpy.float64'>\n",
      "vals per class: 2249.55\n",
      "None\n"
     ]
    },
    {
     "data": {
      "application/vnd.jupyter.widget-view+json": {
       "model_id": "",
       "version_major": 2,
       "version_minor": 0
      },
      "text/plain": [
       "HBox(children=(IntProgress(value=0, description='Progress', max=2, style=ProgressStyle(description_width='init…"
      ]
     },
     "metadata": {},
     "output_type": "display_data"
    },
    {
     "data": {
      "application/vnd.jupyter.widget-view+json": {
       "model_id": "",
       "version_major": 2,
       "version_minor": 0
      },
      "text/plain": [
       "HBox(children=(IntProgress(value=0, max=1), HTML(value='')))"
      ]
     },
     "metadata": {},
     "output_type": "display_data"
    },
    {
     "data": {
      "application/vnd.jupyter.widget-view+json": {
       "model_id": "",
       "version_major": 2,
       "version_minor": 0
      },
      "text/plain": [
       "HBox(children=(IntProgress(value=0, max=18), HTML(value='')))"
      ]
     },
     "metadata": {},
     "output_type": "display_data"
    },
    {
     "name": "stdout",
     "output_type": "stream",
     "text": [
      "\r"
     ]
    }
   ],
   "source": [
    "f = 'Var132'\n",
    "print(stat(f))\n",
    "csv[f] = csv_org[f].copy()\n",
    "csv[f] = csv[f].fillna(method='ffill')\n",
    "csv[f] = csv[f].fillna(method='bfill')\n",
    "# csv[f] = cast(csv[f],-100,csv[f].quantile(0.95))\n",
    "csv[f] = threshold_factorization(csv[f],10000)\n",
    "csv[f] = standarize(csv[f])\n",
    "# ax = csv[f].plot.kde()"
   ]
  },
  {
   "cell_type": "code",
   "execution_count": 413,
   "metadata": {},
   "outputs": [
    {
     "name": "stdout",
     "output_type": "stream",
     "text": [
      "min: 0.0\n",
      "max: 442233600.0\n",
      "nans: 49298\n",
      "unique: 153\n",
      "val_type: <class 'numpy.float64'>\n",
      "vals per class: 4.59\n",
      "None\n"
     ]
    },
    {
     "data": {
      "application/vnd.jupyter.widget-view+json": {
       "model_id": "",
       "version_major": 2,
       "version_minor": 0
      },
      "text/plain": [
       "HBox(children=(IntProgress(value=0, description='Progress', max=2, style=ProgressStyle(description_width='init…"
      ]
     },
     "metadata": {},
     "output_type": "display_data"
    },
    {
     "data": {
      "application/vnd.jupyter.widget-view+json": {
       "model_id": "",
       "version_major": 2,
       "version_minor": 0
      },
      "text/plain": [
       "HBox(children=(IntProgress(value=0, max=1), HTML(value='')))"
      ]
     },
     "metadata": {},
     "output_type": "display_data"
    },
    {
     "data": {
      "application/vnd.jupyter.widget-view+json": {
       "model_id": "",
       "version_major": 2,
       "version_minor": 0
      },
      "text/plain": [
       "HBox(children=(IntProgress(value=0, max=151), HTML(value='')))"
      ]
     },
     "metadata": {},
     "output_type": "display_data"
    },
    {
     "name": "stdout",
     "output_type": "stream",
     "text": [
      "\r"
     ]
    }
   ],
   "source": [
    "f = 'Var131'\n",
    "print(stat(f))\n",
    "csv[f] = csv_org[f].copy()\n",
    "csv[f] = csv[f].fillna(method='ffill')\n",
    "csv[f] = csv[f].fillna(method='bfill')\n",
    "# csv[f] = cast(csv[f],-100,csv[f].quantile(0.95))\n",
    "csv[f] = threshold_factorization(csv[f],10000)\n",
    "csv[f] = standarize(csv[f])\n",
    "# ax = csv[f].plot.kde()"
   ]
  },
  {
   "cell_type": "code",
   "execution_count": 414,
   "metadata": {},
   "outputs": [],
   "source": [
    "f = 'Var130'\n",
    "delete(f)"
   ]
  },
  {
   "cell_type": "code",
   "execution_count": 415,
   "metadata": {},
   "outputs": [
    {
     "name": "stdout",
     "output_type": "stream",
     "text": [
      "min: 0.0\n",
      "max: 636.0\n",
      "nans: 49298\n",
      "unique: 46\n",
      "val_type: <class 'numpy.float64'>\n",
      "vals per class: 15.26\n",
      "None\n"
     ]
    },
    {
     "data": {
      "text/plain": [
       "<matplotlib.axes._subplots.AxesSubplot at 0x23614992ba8>"
      ]
     },
     "execution_count": 415,
     "metadata": {},
     "output_type": "execute_result"
    },
    {
     "data": {
      "image/png": "[encoded data removed]",
      "text/plain": [
       "<Figure size 432x288 with 1 Axes>"
      ]
     },
     "metadata": {
      "needs_background": "light"
     },
     "output_type": "display_data"
    }
   ],
   "source": [
    "f = 'Var129'\n",
    "print(stat(f))\n",
    "csv[f] = csv_org[f].copy()\n",
    "csv[f] = csv[f].fillna(method='ffill')\n",
    "csv[f] = csv[f].fillna(method='bfill')\n",
    "csv[f] = cast(csv[f],-100,csv[f].quantile(0.9))\n",
    "# csv[f] = threshold_factorization(csv[f],10000)\n",
    "csv[f] = standarize(csv[f])\n",
    "# ax = csv[f].plot.kde()\n",
    "csv[f] = csv[f].apply(lambda x: np.power(x,1/3))\n",
    "csv[f] = standarize(csv[f])\n",
    "csv[f].plot.kde()"
   ]
  },
  {
   "cell_type": "code",
   "execution_count": 416,
   "metadata": {},
   "outputs": [
    {
     "name": "stdout",
     "output_type": "stream",
     "text": [
      "min: 0.0\n",
      "max: 7147.0\n",
      "nans: 48917\n",
      "unique: 89\n",
      "val_type: <class 'numpy.float64'>\n",
      "vals per class: 12.17\n",
      "None\n"
     ]
    },
    {
     "data": {
      "text/plain": [
       "<matplotlib.axes._subplots.AxesSubplot at 0x23614274978>"
      ]
     },
     "execution_count": 416,
     "metadata": {},
     "output_type": "execute_result"
    },
    {
     "data": {
      "image/png": "[encoded data removed]",
      "text/plain": [
       "<Figure size 432x288 with 1 Axes>"
      ]
     },
     "metadata": {
      "needs_background": "light"
     },
     "output_type": "display_data"
    }
   ],
   "source": [
    "f = 'Var128'\n",
    "print(stat(f))\n",
    "csv[f] = csv_org[f].copy()\n",
    "csv[f] = csv[f].fillna(method='ffill')\n",
    "csv[f] = csv[f].fillna(method='bfill')\n",
    "csv[f] = cast(csv[f],-100,csv[f].quantile(0.95))\n",
    "# csv[f] = threshold_factorization(csv[f],10000)\n",
    "csv[f] = standarize(csv[f])\n",
    "# ax = csv[f].plot.kde()\n",
    "csv[f] = csv[f].apply(lambda x: np.power(x,1/3))\n",
    "csv[f] = standarize(csv[f])\n",
    "csv[f].plot.kde()"
   ]
  },
  {
   "cell_type": "code",
   "execution_count": 417,
   "metadata": {},
   "outputs": [
    {
     "name": "stdout",
     "output_type": "stream",
     "text": [
      "min: 0.0\n",
      "max: 2480.0\n",
      "nans: 48917\n",
      "unique: 40\n",
      "val_type: <class 'numpy.float64'>\n",
      "vals per class: 27.08\n",
      "None\n"
     ]
    },
    {
     "data": {
      "application/vnd.jupyter.widget-view+json": {
       "model_id": "",
       "version_major": 2,
       "version_minor": 0
      },
      "text/plain": [
       "HBox(children=(IntProgress(value=0, description='Progress', max=2, style=ProgressStyle(description_width='init…"
      ]
     },
     "metadata": {},
     "output_type": "display_data"
    },
    {
     "data": {
      "application/vnd.jupyter.widget-view+json": {
       "model_id": "",
       "version_major": 2,
       "version_minor": 0
      },
      "text/plain": [
       "HBox(children=(IntProgress(value=0, max=1), HTML(value='')))"
      ]
     },
     "metadata": {},
     "output_type": "display_data"
    },
    {
     "data": {
      "application/vnd.jupyter.widget-view+json": {
       "model_id": "",
       "version_major": 2,
       "version_minor": 0
      },
      "text/plain": [
       "HBox(children=(IntProgress(value=0, max=38), HTML(value='')))"
      ]
     },
     "metadata": {},
     "output_type": "display_data"
    },
    {
     "name": "stdout",
     "output_type": "stream",
     "text": [
      "\r"
     ]
    }
   ],
   "source": [
    "f = 'Var127'\n",
    "print(stat(f))\n",
    "csv[f] = csv_org[f].copy()\n",
    "csv[f] = csv[f].fillna(method='ffill')\n",
    "csv[f] = csv[f].fillna(method='bfill')\n",
    "# csv[f] = cast(csv[f],-100,csv[f].quantile(0.95))\n",
    "# csv[f] = standarize(csv[f])\n",
    "csv[f] = threshold_factorization(csv[f],10000)\n",
    "csv[f] = standarize(csv[f])\n",
    "# ax = csv[f].plot.kde()"
   ]
  },
  {
   "cell_type": "code",
   "execution_count": 418,
   "metadata": {},
   "outputs": [
    {
     "name": "stdout",
     "output_type": "stream",
     "text": [
      "min: -32.0\n",
      "max: 68.0\n",
      "nans: 13920\n",
      "unique: 52\n",
      "val_type: <class 'numpy.float64'>\n",
      "vals per class: 693.85\n",
      "None\n"
     ]
    }
   ],
   "source": [
    "f = 'Var126'\n",
    "print(stat(f))\n",
    "csv[f] = csv_org[f].copy()\n",
    "csv[f] = csv[f].fillna(method='ffill')\n",
    "csv[f] = csv[f].fillna(method='bfill')\n",
    "csv[f] = cast(csv[f],-100,csv[f].quantile(0.95))\n",
    "# csv[f] = standarize(csv[f])\n",
    "# csv[f] = threshold_factorization(csv[f],10000)\n",
    "csv[f] = standarize(csv[f])\n",
    "# ax = csv[f].plot.kde()"
   ]
  },
  {
   "cell_type": "code",
   "execution_count": 419,
   "metadata": {},
   "outputs": [
    {
     "name": "stdout",
     "output_type": "stream",
     "text": [
      "min: 0.0\n",
      "max: 5436045.0\n",
      "nans: 5539\n",
      "unique: 10506\n",
      "val_type: <class 'numpy.float64'>\n",
      "vals per class: 4.23\n",
      "None\n"
     ]
    },
    {
     "data": {
      "text/plain": [
       "<matplotlib.axes._subplots.AxesSubplot at 0x23612b02dd8>"
      ]
     },
     "execution_count": 419,
     "metadata": {},
     "output_type": "execute_result"
    },
    {
     "data": {
      "image/png": "[encoded data removed]",
      "text/plain": [
       "<Figure size 432x288 with 1 Axes>"
      ]
     },
     "metadata": {
      "needs_background": "light"
     },
     "output_type": "display_data"
    }
   ],
   "source": [
    "f = 'Var125'\n",
    "print(stat(f))\n",
    "csv[f] = csv_org[f].copy()\n",
    "csv[f] = csv[f].fillna(method='ffill')\n",
    "csv[f] = csv[f].fillna(method='bfill')\n",
    "csv[f] = cast(csv[f],-100,csv[f].quantile(0.95))\n",
    "# csv[f] = standarize(csv[f])\n",
    "# csv[f] = threshold_factorization(csv[f],10000)\n",
    "csv[f] = standarize(csv[f])\n",
    "# ax = csv[f].plot.kde()\n",
    "csv[f] = csv[f].apply(lambda x: np.power(x,1/4))\n",
    "csv[f] = standarize(csv[f])\n",
    "csv[f].plot.kde()"
   ]
  },
  {
   "cell_type": "code",
   "execution_count": 420,
   "metadata": {},
   "outputs": [
    {
     "name": "stdout",
     "output_type": "stream",
     "text": [
      "min: 0.0\n",
      "max: 9676800.0\n",
      "nans: 48421\n",
      "unique: 348\n",
      "val_type: <class 'numpy.float64'>\n",
      "vals per class: 4.54\n",
      "None\n"
     ]
    },
    {
     "data": {
      "application/vnd.jupyter.widget-view+json": {
       "model_id": "",
       "version_major": 2,
       "version_minor": 0
      },
      "text/plain": [
       "HBox(children=(IntProgress(value=0, description='Progress', max=2, style=ProgressStyle(description_width='init…"
      ]
     },
     "metadata": {},
     "output_type": "display_data"
    },
    {
     "data": {
      "application/vnd.jupyter.widget-view+json": {
       "model_id": "",
       "version_major": 2,
       "version_minor": 0
      },
      "text/plain": [
       "HBox(children=(IntProgress(value=0, max=1), HTML(value='')))"
      ]
     },
     "metadata": {},
     "output_type": "display_data"
    },
    {
     "data": {
      "application/vnd.jupyter.widget-view+json": {
       "model_id": "",
       "version_major": 2,
       "version_minor": 0
      },
      "text/plain": [
       "HBox(children=(IntProgress(value=0, max=346), HTML(value='')))"
      ]
     },
     "metadata": {},
     "output_type": "display_data"
    },
    {
     "name": "stdout",
     "output_type": "stream",
     "text": [
      "\r"
     ]
    }
   ],
   "source": [
    "f = 'Var124'\n",
    "print(stat(f))\n",
    "csv[f] = csv_org[f].copy()\n",
    "csv[f] = csv[f].fillna(method='ffill')\n",
    "csv[f] = csv[f].fillna(method='bfill')\n",
    "# csv[f] = cast(csv[f],-100,csv[f].quantile(0.95))\n",
    "# csv[f] = standarize(csv[f])\n",
    "csv[f] = threshold_factorization(csv[f],10000)\n",
    "csv[f] = standarize(csv[f])\n",
    "# ax = csv[f].plot.kde()"
   ]
  },
  {
   "cell_type": "code",
   "execution_count": 421,
   "metadata": {},
   "outputs": [
    {
     "name": "stdout",
     "output_type": "stream",
     "text": [
      "min: 0.0\n",
      "max: 13086.0\n",
      "nans: 5009\n",
      "unique: 299\n",
      "val_type: <class 'numpy.float64'>\n",
      "vals per class: 150.47\n",
      "None\n"
     ]
    },
    {
     "data": {
      "text/plain": [
       "<matplotlib.axes._subplots.AxesSubplot at 0x23613b2c358>"
      ]
     },
     "execution_count": 421,
     "metadata": {},
     "output_type": "execute_result"
    },
    {
     "data": {
      "image/png": "[encoded data removed]",
      "text/plain": [
       "<Figure size 432x288 with 1 Axes>"
      ]
     },
     "metadata": {
      "needs_background": "light"
     },
     "output_type": "display_data"
    }
   ],
   "source": [
    "f = 'Var123'\n",
    "print(stat(f))\n",
    "csv[f] = csv_org[f].copy()\n",
    "csv[f] = csv[f].fillna(method='ffill')\n",
    "csv[f] = csv[f].fillna(method='bfill')\n",
    "csv[f] = cast(csv[f],-100,csv[f].quantile(0.95))\n",
    "# csv[f] = standarize(csv[f])\n",
    "# csv[f] = threshold_factorization(csv[f],10000)\n",
    "csv[f] = standarize(csv[f])\n",
    "# ax = csv[f].plot.kde()\n",
    "csv[f] = csv[f].apply(lambda x: np.power(x,1/2))\n",
    "csv[f] = standarize(csv[f])\n",
    "csv[f].plot.kde()"
   ]
  },
  {
   "cell_type": "code",
   "execution_count": 422,
   "metadata": {},
   "outputs": [],
   "source": [
    "f = 'Var122'\n",
    "delete(f)"
   ]
  },
  {
   "cell_type": "code",
   "execution_count": 423,
   "metadata": {},
   "outputs": [
    {
     "name": "stdout",
     "output_type": "stream",
     "text": [
      "min: 0.0\n",
      "max: 672.0\n",
      "nans: 49298\n",
      "unique: 34\n",
      "val_type: <class 'numpy.float64'>\n",
      "vals per class: 20.65\n",
      "None\n"
     ]
    },
    {
     "data": {
      "application/vnd.jupyter.widget-view+json": {
       "model_id": "",
       "version_major": 2,
       "version_minor": 0
      },
      "text/plain": [
       "HBox(children=(IntProgress(value=0, description='Progress', max=2, style=ProgressStyle(description_width='init…"
      ]
     },
     "metadata": {},
     "output_type": "display_data"
    },
    {
     "data": {
      "application/vnd.jupyter.widget-view+json": {
       "model_id": "",
       "version_major": 2,
       "version_minor": 0
      },
      "text/plain": [
       "HBox(children=(IntProgress(value=0, max=1), HTML(value='')))"
      ]
     },
     "metadata": {},
     "output_type": "display_data"
    },
    {
     "data": {
      "application/vnd.jupyter.widget-view+json": {
       "model_id": "",
       "version_major": 2,
       "version_minor": 0
      },
      "text/plain": [
       "HBox(children=(IntProgress(value=0, max=32), HTML(value='')))"
      ]
     },
     "metadata": {},
     "output_type": "display_data"
    },
    {
     "name": "stdout",
     "output_type": "stream",
     "text": [
      "\r"
     ]
    }
   ],
   "source": [
    "f = 'Var121'\n",
    "print(stat(f))\n",
    "csv[f] = csv_org[f].copy()\n",
    "csv[f] = csv[f].fillna(method='ffill')\n",
    "csv[f] = csv[f].fillna(method='bfill')\n",
    "# csv[f] = cast(csv[f],-100,csv[f].quantile(0.95))\n",
    "# csv[f] = standarize(csv[f])\n",
    "csv[f] = threshold_factorization(csv[f],10000)\n",
    "csv[f] = standarize(csv[f])\n",
    "# ax = csv[f].plot.kde()"
   ]
  },
  {
   "cell_type": "code",
   "execution_count": 424,
   "metadata": {},
   "outputs": [
    {
     "name": "stdout",
     "output_type": "stream",
     "text": [
      "min: 0.0\n",
      "max: 2502.0\n",
      "nans: 48513\n",
      "unique: 65\n",
      "val_type: <class 'numpy.float64'>\n",
      "vals per class: 22.88\n",
      "None\n"
     ]
    },
    {
     "data": {
      "application/vnd.jupyter.widget-view+json": {
       "model_id": "",
       "version_major": 2,
       "version_minor": 0
      },
      "text/plain": [
       "HBox(children=(IntProgress(value=0, description='Progress', max=2, style=ProgressStyle(description_width='init…"
      ]
     },
     "metadata": {},
     "output_type": "display_data"
    },
    {
     "data": {
      "application/vnd.jupyter.widget-view+json": {
       "model_id": "",
       "version_major": 2,
       "version_minor": 0
      },
      "text/plain": [
       "HBox(children=(IntProgress(value=0, max=1), HTML(value='')))"
      ]
     },
     "metadata": {},
     "output_type": "display_data"
    },
    {
     "data": {
      "application/vnd.jupyter.widget-view+json": {
       "model_id": "",
       "version_major": 2,
       "version_minor": 0
      },
      "text/plain": [
       "HBox(children=(IntProgress(value=0, max=63), HTML(value='')))"
      ]
     },
     "metadata": {},
     "output_type": "display_data"
    },
    {
     "name": "stdout",
     "output_type": "stream",
     "text": [
      "\r"
     ]
    }
   ],
   "source": [
    "f = 'Var120'\n",
    "print(stat(f))\n",
    "csv[f] = csv_org[f].copy()\n",
    "csv[f] = csv[f].fillna(method='ffill')\n",
    "csv[f] = csv[f].fillna(method='bfill')\n",
    "# csv[f] = cast(csv[f],-100,csv[f].quantile(0.95))\n",
    "# csv[f] = standarize(csv[f])\n",
    "csv[f] = threshold_factorization(csv[f],10000)\n",
    "csv[f] = standarize(csv[f])\n",
    "# ax = csv[f].plot.kde()"
   ]
  },
  {
   "cell_type": "code",
   "execution_count": 425,
   "metadata": {},
   "outputs": [
    {
     "name": "stdout",
     "output_type": "stream",
     "text": [
      "min: 0.0\n",
      "max: 105060.0\n",
      "nans: 5529\n",
      "unique: 1488\n",
      "val_type: <class 'numpy.float64'>\n",
      "vals per class: 29.89\n",
      "None\n"
     ]
    },
    {
     "data": {
      "text/plain": [
       "<matplotlib.axes._subplots.AxesSubplot at 0x23613e7e5c0>"
      ]
     },
     "execution_count": 425,
     "metadata": {},
     "output_type": "execute_result"
    },
    {
     "data": {
      "image/png": "[encoded data removed]",
      "text/plain": [
       "<Figure size 432x288 with 1 Axes>"
      ]
     },
     "metadata": {
      "needs_background": "light"
     },
     "output_type": "display_data"
    }
   ],
   "source": [
    "f = 'Var119'\n",
    "print(stat(f))\n",
    "csv[f] = csv_org[f].copy()\n",
    "csv[f] = csv[f].fillna(method='ffill')\n",
    "csv[f] = csv[f].fillna(method='bfill')\n",
    "csv[f] = cast(csv[f],-100,csv[f].quantile(0.95))\n",
    "# csv[f] = standarize(csv[f])\n",
    "# csv[f] = threshold_factorization(csv[f],10000)\n",
    "csv[f] = standarize(csv[f])\n",
    "# ax = csv[f].plot.kde()\n",
    "csv[f] = csv[f].apply(lambda x: np.power(x,1/2))\n",
    "csv[f] = standarize(csv[f])\n",
    "csv[f].plot.kde()"
   ]
  },
  {
   "cell_type": "code",
   "execution_count": 426,
   "metadata": {},
   "outputs": [],
   "source": [
    "f = 'Var118'\n",
    "delete(f)"
   ]
  },
  {
   "cell_type": "code",
   "execution_count": 427,
   "metadata": {},
   "outputs": [
    {
     "name": "stdout",
     "output_type": "stream",
     "text": [
      "min: 0.0\n",
      "max: 2073600.0\n",
      "nans: 48421\n",
      "unique: 657\n",
      "val_type: <class 'numpy.float64'>\n",
      "vals per class: 2.4\n",
      "None\n"
     ]
    },
    {
     "data": {
      "application/vnd.jupyter.widget-view+json": {
       "model_id": "",
       "version_major": 2,
       "version_minor": 0
      },
      "text/plain": [
       "HBox(children=(IntProgress(value=0, description='Progress', max=2, style=ProgressStyle(description_width='init…"
      ]
     },
     "metadata": {},
     "output_type": "display_data"
    },
    {
     "data": {
      "application/vnd.jupyter.widget-view+json": {
       "model_id": "",
       "version_major": 2,
       "version_minor": 0
      },
      "text/plain": [
       "HBox(children=(IntProgress(value=0, max=1), HTML(value='')))"
      ]
     },
     "metadata": {},
     "output_type": "display_data"
    },
    {
     "data": {
      "application/vnd.jupyter.widget-view+json": {
       "model_id": "",
       "version_major": 2,
       "version_minor": 0
      },
      "text/plain": [
       "HBox(children=(IntProgress(value=0, max=655), HTML(value='')))"
      ]
     },
     "metadata": {},
     "output_type": "display_data"
    },
    {
     "name": "stdout",
     "output_type": "stream",
     "text": [
      "\r"
     ]
    }
   ],
   "source": [
    "f = 'Var117'\n",
    "print(stat(f))\n",
    "csv[f] = csv_org[f].copy()\n",
    "csv[f] = csv[f].fillna(method='ffill')\n",
    "csv[f] = csv[f].fillna(method='bfill')\n",
    "# csv[f] = cast(csv[f],-100,csv[f].quantile(0.95))\n",
    "# csv[f] = standarize(csv[f])\n",
    "csv[f] = threshold_factorization(csv[f],10000)\n",
    "csv[f] = standarize(csv[f])\n",
    "# ax = csv[f].plot.kde()"
   ]
  },
  {
   "cell_type": "code",
   "execution_count": 428,
   "metadata": {},
   "outputs": [],
   "source": [
    "f = 'Var116'\n",
    "delete(f)"
   ]
  },
  {
   "cell_type": "code",
   "execution_count": 429,
   "metadata": {},
   "outputs": [
    {
     "name": "stdout",
     "output_type": "stream",
     "text": [
      "min: 0.0\n",
      "max: 5337.0\n",
      "nans: 49180\n",
      "unique: 36\n",
      "val_type: <class 'numpy.float64'>\n",
      "vals per class: 22.78\n",
      "None\n"
     ]
    },
    {
     "data": {
      "text/plain": [
       "<matplotlib.axes._subplots.AxesSubplot at 0x23612dae828>"
      ]
     },
     "execution_count": 429,
     "metadata": {},
     "output_type": "execute_result"
    },
    {
     "data": {
      "image/png": "[encoded data removed]",
      "text/plain": [
       "<Figure size 432x288 with 1 Axes>"
      ]
     },
     "metadata": {
      "needs_background": "light"
     },
     "output_type": "display_data"
    }
   ],
   "source": [
    "f = 'Var115'\n",
    "print(stat(f))\n",
    "csv[f] = csv_org[f].copy()\n",
    "csv[f] = csv[f].fillna(method='ffill')\n",
    "csv[f] = csv[f].fillna(method='bfill')\n",
    "csv[f] = cast(csv[f],-100,csv[f].quantile(0.95))\n",
    "# csv[f] = standarize(csv[f])\n",
    "# csv[f] = threshold_factorization(csv[f],10000)\n",
    "csv[f] = standarize(csv[f])\n",
    "# ax = csv[f].plot.kde()\n",
    "csv[f] = csv[f].apply(lambda x: np.power(x,1/2))\n",
    "csv[f] = standarize(csv[f])\n",
    "csv[f].plot.kde()"
   ]
  },
  {
   "cell_type": "code",
   "execution_count": 430,
   "metadata": {},
   "outputs": [
    {
     "name": "stdout",
     "output_type": "stream",
     "text": [
      "min: 0.0\n",
      "max: 4493460.0\n",
      "nans: 48759\n",
      "unique: 644\n",
      "val_type: <class 'numpy.float64'>\n",
      "vals per class: 1.93\n",
      "None\n"
     ]
    },
    {
     "data": {
      "text/plain": [
       "<matplotlib.axes._subplots.AxesSubplot at 0x23626fe12b0>"
      ]
     },
     "execution_count": 430,
     "metadata": {},
     "output_type": "execute_result"
    },
    {
     "data": {
      "image/png": "[encoded data removed]",
      "text/plain": [
       "<Figure size 432x288 with 1 Axes>"
      ]
     },
     "metadata": {
      "needs_background": "light"
     },
     "output_type": "display_data"
    }
   ],
   "source": [
    "f = 'Var114'\n",
    "print(stat(f))\n",
    "csv[f] = csv_org[f].copy()\n",
    "csv[f] = csv[f].fillna(method='ffill')\n",
    "csv[f] = csv[f].fillna(method='bfill')\n",
    "csv[f] = cast(csv[f],-100,csv[f].quantile(0.95))\n",
    "# csv[f] = standarize(csv[f])\n",
    "# csv[f] = threshold_factorization(csv[f],10000)\n",
    "csv[f] = standarize(csv[f])\n",
    "# ax = csv[f].plot.kde()\n",
    "csv[f] = csv[f].apply(lambda x: np.power(x,1/2))\n",
    "csv[f] = standarize(csv[f])\n",
    "csv[f].plot.kde()"
   ]
  },
  {
   "cell_type": "code",
   "execution_count": 431,
   "metadata": {},
   "outputs": [],
   "source": [
    "f = 'Var113'\n",
    "delete(f)"
   ]
  },
  {
   "cell_type": "code",
   "execution_count": 432,
   "metadata": {},
   "outputs": [
    {
     "name": "stdout",
     "output_type": "stream",
     "text": [
      "min: 0.0\n",
      "max: 10352.0\n",
      "nans: 5009\n",
      "unique: 231\n",
      "val_type: <class 'numpy.float64'>\n",
      "vals per class: 194.77\n",
      "None\n"
     ]
    },
    {
     "data": {
      "text/plain": [
       "<matplotlib.axes._subplots.AxesSubplot at 0x2361376d3c8>"
      ]
     },
     "execution_count": 432,
     "metadata": {},
     "output_type": "execute_result"
    },
    {
     "data": {
      "image/png": "[encoded data removed]",
      "text/plain": [
       "<Figure size 432x288 with 1 Axes>"
      ]
     },
     "metadata": {
      "needs_background": "light"
     },
     "output_type": "display_data"
    }
   ],
   "source": [
    "f = 'Var112'\n",
    "print(stat(f))\n",
    "csv[f] = csv_org[f].copy()\n",
    "csv[f] = csv[f].fillna(method='ffill')\n",
    "csv[f] = csv[f].fillna(method='bfill')\n",
    "csv[f] = cast(csv[f],-100,csv[f].quantile(0.95))\n",
    "# csv[f] = standarize(csv[f])\n",
    "# csv[f] = threshold_factorization(csv[f],10000)\n",
    "csv[f] = standarize(csv[f])\n",
    "# ax = csv[f].plot.kde()\n",
    "csv[f] = csv[f].apply(lambda x: np.power(x,1/2))\n",
    "csv[f] = standarize(csv[f])\n",
    "csv[f].plot.kde()"
   ]
  },
  {
   "cell_type": "code",
   "execution_count": 433,
   "metadata": {},
   "outputs": [
    {
     "name": "stdout",
     "output_type": "stream",
     "text": [
      "min: 0.0\n",
      "max: 3628806.0\n",
      "nans: 48871\n",
      "unique: 795\n",
      "val_type: <class 'numpy.float64'>\n",
      "vals per class: 1.42\n",
      "None\n"
     ]
    },
    {
     "data": {
      "text/plain": [
       "<matplotlib.axes._subplots.AxesSubplot at 0x23613dccdd8>"
      ]
     },
     "execution_count": 433,
     "metadata": {},
     "output_type": "execute_result"
    },
    {
     "data": {
      "image/png": "[encoded data removed]",
      "text/plain": [
       "<Figure size 432x288 with 1 Axes>"
      ]
     },
     "metadata": {
      "needs_background": "light"
     },
     "output_type": "display_data"
    }
   ],
   "source": [
    "f = 'Var111'\n",
    "print(stat(f))\n",
    "csv[f] = csv_org[f].copy()\n",
    "csv[f] = csv[f].fillna(method='ffill')\n",
    "csv[f] = csv[f].fillna(method='bfill')\n",
    "csv[f] = cast(csv[f],-100,csv[f].quantile(0.95))\n",
    "# csv[f] = standarize(csv[f])\n",
    "# csv[f] = threshold_factorization(csv[f],10000)\n",
    "csv[f] = standarize(csv[f])\n",
    "# ax = csv[f].plot.kde()\n",
    "csv[f] = csv[f].apply(lambda x: np.power(x,1/3))\n",
    "csv[f] = standarize(csv[f])\n",
    "csv[f].plot.kde()"
   ]
  },
  {
   "cell_type": "code",
   "execution_count": 434,
   "metadata": {},
   "outputs": [
    {
     "name": "stdout",
     "output_type": "stream",
     "text": [
      "min: 6.0\n",
      "max: 30.0\n",
      "nans: 49298\n",
      "unique: 6\n",
      "val_type: <class 'numpy.float64'>\n",
      "vals per class: 117.0\n",
      "None\n"
     ]
    },
    {
     "data": {
      "application/vnd.jupyter.widget-view+json": {
       "model_id": "",
       "version_major": 2,
       "version_minor": 0
      },
      "text/plain": [
       "HBox(children=(IntProgress(value=0, description='Progress', max=2, style=ProgressStyle(description_width='init…"
      ]
     },
     "metadata": {},
     "output_type": "display_data"
    },
    {
     "data": {
      "application/vnd.jupyter.widget-view+json": {
       "model_id": "",
       "version_major": 2,
       "version_minor": 0
      },
      "text/plain": [
       "HBox(children=(IntProgress(value=0, max=1), HTML(value='')))"
      ]
     },
     "metadata": {},
     "output_type": "display_data"
    },
    {
     "data": {
      "application/vnd.jupyter.widget-view+json": {
       "model_id": "",
       "version_major": 2,
       "version_minor": 0
      },
      "text/plain": [
       "HBox(children=(IntProgress(value=0, max=4), HTML(value='')))"
      ]
     },
     "metadata": {},
     "output_type": "display_data"
    },
    {
     "name": "stdout",
     "output_type": "stream",
     "text": [
      "\r"
     ]
    }
   ],
   "source": [
    "f = 'Var110'\n",
    "print(stat(f))\n",
    "csv[f] = csv_org[f].copy()\n",
    "csv[f] = csv[f].fillna(method='ffill')\n",
    "csv[f] = csv[f].fillna(method='bfill')\n",
    "csv[f] = threshold_factorization(csv[f],10000)\n",
    "csv[f] = standarize(csv[f])\n",
    "# ax = csv[f].plot.kde()"
   ]
  },
  {
   "cell_type": "code",
   "execution_count": 435,
   "metadata": {},
   "outputs": [
    {
     "name": "stdout",
     "output_type": "stream",
     "text": [
      "min: 0.0\n",
      "max: 7456.0\n",
      "nans: 7230\n",
      "unique: 210\n",
      "val_type: <class 'numpy.float64'>\n",
      "vals per class: 203.67\n",
      "None\n"
     ]
    },
    {
     "data": {
      "text/plain": [
       "<matplotlib.axes._subplots.AxesSubplot at 0x23612b7f3c8>"
      ]
     },
     "execution_count": 435,
     "metadata": {},
     "output_type": "execute_result"
    },
    {
     "data": {
      "image/png": "[encoded data removed]",
      "text/plain": [
       "<Figure size 432x288 with 1 Axes>"
      ]
     },
     "metadata": {
      "needs_background": "light"
     },
     "output_type": "display_data"
    }
   ],
   "source": [
    "f = 'Var109'\n",
    "print(stat(f))\n",
    "csv[f] = csv_org[f].copy()\n",
    "csv[f] = csv[f].fillna(method='ffill')\n",
    "csv[f] = csv[f].fillna(method='bfill')\n",
    "csv[f] = cast(csv[f],-100,csv[f].quantile(0.95))\n",
    "# csv[f] = standarize(csv[f])\n",
    "# csv[f] = threshold_factorization(csv[f],10000)\n",
    "csv[f] = standarize(csv[f])\n",
    "# ax = csv[f].plot.kde()\n",
    "csv[f] = csv[f].apply(lambda x: np.power(x,1/2))\n",
    "csv[f] = standarize(csv[f])\n",
    "csv[f].plot.kde()"
   ]
  },
  {
   "cell_type": "code",
   "execution_count": 436,
   "metadata": {},
   "outputs": [],
   "source": [
    "f = 'Var108'\n",
    "delete(f)"
   ]
  },
  {
   "cell_type": "code",
   "execution_count": 437,
   "metadata": {},
   "outputs": [
    {
     "name": "stdout",
     "output_type": "stream",
     "text": [
      "min: 0.0\n",
      "max: 1932.0\n",
      "nans: 48513\n",
      "unique: 25\n",
      "val_type: <class 'numpy.float64'>\n",
      "vals per class: 59.48\n",
      "None\n"
     ]
    },
    {
     "data": {
      "application/vnd.jupyter.widget-view+json": {
       "model_id": "",
       "version_major": 2,
       "version_minor": 0
      },
      "text/plain": [
       "HBox(children=(IntProgress(value=0, description='Progress', max=2, style=ProgressStyle(description_width='init…"
      ]
     },
     "metadata": {},
     "output_type": "display_data"
    },
    {
     "data": {
      "application/vnd.jupyter.widget-view+json": {
       "model_id": "",
       "version_major": 2,
       "version_minor": 0
      },
      "text/plain": [
       "HBox(children=(IntProgress(value=0, max=1), HTML(value='')))"
      ]
     },
     "metadata": {},
     "output_type": "display_data"
    },
    {
     "data": {
      "application/vnd.jupyter.widget-view+json": {
       "model_id": "",
       "version_major": 2,
       "version_minor": 0
      },
      "text/plain": [
       "HBox(children=(IntProgress(value=0, max=23), HTML(value='')))"
      ]
     },
     "metadata": {},
     "output_type": "display_data"
    },
    {
     "name": "stdout",
     "output_type": "stream",
     "text": [
      "\r"
     ]
    }
   ],
   "source": [
    "f = 'Var107'\n",
    "print(stat(f))\n",
    "csv[f] = csv_org[f].copy()\n",
    "csv[f] = csv[f].fillna(method='ffill')\n",
    "csv[f] = csv[f].fillna(method='bfill')\n",
    "# csv[f] = cast(csv[f],-100,csv[f].quantile(0.95))\n",
    "# csv[f] = standarize(csv[f])\n",
    "csv[f] = threshold_factorization(csv[f],10000)\n",
    "csv[f] = standarize(csv[f])\n",
    "# plot(csv[f].sort_values(),log=False,small=True)\n",
    "# ax = csv[f].plot.kde()\n"
   ]
  },
  {
   "cell_type": "code",
   "execution_count": 438,
   "metadata": {},
   "outputs": [],
   "source": [
    "f = 'Var106'\n",
    "delete(f)"
   ]
  },
  {
   "cell_type": "code",
   "execution_count": 439,
   "metadata": {},
   "outputs": [],
   "source": [
    "f = 'Var105'\n",
    "delete(f)"
   ]
  },
  {
   "cell_type": "code",
   "execution_count": 440,
   "metadata": {},
   "outputs": [
    {
     "name": "stdout",
     "output_type": "stream",
     "text": [
      "min: 0.0\n",
      "max: 10152.0\n",
      "nans: 49180\n",
      "unique: 63\n",
      "val_type: <class 'numpy.float64'>\n",
      "vals per class: 13.02\n",
      "None\n"
     ]
    },
    {
     "data": {
      "application/vnd.jupyter.widget-view+json": {
       "model_id": "",
       "version_major": 2,
       "version_minor": 0
      },
      "text/plain": [
       "HBox(children=(IntProgress(value=0, description='Progress', max=2, style=ProgressStyle(description_width='init…"
      ]
     },
     "metadata": {},
     "output_type": "display_data"
    },
    {
     "data": {
      "application/vnd.jupyter.widget-view+json": {
       "model_id": "",
       "version_major": 2,
       "version_minor": 0
      },
      "text/plain": [
       "HBox(children=(IntProgress(value=0, max=5), HTML(value='')))"
      ]
     },
     "metadata": {},
     "output_type": "display_data"
    },
    {
     "data": {
      "application/vnd.jupyter.widget-view+json": {
       "model_id": "",
       "version_major": 2,
       "version_minor": 0
      },
      "text/plain": [
       "HBox(children=(IntProgress(value=0, max=57), HTML(value='')))"
      ]
     },
     "metadata": {},
     "output_type": "display_data"
    },
    {
     "name": "stdout",
     "output_type": "stream",
     "text": [
      "\r"
     ]
    }
   ],
   "source": [
    "f = 'Var104'\n",
    "print(stat(f))\n",
    "csv[f] = csv_org[f].copy()\n",
    "csv[f] = csv[f].fillna(method='ffill')\n",
    "csv[f] = csv[f].fillna(method='bfill')\n",
    "# csv[f] = cast(csv[f],-100,csv[f].quantile(0.95))\n",
    "# csv[f] = standarize(csv[f])\n",
    "csv[f] = threshold_factorization(csv[f],2100)\n",
    "csv[f] = standarize(csv[f])\n",
    "# plot(csv[f].sort_values(),log=False,small=True)\n",
    "# ax = csv[f].plot.kde()\n"
   ]
  },
  {
   "cell_type": "code",
   "execution_count": 441,
   "metadata": {},
   "outputs": [
    {
     "name": "stdout",
     "output_type": "stream",
     "text": [
      "min: 0.0\n",
      "max: 2002.0\n",
      "nans: 48513\n",
      "unique: 40\n",
      "val_type: <class 'numpy.float64'>\n",
      "vals per class: 37.17\n",
      "None\n"
     ]
    },
    {
     "data": {
      "application/vnd.jupyter.widget-view+json": {
       "model_id": "",
       "version_major": 2,
       "version_minor": 0
      },
      "text/plain": [
       "HBox(children=(IntProgress(value=0, description='Progress', max=2, style=ProgressStyle(description_width='init…"
      ]
     },
     "metadata": {},
     "output_type": "display_data"
    },
    {
     "data": {
      "application/vnd.jupyter.widget-view+json": {
       "model_id": "",
       "version_major": 2,
       "version_minor": 0
      },
      "text/plain": [
       "HBox(children=(IntProgress(value=0, max=1), HTML(value='')))"
      ]
     },
     "metadata": {},
     "output_type": "display_data"
    },
    {
     "data": {
      "application/vnd.jupyter.widget-view+json": {
       "model_id": "",
       "version_major": 2,
       "version_minor": 0
      },
      "text/plain": [
       "HBox(children=(IntProgress(value=0, max=38), HTML(value='')))"
      ]
     },
     "metadata": {},
     "output_type": "display_data"
    },
    {
     "name": "stdout",
     "output_type": "stream",
     "text": [
      "\r"
     ]
    }
   ],
   "source": [
    "f = 'Var103'\n",
    "print(stat(f))\n",
    "csv[f] = csv_org[f].copy()\n",
    "csv[f] = csv[f].fillna(method='ffill')\n",
    "csv[f] = csv[f].fillna(method='bfill')\n",
    "# csv[f] = cast(csv[f],-100,csv[f].quantile(0.95))\n",
    "# csv[f] = standarize(csv[f])\n",
    "csv[f] = threshold_factorization(csv[f],10000)\n",
    "csv[f] = standarize(csv[f])\n",
    "# plot(csv[f].sort_values(),log=False,small=True)\n",
    "# ax = csv[f].plot.kde()\n"
   ]
  },
  {
   "cell_type": "code",
   "execution_count": 442,
   "metadata": {},
   "outputs": [],
   "source": [
    "f = 'Var101'\n",
    "delete(f)"
   ]
  },
  {
   "cell_type": "code",
   "execution_count": 443,
   "metadata": {},
   "outputs": [
    {
     "name": "stdout",
     "output_type": "stream",
     "text": [
      "min: 0.0\n",
      "max: 28.0\n",
      "nans: 49298\n",
      "unique: 6\n",
      "val_type: <class 'numpy.float64'>\n",
      "vals per class: 117.0\n",
      "None\n"
     ]
    }
   ],
   "source": [
    "f = 'Var100'\n",
    "print(stat(f))\n",
    "csv[f] = csv_org[f].copy()\n",
    "csv[f] = csv[f].fillna(method='ffill')\n",
    "csv[f] = csv[f].fillna(method='bfill')\n",
    "csv[f] = cast(csv[f],-100,csv[f].quantile(0.95))\n",
    "csv[f] = standarize(csv[f])\n",
    "# csv[f] = threshold_factorization(csv[f],10)\n",
    "# plot(csv[f].sort_values(),log=False,small=True)\n",
    "# # ax = csv[f].plot.kde()"
   ]
  },
  {
   "cell_type": "code",
   "execution_count": 444,
   "metadata": {},
   "outputs": [
    {
     "name": "stdout",
     "output_type": "stream",
     "text": [
      "min: 0.0\n",
      "max: 2848.0\n",
      "nans: 48421\n",
      "unique: 48\n",
      "val_type: <class 'numpy.float64'>\n",
      "vals per class: 32.9\n",
      "None\n"
     ]
    },
    {
     "data": {
      "text/plain": [
       "<matplotlib.axes._subplots.AxesSubplot at 0x23613cc0c18>"
      ]
     },
     "execution_count": 444,
     "metadata": {},
     "output_type": "execute_result"
    },
    {
     "data": {
      "image/png": "[encoded data removed]",
      "text/plain": [
       "<Figure size 432x288 with 1 Axes>"
      ]
     },
     "metadata": {
      "needs_background": "light"
     },
     "output_type": "display_data"
    }
   ],
   "source": [
    "f = 'Var99'\n",
    "print(stat(f))\n",
    "csv[f] = csv_org[f].copy()\n",
    "csv[f] = csv[f].fillna(method='ffill')\n",
    "csv[f] = csv[f].fillna(method='bfill')\n",
    "csv[f] = cast(csv[f],-100,csv[f].quantile(0.99))\n",
    "csv[f] = standarize(csv[f])\n",
    "# csv[f] = threshold_factorization(csv[f],10)\n",
    "# ax = csv[f].plot.kde()\n",
    "csv[f] = csv[f].apply(lambda x: np.power(x,1/2))\n",
    "csv[f] = standarize(csv[f])\n",
    "csv[f].plot.kde()\n",
    "# plot(csv[f].sort_values(),log=False,small=True)"
   ]
  },
  {
   "cell_type": "code",
   "execution_count": 445,
   "metadata": {},
   "outputs": [
    {
     "name": "stdout",
     "output_type": "stream",
     "text": [
      "min: 0.0\n",
      "max: 1245440.0\n",
      "nans: 49442\n",
      "unique: 116\n",
      "val_type: <class 'numpy.float64'>\n",
      "vals per class: 4.81\n",
      "None\n"
     ]
    },
    {
     "data": {
      "application/vnd.jupyter.widget-view+json": {
       "model_id": "",
       "version_major": 2,
       "version_minor": 0
      },
      "text/plain": [
       "HBox(children=(IntProgress(value=0, description='Progress', max=2, style=ProgressStyle(description_width='init…"
      ]
     },
     "metadata": {},
     "output_type": "display_data"
    },
    {
     "data": {
      "application/vnd.jupyter.widget-view+json": {
       "model_id": "",
       "version_major": 2,
       "version_minor": 0
      },
      "text/plain": [
       "HBox(children=(IntProgress(value=0, max=33), HTML(value='')))"
      ]
     },
     "metadata": {},
     "output_type": "display_data"
    },
    {
     "data": {
      "application/vnd.jupyter.widget-view+json": {
       "model_id": "",
       "version_major": 2,
       "version_minor": 0
      },
      "text/plain": [
       "HBox(children=(IntProgress(value=0, max=78), HTML(value='')))"
      ]
     },
     "metadata": {},
     "output_type": "display_data"
    },
    {
     "name": "stdout",
     "output_type": "stream",
     "text": [
      "\r"
     ]
    }
   ],
   "source": [
    "f = 'Var98'\n",
    "print(stat(f))\n",
    "csv[f] = csv_org[f].copy()\n",
    "csv[f] = csv[f].fillna(method='ffill')\n",
    "csv[f] = csv[f].fillna(method='bfill')\n",
    "csv[f] = cast(csv[f],-100,csv[f].quantile(0.99))\n",
    "csv[f] = threshold_factorization(csv[f],100)\n",
    "csv[f] = standarize(csv[f])\n",
    "# plot(csv[f].sort_values(),log=False,small=True)\n",
    "# # ax = csv[f].plot.kde()"
   ]
  },
  {
   "cell_type": "code",
   "execution_count": 446,
   "metadata": {},
   "outputs": [
    {
     "name": "stdout",
     "output_type": "stream",
     "text": [
      "min: 0.0\n",
      "max: 36.0\n",
      "nans: 48513\n",
      "unique: 8\n",
      "val_type: <class 'numpy.float64'>\n",
      "vals per class: 185.88\n",
      "None\n"
     ]
    },
    {
     "data": {
      "application/vnd.jupyter.widget-view+json": {
       "model_id": "",
       "version_major": 2,
       "version_minor": 0
      },
      "text/plain": [
       "HBox(children=(IntProgress(value=0, description='Progress', max=2, style=ProgressStyle(description_width='init…"
      ]
     },
     "metadata": {},
     "output_type": "display_data"
    },
    {
     "data": {
      "application/vnd.jupyter.widget-view+json": {
       "model_id": "",
       "version_major": 2,
       "version_minor": 0
      },
      "text/plain": [
       "HBox(children=(IntProgress(value=0, max=1), HTML(value='')))"
      ]
     },
     "metadata": {},
     "output_type": "display_data"
    },
    {
     "data": {
      "application/vnd.jupyter.widget-view+json": {
       "model_id": "",
       "version_major": 2,
       "version_minor": 0
      },
      "text/plain": [
       "HBox(children=(IntProgress(value=0, max=6), HTML(value='')))"
      ]
     },
     "metadata": {},
     "output_type": "display_data"
    },
    {
     "name": "stdout",
     "output_type": "stream",
     "text": [
      "\r"
     ]
    }
   ],
   "source": [
    "f = 'Var97'\n",
    "print(stat(f))\n",
    "csv[f] = csv_org[f].copy()\n",
    "csv[f] = csv[f].fillna(method='ffill')\n",
    "csv[f] = csv[f].fillna(method='bfill')\n",
    "csv[f] = threshold_factorization(csv[f],10000)\n",
    "csv[f] = standarize(csv[f])"
   ]
  },
  {
   "cell_type": "code",
   "execution_count": 447,
   "metadata": {},
   "outputs": [
    {
     "name": "stdout",
     "output_type": "stream",
     "text": [
      "min: 0.0\n",
      "max: 498.0\n",
      "nans: 48759\n",
      "unique: 34\n",
      "val_type: <class 'numpy.float64'>\n",
      "vals per class: 36.5\n",
      "None\n"
     ]
    },
    {
     "data": {
      "text/plain": [
       "<matplotlib.axes._subplots.AxesSubplot at 0x236139796a0>"
      ]
     },
     "execution_count": 447,
     "metadata": {},
     "output_type": "execute_result"
    },
    {
     "data": {
      "image/png": "[encoded data removed]",
      "text/plain": [
       "<Figure size 432x288 with 1 Axes>"
      ]
     },
     "metadata": {
      "needs_background": "light"
     },
     "output_type": "display_data"
    }
   ],
   "source": [
    "f = 'Var96'\n",
    "print(stat(f))\n",
    "csv[f] = csv_org[f].copy()\n",
    "csv[f] = csv[f].fillna(method='ffill')\n",
    "csv[f] = csv[f].fillna(method='bfill')\n",
    "csv[f] = cast(csv[f],-100,csv[f].quantile(0.90))\n",
    "csv[f] = csv[f].apply(lambda x: np.power(x,1/2))\n",
    "csv[f] = standarize(csv[f])\n",
    "csv[f].plot.kde()"
   ]
  },
  {
   "cell_type": "code",
   "execution_count": 448,
   "metadata": {},
   "outputs": [],
   "source": [
    "f = 'Var95'\n",
    "delete(f)"
   ]
  },
  {
   "cell_type": "code",
   "execution_count": 449,
   "metadata": {},
   "outputs": [
    {
     "name": "stdout",
     "output_type": "stream",
     "text": [
      "min: 0.0\n",
      "max: 5640330.0\n",
      "nans: 22380\n",
      "unique: 20003\n",
      "val_type: <class 'numpy.float64'>\n",
      "vals per class: 1.38\n",
      "None\n"
     ]
    },
    {
     "data": {
      "text/plain": [
       "<matplotlib.axes._subplots.AxesSubplot at 0x23613985c18>"
      ]
     },
     "execution_count": 449,
     "metadata": {},
     "output_type": "execute_result"
    },
    {
     "data": {
      "image/png": "[encoded data removed]",
      "text/plain": [
       "<Figure size 432x288 with 1 Axes>"
      ]
     },
     "metadata": {
      "needs_background": "light"
     },
     "output_type": "display_data"
    }
   ],
   "source": [
    "f = 'Var94'\n",
    "print(stat(f))\n",
    "csv[f] = csv_org[f].copy()\n",
    "csv[f] = csv[f].fillna(method='ffill')\n",
    "csv[f] = csv[f].fillna(method='bfill')\n",
    "csv[f] = cast(csv[f],-100,csv[f].quantile(0.99))\n",
    "csv[f] = standarize(csv[f])\n",
    "# csv[f] = threshold_factorization(csv[f],10000)\n",
    "# # plot(csv[f].sort_values(),log=False,small=True)\n",
    "# ax = csv[f].plot.kde()\n",
    "csv[f] = csv[f].apply(lambda x: np.power(x,1/3))\n",
    "csv[f] = standarize(csv[f])\n",
    "csv[f].plot.kde()"
   ]
  },
  {
   "cell_type": "code",
   "execution_count": 450,
   "metadata": {},
   "outputs": [],
   "source": [
    "f = 'Var93'\n",
    "delete(f)"
   ]
  },
  {
   "cell_type": "code",
   "execution_count": 451,
   "metadata": {},
   "outputs": [
    {
     "name": "stdout",
     "output_type": "stream",
     "text": [
      "min: 0.0\n",
      "max: 9404.0\n",
      "nans: 48871\n",
      "unique: 120\n",
      "val_type: <class 'numpy.float64'>\n",
      "vals per class: 9.41\n",
      "None\n"
     ]
    },
    {
     "data": {
      "text/plain": [
       "<matplotlib.axes._subplots.AxesSubplot at 0x23613de7a20>"
      ]
     },
     "execution_count": 451,
     "metadata": {},
     "output_type": "execute_result"
    },
    {
     "data": {
      "image/png": "[encoded data removed]",
      "text/plain": [
       "<Figure size 432x288 with 1 Axes>"
      ]
     },
     "metadata": {
      "needs_background": "light"
     },
     "output_type": "display_data"
    }
   ],
   "source": [
    "f = 'Var91'\n",
    "print(stat(f))\n",
    "csv[f] = csv_org[f].copy()\n",
    "csv[f] = csv[f].fillna(method='ffill')\n",
    "csv[f] = csv[f].fillna(method='bfill')\n",
    "csv[f] = cast(csv[f],-100,csv[f].quantile(0.99))\n",
    "csv[f] = standarize(csv[f])\n",
    "# csv[f] = threshold_factorization(csv[f],20000)\n",
    "# # plot(csv[f].sort_values(),log=False,small=True)\n",
    "# # ax = csv[f].plot.kde()\n",
    "csv[f] = csv[f].apply(lambda x: np.power(x,1/3))\n",
    "csv[f] = standarize(csv[f])\n",
    "csv[f].plot.kde()"
   ]
  },
  {
   "cell_type": "code",
   "execution_count": 452,
   "metadata": {},
   "outputs": [],
   "source": [
    "f = 'Var90'\n",
    "delete(f)"
   ]
  },
  {
   "cell_type": "code",
   "execution_count": 453,
   "metadata": {},
   "outputs": [
    {
     "data": {
      "text/plain": [
       "<matplotlib.axes._subplots.AxesSubplot at 0x23613e1e320>"
      ]
     },
     "execution_count": 453,
     "metadata": {},
     "output_type": "execute_result"
    },
    {
     "data": {
      "image/png": "[encoded data removed]",
      "text/plain": [
       "<Figure size 432x288 with 1 Axes>"
      ]
     },
     "metadata": {
      "needs_background": "light"
     },
     "output_type": "display_data"
    }
   ],
   "source": [
    "f = 'Var89'\n",
    "# print(stat(f))\n",
    "csv[f] = csv_org[f]\n",
    "csv[f] = csv[f].fillna(method='ffill')\n",
    "csv[f] = csv[f].fillna(method='bfill')\n",
    "csv[f] = cast(csv[f],-100,csv[f].quantile(0.9))\n",
    "csv[f] = standarize(csv[f])\n",
    "# csv[f] = threshold_factorization(csv[f],20000)\n",
    "# # plot(csv[f].sort_values(),log=False,small=True)\n",
    "csv[f].plot.kde()"
   ]
  },
  {
   "cell_type": "code",
   "execution_count": 454,
   "metadata": {},
   "outputs": [
    {
     "data": {
      "text/plain": [
       "<matplotlib.axes._subplots.AxesSubplot at 0x2361486b7b8>"
      ]
     },
     "execution_count": 454,
     "metadata": {},
     "output_type": "execute_result"
    },
    {
     "data": {
      "image/png": "[encoded data removed]",
      "text/plain": [
       "<Figure size 432x288 with 1 Axes>"
      ]
     },
     "metadata": {
      "needs_background": "light"
     },
     "output_type": "display_data"
    }
   ],
   "source": [
    "f = 'Var88'\n",
    "# print(stat(f))\n",
    "csv[f] = csv_org[f]\n",
    "csv[f] = csv[f].fillna(method='ffill')\n",
    "csv[f] = csv[f].fillna(method='bfill')\n",
    "csv[f] = cast(csv[f],-100,csv[f].quantile(0.99))\n",
    "csv[f] = standarize(csv[f])\n",
    "# csv[f] = threshold_factorization(csv[f],20000)\n",
    "# # plot(csv[f].sort_values(),log=False,small=True)\n",
    "# ax = csv[f].plot.kde()\n",
    "csv[f] = csv[f].apply(lambda x: np.power(x,1/3))\n",
    "csv[f] = standarize(csv[f])\n",
    "csv[f].plot.kde()"
   ]
  },
  {
   "cell_type": "code",
   "execution_count": 455,
   "metadata": {},
   "outputs": [],
   "source": [
    "f = 'Var87'\n",
    "# print(stat(f))\n",
    "csv[f] = csv_org[f]\n",
    "csv[f] = csv[f].fillna(method='ffill')\n",
    "csv[f] = csv[f].fillna(method='bfill')\n",
    "csv[f] = cast(csv[f],-100,csv[f].quantile(0.99))\n",
    "csv[f] = standarize(csv[f])\n",
    "# csv[f] = threshold_factorization(csv[f],20000)\n",
    "# plot(csv[f].sort_values(),log=False,small=True)\n",
    "# csv[f].plot.kde()"
   ]
  },
  {
   "cell_type": "code",
   "execution_count": 456,
   "metadata": {},
   "outputs": [
    {
     "data": {
      "text/plain": [
       "<matplotlib.axes._subplots.AxesSubplot at 0x23613958240>"
      ]
     },
     "execution_count": 456,
     "metadata": {},
     "output_type": "execute_result"
    },
    {
     "data": {
      "image/png": "[encoded data removed]",
      "text/plain": [
       "<Figure size 432x288 with 1 Axes>"
      ]
     },
     "metadata": {
      "needs_background": "light"
     },
     "output_type": "display_data"
    }
   ],
   "source": [
    "f = 'Var86'\n",
    "# print(stat(f))\n",
    "csv[f] = csv_org[f]\n",
    "csv[f] = csv[f].fillna(method='ffill')\n",
    "csv[f] = csv[f].fillna(method='bfill')\n",
    "csv[f] = cast(csv[f],-100,csv[f].quantile(0.99))\n",
    "csv[f] = standarize(csv[f])\n",
    "# csv[f] = threshold_factorization(csv[f],20000)\n",
    "# # plot(csv[f].sort_values(),log=False,small=True)\n",
    "# ax = csv[f].plot.kde()\n",
    "csv[f] = csv[f].apply(lambda x: np.power(x,1/3))\n",
    "csv[f] = standarize(csv[f])\n",
    "csv[f].plot.kde()"
   ]
  },
  {
   "cell_type": "code",
   "execution_count": 457,
   "metadata": {},
   "outputs": [
    {
     "data": {
      "text/plain": [
       "<matplotlib.axes._subplots.AxesSubplot at 0x23612e2e780>"
      ]
     },
     "execution_count": 457,
     "metadata": {},
     "output_type": "execute_result"
    },
    {
     "data": {
      "image/png": "[encoded data removed]",
      "text/plain": [
       "<Figure size 432x288 with 1 Axes>"
      ]
     },
     "metadata": {
      "needs_background": "light"
     },
     "output_type": "display_data"
    }
   ],
   "source": [
    "f = 'Var85'\n",
    "# print(stat(f))\n",
    "csv[f] = csv_org[f]\n",
    "csv[f] = csv[f].fillna(method='ffill')\n",
    "csv[f] = csv[f].fillna(method='bfill')\n",
    "csv[f] = cast(csv[f],-100,csv[f].quantile(0.99))\n",
    "csv[f] = standarize(csv[f])\n",
    "# csv[f] = threshold_factorization(csv[f],20000)\n",
    "# ax = csv[f].plot.kde()\n",
    "csv[f] = csv[f].apply(lambda x: np.power(x,1/2))\n",
    "csv[f] = standarize(csv[f])\n",
    "csv[f].plot.kde()"
   ]
  },
  {
   "cell_type": "code",
   "execution_count": 530,
   "metadata": {},
   "outputs": [
    {
     "data": {
      "application/vnd.jupyter.widget-view+json": {
       "model_id": "",
       "version_major": 2,
       "version_minor": 0
      },
      "text/plain": [
       "HBox(children=(IntProgress(value=0, description='Progress', max=2, style=ProgressStyle(description_width='init…"
      ]
     },
     "metadata": {},
     "output_type": "display_data"
    },
    {
     "data": {
      "application/vnd.jupyter.widget-view+json": {
       "model_id": "",
       "version_major": 2,
       "version_minor": 0
      },
      "text/plain": [
       "HBox(children=(IntProgress(value=0, max=1), HTML(value='')))"
      ]
     },
     "metadata": {},
     "output_type": "display_data"
    },
    {
     "data": {
      "application/vnd.jupyter.widget-view+json": {
       "model_id": "",
       "version_major": 2,
       "version_minor": 0
      },
      "text/plain": [
       "HBox(children=(IntProgress(value=0, max=14), HTML(value='')))"
      ]
     },
     "metadata": {},
     "output_type": "display_data"
    },
    {
     "name": "stdout",
     "output_type": "stream",
     "text": [
      "\r"
     ]
    },
    {
     "data": {
      "image/png": "[encoded data removed]",
      "text/plain": [
       "<Figure size 576x288 with 1 Axes>"
      ]
     },
     "metadata": {
      "needs_background": "light"
     },
     "output_type": "display_data"
    }
   ],
   "source": [
    "f = 'Var84'\n",
    "# print(stat(f))\n",
    "csv[f] = csv_org[f]\n",
    "csv[f] = csv[f].fillna(method='ffill')\n",
    "csv[f] = csv[f].fillna(method='bfill')\n",
    "csv[f] = cast(csv[f],-100,csv[f].quantile(0.90))\n",
    "csv[f] = threshold_factorization(csv[f],20000)\n",
    "csv[f] = standarize(csv[f])\n",
    "# plot(csv[f].sort_values(),log=False,small=True)"
   ]
  },
  {
   "cell_type": "code",
   "execution_count": 459,
   "metadata": {},
   "outputs": [
    {
     "data": {
      "text/plain": [
       "<matplotlib.axes._subplots.AxesSubplot at 0x23614fce470>"
      ]
     },
     "execution_count": 459,
     "metadata": {},
     "output_type": "execute_result"
    },
    {
     "data": {
      "image/png": "[encoded data removed]",
      "text/plain": [
       "<Figure size 432x288 with 1 Axes>"
      ]
     },
     "metadata": {
      "needs_background": "light"
     },
     "output_type": "display_data"
    }
   ],
   "source": [
    "f = 'Var83'\n",
    "# print(stat(f))\n",
    "csv[f] = csv_org[f]\n",
    "csv[f] = csv[f].fillna(method='ffill')\n",
    "csv[f] = csv[f].fillna(method='bfill')\n",
    "csv[f] = cast(csv[f],-100,csv[f].quantile(0.93))\n",
    "csv[f] = standarize(csv[f])\n",
    "# csv[f] = threshold_factorization(csv[f],2)\n",
    "# plot(csv[f].sort_values(),log=False,small=True)\n",
    "# ax = csv[f].plot.kde()\n",
    "csv[f] = csv[f].apply(lambda x: np.power(x,1/2))\n",
    "csv[f] = standarize(csv[f])\n",
    "csv[f].plot.kde()"
   ]
  },
  {
   "cell_type": "code",
   "execution_count": 460,
   "metadata": {},
   "outputs": [
    {
     "data": {
      "text/plain": [
       "<matplotlib.axes._subplots.AxesSubplot at 0x23612bde1d0>"
      ]
     },
     "execution_count": 460,
     "metadata": {},
     "output_type": "execute_result"
    },
    {
     "data": {
      "image/png": "[encoded data removed]",
      "text/plain": [
       "<Figure size 432x288 with 1 Axes>"
      ]
     },
     "metadata": {
      "needs_background": "light"
     },
     "output_type": "display_data"
    }
   ],
   "source": [
    "f = 'Var82'\n",
    "# print(stat(f))\n",
    "csv[f] = csv_org[f]\n",
    "csv[f] = csv[f].fillna(method='ffill')\n",
    "csv[f] = csv[f].fillna(method='bfill')\n",
    "csv[f] = cast(csv[f],-100,csv[f].quantile(0.90))\n",
    "csv[f] = standarize(csv[f])\n",
    "# csv[f] = threshold_factorization(csv[f],2)\n",
    "# plot(csv[f].sort_values(),log=False,small=True)\n",
    "csv[f].plot.kde()"
   ]
  },
  {
   "cell_type": "code",
   "execution_count": 461,
   "metadata": {},
   "outputs": [
    {
     "data": {
      "application/vnd.jupyter.widget-view+json": {
       "model_id": "",
       "version_major": 2,
       "version_minor": 0
      },
      "text/plain": [
       "HBox(children=(IntProgress(value=0, description='Progress', max=2, style=ProgressStyle(description_width='init…"
      ]
     },
     "metadata": {},
     "output_type": "display_data"
    },
    {
     "data": {
      "application/vnd.jupyter.widget-view+json": {
       "model_id": "",
       "version_major": 2,
       "version_minor": 0
      },
      "text/plain": [
       "HBox(children=(IntProgress(value=0, max=6269), HTML(value='')))"
      ]
     },
     "metadata": {},
     "output_type": "display_data"
    },
    {
     "data": {
      "application/vnd.jupyter.widget-view+json": {
       "model_id": "",
       "version_major": 2,
       "version_minor": 0
      },
      "text/plain": [
       "HBox(children=(IntProgress(value=0, max=3123), HTML(value='')))"
      ]
     },
     "metadata": {},
     "output_type": "display_data"
    },
    {
     "name": "stdout",
     "output_type": "stream",
     "text": [
      "\r"
     ]
    }
   ],
   "source": [
    "f = 'Var81'\n",
    "# print(stat(f))\n",
    "csv[f] = csv_org[f]\n",
    "csv[f] = csv[f].fillna(method='ffill')\n",
    "csv[f] = csv[f].fillna(method='bfill')\n",
    "csv[f] = cast(csv[f],-100,csv[f].quantile(0.90))\n",
    "csv[f] = standarize(csv[f])\n",
    "csv[f] = threshold_factorization(csv[f],2)\n",
    "# plot(csv[f].sort_values(),log=False,small=True)\n",
    "one_hot_encoding(f)"
   ]
  },
  {
   "cell_type": "code",
   "execution_count": 462,
   "metadata": {},
   "outputs": [],
   "source": [
    "f = 'Var80'\n",
    "delete(f)"
   ]
  },
  {
   "cell_type": "code",
   "execution_count": 463,
   "metadata": {},
   "outputs": [],
   "source": [
    "f = 'Var78'\n",
    "delete(f)"
   ]
  },
  {
   "cell_type": "code",
   "execution_count": 464,
   "metadata": {},
   "outputs": [
    {
     "name": "stdout",
     "output_type": "stream",
     "text": [
      "min: 0.0\n",
      "max: 666.0\n",
      "nans: 49298\n",
      "unique: 24\n",
      "val_type: <class 'numpy.float64'>\n",
      "vals per class: 29.25\n",
      "None\n"
     ]
    },
    {
     "data": {
      "text/plain": [
       "<matplotlib.axes._subplots.AxesSubplot at 0x23614d60080>"
      ]
     },
     "execution_count": 464,
     "metadata": {},
     "output_type": "execute_result"
    },
    {
     "data": {
      "image/png": "[encoded data removed]",
      "text/plain": [
       "<Figure size 432x288 with 1 Axes>"
      ]
     },
     "metadata": {
      "needs_background": "light"
     },
     "output_type": "display_data"
    }
   ],
   "source": [
    "f = 'Var77'\n",
    "print(stat(f))\n",
    "csv[f] = csv_org[f]\n",
    "csv[f] = csv[f].fillna(method='ffill')\n",
    "csv[f] = csv[f].fillna(method='bfill')\n",
    "csv[f] = cast(csv[f],-100,csv[f].quantile(0.90))\n",
    "csv[f] = standarize(csv[f])\n",
    "# # plot(csv[f].sort_values(),log=False,small=True)\n",
    "csv[f].plot.kde()"
   ]
  },
  {
   "cell_type": "code",
   "execution_count": 465,
   "metadata": {},
   "outputs": [
    {
     "data": {
      "text/plain": [
       "<matplotlib.axes._subplots.AxesSubplot at 0x2361372fc50>"
      ]
     },
     "execution_count": 465,
     "metadata": {},
     "output_type": "execute_result"
    },
    {
     "data": {
      "image/png": "[encoded data removed]",
      "text/plain": [
       "<Figure size 432x288 with 1 Axes>"
      ]
     },
     "metadata": {
      "needs_background": "light"
     },
     "output_type": "display_data"
    }
   ],
   "source": [
    "f = 'Var76'\n",
    "csv[f] = csv_org[f]\n",
    "csv[f] = csv[f].fillna(method='ffill')\n",
    "csv[f] = csv[f].fillna(method='bfill')\n",
    "csv[f] = cast(csv[f],-100,csv[f].quantile(0.97))\n",
    "csv[f] = standarize(csv[f])\n",
    "# # plot(csv[f].sort_values(),log=False,small=True)\n",
    "# ax = csv[f].plot.kde()\n",
    "csv[f] = csv[f].apply(lambda x: np.power(x,1/3))\n",
    "csv[f] = standarize(csv[f])\n",
    "csv[f].plot.kde()"
   ]
  },
  {
   "cell_type": "code",
   "execution_count": 466,
   "metadata": {},
   "outputs": [
    {
     "data": {
      "text/plain": [
       "<matplotlib.axes._subplots.AxesSubplot at 0x236140387f0>"
      ]
     },
     "execution_count": 466,
     "metadata": {},
     "output_type": "execute_result"
    },
    {
     "data": {
      "image/png": "[encoded data removed]",
      "text/plain": [
       "<Figure size 432x288 with 1 Axes>"
      ]
     },
     "metadata": {
      "needs_background": "light"
     },
     "output_type": "display_data"
    }
   ],
   "source": [
    "f = 'Var75'\n",
    "csv[f] = csv_org[f]\n",
    "csv[f] = csv[f].fillna(method='ffill')\n",
    "csv[f] = csv[f].fillna(method='bfill')\n",
    "csv[f] = cast(csv[f],-100,csv[f].quantile(0.95))\n",
    "csv[f] = standarize(csv[f])\n",
    "# plot(csv[f].sort_values(),log=False,small=True)\n",
    "# ax = csv[f].plot.kde()\n",
    "csv[f] = csv[f].apply(lambda x: np.power(x,1/3))\n",
    "csv[f] = standarize(csv[f])\n",
    "csv[f].plot.kde()"
   ]
  },
  {
   "cell_type": "code",
   "execution_count": 467,
   "metadata": {},
   "outputs": [
    {
     "data": {
      "application/vnd.jupyter.widget-view+json": {
       "model_id": "",
       "version_major": 2,
       "version_minor": 0
      },
      "text/plain": [
       "HBox(children=(IntProgress(value=0, description='Progress', max=3, style=ProgressStyle(description_width='init…"
      ]
     },
     "metadata": {},
     "output_type": "display_data"
    },
    {
     "data": {
      "application/vnd.jupyter.widget-view+json": {
       "model_id": "",
       "version_major": 2,
       "version_minor": 0
      },
      "text/plain": [
       "HBox(children=(IntProgress(value=0, max=1), HTML(value='')))"
      ]
     },
     "metadata": {},
     "output_type": "display_data"
    },
    {
     "data": {
      "application/vnd.jupyter.widget-view+json": {
       "model_id": "",
       "version_major": 2,
       "version_minor": 0
      },
      "text/plain": [
       "HBox(children=(IntProgress(value=0, max=1), HTML(value='')))"
      ]
     },
     "metadata": {},
     "output_type": "display_data"
    },
    {
     "data": {
      "application/vnd.jupyter.widget-view+json": {
       "model_id": "",
       "version_major": 2,
       "version_minor": 0
      },
      "text/plain": [
       "HBox(children=(IntProgress(value=0, max=7), HTML(value='')))"
      ]
     },
     "metadata": {},
     "output_type": "display_data"
    },
    {
     "name": "stdout",
     "output_type": "stream",
     "text": [
      "\r"
     ]
    }
   ],
   "source": [
    "f = 'Var74'\n",
    "csv[f] = csv_org[f]\n",
    "csv[f] = csv[f].fillna(method='ffill')\n",
    "csv[f] = csv[f].fillna(method='bfill')\n",
    "csv[f] = cast(csv[f],-100,csv[f].quantile(0.7))\n",
    "csv[f] = threshold_factorization(csv[f],20000,10000)\n",
    "csv[f] = standarize(csv[f])\n",
    "# plot(csv[f].sort_values(),log=False,small=True)\n"
   ]
  },
  {
   "cell_type": "code",
   "execution_count": 468,
   "metadata": {},
   "outputs": [
    {
     "data": {
      "text/plain": [
       "<matplotlib.axes._subplots.AxesSubplot at 0x23614cc27f0>"
      ]
     },
     "execution_count": 468,
     "metadata": {},
     "output_type": "execute_result"
    },
    {
     "data": {
      "image/png": "[encoded data removed]",
      "text/plain": [
       "<Figure size 432x288 with 1 Axes>"
      ]
     },
     "metadata": {
      "needs_background": "light"
     },
     "output_type": "display_data"
    }
   ],
   "source": [
    "f = 'Var73'\n",
    "csv[f] = csv_org[f]\n",
    "csv[f] = csv[f].fillna(method='ffill')\n",
    "csv[f] = csv[f].fillna(method='bfill')\n",
    "csv[f] = cast(csv[f],-100,csv[f].quantile(0.99))\n",
    "csv[f] = standarize(csv[f])\n",
    "# plot(csv[f].sort_values(),log=False,small=True)\n",
    "# ax = csv[f].plot.kde()\n",
    "csv[f] = csv[f].apply(lambda x: np.power(x,1/2))\n",
    "csv[f] = standarize(csv[f])\n",
    "csv[f].plot.kde()"
   ]
  },
  {
   "cell_type": "code",
   "execution_count": 469,
   "metadata": {},
   "outputs": [],
   "source": [
    "f = 'Var72'\n",
    "csv[f] = csv_org[f]\n",
    "csv[f] = csv[f].fillna(method='ffill')\n",
    "csv[f] = csv[f].fillna(method='bfill')\n",
    "csv[f] = cast(csv[f],-100,csv[f].quantile(0.95))\n",
    "csv[f] = standarize(csv[f])\n",
    "# plot(csv[f].sort_values(),log=False,small=True)\n",
    "# csv[f].plot.kde()"
   ]
  },
  {
   "cell_type": "code",
   "execution_count": 470,
   "metadata": {},
   "outputs": [
    {
     "data": {
      "application/vnd.jupyter.widget-view+json": {
       "model_id": "",
       "version_major": 2,
       "version_minor": 0
      },
      "text/plain": [
       "HBox(children=(IntProgress(value=0, description='Progress', max=3, style=ProgressStyle(description_width='init…"
      ]
     },
     "metadata": {},
     "output_type": "display_data"
    },
    {
     "data": {
      "application/vnd.jupyter.widget-view+json": {
       "model_id": "",
       "version_major": 2,
       "version_minor": 0
      },
      "text/plain": [
       "HBox(children=(IntProgress(value=0, max=1), HTML(value='')))"
      ]
     },
     "metadata": {},
     "output_type": "display_data"
    },
    {
     "data": {
      "application/vnd.jupyter.widget-view+json": {
       "model_id": "",
       "version_major": 2,
       "version_minor": 0
      },
      "text/plain": [
       "HBox(children=(IntProgress(value=0, max=1), HTML(value='')))"
      ]
     },
     "metadata": {},
     "output_type": "display_data"
    },
    {
     "data": {
      "application/vnd.jupyter.widget-view+json": {
       "model_id": "",
       "version_major": 2,
       "version_minor": 0
      },
      "text/plain": [
       "HBox(children=(IntProgress(value=0, max=23), HTML(value='')))"
      ]
     },
     "metadata": {},
     "output_type": "display_data"
    },
    {
     "name": "stdout",
     "output_type": "stream",
     "text": [
      "\r"
     ]
    }
   ],
   "source": [
    "f = 'Var71'\n",
    "csv[f] = csv_org[f]\n",
    "csv[f] = csv[f].fillna(method='ffill')\n",
    "csv[f] = csv[f].fillna(method='bfill')\n",
    "csv[f] = cast(csv[f],-100,csv[f].quantile(0.80))\n",
    "csv[f] = threshold_factorization(csv[f],12000,8000)\n",
    "csv[f] = standarize(csv[f])\n",
    "# plot(csv[f].sort_values(),log=False,small=True)"
   ]
  },
  {
   "cell_type": "code",
   "execution_count": 471,
   "metadata": {},
   "outputs": [
    {
     "data": {
      "text/plain": [
       "<matplotlib.axes._subplots.AxesSubplot at 0x23614942198>"
      ]
     },
     "execution_count": 471,
     "metadata": {},
     "output_type": "execute_result"
    },
    {
     "data": {
      "image/png": "[encoded data removed]",
      "text/plain": [
       "<Figure size 432x288 with 1 Axes>"
      ]
     },
     "metadata": {
      "needs_background": "light"
     },
     "output_type": "display_data"
    }
   ],
   "source": [
    "f = 'Var70'\n",
    "csv[f] = csv_org[f]\n",
    "csv[f] = csv[f].fillna(method='ffill')\n",
    "csv[f] = csv[f].fillna(method='bfill')\n",
    "csv[f] = cast(csv[f],-100,csv[f].quantile(0.90))\n",
    "csv[f] = standarize(csv[f])\n",
    "# # plot(csv[f].sort_values(),log=False,small=True)\n",
    "csv[f].plot.kde()"
   ]
  },
  {
   "cell_type": "code",
   "execution_count": 472,
   "metadata": {},
   "outputs": [
    {
     "data": {
      "text/plain": [
       "<matplotlib.axes._subplots.AxesSubplot at 0x236139c0320>"
      ]
     },
     "execution_count": 472,
     "metadata": {},
     "output_type": "execute_result"
    },
    {
     "data": {
      "image/png": "[encoded data removed]",
      "text/plain": [
       "<Figure size 432x288 with 1 Axes>"
      ]
     },
     "metadata": {
      "needs_background": "light"
     },
     "output_type": "display_data"
    }
   ],
   "source": [
    "f = 'Var69'\n",
    "csv[f] = csv_org[f]\n",
    "csv[f] = csv[f].fillna(method='ffill')\n",
    "csv[f] = csv[f].fillna(method='bfill')\n",
    "csv[f] = cast(csv[f],-100,csv[f].quantile(0.90))\n",
    "csv[f] = standarize(csv[f])\n",
    "# # plot(csv[f].sort_values(),log=False,small=True)\n",
    "# ax = csv[f].plot.kde()\n",
    "csv[f] = csv[f].apply(lambda x: np.power(x,1/3))\n",
    "csv[f] = standarize(csv[f])\n",
    "csv[f].plot.kde()"
   ]
  },
  {
   "cell_type": "code",
   "execution_count": 473,
   "metadata": {},
   "outputs": [
    {
     "data": {
      "application/vnd.jupyter.widget-view+json": {
       "model_id": "",
       "version_major": 2,
       "version_minor": 0
      },
      "text/plain": [
       "HBox(children=(IntProgress(value=0, description='Progress', max=2, style=ProgressStyle(description_width='init…"
      ]
     },
     "metadata": {},
     "output_type": "display_data"
    },
    {
     "data": {
      "application/vnd.jupyter.widget-view+json": {
       "model_id": "",
       "version_major": 2,
       "version_minor": 0
      },
      "text/plain": [
       "HBox(children=(IntProgress(value=0, max=1), HTML(value='')))"
      ]
     },
     "metadata": {},
     "output_type": "display_data"
    },
    {
     "data": {
      "application/vnd.jupyter.widget-view+json": {
       "model_id": "",
       "version_major": 2,
       "version_minor": 0
      },
      "text/plain": [
       "HBox(children=(IntProgress(value=0, max=83), HTML(value='')))"
      ]
     },
     "metadata": {},
     "output_type": "display_data"
    },
    {
     "name": "stdout",
     "output_type": "stream",
     "text": [
      "\r"
     ]
    }
   ],
   "source": [
    "f = 'Var68'\n",
    "csv[f] = csv_org[f]\n",
    "csv[f] = csv[f].fillna(method='ffill')\n",
    "csv[f] = csv[f].fillna(method='bfill')\n",
    "csv[f] = threshold_factorization(csv[f],10000)\n",
    "csv[f] = standarize(csv[f])\n",
    "# plot(csv[f].sort_values(),log=False,small=True)"
   ]
  },
  {
   "cell_type": "code",
   "execution_count": 474,
   "metadata": {},
   "outputs": [],
   "source": [
    "f = 'Var67'\n",
    "delete(f)"
   ]
  },
  {
   "cell_type": "code",
   "execution_count": 475,
   "metadata": {},
   "outputs": [
    {
     "data": {
      "text/plain": [
       "<matplotlib.axes._subplots.AxesSubplot at 0x23614aec278>"
      ]
     },
     "execution_count": 475,
     "metadata": {},
     "output_type": "execute_result"
    },
    {
     "data": {
      "image/png": "[encoded data removed]",
      "text/plain": [
       "<Figure size 432x288 with 1 Axes>"
      ]
     },
     "metadata": {
      "needs_background": "light"
     },
     "output_type": "display_data"
    }
   ],
   "source": [
    "f = 'Var66'\n",
    "csv[f] = csv_org[f]\n",
    "csv[f] = csv[f].fillna(method='ffill')\n",
    "csv[f] = csv[f].fillna(method='bfill')\n",
    "csv[f] = cast(csv[f],-100,csv[f].quantile(0.95))\n",
    "csv[f] = standarize(csv[f])\n",
    "# plot(csv[f].sort_values(),log=False,small=True)\n",
    "csv[f].plot.kde()"
   ]
  },
  {
   "cell_type": "code",
   "execution_count": 476,
   "metadata": {},
   "outputs": [],
   "source": [
    "f = 'Var65'\n",
    "csv[f] = csv_org[f]\n",
    "csv[f] = csv[f].fillna(method='ffill')\n",
    "csv[f] = csv[f].fillna(method='bfill')\n",
    "csv[f] = cast(csv[f],-100,csv[f].quantile(0.99))\n",
    "csv[f] = standarize(csv[f])\n",
    "# plot(csv[f].sort_values(),log=False,small=True)"
   ]
  },
  {
   "cell_type": "code",
   "execution_count": 477,
   "metadata": {},
   "outputs": [
    {
     "data": {
      "text/plain": [
       "<matplotlib.axes._subplots.AxesSubplot at 0x236155ec240>"
      ]
     },
     "execution_count": 477,
     "metadata": {},
     "output_type": "execute_result"
    },
    {
     "data": {
      "image/png": "[encoded data removed]",
      "text/plain": [
       "<Figure size 432x288 with 1 Axes>"
      ]
     },
     "metadata": {
      "needs_background": "light"
     },
     "output_type": "display_data"
    }
   ],
   "source": [
    "f = 'Var63'\n",
    "csv[f] = csv_org[f]\n",
    "csv[f] = csv[f].fillna(method='ffill')\n",
    "csv[f] = csv[f].fillna(method='bfill')\n",
    "csv[f] = cast(csv[f],-100,csv[f].quantile(0.97))\n",
    "csv[f] = standarize(csv[f])\n",
    "# plot(csv[f].sort_values(),log=False,small=True)\n",
    "# ax = csv[f].plot.kde()\n",
    "csv[f] = csv[f].apply(lambda x: np.power(x,1/3))\n",
    "csv[f] = standarize(csv[f])\n",
    "csv[f].plot.kde()"
   ]
  },
  {
   "cell_type": "code",
   "execution_count": 478,
   "metadata": {},
   "outputs": [
    {
     "data": {
      "application/vnd.jupyter.widget-view+json": {
       "model_id": "",
       "version_major": 2,
       "version_minor": 0
      },
      "text/plain": [
       "HBox(children=(IntProgress(value=0, description='Progress', max=2, style=ProgressStyle(description_width='init…"
      ]
     },
     "metadata": {},
     "output_type": "display_data"
    },
    {
     "data": {
      "application/vnd.jupyter.widget-view+json": {
       "model_id": "",
       "version_major": 2,
       "version_minor": 0
      },
      "text/plain": [
       "HBox(children=(IntProgress(value=0, max=1), HTML(value='')))"
      ]
     },
     "metadata": {},
     "output_type": "display_data"
    },
    {
     "data": {
      "application/vnd.jupyter.widget-view+json": {
       "model_id": "",
       "version_major": 2,
       "version_minor": 0
      },
      "text/plain": [
       "HBox(children=(IntProgress(value=0, max=2), HTML(value='')))"
      ]
     },
     "metadata": {},
     "output_type": "display_data"
    },
    {
     "name": "stdout",
     "output_type": "stream",
     "text": [
      "\r"
     ]
    }
   ],
   "source": [
    "f = 'Var62'\n",
    "csv[f] = csv_org[f]\n",
    "csv[f] = csv[f].fillna(method='ffill')\n",
    "csv[f] = csv[f].fillna(method='bfill')\n",
    "csv[f] = cast(csv[f],-100,csv[f].quantile(0.95))\n",
    "csv[f] = threshold_factorization(csv[f],20000)\n",
    "# plot(csv[f].sort_values(),log=False,small=True)"
   ]
  },
  {
   "cell_type": "code",
   "execution_count": 479,
   "metadata": {},
   "outputs": [
    {
     "data": {
      "application/vnd.jupyter.widget-view+json": {
       "model_id": "",
       "version_major": 2,
       "version_minor": 0
      },
      "text/plain": [
       "HBox(children=(IntProgress(value=0, description='Progress', max=3, style=ProgressStyle(description_width='init…"
      ]
     },
     "metadata": {},
     "output_type": "display_data"
    },
    {
     "data": {
      "application/vnd.jupyter.widget-view+json": {
       "model_id": "",
       "version_major": 2,
       "version_minor": 0
      },
      "text/plain": [
       "HBox(children=(IntProgress(value=0, max=2), HTML(value='')))"
      ]
     },
     "metadata": {},
     "output_type": "display_data"
    },
    {
     "data": {
      "application/vnd.jupyter.widget-view+json": {
       "model_id": "",
       "version_major": 2,
       "version_minor": 0
      },
      "text/plain": [
       "HBox(children=(IntProgress(value=0, max=3), HTML(value='')))"
      ]
     },
     "metadata": {},
     "output_type": "display_data"
    },
    {
     "data": {
      "application/vnd.jupyter.widget-view+json": {
       "model_id": "",
       "version_major": 2,
       "version_minor": 0
      },
      "text/plain": [
       "HBox(children=(IntProgress(value=0, max=34), HTML(value='')))"
      ]
     },
     "metadata": {},
     "output_type": "display_data"
    },
    {
     "name": "stdout",
     "output_type": "stream",
     "text": [
      "\r"
     ]
    }
   ],
   "source": [
    "f = 'Var61'\n",
    "csv[f] = csv_org[f]\n",
    "csv[f] = csv[f].fillna(method='ffill')\n",
    "csv[f] = csv[f].fillna(method='bfill')\n",
    "csv[f] = threshold_factorization(csv[f],8000,2000)\n",
    "csv[f] = standarize(csv[f])\n",
    "# plot(csv[f].sort_values(),log=False,small=True)"
   ]
  },
  {
   "cell_type": "code",
   "execution_count": 480,
   "metadata": {},
   "outputs": [],
   "source": [
    "f = 'Var60'\n",
    "csv[f] = csv_org[f]\n",
    "csv[f] = csv[f].fillna(method='ffill')\n",
    "csv[f] = csv[f].fillna(method='bfill')\n",
    "csv[f] = cast(csv[f],-100,csv[f].quantile(0.9))\n",
    "csv[f] = standarize(csv[f])\n",
    "# plot(csv[f].sort_values(),small=True)"
   ]
  },
  {
   "cell_type": "code",
   "execution_count": 481,
   "metadata": {},
   "outputs": [
    {
     "data": {
      "text/plain": [
       "<matplotlib.axes._subplots.AxesSubplot at 0x23614afaa90>"
      ]
     },
     "execution_count": 481,
     "metadata": {},
     "output_type": "execute_result"
    },
    {
     "data": {
      "image/png": "[encoded data removed]",
      "text/plain": [
       "<Figure size 432x288 with 1 Axes>"
      ]
     },
     "metadata": {
      "needs_background": "light"
     },
     "output_type": "display_data"
    }
   ],
   "source": [
    "f = 'Var59'\n",
    "csv[f] = csv_org[f]\n",
    "csv[f] = csv[f].fillna(method='ffill')\n",
    "csv[f] = csv[f].fillna(method='bfill')\n",
    "csv[f] = cast(csv[f],-100,csv[f].quantile(0.90))\n",
    "csv[f] = standarize(csv[f])\n",
    "csv[f].plot.kde()"
   ]
  },
  {
   "cell_type": "code",
   "execution_count": 482,
   "metadata": {},
   "outputs": [
    {
     "data": {
      "text/plain": [
       "<matplotlib.axes._subplots.AxesSubplot at 0x23613ee0a90>"
      ]
     },
     "execution_count": 482,
     "metadata": {},
     "output_type": "execute_result"
    },
    {
     "data": {
      "image/png": "[encoded data removed]",
      "text/plain": [
       "<Figure size 432x288 with 1 Axes>"
      ]
     },
     "metadata": {
      "needs_background": "light"
     },
     "output_type": "display_data"
    }
   ],
   "source": [
    "f = 'Var58'\n",
    "csv[f] = csv_org[f]\n",
    "csv[f] = csv[f].fillna(method='ffill')\n",
    "csv[f] = csv[f].fillna(method='bfill')\n",
    "csv[f] = cast(csv[f],-100,csv[f].quantile(0.9))\n",
    "csv[f] = standarize(csv[f])\n",
    "# # plot(csv[f].sort_values(),small=True)\n",
    "csv[f].plot.kde()"
   ]
  },
  {
   "cell_type": "code",
   "execution_count": 483,
   "metadata": {},
   "outputs": [],
   "source": [
    "f = 'Var57'\n",
    "csv[f] = csv_org[f]\n",
    "csv[f] = csv[f].fillna(method='ffill')\n",
    "csv[f] = csv[f].fillna(method='bfill')\n",
    "csv[f] = cast(csv[f],-100,csv[f].quantile(0.99))\n",
    "csv[f] = standarize(csv[f])\n",
    "# # plot(csv[f],small=True)"
   ]
  },
  {
   "cell_type": "code",
   "execution_count": 484,
   "metadata": {},
   "outputs": [
    {
     "data": {
      "text/plain": [
       "<matplotlib.axes._subplots.AxesSubplot at 0x2361352fcc0>"
      ]
     },
     "execution_count": 484,
     "metadata": {},
     "output_type": "execute_result"
    },
    {
     "data": {
      "image/png": "[encoded data removed]",
      "text/plain": [
       "<Figure size 432x288 with 1 Axes>"
      ]
     },
     "metadata": {
      "needs_background": "light"
     },
     "output_type": "display_data"
    }
   ],
   "source": [
    "f = 'Var56'\n",
    "csv[f] = csv_org[f]\n",
    "csv[f] = csv[f].fillna(method='ffill')\n",
    "csv[f] = csv[f].fillna(method='bfill')\n",
    "csv[f] = cast(csv[f],-100,csv[f].quantile(0.93))\n",
    "csv[f] = standarize(csv[f])\n",
    "# plot(csv[f].sort_values(),small=True)\n",
    "# ax = csv[f].plot.kde()\n",
    "csv[f] = csv[f].apply(lambda x: np.power(x,1/3))\n",
    "csv[f] = standarize(csv[f])\n",
    "csv[f].plot.kde()"
   ]
  },
  {
   "cell_type": "code",
   "execution_count": 485,
   "metadata": {},
   "outputs": [],
   "source": [
    "f = 'Var54'\n",
    "csv[f] = csv_org[f]\n",
    "csv[f] = csv[f].fillna(method='ffill')\n",
    "csv[f] = csv[f].fillna(method='bfill')\n",
    "csv[f] = standarize(csv[f])\n",
    "# plot(csv[f].sort_values(),small=True)"
   ]
  },
  {
   "cell_type": "code",
   "execution_count": 486,
   "metadata": {},
   "outputs": [],
   "source": [
    "f = 'Var53'\n",
    "csv[f] = csv_org[f]\n",
    "csv[f] = csv[f].fillna(method='ffill')\n",
    "csv[f] = csv[f].fillna(method='bfill')\n",
    "csv[f] = cast(csv[f],-100,csv[f].quantile(0.99))\n",
    "csv[f] = standarize(csv[f])\n",
    "# plot(csv[f].sort_values(),small=True)"
   ]
  },
  {
   "cell_type": "code",
   "execution_count": 487,
   "metadata": {},
   "outputs": [],
   "source": [
    "f = 'Var51'\n",
    "csv[f] = csv_org[f]\n",
    "csv[f] = csv[f].fillna(method='ffill')\n",
    "csv[f] = csv[f].fillna(method='bfill')\n",
    "csv[f] = cast(csv[f],-100,csv[f].quantile(0.99))\n",
    "csv[f] = standarize(csv[f])\n",
    "# plot(csv[f].sort_values(),small=True)"
   ]
  },
  {
   "cell_type": "code",
   "execution_count": 488,
   "metadata": {},
   "outputs": [],
   "source": [
    "f = 'Var50'\n",
    "csv[f] = csv_org[f]\n",
    "csv[f] = csv[f].fillna(method='ffill')\n",
    "csv[f] = csv[f].fillna(method='bfill')\n",
    "csv[f] = standarize(csv[f])\n",
    "# plot(csv[f].sort_values(),small=True)"
   ]
  },
  {
   "cell_type": "code",
   "execution_count": 489,
   "metadata": {},
   "outputs": [],
   "source": [
    "f = 'Var49'\n",
    "csv[f] = csv_org[f]\n",
    "csv[f] = csv[f].fillna(method='ffill')\n",
    "csv[f] = csv[f].fillna(method='bfill')\n",
    "csv[f] = standarize(csv[f])\n",
    "# plot(csv[f].sort_values(),small=True)"
   ]
  },
  {
   "cell_type": "code",
   "execution_count": 490,
   "metadata": {},
   "outputs": [
    {
     "data": {
      "application/vnd.jupyter.widget-view+json": {
       "model_id": "",
       "version_major": 2,
       "version_minor": 0
      },
      "text/plain": [
       "HBox(children=(IntProgress(value=0, description='Progress', max=2, style=ProgressStyle(description_width='init…"
      ]
     },
     "metadata": {},
     "output_type": "display_data"
    },
    {
     "data": {
      "application/vnd.jupyter.widget-view+json": {
       "model_id": "",
       "version_major": 2,
       "version_minor": 0
      },
      "text/plain": [
       "HBox(children=(IntProgress(value=0, max=8), HTML(value='')))"
      ]
     },
     "metadata": {},
     "output_type": "display_data"
    },
    {
     "data": {
      "application/vnd.jupyter.widget-view+json": {
       "model_id": "",
       "version_major": 2,
       "version_minor": 0
      },
      "text/plain": [
       "HBox(children=(IntProgress(value=0, max=3), HTML(value='')))"
      ]
     },
     "metadata": {},
     "output_type": "display_data"
    },
    {
     "name": "stdout",
     "output_type": "stream",
     "text": [
      "\r"
     ]
    }
   ],
   "source": [
    "f = 'Var47'\n",
    "csv[f] = csv_org[f]\n",
    "csv[f] = csv[f].fillna(method='ffill')\n",
    "csv[f] = csv[f].fillna(method='bfill')\n",
    "csv[f] = threshold_factorization(csv[f],100)\n",
    "csv[f] = standarize(csv[f])\n",
    "# plot(csv[f].sort_values(),small=True)"
   ]
  },
  {
   "cell_type": "code",
   "execution_count": 491,
   "metadata": {},
   "outputs": [],
   "source": [
    "f = 'Var46'\n",
    "csv[f] = csv_org[f]\n",
    "csv[f] = csv[f].fillna(method='ffill')\n",
    "csv[f] = csv[f].fillna(method='bfill')\n",
    "csv[f] = cast(csv[f],-100,csv[f].quantile(0.99))\n",
    "csv[f] = standarize(csv[f])\n",
    "# plot(csv[f].sort_values(),small=True)"
   ]
  },
  {
   "cell_type": "code",
   "execution_count": 492,
   "metadata": {},
   "outputs": [],
   "source": [
    "f = 'Var44'\n",
    "csv[f] = csv_org[f]\n",
    "csv = csv.drop(f, axis=1)"
   ]
  },
  {
   "cell_type": "code",
   "execution_count": 493,
   "metadata": {},
   "outputs": [],
   "source": [
    "f = 'Var43'\n",
    "csv[f] = csv_org[f]\n",
    "csv[f] = csv[f].fillna(method='ffill')\n",
    "csv[f] = csv[f].fillna(method='bfill')\n",
    "csv[f] = cast(csv[f],-100,csv[f].quantile(0.96))\n",
    "csv[f] = standarize(csv[f])\n",
    "# plot(csv[f].sort_values(),small=True)"
   ]
  },
  {
   "cell_type": "code",
   "execution_count": 494,
   "metadata": {},
   "outputs": [],
   "source": [
    "f = 'Var41'\n",
    "csv[f] = csv_org[f]\n",
    "csv[f] = csv[f].fillna(method='ffill')\n",
    "csv[f] = csv[f].fillna(method='bfill')\n",
    "csv[f] = cast(csv[f],-100,csv[f].quantile(0.99))\n",
    "csv[f] = standarize(csv[f])\n",
    "# plot(csv[f].sort_values(),small=True)"
   ]
  },
  {
   "cell_type": "code",
   "execution_count": 495,
   "metadata": {},
   "outputs": [],
   "source": [
    "f = 'Var40'\n",
    "csv[f] = csv_org[f]\n",
    "csv[f] = csv[f].fillna(method='ffill')\n",
    "csv[f] = csv[f].fillna(method='bfill')\n",
    "csv[f] = cast(csv[f],-100,csv[f].quantile(0.95))\n",
    "csv[f] = standarize(csv[f])\n",
    "# plot(csv[f].sort_values(),small=True)"
   ]
  },
  {
   "cell_type": "code",
   "execution_count": 496,
   "metadata": {},
   "outputs": [],
   "source": [
    "f = 'Var38'\n",
    "csv[f] = csv_org[f]\n",
    "csv = csv.drop(f, axis=1)"
   ]
  },
  {
   "cell_type": "code",
   "execution_count": 497,
   "metadata": {},
   "outputs": [
    {
     "name": "stdout",
     "output_type": "stream",
     "text": [
      "min: 0.0\n",
      "max: 11635020.0\n",
      "nans: 48421\n",
      "unique: 551\n",
      "val_type: <class 'numpy.float64'>\n",
      "vals per class: 2.87\n"
     ]
    },
    {
     "data": {
      "application/vnd.jupyter.widget-view+json": {
       "model_id": "",
       "version_major": 2,
       "version_minor": 0
      },
      "text/plain": [
       "HBox(children=(IntProgress(value=0, description='Progress', max=3, style=ProgressStyle(description_width='init…"
      ]
     },
     "metadata": {},
     "output_type": "display_data"
    },
    {
     "data": {
      "application/vnd.jupyter.widget-view+json": {
       "model_id": "",
       "version_major": 2,
       "version_minor": 0
      },
      "text/plain": [
       "HBox(children=(IntProgress(value=0, max=1), HTML(value='')))"
      ]
     },
     "metadata": {},
     "output_type": "display_data"
    },
    {
     "data": {
      "application/vnd.jupyter.widget-view+json": {
       "model_id": "",
       "version_major": 2,
       "version_minor": 0
      },
      "text/plain": [
       "HBox(children=(IntProgress(value=1, bar_style='info', max=1), HTML(value='')))"
      ]
     },
     "metadata": {},
     "output_type": "display_data"
    },
    {
     "data": {
      "application/vnd.jupyter.widget-view+json": {
       "model_id": "",
       "version_major": 2,
       "version_minor": 0
      },
      "text/plain": [
       "HBox(children=(IntProgress(value=0, max=549), HTML(value='')))"
      ]
     },
     "metadata": {},
     "output_type": "display_data"
    },
    {
     "name": "stdout",
     "output_type": "stream",
     "text": [
      "\r"
     ]
    }
   ],
   "source": [
    "f = 'Var37'\n",
    "csv[f] = csv_org[f]\n",
    "stat(f)\n",
    "csv[f] = csv[f].fillna(method='ffill')\n",
    "csv[f] = csv[f].fillna(method='bfill')\n",
    "csv[f] = threshold_factorization(csv[f],9000,6000)\n",
    "# plot(csv[f].sort_values(),log=False,small=True)\n",
    "one_hot_encoding(f)"
   ]
  },
  {
   "cell_type": "code",
   "execution_count": 498,
   "metadata": {},
   "outputs": [
    {
     "data": {
      "application/vnd.jupyter.widget-view+json": {
       "model_id": "",
       "version_major": 2,
       "version_minor": 0
      },
      "text/plain": [
       "HBox(children=(IntProgress(value=0, description='Progress', max=2, style=ProgressStyle(description_width='init…"
      ]
     },
     "metadata": {},
     "output_type": "display_data"
    },
    {
     "data": {
      "application/vnd.jupyter.widget-view+json": {
       "model_id": "",
       "version_major": 2,
       "version_minor": 0
      },
      "text/plain": [
       "HBox(children=(IntProgress(value=0, max=294), HTML(value='')))"
      ]
     },
     "metadata": {},
     "output_type": "display_data"
    },
    {
     "data": {
      "application/vnd.jupyter.widget-view+json": {
       "model_id": "",
       "version_major": 2,
       "version_minor": 0
      },
      "text/plain": [
       "HBox(children=(IntProgress(value=0, max=237), HTML(value='')))"
      ]
     },
     "metadata": {},
     "output_type": "display_data"
    },
    {
     "name": "stdout",
     "output_type": "stream",
     "text": [
      "\r"
     ]
    }
   ],
   "source": [
    "f = 'Var36'\n",
    "csv[f] = csv_org[f]\n",
    "csv[f] = csv[f].fillna(method='ffill')\n",
    "csv[f] = csv[f].fillna(method='bfill')\n",
    "csv[f] = threshold_factorization(csv[f],23)\n",
    "# plot(csv[f],sort=True,small=True)\n",
    "one_hot_encoding(f)"
   ]
  },
  {
   "cell_type": "code",
   "execution_count": 499,
   "metadata": {},
   "outputs": [],
   "source": [
    "f = 'Var35'\n",
    "csv[f] = csv_org[f]\n",
    "csv[f] = csv[f].fillna(method='ffill')\n",
    "csv[f] = csv[f].fillna(method='bfill')\n",
    "csv[f] = standarize(csv[f])\n",
    "# plot(csv[f].sort_values(),small=True)"
   ]
  },
  {
   "cell_type": "code",
   "execution_count": 500,
   "metadata": {},
   "outputs": [],
   "source": [
    "f = 'Var34'\n",
    "csv[f] = csv_org[f]\n",
    "csv[f] = csv[f].fillna(method='ffill')\n",
    "csv[f] = csv[f].fillna(method='bfill')\n",
    "csv[f] = standarize(csv[f])\n",
    "# plot(csv[f].sort_values(),small=True)"
   ]
  },
  {
   "cell_type": "code",
   "execution_count": 501,
   "metadata": {},
   "outputs": [],
   "source": [
    "f = 'Var33'\n",
    "delete(f)"
   ]
  },
  {
   "cell_type": "code",
   "execution_count": 502,
   "metadata": {},
   "outputs": [],
   "source": [
    "f = 'Var30'\n",
    "csv[f] = csv_org[f]\n",
    "csv[f] = csv[f].fillna(method='ffill')\n",
    "csv[f] = csv[f].fillna(method='bfill')\n",
    "csv[f] = standarize(csv[f])\n",
    "# plot(csv[f].sort_values(),small=True)"
   ]
  },
  {
   "cell_type": "code",
   "execution_count": 503,
   "metadata": {},
   "outputs": [],
   "source": [
    "f = 'Var29'\n",
    "csv[f] = csv_org[f]\n",
    "csv[f] = csv[f].fillna(method='ffill')\n",
    "csv[f] = csv[f].fillna(method='bfill')\n",
    "csv[f] = standarize(csv[f])"
   ]
  },
  {
   "cell_type": "code",
   "execution_count": 504,
   "metadata": {},
   "outputs": [
    {
     "data": {
      "application/vnd.jupyter.widget-view+json": {
       "model_id": "",
       "version_major": 2,
       "version_minor": 0
      },
      "text/plain": [
       "HBox(children=(IntProgress(value=0, description='Progress', max=2, style=ProgressStyle(description_width='init…"
      ]
     },
     "metadata": {},
     "output_type": "display_data"
    },
    {
     "data": {
      "application/vnd.jupyter.widget-view+json": {
       "model_id": "",
       "version_major": 2,
       "version_minor": 0
      },
      "text/plain": [
       "HBox(children=(IntProgress(value=0, max=32), HTML(value='')))"
      ]
     },
     "metadata": {},
     "output_type": "display_data"
    },
    {
     "data": {
      "application/vnd.jupyter.widget-view+json": {
       "model_id": "",
       "version_major": 2,
       "version_minor": 0
      },
      "text/plain": [
       "HBox(children=(IntProgress(value=0, max=4135), HTML(value='')))"
      ]
     },
     "metadata": {},
     "output_type": "display_data"
    },
    {
     "name": "stdout",
     "output_type": "stream",
     "text": [
      "\r"
     ]
    }
   ],
   "source": [
    "f = 'Var28'\n",
    "csv[f] = csv_org[f]\n",
    "csv[f] = csv[f].fillna(method='ffill')\n",
    "csv[f] = csv[f].fillna(method='bfill')\n",
    "csv[f] = threshold_factorization(csv[f],100)\n",
    "csv[f] = standarize(csv[f])"
   ]
  },
  {
   "cell_type": "code",
   "execution_count": 505,
   "metadata": {},
   "outputs": [],
   "source": [
    "f = 'Var27'\n",
    "csv[f] = csv_org[f]\n",
    "csv[f] = csv[f].fillna(method='ffill')\n",
    "csv[f] = csv[f].fillna(method='bfill')\n",
    "csv[f] = standarize(csv[f])\n",
    "# plot(csv[f].sort_values(),small=True)\n"
   ]
  },
  {
   "cell_type": "code",
   "execution_count": 506,
   "metadata": {},
   "outputs": [],
   "source": [
    "f = 'Var26'\n",
    "csv[f] = csv_org[f]\n",
    "csv[f] = csv[f].fillna(method='ffill')\n",
    "csv[f] = csv[f].fillna(method='bfill')\n",
    "csv[f] = standarize(csv[f])\n",
    "# plot(csv[f].sort_values(),small=True)\n"
   ]
  },
  {
   "cell_type": "code",
   "execution_count": 507,
   "metadata": {},
   "outputs": [],
   "source": [
    "f = 'Var25'\n",
    "csv[f] = csv_org[f]\n",
    "csv[f] = csv[f].fillna(method='ffill')\n",
    "csv[f] = csv[f].fillna(method='bfill')\n",
    "csv[f] = cast(csv[f],-100,csv[f].quantile(0.99))\n",
    "csv[f] = standarize(csv[f])\n",
    "# plot(csv[f].sort_values(),small=True)\n"
   ]
  },
  {
   "cell_type": "code",
   "execution_count": 508,
   "metadata": {},
   "outputs": [],
   "source": [
    "f = 'Var24'\n",
    "csv[f] = csv_org[f]\n",
    "csv[f] = csv[f].fillna(method='ffill')\n",
    "csv[f] = csv[f].fillna(method='bfill')\n",
    "csv[f] = cast(csv[f],-100,csv[f].quantile(0.98))\n",
    "csv[f] = standarize(csv[f])\n",
    "# plot(csv[f].sort_values(),small=True)"
   ]
  },
  {
   "cell_type": "code",
   "execution_count": 509,
   "metadata": {},
   "outputs": [],
   "source": [
    "f = 'Var23'\n",
    "csv[f] = csv_org[f]\n",
    "csv[f] = csv[f].fillna(method='ffill')\n",
    "csv[f] = csv[f].fillna(method='bfill')\n",
    "csv[f] = standarize(csv[f])\n",
    "# plot(csv[f].sort_values(),small=True)"
   ]
  },
  {
   "cell_type": "code",
   "execution_count": 510,
   "metadata": {},
   "outputs": [],
   "source": [
    "f = 'Var22'\n",
    "csv[f] = csv_org[f]\n",
    "csv = csv.drop(f, axis=1)"
   ]
  },
  {
   "cell_type": "code",
   "execution_count": 511,
   "metadata": {},
   "outputs": [],
   "source": [
    "f = 'Var21'\n",
    "csv[f] = csv_org[f]\n",
    "csv[f] = csv[f].fillna(method='ffill')\n",
    "csv[f] = csv[f].fillna(method='bfill')\n",
    "csv[f] = cast(csv[f],-100,csv[f].quantile(0.98))\n",
    "csv[f] = standarize(csv[f])\n",
    "# plot(csv[f].sort_values(),small=True)"
   ]
  },
  {
   "cell_type": "code",
   "execution_count": 512,
   "metadata": {},
   "outputs": [],
   "source": [
    "f = 'Var19'\n",
    "csv[f] = csv_org[f]\n",
    "csv[f] = csv[f].fillna(method='ffill')\n",
    "csv[f] = csv[f].fillna(method='bfill')\n",
    "csv[f] = standarize(csv[f])\n",
    "# plot(csv[f].sort_values(),small=True)"
   ]
  },
  {
   "cell_type": "code",
   "execution_count": 513,
   "metadata": {},
   "outputs": [],
   "source": [
    "f = 'Var18'\n",
    "csv[f] = csv_org[f]\n",
    "csv[f] = csv[f].fillna(method='ffill')\n",
    "csv[f] = csv[f].fillna(method='bfill')\n",
    "csv[f] = standarize(csv[f])\n",
    "csv[f] = cast(csv[f],-100,696)\n",
    "# plot(csv[f].sort_values(),small=True)"
   ]
  },
  {
   "cell_type": "code",
   "execution_count": 514,
   "metadata": {},
   "outputs": [],
   "source": [
    "f = 'Var17'\n",
    "csv[f] = csv_org[f]\n",
    "csv[f] = csv[f].fillna(method='ffill')\n",
    "csv[f] = csv[f].fillna(method='bfill')\n",
    "csv[f] = cast(csv[f],-100,185)\n",
    "csv[f] = standarize(csv[f])\n",
    "# plot(csv[f].sort_values(),small=True)"
   ]
  },
  {
   "cell_type": "code",
   "execution_count": 515,
   "metadata": {
    "scrolled": false
   },
   "outputs": [],
   "source": [
    "f = 'Var16'\n",
    "csv[f] = csv_org[f]\n",
    "csv[f] = csv[f].fillna(method='ffill')\n",
    "csv[f] = csv[f].fillna(method='bfill')\n",
    "csv[f] = standarize(csv[f])\n",
    "# plot(csv[f].sort_values(),small=True)"
   ]
  },
  {
   "cell_type": "code",
   "execution_count": 516,
   "metadata": {},
   "outputs": [
    {
     "data": {
      "application/vnd.jupyter.widget-view+json": {
       "model_id": "",
       "version_major": 2,
       "version_minor": 0
      },
      "text/plain": [
       "HBox(children=(IntProgress(value=0, description='Progress', max=2, style=ProgressStyle(description_width='init…"
      ]
     },
     "metadata": {},
     "output_type": "display_data"
    },
    {
     "data": {
      "application/vnd.jupyter.widget-view+json": {
       "model_id": "",
       "version_major": 2,
       "version_minor": 0
      },
      "text/plain": [
       "HBox(children=(IntProgress(value=0, max=1), HTML(value='')))"
      ]
     },
     "metadata": {},
     "output_type": "display_data"
    },
    {
     "data": {
      "application/vnd.jupyter.widget-view+json": {
       "model_id": "",
       "version_major": 2,
       "version_minor": 0
      },
      "text/plain": [
       "HBox(children=(IntProgress(value=0, max=18), HTML(value='')))"
      ]
     },
     "metadata": {},
     "output_type": "display_data"
    },
    {
     "name": "stdout",
     "output_type": "stream",
     "text": [
      "\r"
     ]
    }
   ],
   "source": [
    "f = 'Var14'\n",
    "csv[f] = csv_org[f]\n",
    "csv[f] = csv[f].fillna(method='ffill')\n",
    "csv[f] = csv[f].fillna(method='bfill')\n",
    "csv[f] = threshold_factorization(csv[f],2000)\n",
    "csv[f] = standarize(csv[f])\n",
    "# plot(csv[f].sort_values(),small=True)"
   ]
  },
  {
   "cell_type": "code",
   "execution_count": 517,
   "metadata": {},
   "outputs": [],
   "source": [
    "f = 'Var13'\n",
    "csv[f] = csv_org[f]\n",
    "csv[f] = csv[f].fillna(csv[f].mode(dropna = True)[0])\n",
    "csv[f] = cast(csv[f],-100,5000)\n",
    "csv[f] = standarize(csv[f])\n",
    "# plot(csv[f].sort_values(),small=True)"
   ]
  },
  {
   "cell_type": "code",
   "execution_count": 518,
   "metadata": {},
   "outputs": [],
   "source": [
    "f = 'Var12'\n",
    "csv[f] = csv_org[f]\n",
    "csv[f] = csv[f].fillna(method='ffill')\n",
    "csv[f] = csv[f].fillna(method='bfill')\n",
    "csv[f] = cast(csv[f],-100,64)\n",
    "csv[f] = standarize(csv[f])\n",
    "# plot(csv[f].sort_values(),small=True)"
   ]
  },
  {
   "cell_type": "code",
   "execution_count": 519,
   "metadata": {},
   "outputs": [
    {
     "name": "stdout",
     "output_type": "stream",
     "text": [
      "min: 8.0\n",
      "max: 40.0\n",
      "nans: 48760\n",
      "unique: 6\n",
      "val_type: <class 'numpy.float64'>\n",
      "vals per class: 206.67\n"
     ]
    }
   ],
   "source": [
    "f = 'Var11'\n",
    "stat(f)\n",
    "csv[f] = csv_org[f]\n",
    "csv[f] = csv[f].fillna(method='ffill')\n",
    "csv[f] = csv[f].fillna(method='bfill')\n",
    "csv[f] = standarize(csv[f])\n",
    "# plot(csv[f].sort_values(),small=True)"
   ]
  },
  {
   "cell_type": "code",
   "execution_count": 520,
   "metadata": {},
   "outputs": [
    {
     "data": {
      "application/vnd.jupyter.widget-view+json": {
       "model_id": "",
       "version_major": 2,
       "version_minor": 0
      },
      "text/plain": [
       "HBox(children=(IntProgress(value=0, description='Progress', max=2, style=ProgressStyle(description_width='init…"
      ]
     },
     "metadata": {},
     "output_type": "display_data"
    },
    {
     "data": {
      "application/vnd.jupyter.widget-view+json": {
       "model_id": "",
       "version_major": 2,
       "version_minor": 0
      },
      "text/plain": [
       "HBox(children=(IntProgress(value=0, max=11), HTML(value='')))"
      ]
     },
     "metadata": {},
     "output_type": "display_data"
    },
    {
     "data": {
      "application/vnd.jupyter.widget-view+json": {
       "model_id": "",
       "version_major": 2,
       "version_minor": 0
      },
      "text/plain": [
       "HBox(children=(IntProgress(value=0, max=523), HTML(value='')))"
      ]
     },
     "metadata": {},
     "output_type": "display_data"
    },
    {
     "name": "stdout",
     "output_type": "stream",
     "text": [
      "\r"
     ]
    }
   ],
   "source": [
    "f = 'Var10'\n",
    "csv[f] = csv_org[f]\n",
    "csv[f] = csv[f].fillna(csv[f].median())\n",
    "csv[f] = threshold_factorization(csv[f],1)\n",
    "csv[f] = standarize(csv[f])\n",
    "# plot(csv[f].sort_values(),small=True)"
   ]
  },
  {
   "cell_type": "code",
   "execution_count": 521,
   "metadata": {},
   "outputs": [],
   "source": [
    "f = 'Var9'\n",
    "csv[f] = csv_org[f]\n",
    "csv[f] = csv[f].fillna(method='ffill')\n",
    "csv[f] = csv[f].fillna(csv[f].median())\n",
    "csv[f] = standarize(csv[f])\n",
    "# plot(csv[f].sort_values(),small=True)"
   ]
  },
  {
   "cell_type": "code",
   "execution_count": 522,
   "metadata": {},
   "outputs": [],
   "source": [
    "f = 'Var7'\n",
    "csv[f] = csv_org[f]\n",
    "csv[f] = csv[f].fillna(method='ffill')\n",
    "csv[f] = csv[f].fillna(csv[f].mode(dropna = True)[0])\n",
    "csv[f] = cast(csv[f],-100,56)\n",
    "csv[f] = standarize(csv[f])\n",
    "# plot(csv[f].sort_values(),small=True)"
   ]
  },
  {
   "cell_type": "code",
   "execution_count": 523,
   "metadata": {},
   "outputs": [],
   "source": [
    "f = 'Var6'\n",
    "csv[f] = csv_org[f]\n",
    "csv[f] = csv[f].fillna(method='ffill')\n",
    "csv[f] = csv[f].fillna(csv[f].mode(dropna = True)[0])\n",
    "csv[f] = standarize(csv[f])\n",
    "# plot(csv[f].sort_values(),small=True)"
   ]
  },
  {
   "cell_type": "code",
   "execution_count": 524,
   "metadata": {},
   "outputs": [
    {
     "data": {
      "application/vnd.jupyter.widget-view+json": {
       "model_id": "",
       "version_major": 2,
       "version_minor": 0
      },
      "text/plain": [
       "HBox(children=(IntProgress(value=0, description='Progress', max=7, style=ProgressStyle(description_width='init…"
      ]
     },
     "metadata": {},
     "output_type": "display_data"
    },
    {
     "data": {
      "application/vnd.jupyter.widget-view+json": {
       "model_id": "",
       "version_major": 2,
       "version_minor": 0
      },
      "text/plain": [
       "HBox(children=(IntProgress(value=0, max=1), HTML(value='')))"
      ]
     },
     "metadata": {},
     "output_type": "display_data"
    },
    {
     "data": {
      "application/vnd.jupyter.widget-view+json": {
       "model_id": "",
       "version_major": 2,
       "version_minor": 0
      },
      "text/plain": [
       "HBox(children=(IntProgress(value=0, max=467), HTML(value='')))"
      ]
     },
     "metadata": {},
     "output_type": "display_data"
    },
    {
     "data": {
      "application/vnd.jupyter.widget-view+json": {
       "model_id": "",
       "version_major": 2,
       "version_minor": 0
      },
      "text/plain": [
       "HBox(children=(IntProgress(value=0, max=36), HTML(value='')))"
      ]
     },
     "metadata": {},
     "output_type": "display_data"
    },
    {
     "data": {
      "application/vnd.jupyter.widget-view+json": {
       "model_id": "",
       "version_major": 2,
       "version_minor": 0
      },
      "text/plain": [
       "HBox(children=(IntProgress(value=0, max=13), HTML(value='')))"
      ]
     },
     "metadata": {},
     "output_type": "display_data"
    },
    {
     "data": {
      "application/vnd.jupyter.widget-view+json": {
       "model_id": "",
       "version_major": 2,
       "version_minor": 0
      },
      "text/plain": [
       "HBox(children=(IntProgress(value=0, max=28), HTML(value='')))"
      ]
     },
     "metadata": {},
     "output_type": "display_data"
    },
    {
     "data": {
      "application/vnd.jupyter.widget-view+json": {
       "model_id": "",
       "version_major": 2,
       "version_minor": 0
      },
      "text/plain": [
       "HBox(children=(IntProgress(value=0, max=10), HTML(value='')))"
      ]
     },
     "metadata": {},
     "output_type": "display_data"
    },
    {
     "data": {
      "application/vnd.jupyter.widget-view+json": {
       "model_id": "",
       "version_major": 2,
       "version_minor": 0
      },
      "text/plain": [
       "HBox(children=(IntProgress(value=0, max=16), HTML(value='')))"
      ]
     },
     "metadata": {},
     "output_type": "display_data"
    },
    {
     "name": "stdout",
     "output_type": "stream",
     "text": [
      "\r"
     ]
    }
   ],
   "source": [
    "f = 'Var5'\n",
    "csv[f] = csv_org[f]\n",
    "csv[f] = csv[f].fillna(method='ffill')\n",
    "csv[f] = csv[f].fillna(csv[f].mode(dropna = True)[0])\n",
    "csv[f] = threshold_factorization(csv[f],1000,7,5,4,2,1)\n",
    "# plot(csv[f].sort_values(),small=True)\n",
    "binary_encoding(f)"
   ]
  },
  {
   "cell_type": "code",
   "execution_count": 525,
   "metadata": {},
   "outputs": [],
   "source": [
    "f = 'Var4'\n",
    "csv[f] = csv_org[f]\n",
    "csv[f] = csv[f].fillna(7)\n",
    "csv[f] = standarize(csv[f])\n",
    "# # plot(csv[f].sort_values(),small=True)"
   ]
  },
  {
   "cell_type": "code",
   "execution_count": 526,
   "metadata": {},
   "outputs": [
    {
     "data": {
      "application/vnd.jupyter.widget-view+json": {
       "model_id": "",
       "version_major": 2,
       "version_minor": 0
      },
      "text/plain": [
       "HBox(children=(IntProgress(value=0, description='Progress', max=4, style=ProgressStyle(description_width='init…"
      ]
     },
     "metadata": {},
     "output_type": "display_data"
    },
    {
     "data": {
      "application/vnd.jupyter.widget-view+json": {
       "model_id": "",
       "version_major": 2,
       "version_minor": 0
      },
      "text/plain": [
       "HBox(children=(IntProgress(value=0, max=1), HTML(value='')))"
      ]
     },
     "metadata": {},
     "output_type": "display_data"
    },
    {
     "data": {
      "application/vnd.jupyter.widget-view+json": {
       "model_id": "",
       "version_major": 2,
       "version_minor": 0
      },
      "text/plain": [
       "HBox(children=(IntProgress(value=1, bar_style='info', max=1), HTML(value='')))"
      ]
     },
     "metadata": {},
     "output_type": "display_data"
    },
    {
     "data": {
      "application/vnd.jupyter.widget-view+json": {
       "model_id": "",
       "version_major": 2,
       "version_minor": 0
      },
      "text/plain": [
       "HBox(children=(IntProgress(value=0, max=41), HTML(value='')))"
      ]
     },
     "metadata": {},
     "output_type": "display_data"
    },
    {
     "data": {
      "application/vnd.jupyter.widget-view+json": {
       "model_id": "",
       "version_major": 2,
       "version_minor": 0
      },
      "text/plain": [
       "HBox(children=(IntProgress(value=0, max=104), HTML(value='')))"
      ]
     },
     "metadata": {},
     "output_type": "display_data"
    },
    {
     "name": "stdout",
     "output_type": "stream",
     "text": [
      "\r"
     ]
    }
   ],
   "source": [
    "f = 'Var3'\n",
    "csv[f] = csv_org[f]\n",
    "csv[f] = csv[f].fillna(csv[f].mode(dropna = True)[0])\n",
    "csv[f] = threshold_factorization(csv[f],1000,100,1)\n",
    "# plot(csv[f].sort_values(),sort=True,small=True)\n",
    "one_hot_encoding(f)"
   ]
  },
  {
   "cell_type": "code",
   "execution_count": 527,
   "metadata": {},
   "outputs": [],
   "source": [
    "f = 'Var2'\n",
    "csv[f] = csv_org[f]\n",
    "csv[f] = csv[f].fillna(csv[f].mode(dropna = True)[0])\n",
    "# plot(csv[f].sort_values(),small=True)\n",
    "one_hot_encoding(f)"
   ]
  },
  {
   "cell_type": "code",
   "execution_count": 528,
   "metadata": {
    "scrolled": true
   },
   "outputs": [],
   "source": [
    "f = 'Var1'\n",
    "csv[f] = csv_org[f]\n",
    "csv[f] = csv[f].fillna(csv[f].mode(dropna = True)[0])\n",
    "csv[f] = cast(csv[f],-100,64)\n",
    "csv[f] = standarize(csv[f])\n",
    "# plot(csv[f].sort_values(),small=True)"
   ]
  }
 ],
 "metadata": {
  "kernelspec": {
   "display_name": "Python 3",
   "language": "python",
   "name": "python3"
  },
  "language_info": {
   "codemirror_mode": {
    "name": "ipython",
    "version": 3
   },
   "file_extension": ".py",
   "mimetype": "text/x-python",
   "name": "python",
   "nbconvert_exporter": "python",
   "pygments_lexer": "ipython3",
   "version": "3.7.1"
  },
  "toc": {
   "base_numbering": 1,
   "nav_menu": {},
   "number_sections": true,
   "sideBar": true,
   "skip_h1_title": false,
   "title_cell": "Table of Contents",
   "title_sidebar": "Contents",
   "toc_cell": false,
   "toc_position": {
    "height": "calc(100% - 180px)",
    "left": "10px",
    "top": "150px",
    "width": "165px"
   },
   "toc_section_display": true,
   "toc_window_display": false
  }
 },
 "nbformat": 4,
 "nbformat_minor": 2
}
